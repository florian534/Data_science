{
 "cells": [
  {
   "cell_type": "markdown",
   "id": "2ea43290",
   "metadata": {},
   "source": [
    "# Création de la base de données"
   ]
  },
  {
   "cell_type": "code",
   "execution_count": 59,
   "id": "4a280a05",
   "metadata": {
    "ExecuteTime": {
     "end_time": "2024-08-03T17:38:17.423060Z",
     "start_time": "2024-08-03T17:38:17.420116Z"
    }
   },
   "outputs": [],
   "source": [
    "import sqlite3"
   ]
  },
  {
   "cell_type": "code",
   "execution_count": 60,
   "id": "3a5d3ca5",
   "metadata": {
    "ExecuteTime": {
     "end_time": "2024-08-03T17:38:19.530016Z",
     "start_time": "2024-08-03T17:38:19.526828Z"
    }
   },
   "outputs": [],
   "source": [
    "#Création d'un database nonexistant\n",
    "connection = sqlite3.connect('database.db')"
   ]
  },
  {
   "cell_type": "code",
   "execution_count": 61,
   "id": "bd2b5609",
   "metadata": {
    "ExecuteTime": {
     "end_time": "2024-08-03T17:38:19.832079Z",
     "start_time": "2024-08-03T17:38:19.827892Z"
    }
   },
   "outputs": [],
   "source": [
    "#créer un curseur qui est essentiel pour interagir avec la base de données (SELECT, INSERT, UPDATE et DELETE...)\n",
    "c =connection.cursor()"
   ]
  },
  {
   "cell_type": "code",
   "execution_count": 62,
   "id": "954d7efa",
   "metadata": {
    "ExecuteTime": {
     "end_time": "2024-08-03T17:38:20.456043Z",
     "start_time": "2024-08-03T17:38:20.437407Z"
    }
   },
   "outputs": [
    {
     "data": {
      "text/plain": [
       "<sqlite3.Cursor at 0x17787f62940>"
      ]
     },
     "execution_count": 62,
     "metadata": {},
     "output_type": "execute_result"
    }
   ],
   "source": [
    "#Créer une base de donnée\n",
    "\n",
    "# Supprimer la table si elle existe\n",
    "c.execute(f\"DROP TABLE IF EXISTS contacte\")\n",
    "\n",
    "#création nouvelle table\n",
    "c.execute(\"CREATE TABLE contacte (first_name text, last_name text,  age INTEGER, email text)\")"
   ]
  },
  {
   "cell_type": "markdown",
   "id": "0389a1ef",
   "metadata": {},
   "source": [
    "# Commande de base "
   ]
  },
  {
   "cell_type": "markdown",
   "id": "cfe80d96",
   "metadata": {},
   "source": [
    "## Ajouter un contact"
   ]
  },
  {
   "cell_type": "code",
   "execution_count": 63,
   "id": "78af7130",
   "metadata": {
    "ExecuteTime": {
     "end_time": "2024-08-03T17:38:21.555980Z",
     "start_time": "2024-08-03T17:38:21.549938Z"
    }
   },
   "outputs": [
    {
     "data": {
      "text/plain": [
       "<sqlite3.Cursor at 0x17787f62940>"
      ]
     },
     "execution_count": 63,
     "metadata": {},
     "output_type": "execute_result"
    }
   ],
   "source": [
    "c.execute(\"INSERT INTO contacte(first_name, last_name, age, email) VALUES ('Florian', 'bino', '13', 'florian@outlook.com')\")"
   ]
  },
  {
   "cell_type": "code",
   "execution_count": 65,
   "id": "75264308",
   "metadata": {
    "ExecuteTime": {
     "end_time": "2024-08-03T17:38:28.299497Z",
     "start_time": "2024-08-03T17:38:28.293032Z"
    }
   },
   "outputs": [
    {
     "data": {
      "text/plain": [
       "<sqlite3.Cursor at 0x17787f62940>"
      ]
     },
     "execution_count": 65,
     "metadata": {},
     "output_type": "execute_result"
    }
   ],
   "source": [
    "#ajouter 4 autres contactes\n",
    "c.execute(\"INSERT INTO contacte VALUES ('bob', 'jean', '30', 'bob@outlook.com')\")\n",
    "c.execute(\"INSERT INTO contacte VALUES ('eve', 'etheve', '40', 'eve@outlook.com')\")\n",
    "c.execute(\"INSERT INTO contacte VALUES ('john', 'etheve', '23', 'john@outlook.com')\")\n",
    "c.execute(\"INSERT INTO contacte VALUES ('lary', 'jean', '23', 'lary@outlook.com')\") "
   ]
  },
  {
   "cell_type": "code",
   "execution_count": 66,
   "id": "621a9822",
   "metadata": {
    "ExecuteTime": {
     "end_time": "2024-08-03T17:38:29.811049Z",
     "start_time": "2024-08-03T17:38:29.807169Z"
    }
   },
   "outputs": [],
   "source": [
    "#connection.commit()"
   ]
  },
  {
   "cell_type": "code",
   "execution_count": 67,
   "id": "3be164de",
   "metadata": {
    "ExecuteTime": {
     "end_time": "2024-08-03T17:38:30.336585Z",
     "start_time": "2024-08-03T17:38:30.331742Z"
    }
   },
   "outputs": [
    {
     "name": "stdout",
     "output_type": "stream",
     "text": [
      "[('Florian', 'bino', 13, 'florian@outlook.com'), ('bob', 'jean', 30, 'bob@outlook.com'), ('eve', 'etheve', 40, 'eve@outlook.com'), ('john', 'etheve', 23, 'john@outlook.com'), ('lary', 'jean', 23, 'lary@outlook.com')]\n"
     ]
    }
   ],
   "source": [
    "rows = c.execute(\"SELECT * FROM contacte\").fetchall()\n",
    "print(rows)"
   ]
  },
  {
   "cell_type": "markdown",
   "id": "26a2166e",
   "metadata": {},
   "source": [
    "## Supprimer un contact"
   ]
  },
  {
   "cell_type": "code",
   "execution_count": 68,
   "id": "cb7b2646",
   "metadata": {
    "ExecuteTime": {
     "end_time": "2024-08-03T17:38:33.353688Z",
     "start_time": "2024-08-03T17:38:33.350622Z"
    }
   },
   "outputs": [],
   "source": [
    "#Supprimer les lignes où âge =40"
   ]
  },
  {
   "cell_type": "code",
   "execution_count": 69,
   "id": "c06116c6",
   "metadata": {
    "ExecuteTime": {
     "end_time": "2024-08-03T17:38:34.627115Z",
     "start_time": "2024-08-03T17:38:34.619594Z"
    }
   },
   "outputs": [
    {
     "data": {
      "text/plain": [
       "<sqlite3.Cursor at 0x17787f62940>"
      ]
     },
     "execution_count": 69,
     "metadata": {},
     "output_type": "execute_result"
    }
   ],
   "source": [
    "c.execute(\"DELETE FROM contacte WHERE age = 40\")"
   ]
  },
  {
   "cell_type": "code",
   "execution_count": 70,
   "id": "1f130e39",
   "metadata": {
    "ExecuteTime": {
     "end_time": "2024-08-03T17:38:35.657539Z",
     "start_time": "2024-08-03T17:38:35.653607Z"
    }
   },
   "outputs": [
    {
     "name": "stdout",
     "output_type": "stream",
     "text": [
      "[('Florian', 'bino', 13, 'florian@outlook.com'), ('bob', 'jean', 30, 'bob@outlook.com'), ('john', 'etheve', 23, 'john@outlook.com'), ('lary', 'jean', 23, 'lary@outlook.com')]\n"
     ]
    }
   ],
   "source": [
    "rows = c.execute(\"SELECT * FROM contacte\").fetchall()\n",
    "print(rows)"
   ]
  },
  {
   "cell_type": "markdown",
   "id": "659414b8",
   "metadata": {},
   "source": [
    "## Modifier les données "
   ]
  },
  {
   "cell_type": "code",
   "execution_count": 71,
   "id": "7a9155cc",
   "metadata": {
    "ExecuteTime": {
     "end_time": "2024-08-03T17:38:40.691964Z",
     "start_time": "2024-08-03T17:38:40.686847Z"
    }
   },
   "outputs": [
    {
     "data": {
      "text/plain": [
       "<sqlite3.Cursor at 0x17787f62940>"
      ]
     },
     "execution_count": 71,
     "metadata": {},
     "output_type": "execute_result"
    }
   ],
   "source": [
    "c.execute(\"UPDATE contacte SET age = 31 WHERE first_name = 'bob'\")"
   ]
  },
  {
   "cell_type": "code",
   "execution_count": 72,
   "id": "4e64286e",
   "metadata": {
    "ExecuteTime": {
     "end_time": "2024-08-03T17:38:42.351558Z",
     "start_time": "2024-08-03T17:38:42.347374Z"
    }
   },
   "outputs": [
    {
     "name": "stdout",
     "output_type": "stream",
     "text": [
      "[('Florian', 'bino', 13, 'florian@outlook.com'), ('bob', 'jean', 31, 'bob@outlook.com'), ('john', 'etheve', 23, 'john@outlook.com'), ('lary', 'jean', 23, 'lary@outlook.com')]\n"
     ]
    }
   ],
   "source": [
    "rows = c.execute(\"SELECT * FROM contacte\").fetchall()\n",
    "print(rows)"
   ]
  },
  {
   "cell_type": "markdown",
   "id": "7a840d55",
   "metadata": {},
   "source": [
    "## Selectionner une colonne | plusieurs colonnes "
   ]
  },
  {
   "cell_type": "code",
   "execution_count": 75,
   "id": "0ace183f",
   "metadata": {
    "ExecuteTime": {
     "end_time": "2024-08-03T17:38:48.610340Z",
     "start_time": "2024-08-03T17:38:48.606703Z"
    }
   },
   "outputs": [],
   "source": [
    "colonne = c.execute(\"SELECT first_name FROM contacte\").fetchall()\n",
    "colonnes = c.execute(\"SELECT first_name, last_name FROM contacte\").fetchall()"
   ]
  },
  {
   "cell_type": "code",
   "execution_count": 76,
   "id": "4b5f2a75",
   "metadata": {
    "ExecuteTime": {
     "end_time": "2024-08-03T17:38:48.882357Z",
     "start_time": "2024-08-03T17:38:48.879092Z"
    }
   },
   "outputs": [
    {
     "name": "stdout",
     "output_type": "stream",
     "text": [
      "[('Florian',), ('bob',), ('john',), ('lary',)]\n",
      "[('Florian', 'bino'), ('bob', 'jean'), ('john', 'etheve'), ('lary', 'jean')]\n"
     ]
    }
   ],
   "source": [
    "print(colonne)\n",
    "print(colonnes)"
   ]
  },
  {
   "cell_type": "markdown",
   "id": "eb348cac",
   "metadata": {},
   "source": [
    "## Filtre (where)"
   ]
  },
  {
   "cell_type": "code",
   "execution_count": 78,
   "id": "4710acf1",
   "metadata": {
    "ExecuteTime": {
     "end_time": "2024-08-03T17:39:16.524524Z",
     "start_time": "2024-08-03T17:39:16.520883Z"
    }
   },
   "outputs": [
    {
     "name": "stdout",
     "output_type": "stream",
     "text": [
      "[('bob', 'jean', 29, 'bob@outlook.com'), ('lary', 'jean', 23, 'lary@outlook.com')]\n"
     ]
    }
   ],
   "source": [
    "filtre = c.execute(\"SELECT * FROM contacte WHERE last_name ='jean'\").fetchall()\n",
    "print(filtre)"
   ]
  },
  {
   "cell_type": "markdown",
   "id": "1c511864",
   "metadata": {
    "ExecuteTime": {
     "end_time": "2024-08-03T17:36:12.581085Z",
     "start_time": "2024-08-03T17:36:12.577014Z"
    }
   },
   "source": [
    "## AND | OR"
   ]
  },
  {
   "cell_type": "code",
   "execution_count": 79,
   "id": "ba0ec19b",
   "metadata": {
    "ExecuteTime": {
     "end_time": "2024-08-03T17:41:09.956349Z",
     "start_time": "2024-08-03T17:41:09.951623Z"
    }
   },
   "outputs": [
    {
     "data": {
      "text/plain": [
       "[(29,), (23,)]"
      ]
     },
     "execution_count": 79,
     "metadata": {},
     "output_type": "execute_result"
    }
   ],
   "source": [
    "#AND\n",
    "filtre_and= c.execute(\"SELECT age FROM contacte WHERE last_name ='jean'\").fetchall()\n",
    "filtre_and"
   ]
  },
  {
   "cell_type": "code",
   "execution_count": 81,
   "id": "e205f1a9",
   "metadata": {
    "ExecuteTime": {
     "end_time": "2024-08-03T17:45:20.190636Z",
     "start_time": "2024-08-03T17:45:20.184114Z"
    }
   },
   "outputs": [
    {
     "data": {
      "text/plain": [
       "[(13,), (29,), (23,)]"
      ]
     },
     "execution_count": 81,
     "metadata": {},
     "output_type": "execute_result"
    }
   ],
   "source": [
    "#OR\n",
    "filtre_or= c.execute(\"SELECT age FROM contacte WHERE last_name ='jean' OR last_name ='bino'\").fetchall()\n",
    "filtre_or"
   ]
  },
  {
   "cell_type": "code",
   "execution_count": 82,
   "id": "5db4eca7",
   "metadata": {
    "ExecuteTime": {
     "end_time": "2024-08-03T17:45:23.653506Z",
     "start_time": "2024-08-03T17:45:23.646838Z"
    }
   },
   "outputs": [
    {
     "data": {
      "text/plain": [
       "[(29,), (23,)]"
      ]
     },
     "execution_count": 82,
     "metadata": {},
     "output_type": "execute_result"
    }
   ],
   "source": [
    "#AND OR\n",
    "filtre_and_or= c.execute(\"SELECT age FROM contacte WHERE last_name ='jean' AND (age=29 OR age=23)\").fetchall()\n",
    "filtre_and_or"
   ]
  },
  {
   "cell_type": "markdown",
   "id": "883f2d9e",
   "metadata": {},
   "source": [
    "## Between"
   ]
  },
  {
   "cell_type": "code",
   "execution_count": 84,
   "id": "e53635ba",
   "metadata": {
    "ExecuteTime": {
     "end_time": "2024-08-03T17:51:36.985170Z",
     "start_time": "2024-08-03T17:51:36.977268Z"
    }
   },
   "outputs": [
    {
     "data": {
      "text/plain": [
       "[('bob', 'jean', 29, 'bob@outlook.com'),\n",
       " ('john', 'etheve', 23, 'john@outlook.com'),\n",
       " ('lary', 'jean', 23, 'lary@outlook.com')]"
      ]
     },
     "execution_count": 84,
     "metadata": {},
     "output_type": "execute_result"
    }
   ],
   "source": [
    "#between\n",
    "filtre_between= c.execute(\"SELECT * FROM contacte WHERE age BETWEEN 20 AND 40\").fetchall()\n",
    "filtre_between "
   ]
  },
  {
   "cell_type": "code",
   "execution_count": 85,
   "id": "b77e8fb6",
   "metadata": {
    "ExecuteTime": {
     "end_time": "2024-08-03T17:52:13.826872Z",
     "start_time": "2024-08-03T17:52:13.821051Z"
    }
   },
   "outputs": [
    {
     "data": {
      "text/plain": [
       "[('Florian', 'bino', 13, 'florian@outlook.com')]"
      ]
     },
     "execution_count": 85,
     "metadata": {},
     "output_type": "execute_result"
    }
   ],
   "source": [
    "#not between\n",
    "filtre_between_not= c.execute(\"SELECT * FROM contacte WHERE age NOT BETWEEN 20 AND 40\").fetchall()\n",
    "filtre_between_not "
   ]
  },
  {
   "cell_type": "markdown",
   "id": "1fff956f",
   "metadata": {},
   "source": [
    "## IN"
   ]
  },
  {
   "cell_type": "code",
   "execution_count": 88,
   "id": "39707532",
   "metadata": {
    "ExecuteTime": {
     "end_time": "2024-08-03T17:55:38.236937Z",
     "start_time": "2024-08-03T17:55:38.231167Z"
    }
   },
   "outputs": [
    {
     "data": {
      "text/plain": [
       "[('Florian', 'bino', 13, 'florian@outlook.com'),\n",
       " ('john', 'etheve', 23, 'john@outlook.com'),\n",
       " ('lary', 'jean', 23, 'lary@outlook.com')]"
      ]
     },
     "execution_count": 88,
     "metadata": {},
     "output_type": "execute_result"
    }
   ],
   "source": [
    "#IN\n",
    "filtre_in= c.execute(\"SELECT * FROM contacte WHERE age IN (13,23)\").fetchall()\n",
    "filtre_in "
   ]
  },
  {
   "cell_type": "markdown",
   "id": "05a46411",
   "metadata": {
    "ExecuteTime": {
     "end_time": "2024-08-03T18:18:40.596754Z",
     "start_time": "2024-08-03T18:18:40.592559Z"
    }
   },
   "source": [
    "## LIKE"
   ]
  },
  {
   "cell_type": "code",
   "execution_count": 90,
   "id": "ab206dc9",
   "metadata": {
    "ExecuteTime": {
     "end_time": "2024-08-03T18:22:07.912026Z",
     "start_time": "2024-08-03T18:22:07.902952Z"
    }
   },
   "outputs": [
    {
     "data": {
      "text/plain": [
       "[('bob', 'jean', 29, 'bob@outlook.com'),\n",
       " ('lary', 'jean', 23, 'lary@outlook.com')]"
      ]
     },
     "execution_count": 90,
     "metadata": {},
     "output_type": "execute_result"
    }
   ],
   "source": [
    "#Like\n",
    "filtre_like= c.execute(\"SELECT * FROM contacte WHERE last_name LIKE 'J%'\").fetchall()\n",
    "filtre_like"
   ]
  },
  {
   "cell_type": "markdown",
   "id": "1f45b1da",
   "metadata": {},
   "source": [
    "# Fin "
   ]
  },
  {
   "cell_type": "code",
   "execution_count": 91,
   "id": "25f9874a",
   "metadata": {
    "ExecuteTime": {
     "end_time": "2024-08-03T18:22:28.364183Z",
     "start_time": "2024-08-03T18:22:28.352794Z"
    }
   },
   "outputs": [],
   "source": [
    "#connection.commit() est utilisée pour valider (ou \"commettre\") ces opérations, signifiant qu'elles doivent être enregistrées de manière permanente dans la base de données\n",
    "connection.commit()"
   ]
  },
  {
   "cell_type": "code",
   "execution_count": null,
   "id": "eb73cad4",
   "metadata": {},
   "outputs": [],
   "source": [
    "#fermer la connection au database\n",
    "connection.close()"
   ]
  },
  {
   "cell_type": "code",
   "execution_count": null,
   "id": "f2e039a4",
   "metadata": {},
   "outputs": [],
   "source": []
  }
 ],
 "metadata": {
  "kernelspec": {
   "display_name": "Python 3 (ipykernel)",
   "language": "python",
   "name": "python3"
  },
  "language_info": {
   "codemirror_mode": {
    "name": "ipython",
    "version": 3
   },
   "file_extension": ".py",
   "mimetype": "text/x-python",
   "name": "python",
   "nbconvert_exporter": "python",
   "pygments_lexer": "ipython3",
   "version": "3.11.5"
  },
  "nbTranslate": {
   "displayLangs": [
    "*"
   ],
   "hotkey": "alt-t",
   "langInMainMenu": true,
   "sourceLang": "en",
   "targetLang": "fr",
   "useGoogleTranslate": true
  },
  "toc": {
   "base_numbering": 1,
   "nav_menu": {},
   "number_sections": true,
   "sideBar": true,
   "skip_h1_title": false,
   "title_cell": "Table of Contents",
   "title_sidebar": "Contents",
   "toc_cell": false,
   "toc_position": {},
   "toc_section_display": true,
   "toc_window_display": false
  },
  "varInspector": {
   "cols": {
    "lenName": 16,
    "lenType": 16,
    "lenVar": 40
   },
   "kernels_config": {
    "python": {
     "delete_cmd_postfix": "",
     "delete_cmd_prefix": "del ",
     "library": "var_list.py",
     "varRefreshCmd": "print(var_dic_list())"
    },
    "r": {
     "delete_cmd_postfix": ") ",
     "delete_cmd_prefix": "rm(",
     "library": "var_list.r",
     "varRefreshCmd": "cat(var_dic_list()) "
    }
   },
   "types_to_exclude": [
    "module",
    "function",
    "builtin_function_or_method",
    "instance",
    "_Feature"
   ],
   "window_display": false
  }
 },
 "nbformat": 4,
 "nbformat_minor": 5
}
