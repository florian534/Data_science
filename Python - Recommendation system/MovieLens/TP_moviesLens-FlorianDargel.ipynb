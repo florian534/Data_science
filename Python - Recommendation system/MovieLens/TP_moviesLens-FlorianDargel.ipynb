{
 "cells": [
  {
   "cell_type": "markdown",
   "id": "a55a3a48",
   "metadata": {},
   "source": [
    "# DARGEL FLORIAN -- TP movie lens"
   ]
  },
  {
   "cell_type": "markdown",
   "id": "f996e788",
   "metadata": {},
   "source": [
    "# SVD and weighted SVD on Movie lens"
   ]
  },
  {
   "cell_type": "markdown",
   "id": "7e29502b",
   "metadata": {},
   "source": [
    "a) $\\underline{What \\; is \\; the \\;  Movie \\; Lens \\; data \\; set?}$"
   ]
  },
  {
   "cell_type": "markdown",
   "id": "75cf96f9",
   "metadata": {},
   "source": [
    "Les ensembles de données MovieLens ont été collectés par le projet de recherche GroupLens\n",
    "à l'Université du Minnesota.\n",
    " \n",
    "Cet ensemble de données se compose de :\n",
    "\t* 100 000 évaluations (1-5) de 943 utilisateurs sur 1682 films. \n",
    "\t* Chaque utilisateur a évalué au moins 20 films. "
   ]
  },
  {
   "cell_type": "markdown",
   "id": "56b63630",
   "metadata": {},
   "source": [
    "Les données ont été collectées sur le site web MovieLens\n",
    "(movielens.umn.edu) pendant une période de sept mois allant du 19 septembre 1997 au 22 avril 1998,  1997 au 22 avril 1998. Ces données ont été nettoyées - les utilisateurs qui avaient moins de 20 évaluations ou qui n'avaient pas d'informations démographiques complètes ont été supprimés de cet ensemble de données. "
   ]
  },
  {
   "cell_type": "markdown",
   "id": "23ed7e09",
   "metadata": {},
   "source": [
    "b) $\\underline{Why \\; is \\; it \\; preferable \\; to \\; begin \\; with \\; the \\; MovieLens \\; 100K \\; Dataset?}$"
   ]
  },
  {
   "cell_type": "markdown",
   "id": "19356590",
   "metadata": {},
   "source": [
    "Il est préférable de commencer par une base qui contient mois de données (100k) que les autres données (1M), (10M) (20M). Les raisons :\n",
    "\n",
    "- Le temps de traitement peut être plus rapide \n",
    "- Sur une petite base de données on peut avoir une idée du fonctionnement et l'appliquer sur une base beaucoup plus grande. \n",
    "- On peut comparer pour plus tard les performances sur ce jeux de données (100k) et sur un jeux de données plus grande (exemple 1M)"
   ]
  },
  {
   "cell_type": "code",
   "execution_count": 1,
   "id": "2caecd31",
   "metadata": {
    "ExecuteTime": {
     "end_time": "2022-05-03T20:48:29.394325Z",
     "start_time": "2022-05-03T20:48:28.809472Z"
    }
   },
   "outputs": [],
   "source": [
    "import pandas as pd #importation data\n",
    "import numpy as np #manipulation vecteur\n",
    "from numpy import random #random : aléatoire\n",
    "import scipy\n",
    "import scipy. sparse\n",
    "\n",
    "names = ['user_id', 'movies', 'rating', 'timestamp']\n",
    "\n",
    "data_dir = \"ml-100k/\"\n",
    "data_shape = (943 , 1682)\n",
    "df = pd.read_csv (data_dir + \"u.data \", sep =\"\\t\", header = None, names=names)"
   ]
  },
  {
   "cell_type": "code",
   "execution_count": 2,
   "id": "9264fd62",
   "metadata": {
    "ExecuteTime": {
     "end_time": "2022-05-03T20:48:30.722366Z",
     "start_time": "2022-05-03T20:48:30.690628Z"
    }
   },
   "outputs": [
    {
     "data": {
      "text/html": [
       "<div>\n",
       "<style scoped>\n",
       "    .dataframe tbody tr th:only-of-type {\n",
       "        vertical-align: middle;\n",
       "    }\n",
       "\n",
       "    .dataframe tbody tr th {\n",
       "        vertical-align: top;\n",
       "    }\n",
       "\n",
       "    .dataframe thead th {\n",
       "        text-align: right;\n",
       "    }\n",
       "</style>\n",
       "<table border=\"1\" class=\"dataframe\">\n",
       "  <thead>\n",
       "    <tr style=\"text-align: right;\">\n",
       "      <th></th>\n",
       "      <th>user_id</th>\n",
       "      <th>movies</th>\n",
       "      <th>rating</th>\n",
       "      <th>timestamp</th>\n",
       "    </tr>\n",
       "  </thead>\n",
       "  <tbody>\n",
       "    <tr>\n",
       "      <th>0</th>\n",
       "      <td>196</td>\n",
       "      <td>242</td>\n",
       "      <td>3</td>\n",
       "      <td>881250949</td>\n",
       "    </tr>\n",
       "    <tr>\n",
       "      <th>1</th>\n",
       "      <td>186</td>\n",
       "      <td>302</td>\n",
       "      <td>3</td>\n",
       "      <td>891717742</td>\n",
       "    </tr>\n",
       "    <tr>\n",
       "      <th>2</th>\n",
       "      <td>22</td>\n",
       "      <td>377</td>\n",
       "      <td>1</td>\n",
       "      <td>878887116</td>\n",
       "    </tr>\n",
       "    <tr>\n",
       "      <th>3</th>\n",
       "      <td>244</td>\n",
       "      <td>51</td>\n",
       "      <td>2</td>\n",
       "      <td>880606923</td>\n",
       "    </tr>\n",
       "    <tr>\n",
       "      <th>4</th>\n",
       "      <td>166</td>\n",
       "      <td>346</td>\n",
       "      <td>1</td>\n",
       "      <td>886397596</td>\n",
       "    </tr>\n",
       "    <tr>\n",
       "      <th>...</th>\n",
       "      <td>...</td>\n",
       "      <td>...</td>\n",
       "      <td>...</td>\n",
       "      <td>...</td>\n",
       "    </tr>\n",
       "    <tr>\n",
       "      <th>99995</th>\n",
       "      <td>880</td>\n",
       "      <td>476</td>\n",
       "      <td>3</td>\n",
       "      <td>880175444</td>\n",
       "    </tr>\n",
       "    <tr>\n",
       "      <th>99996</th>\n",
       "      <td>716</td>\n",
       "      <td>204</td>\n",
       "      <td>5</td>\n",
       "      <td>879795543</td>\n",
       "    </tr>\n",
       "    <tr>\n",
       "      <th>99997</th>\n",
       "      <td>276</td>\n",
       "      <td>1090</td>\n",
       "      <td>1</td>\n",
       "      <td>874795795</td>\n",
       "    </tr>\n",
       "    <tr>\n",
       "      <th>99998</th>\n",
       "      <td>13</td>\n",
       "      <td>225</td>\n",
       "      <td>2</td>\n",
       "      <td>882399156</td>\n",
       "    </tr>\n",
       "    <tr>\n",
       "      <th>99999</th>\n",
       "      <td>12</td>\n",
       "      <td>203</td>\n",
       "      <td>3</td>\n",
       "      <td>879959583</td>\n",
       "    </tr>\n",
       "  </tbody>\n",
       "</table>\n",
       "<p>100000 rows × 4 columns</p>\n",
       "</div>"
      ],
      "text/plain": [
       "       user_id  movies  rating  timestamp\n",
       "0          196     242       3  881250949\n",
       "1          186     302       3  891717742\n",
       "2           22     377       1  878887116\n",
       "3          244      51       2  880606923\n",
       "4          166     346       1  886397596\n",
       "...        ...     ...     ...        ...\n",
       "99995      880     476       3  880175444\n",
       "99996      716     204       5  879795543\n",
       "99997      276    1090       1  874795795\n",
       "99998       13     225       2  882399156\n",
       "99999       12     203       3  879959583\n",
       "\n",
       "[100000 rows x 4 columns]"
      ]
     },
     "execution_count": 2,
     "metadata": {},
     "output_type": "execute_result"
    }
   ],
   "source": [
    "df "
   ]
  },
  {
   "cell_type": "code",
   "execution_count": 3,
   "id": "c4522b95",
   "metadata": {
    "ExecuteTime": {
     "end_time": "2022-05-03T20:48:33.989715Z",
     "start_time": "2022-05-03T20:48:33.969956Z"
    }
   },
   "outputs": [],
   "source": [
    "values = df.values #on prend les valeur de la matrice\n",
    "values [:, 0:2] -= 1 #on enleve -1 pour les valeurs de la 1ère colonne et la 2ème car sur python l'indice commence à 0\n",
    "M = scipy.sparse.csr_matrix (( values [:, 2], ( values [:, 0], values [:, 1])),\n",
    "                             dtype= np.float,shape = data_shape )"
   ]
  },
  {
   "cell_type": "code",
   "execution_count": 4,
   "id": "6fafd4dd",
   "metadata": {
    "ExecuteTime": {
     "end_time": "2022-05-03T20:48:34.612856Z",
     "start_time": "2022-05-03T20:48:34.599448Z"
    }
   },
   "outputs": [
    {
     "data": {
      "text/plain": [
       "<943x1682 sparse matrix of type '<class 'numpy.float64'>'\n",
       "\twith 100000 stored elements in Compressed Sparse Row format>"
      ]
     },
     "execution_count": 4,
     "metadata": {},
     "output_type": "execute_result"
    }
   ],
   "source": [
    "M "
   ]
  },
  {
   "cell_type": "code",
   "execution_count": 5,
   "id": "7cb5bdd2",
   "metadata": {
    "ExecuteTime": {
     "end_time": "2022-05-03T20:48:36.497930Z",
     "start_time": "2022-05-03T20:48:36.490869Z"
    }
   },
   "outputs": [
    {
     "name": "stdout",
     "output_type": "stream",
     "text": [
      "  (0, 0)\t5.0\n",
      "  (0, 1)\t3.0\n",
      "  (0, 2)\t4.0\n",
      "  (0, 3)\t3.0\n",
      "  (0, 4)\t3.0\n",
      "  (0, 5)\t5.0\n",
      "  (0, 6)\t4.0\n",
      "  (0, 7)\t1.0\n",
      "  (0, 8)\t5.0\n",
      "  (0, 9)\t3.0\n",
      "  (0, 10)\t2.0\n",
      "  (0, 11)\t5.0\n",
      "  (0, 12)\t5.0\n",
      "  (0, 13)\t5.0\n",
      "  (0, 14)\t5.0\n",
      "  (0, 15)\t5.0\n",
      "  (0, 16)\t3.0\n",
      "  (0, 17)\t4.0\n",
      "  (0, 18)\t5.0\n",
      "  (0, 19)\t4.0\n",
      "  (0, 20)\t1.0\n",
      "  (0, 21)\t4.0\n",
      "  (0, 22)\t4.0\n",
      "  (0, 23)\t3.0\n",
      "  (0, 24)\t4.0\n",
      "  :\t:\n",
      "  (942, 738)\t4.0\n",
      "  (942, 755)\t2.0\n",
      "  (942, 762)\t4.0\n",
      "  (942, 764)\t3.0\n",
      "  (942, 784)\t2.0\n",
      "  (942, 793)\t3.0\n",
      "  (942, 795)\t3.0\n",
      "  (942, 807)\t4.0\n",
      "  (942, 815)\t4.0\n",
      "  (942, 823)\t4.0\n",
      "  (942, 824)\t3.0\n",
      "  (942, 830)\t2.0\n",
      "  (942, 839)\t4.0\n",
      "  (942, 927)\t5.0\n",
      "  (942, 940)\t1.0\n",
      "  (942, 942)\t5.0\n",
      "  (942, 1010)\t2.0\n",
      "  (942, 1027)\t2.0\n",
      "  (942, 1043)\t3.0\n",
      "  (942, 1046)\t2.0\n",
      "  (942, 1066)\t2.0\n",
      "  (942, 1073)\t4.0\n",
      "  (942, 1187)\t3.0\n",
      "  (942, 1227)\t3.0\n",
      "  (942, 1329)\t3.0\n"
     ]
    }
   ],
   "source": [
    "print(M)"
   ]
  },
  {
   "cell_type": "markdown",
   "id": "bb3efca5",
   "metadata": {},
   "source": [
    "d) $\\underline{Différence \\; entre \\; table \\; df \\; et \\; la \\; matrice \\; M ?}$"
   ]
  },
  {
   "cell_type": "markdown",
   "id": "bfdfc36a",
   "metadata": {},
   "source": [
    "M : matrice creuse (sparse)\n",
    "\n",
    "Il s'agit d'une matrice de taille 1682 (films) x 943 (utilisateurs) \n",
    "\n",
    "    qui contient 100 000 évaluation (1 à 5), on a aussi des cases vides (des films qui n'ont pas été évalué par l'utilisateur)\n",
    "\n",
    "df : matrice de taille 4 x 100 000 (evaluation) \n",
    "\n",
    "    La premiere colonne : utilisateur \n",
    "    la deuxieme colonne : film \n",
    "    la troisieme colonne : evaluation \n",
    "    la quatrieme colonne : timescamp ( cette colonne nous interesse pas)\n",
    "Remarque : ce qui nous intéresse sont les 3 premières colonnes de la matrice df."
   ]
  },
  {
   "cell_type": "markdown",
   "id": "2f4f3cb7",
   "metadata": {},
   "source": [
    "Grâce à la commande ci_dessous whos on peut voir les informations sur la variable (Type, Data/Info)"
   ]
  },
  {
   "cell_type": "code",
   "execution_count": 6,
   "id": "72ea9b0f",
   "metadata": {
    "ExecuteTime": {
     "end_time": "2022-05-03T20:48:53.580272Z",
     "start_time": "2022-05-03T20:48:53.559611Z"
    }
   },
   "outputs": [
    {
     "name": "stdout",
     "output_type": "stream",
     "text": [
      "Variable          Type                          Data/Info\n",
      "---------------------------------------------------------\n",
      "M                 csr_matrix                      (0, 0)\t5.0\\n  (0, 1)\t3.<...>7)\t3.0\\n  (942, 1329)\t3.0\n",
      "NamespaceMagics   MetaHasTraits                 <class 'IPython.core.magi<...>mespace.NamespaceMagics'>\n",
      "data_dir          str                           ml-100k/\n",
      "data_shape        tuple                         n=2\n",
      "df                DataFrame                            user_id  movies  r<...>[100000 rows x 4 columns]\n",
      "get_ipython       function                      <function get_ipython at 0x000002493D0AD048>\n",
      "getsizeof         builtin_function_or_method    <built-in function getsizeof>\n",
      "json              module                        <module 'json' from 'C:\\\\<...>\\lib\\\\json\\\\__init__.py'>\n",
      "names             list                          n=4\n",
      "np                module                        <module 'numpy' from 'C:\\<...>ges\\\\numpy\\\\__init__.py'>\n",
      "pd                module                        <module 'pandas' from 'C:<...>es\\\\pandas\\\\__init__.py'>\n",
      "random            module                        <module 'numpy.random' fr<...>py\\\\random\\\\__init__.py'>\n",
      "scipy             module                        <module 'scipy' from 'C:\\<...>ges\\\\scipy\\\\__init__.py'>\n",
      "values            ndarray                       100000x4: 400000 elems, type `int64`, 3200000 bytes (3.0517578125 Mb)\n",
      "var_dic_list      function                      <function var_dic_list at 0x0000024979F9F158>\n"
     ]
    }
   ],
   "source": [
    "whos "
   ]
  },
  {
   "cell_type": "code",
   "execution_count": 9,
   "id": "50eb3678",
   "metadata": {
    "ExecuteTime": {
     "end_time": "2022-05-03T20:49:25.019801Z",
     "start_time": "2022-05-03T20:49:24.844025Z"
    }
   },
   "outputs": [
    {
     "data": {
      "image/png": "[encoded data removed]",
      "text/plain": [
       "<Figure size 432x288 with 1 Axes>"
      ]
     },
     "metadata": {},
     "output_type": "display_data"
    }
   ],
   "source": [
    "import matplotlib.pyplot as plt \n",
    "plt.hist(df['rating'], bins=5, ec='black')\n",
    "plt.xlabel('Rating')\n",
    "plt.ylabel('Count')\n",
    "plt.title('Distribution of Ratings in MovieLens 100K')\n",
    "plt.show()"
   ]
  },
  {
   "cell_type": "markdown",
   "id": "8b2a3c7d",
   "metadata": {},
   "source": [
    "Lorsqu'on observe la distribution du nombre d'évaluations différentes. On observe une distribution normale, avec la plupart des évaluations centrées sur 3-4."
   ]
  },
  {
   "cell_type": "markdown",
   "id": "a454bdbf",
   "metadata": {},
   "source": [
    "#  Pre process the data "
   ]
  },
  {
   "cell_type": "markdown",
   "id": "d18f0b16",
   "metadata": {},
   "source": [
    "a) $\\underline{what \\; is \\; the \\; type \\; sparse?}$"
   ]
  },
  {
   "cell_type": "code",
   "execution_count": 7,
   "id": "b0103718",
   "metadata": {
    "ExecuteTime": {
     "end_time": "2022-05-03T18:39:12.795176Z",
     "start_time": "2022-05-03T18:39:12.780179Z"
    }
   },
   "outputs": [],
   "source": [
    "#utile pour savoir que fait la commande\n",
    "?scipy.sparse "
   ]
  },
  {
   "cell_type": "markdown",
   "id": "f5d6e69a",
   "metadata": {},
   "source": [
    "On a uiliser la commande $\\textbf{scipy.sparse.csr_matrix}$ \n",
    "\n",
    "Type sparse : Compressed Sparse Row matrix (on compresse la matrice par ligne)\n",
    "\n",
    "Les matrices sparses peuvent être utilisées dans les opérations arithmétiques : elles supportent l'addition, la soustraction, la multiplication, la division et la puissance matricielle. Les opérations arithmétiques efficaces CSR + CSR, CSR * CSR, etc."
   ]
  },
  {
   "cell_type": "markdown",
   "id": "ec8dec12",
   "metadata": {},
   "source": [
    "b) $\\underline{Split \\; the \\; data \\; into \\; two \\; matrices. \\; Use \\; 90\\% \\; for \\; training \\; and \\; 10\\% \\; for \\;testing.\\;}$"
   ]
  },
  {
   "cell_type": "code",
   "execution_count": 10,
   "id": "95ca5526",
   "metadata": {
    "ExecuteTime": {
     "end_time": "2022-05-03T20:49:51.911091Z",
     "start_time": "2022-05-03T20:49:51.857758Z"
    }
   },
   "outputs": [],
   "source": [
    "ind = np. random . permutation ( range (100000) ) #indice aléatoire \n",
    "inda = ind [0:90000] #90 %\n",
    "indt = ind [90000:] #10 %\n",
    "M = scipy.sparse.csr_matrix (( values [:, 2], ( values [:, 0], values [:, 1])), dtype\n",
    "= np.float, shape = data_shape ) \n",
    "Ma = scipy.sparse.csr_matrix (( values [inda , 2], ( values [inda , 0], values [inda ,\n",
    "1]) ), dtype = np.float , shape = data_shape ) #données d'apprentissage\n",
    "Mt = scipy . sparse.csr_matrix (( values [indt , 2], ( values [indt , 0], values [indt ,\n",
    "1]) ), dtype = np.float , shape = data_shape ) #données test"
   ]
  },
  {
   "cell_type": "markdown",
   "id": "84ccff11",
   "metadata": {},
   "source": [
    "On sépare nos jeux de données en apprentissage 90% et test 10%."
   ]
  },
  {
   "cell_type": "code",
   "execution_count": 11,
   "id": "771d29ba",
   "metadata": {
    "ExecuteTime": {
     "end_time": "2022-05-03T20:50:02.819934Z",
     "start_time": "2022-05-03T20:50:02.812658Z"
    }
   },
   "outputs": [
    {
     "name": "stdout",
     "output_type": "stream",
     "text": [
      "10000\n",
      "10000\n"
     ]
    }
   ],
   "source": [
    "nt = np.sum(Mt>.5)\n",
    "print(nt)\n",
    "\n",
    "#Deuxième façon de faire \n",
    "nt = Mt.count_nonzero() #compte le nombre d'évaluation non manquante\n",
    "print(nt)"
   ]
  },
  {
   "cell_type": "markdown",
   "id": "fdebf6df",
   "metadata": {},
   "source": [
    "On observe bien 1000 evaluations (notes) pour la variable nt "
   ]
  },
  {
   "cell_type": "markdown",
   "id": "ccd4ab3f",
   "metadata": {},
   "source": [
    "c) $\\underline{Compute \\; the \\;  mean \\; ratings \\; given \\; by \\; the \\;  users \\; to \\; the \\; movies.}$"
   ]
  },
  {
   "cell_type": "code",
   "execution_count": 12,
   "id": "85cab078",
   "metadata": {
    "ExecuteTime": {
     "end_time": "2022-05-03T20:50:11.318740Z",
     "start_time": "2022-05-03T20:50:11.303789Z"
    }
   },
   "outputs": [
    {
     "name": "stdout",
     "output_type": "stream",
     "text": [
      "Sur les données d apprentissage la note d evaluation moyenne attribuées par les utilisateurs aux films = 3.528\n"
     ]
    }
   ],
   "source": [
    "moy = np.sum (Ma)/np.sum(Ma >.5) #revient à diviser par 90 0000  \n",
    "print('Sur les données d apprentissage la note d evaluation moyenne attribuées par les utilisateurs aux films = {0:.3f}'.format(moy))#on calcul la moyenne"
   ]
  },
  {
   "cell_type": "markdown",
   "id": "97479047",
   "metadata": {},
   "source": [
    "d) $\\underline{Compute \\; the \\; mean \\; test \\; error \\;Et \\;when \\;predicting \\;missing \\;ratings \\;by \\;the \\;mean}$"
   ]
  },
  {
   "cell_type": "markdown",
   "id": "411b6833",
   "metadata": {},
   "source": [
    "1ère méthode"
   ]
  },
  {
   "cell_type": "code",
   "execution_count": 13,
   "id": "788fb7ed",
   "metadata": {
    "ExecuteTime": {
     "end_time": "2022-05-03T20:50:15.560741Z",
     "start_time": "2022-05-03T20:50:15.550519Z"
    }
   },
   "outputs": [
    {
     "name": "stdout",
     "output_type": "stream",
     "text": [
      "  (0, 5)\t3.528322222222222\n",
      "  (0, 29)\t3.528322222222222\n",
      "  (0, 32)\t3.528322222222222\n",
      "  (0, 41)\t3.528322222222222\n",
      "  (0, 49)\t3.528322222222222\n",
      "  (0, 73)\t3.528322222222222\n",
      "  (0, 74)\t3.528322222222222\n",
      "  (0, 76)\t3.528322222222222\n",
      "  (0, 80)\t3.528322222222222\n",
      "  (0, 84)\t3.528322222222222\n",
      "  (0, 110)\t3.528322222222222\n",
      "  (0, 120)\t3.528322222222222\n",
      "  (0, 134)\t3.528322222222222\n",
      "  (0, 174)\t3.528322222222222\n",
      "  (0, 179)\t3.528322222222222\n",
      "  (0, 185)\t3.528322222222222\n",
      "  (0, 210)\t3.528322222222222\n",
      "  (0, 229)\t3.528322222222222\n",
      "  (0, 236)\t3.528322222222222\n",
      "  (0, 247)\t3.528322222222222\n",
      "  (0, 266)\t3.528322222222222\n",
      "  (0, 268)\t3.528322222222222\n",
      "  (0, 271)\t3.528322222222222\n",
      "  (1, 0)\t3.528322222222222\n",
      "  (1, 24)\t3.528322222222222\n",
      "  :\t:\n",
      "  (941, 123)\t3.528322222222222\n",
      "  (941, 182)\t3.528322222222222\n",
      "  (941, 192)\t3.528322222222222\n",
      "  (941, 214)\t3.528322222222222\n",
      "  (941, 260)\t3.528322222222222\n",
      "  (941, 299)\t3.528322222222222\n",
      "  (941, 303)\t3.528322222222222\n",
      "  (941, 314)\t3.528322222222222\n",
      "  (941, 315)\t3.528322222222222\n",
      "  (941, 327)\t3.528322222222222\n",
      "  (941, 658)\t3.528322222222222\n",
      "  (941, 878)\t3.528322222222222\n",
      "  (942, 37)\t3.528322222222222\n",
      "  (942, 57)\t3.528322222222222\n",
      "  (942, 61)\t3.528322222222222\n",
      "  (942, 72)\t3.528322222222222\n",
      "  (942, 184)\t3.528322222222222\n",
      "  (942, 225)\t3.528322222222222\n",
      "  (942, 384)\t3.528322222222222\n",
      "  (942, 430)\t3.528322222222222\n",
      "  (942, 470)\t3.528322222222222\n",
      "  (942, 558)\t3.528322222222222\n",
      "  (942, 723)\t3.528322222222222\n",
      "  (942, 823)\t3.528322222222222\n",
      "  (942, 1066)\t3.528322222222222\n"
     ]
    }
   ],
   "source": [
    "Mt_bis = Mt.copy() #Mt_bis c'est Mt_pred : la prediction\n",
    "Mt_bis [Mt_bis>.5] = moy #Mt_bis>.5 : ture or false \n",
    "print(Mt_bis)# on remplace les valeurs par moy "
   ]
  },
  {
   "cell_type": "code",
   "execution_count": 14,
   "id": "a27b1ca1",
   "metadata": {
    "ExecuteTime": {
     "end_time": "2022-05-03T20:50:18.088350Z",
     "start_time": "2022-05-03T20:50:18.074382Z"
    }
   },
   "outputs": [],
   "source": [
    "Diff = (Mt-Mt_bis)"
   ]
  },
  {
   "cell_type": "code",
   "execution_count": 15,
   "id": "55cf57f9",
   "metadata": {
    "ExecuteTime": {
     "end_time": "2022-05-03T20:50:18.944293Z",
     "start_time": "2022-05-03T20:50:18.936315Z"
    }
   },
   "outputs": [
    {
     "name": "stdout",
     "output_type": "stream",
     "text": [
      "On obtient comme erreur= 1.237\n",
      "On obtient cela quand on calcule l erreur de test moyenne quand on prédit les évaluations manquantes par la moyenne.\n"
     ]
    }
   ],
   "source": [
    "Et = (np.sum(Diff.power(2))) / nt \n",
    "print('On obtient comme erreur= {0:.3f}'.format(Et))#on calcul la moyenne\n",
    "print('On obtient cela quand on calcule l erreur de test moyenne quand on prédit les évaluations manquantes par la moyenne.')"
   ]
  },
  {
   "cell_type": "markdown",
   "id": "5b1b8d83",
   "metadata": {
    "ExecuteTime": {
     "end_time": "2022-05-03T11:09:11.948512Z",
     "start_time": "2022-05-03T11:09:11.942532Z"
    }
   },
   "source": [
    "2ème méthode"
   ]
  },
  {
   "cell_type": "code",
   "execution_count": 16,
   "id": "a4da7e4c",
   "metadata": {
    "ExecuteTime": {
     "end_time": "2022-05-03T20:50:21.648632Z",
     "start_time": "2022-05-03T20:50:21.633674Z"
    }
   },
   "outputs": [
    {
     "name": "stdout",
     "output_type": "stream",
     "text": [
      "On obtient comme erreur= 1.237\n",
      "On obtient cela quand on calcule l erreur de test moyenne quand on prédit les évaluations manquantes par la moyenne.\n"
     ]
    }
   ],
   "source": [
    "maskt = (Mt > .5) #mask sur les données test\n",
    "Mpred = maskt.multiply(moy)\n",
    "erreur = np.sum((Mt- Mpred).power(2))/nt\n",
    "print('On obtient comme erreur= {0:.3f}'.format(Et))\n",
    "print('On obtient cela quand on calcule l erreur de test moyenne quand on prédit les évaluations manquantes par la moyenne.')"
   ]
  },
  {
   "cell_type": "markdown",
   "id": "7c550ec3",
   "metadata": {},
   "source": [
    "c) $\\underline{Center \\; the \\; data}$"
   ]
  },
  {
   "cell_type": "markdown",
   "id": "6953f66e",
   "metadata": {},
   "source": [
    "On centre nos données d'apprentissage et aussi nos données test"
   ]
  },
  {
   "cell_type": "code",
   "execution_count": 17,
   "id": "62ead9a3",
   "metadata": {
    "ExecuteTime": {
     "end_time": "2022-05-03T20:50:34.781288Z",
     "start_time": "2022-05-03T20:50:34.771354Z"
    }
   },
   "outputs": [
    {
     "name": "stdout",
     "output_type": "stream",
     "text": [
      "  (0, 0)\t1.4716777777777779\n",
      "  (0, 1)\t-0.5283222222222221\n",
      "  (0, 2)\t0.47167777777777786\n",
      "  (0, 3)\t-0.5283222222222221\n",
      "  (0, 4)\t-0.5283222222222221\n",
      "  (0, 6)\t0.47167777777777786\n",
      "  (0, 7)\t-2.528322222222222\n",
      "  (0, 8)\t1.4716777777777779\n",
      "  (0, 9)\t-0.5283222222222221\n",
      "  (0, 10)\t-1.5283222222222221\n",
      "  (0, 11)\t1.4716777777777779\n",
      "  (0, 12)\t1.4716777777777779\n",
      "  (0, 13)\t1.4716777777777779\n",
      "  (0, 14)\t1.4716777777777779\n",
      "  (0, 15)\t1.4716777777777779\n",
      "  (0, 16)\t-0.5283222222222221\n",
      "  (0, 17)\t0.47167777777777786\n",
      "  (0, 18)\t1.4716777777777779\n",
      "  (0, 19)\t0.47167777777777786\n",
      "  (0, 20)\t-2.528322222222222\n",
      "  (0, 21)\t0.47167777777777786\n",
      "  (0, 22)\t0.47167777777777786\n",
      "  (0, 23)\t-0.5283222222222221\n",
      "  (0, 24)\t0.47167777777777786\n",
      "  (0, 25)\t-0.5283222222222221\n",
      "  :\t:\n",
      "  (942, 721)\t-0.5283222222222221\n",
      "  (942, 731)\t0.47167777777777786\n",
      "  (942, 738)\t0.47167777777777786\n",
      "  (942, 755)\t-1.5283222222222221\n",
      "  (942, 762)\t0.47167777777777786\n",
      "  (942, 764)\t-0.5283222222222221\n",
      "  (942, 784)\t-1.5283222222222221\n",
      "  (942, 793)\t-0.5283222222222221\n",
      "  (942, 795)\t-0.5283222222222221\n",
      "  (942, 807)\t0.47167777777777786\n",
      "  (942, 815)\t0.47167777777777786\n",
      "  (942, 824)\t-0.5283222222222221\n",
      "  (942, 830)\t-1.5283222222222221\n",
      "  (942, 839)\t0.47167777777777786\n",
      "  (942, 927)\t1.4716777777777779\n",
      "  (942, 940)\t-2.528322222222222\n",
      "  (942, 942)\t1.4716777777777779\n",
      "  (942, 1010)\t-1.5283222222222221\n",
      "  (942, 1027)\t-1.5283222222222221\n",
      "  (942, 1043)\t-0.5283222222222221\n",
      "  (942, 1046)\t-1.5283222222222221\n",
      "  (942, 1073)\t0.47167777777777786\n",
      "  (942, 1187)\t-0.5283222222222221\n",
      "  (942, 1227)\t-0.5283222222222221\n",
      "  (942, 1329)\t-0.5283222222222221\n"
     ]
    }
   ],
   "source": [
    "#Données d'apprentissage\n",
    "MaskA = (Ma>.5) #mask sur les données d'apprentissage\n",
    "MpredA = MaskA.multiply(moy)\n",
    "\n",
    "Ma_centre = Ma - MpredA\n",
    "print(Ma_centre)"
   ]
  },
  {
   "cell_type": "code",
   "execution_count": 18,
   "id": "436bcd64",
   "metadata": {
    "ExecuteTime": {
     "end_time": "2022-05-03T20:50:37.041595Z",
     "start_time": "2022-05-03T20:50:37.035921Z"
    }
   },
   "outputs": [
    {
     "name": "stdout",
     "output_type": "stream",
     "text": [
      "  (0, 5)\t1.4716777777777779\n",
      "  (0, 29)\t-0.5283222222222221\n",
      "  (0, 32)\t0.47167777777777786\n",
      "  (0, 41)\t1.4716777777777779\n",
      "  (0, 49)\t1.4716777777777779\n",
      "  (0, 73)\t-2.528322222222222\n",
      "  (0, 74)\t0.47167777777777786\n",
      "  (0, 76)\t0.47167777777777786\n",
      "  (0, 80)\t1.4716777777777779\n",
      "  (0, 84)\t-0.5283222222222221\n",
      "  (0, 110)\t1.4716777777777779\n",
      "  (0, 120)\t0.47167777777777786\n",
      "  (0, 134)\t0.47167777777777786\n",
      "  (0, 174)\t1.4716777777777779\n",
      "  (0, 179)\t-0.5283222222222221\n",
      "  (0, 185)\t0.47167777777777786\n",
      "  (0, 210)\t-0.5283222222222221\n",
      "  (0, 229)\t0.47167777777777786\n",
      "  (0, 236)\t-1.5283222222222221\n",
      "  (0, 247)\t0.47167777777777786\n",
      "  (0, 266)\t0.47167777777777786\n",
      "  (0, 268)\t1.4716777777777779\n",
      "  (0, 271)\t-0.5283222222222221\n",
      "  (1, 0)\t0.47167777777777786\n",
      "  (1, 24)\t0.47167777777777786\n",
      "  :\t:\n",
      "  (941, 123)\t0.47167777777777786\n",
      "  (941, 182)\t-0.5283222222222221\n",
      "  (941, 192)\t1.4716777777777779\n",
      "  (941, 214)\t1.4716777777777779\n",
      "  (941, 260)\t0.47167777777777786\n",
      "  (941, 299)\t1.4716777777777779\n",
      "  (941, 303)\t1.4716777777777779\n",
      "  (941, 314)\t0.47167777777777786\n",
      "  (941, 315)\t0.47167777777777786\n",
      "  (941, 327)\t-0.5283222222222221\n",
      "  (941, 658)\t1.4716777777777779\n",
      "  (941, 878)\t0.47167777777777786\n",
      "  (942, 37)\t-0.5283222222222221\n",
      "  (942, 57)\t0.47167777777777786\n",
      "  (942, 61)\t-0.5283222222222221\n",
      "  (942, 72)\t-0.5283222222222221\n",
      "  (942, 184)\t-1.5283222222222221\n",
      "  (942, 225)\t0.47167777777777786\n",
      "  (942, 384)\t0.47167777777777786\n",
      "  (942, 430)\t0.47167777777777786\n",
      "  (942, 470)\t1.4716777777777779\n",
      "  (942, 558)\t0.47167777777777786\n",
      "  (942, 723)\t-2.528322222222222\n",
      "  (942, 823)\t0.47167777777777786\n",
      "  (942, 1066)\t-1.5283222222222221\n"
     ]
    }
   ],
   "source": [
    "#Données test \n",
    "MaskB = (Mt>.5) #masque sur les données test\n",
    "MpredB = MaskB.multiply(moy)\n",
    "\n",
    "Mt_centre = Mt - MpredB\n",
    "print(Mt_centre)"
   ]
  },
  {
   "cell_type": "markdown",
   "id": "c81ef580",
   "metadata": {},
   "source": [
    "# Recommend using SVD"
   ]
  },
  {
   "cell_type": "markdown",
   "id": "efc6589c",
   "metadata": {},
   "source": [
    "a) Predict the missing test values using the SVD with an increasing number of component\n",
    "(up to 20). Evaluate the performance of this approach on the test matrix and plot the\n",
    "resulting performance as a function of the number of factors of the SVD used to perform the\n",
    "reconstruction."
   ]
  },
  {
   "cell_type": "code",
   "execution_count": 19,
   "id": "125749d4",
   "metadata": {
    "ExecuteTime": {
     "end_time": "2022-05-03T20:50:42.252432Z",
     "start_time": "2022-05-03T20:50:41.696775Z"
    }
   },
   "outputs": [],
   "source": [
    "from scipy.stats import ortho_group\n",
    "from scipy.sparse import diags\n",
    "from scipy.sparse.linalg import svds"
   ]
  },
  {
   "cell_type": "markdown",
   "id": "63e4eb96",
   "metadata": {},
   "source": [
    "On va d'abord calculer les valeurs manquantes du test en utilisant le SVD avec un nombre croissant de composante k=1 pour visualiser l'erreur."
   ]
  },
  {
   "cell_type": "markdown",
   "id": "78b1f8bb",
   "metadata": {},
   "source": [
    "Etape 1] Decomposition"
   ]
  },
  {
   "cell_type": "markdown",
   "id": "11b7979a",
   "metadata": {},
   "source": [
    "On factorise la matrice centré réduite Ma_centre sous forme de 3 matrice , on les note : u_1, s_1, v_1"
   ]
  },
  {
   "cell_type": "code",
   "execution_count": 20,
   "id": "49253341",
   "metadata": {
    "ExecuteTime": {
     "end_time": "2022-05-03T20:50:43.936280Z",
     "start_time": "2022-05-03T20:50:43.921574Z"
    }
   },
   "outputs": [],
   "source": [
    "u_1, s_1, v_1 = svds(Ma_centre, k=1)"
   ]
  },
  {
   "cell_type": "code",
   "execution_count": 21,
   "id": "6b259b61",
   "metadata": {
    "ExecuteTime": {
     "end_time": "2022-05-03T20:50:44.355304Z",
     "start_time": "2022-05-03T20:50:44.346328Z"
    }
   },
   "outputs": [
    {
     "data": {
      "text/plain": [
       "((943, 1), (1,), (1, 1682))"
      ]
     },
     "execution_count": 21,
     "metadata": {},
     "output_type": "execute_result"
    }
   ],
   "source": [
    "u_1.shape, s_1.shape, v_1.shape"
   ]
  },
  {
   "cell_type": "markdown",
   "id": "10e9ccf4",
   "metadata": {},
   "source": [
    "On verifie la dimension des matrices pour qu'on puisse faire ensuite le produit matriciel"
   ]
  },
  {
   "cell_type": "markdown",
   "id": "9dbe287d",
   "metadata": {},
   "source": [
    "Etape 2] Pour la prediction M_pred_1"
   ]
  },
  {
   "cell_type": "markdown",
   "id": "09206a1b",
   "metadata": {
    "ExecuteTime": {
     "end_time": "2022-05-03T19:38:52.366196Z",
     "start_time": "2022-05-03T19:38:52.350966Z"
    }
   },
   "source": [
    "On a les valeurs qui on été prédite, on note : M_pred_1"
   ]
  },
  {
   "cell_type": "code",
   "execution_count": 22,
   "id": "9b4e03c5",
   "metadata": {
    "ExecuteTime": {
     "end_time": "2022-05-03T20:50:47.875573Z",
     "start_time": "2022-05-03T20:50:47.863496Z"
    }
   },
   "outputs": [],
   "source": [
    "M_pred_1 = u_1 @ np.diag(s_1) @ v_1"
   ]
  },
  {
   "cell_type": "markdown",
   "id": "c957381c",
   "metadata": {},
   "source": [
    "Etape 3] Pour l'erreur "
   ]
  },
  {
   "cell_type": "code",
   "execution_count": 23,
   "id": "c5404680",
   "metadata": {
    "ExecuteTime": {
     "end_time": "2022-05-03T20:50:49.250532Z",
     "start_time": "2022-05-03T20:50:49.242741Z"
    }
   },
   "outputs": [],
   "source": [
    "PredT_1 = MaskB.multi\n",
    "ply(M_pred_1)"
   ]
  },
  {
   "cell_type": "code",
   "execution_count": 24,
   "id": "c55c2632",
   "metadata": {
    "ExecuteTime": {
     "end_time": "2022-05-03T20:50:49.873915Z",
     "start_time": "2022-05-03T20:50:49.863637Z"
    }
   },
   "outputs": [
    {
     "name": "stdout",
     "output_type": "stream",
     "text": [
      "On obtient comme erreur avec k=1 : 1.144\n"
     ]
    }
   ],
   "source": [
    "erreur_1 = np.sum((Mt_centre- PredT_1).power(2))/nt\n",
    "print('On obtient comme erreur avec k=1 : {0:.3f}'.format(erreur_1))"
   ]
  },
  {
   "cell_type": "markdown",
   "id": "24808c28",
   "metadata": {},
   "source": [
    "Il s'agit d'une erreur correcte qui est assez proche de l'erreur moyenne"
   ]
  },
  {
   "cell_type": "code",
   "execution_count": null,
   "id": "361ac188",
   "metadata": {},
   "outputs": [],
   "source": []
  },
  {
   "cell_type": "markdown",
   "id": "ab159329",
   "metadata": {},
   "source": [
    "Evaluons maintenant l'erreur pour un nombre croissant de composante en allant de 1 à 20 : "
   ]
  },
  {
   "cell_type": "code",
   "execution_count": 25,
   "id": "eee61c3e",
   "metadata": {
    "ExecuteTime": {
     "end_time": "2022-05-03T20:50:54.616191Z",
     "start_time": "2022-05-03T20:50:53.407756Z"
    }
   },
   "outputs": [
    {
     "name": "stdout",
     "output_type": "stream",
     "text": [
      "Nombre de composante 1 à pour erreur 1.1443395557940688\n",
      "Nombre de composante 2 à pour erreur 1.105232139489726\n",
      "Nombre de composante 3 à pour erreur 1.0889047561119838\n",
      "Nombre de composante 4 à pour erreur 1.072379361362709\n",
      "Nombre de composante 5 à pour erreur 1.0636488095647407\n",
      "Nombre de composante 6 à pour erreur 1.056959043413678\n",
      "Nombre de composante 7 à pour erreur 1.051790405188406\n",
      "Nombre de composante 8 à pour erreur 1.0464319140672598\n",
      "Nombre de composante 9 à pour erreur 1.0401250594961404\n",
      "Nombre de composante 10 à pour erreur 1.038575659624882\n",
      "Nombre de composante 11 à pour erreur 1.0346890809583758\n",
      "Nombre de composante 12 à pour erreur 1.0358351984111165\n",
      "Nombre de composante 13 à pour erreur 1.036092079457105\n",
      "Nombre de composante 14 à pour erreur 1.0364575572833534\n",
      "Nombre de composante 15 à pour erreur 1.0363469920657393\n",
      "Nombre de composante 16 à pour erreur 1.0380125502365618\n",
      "Nombre de composante 17 à pour erreur 1.0378921756120592\n",
      "Nombre de composante 18 à pour erreur 1.039838863208294\n",
      "Nombre de composante 19 à pour erreur 1.0402567740886026\n",
      "Nombre de composante 20 à pour erreur 1.042152973394706\n",
      "\n",
      " Le nombre de facteur optimal est 10 avec pour erreur 1.0346890809583758\n",
      "\n",
      " Temps de calcul : 1.202\n"
     ]
    }
   ],
   "source": [
    "from time import time \n",
    "t0 = time() \n",
    "p=20\n",
    "composante = []\n",
    "error = np.zeros(p)\n",
    "for i in range(1,p+1):\n",
    "    u , s, v =svds(Ma_centre, k=i)\n",
    "    M_pred_ = u @ np.diag(s) @ v\n",
    "    PredT = MaskB.multiply(M_pred_)\n",
    "    error[i-1] = np.sum((Mt_centre- PredT).power(2))/nt \n",
    "    composante.append(i)\n",
    "    print(\"Nombre de composante \" + str(composante[i-1]) + \" à pour erreur \" + str(error[i-1])) \n",
    "\n",
    "    \n",
    "err_svd = min(error)\n",
    "index_svd = np.argmin(error)\n",
    "print(\"\\n Le nombre de facteur optimal est \" + str(index_svd) + \" avec pour erreur \" + str(err_svd))\n",
    "t1 = time()\n",
    "t_svd = t1 - t0\n",
    "print('\\n Temps de calcul : {0:.3f}'.format( t1 - t0 ))\n",
    "#print(composante)\n",
    "#print(error)\n",
    "#print(t_svd)"
   ]
  },
  {
   "cell_type": "markdown",
   "id": "0b7fdae1",
   "metadata": {},
   "source": [
    "On affiche ci-dessous  l'évalution des erreurs en fonction des valeurs des composantes"
   ]
  },
  {
   "cell_type": "code",
   "execution_count": 26,
   "id": "83db39ec",
   "metadata": {
    "ExecuteTime": {
     "end_time": "2022-05-03T20:50:57.050764Z",
     "start_time": "2022-05-03T20:50:56.929540Z"
    }
   },
   "outputs": [
    {
     "data": {
      "image/png": "[encoded data removed]",
      "text/plain": [
       "<Figure size 432x288 with 1 Axes>"
      ]
     },
     "metadata": {},
     "output_type": "display_data"
    }
   ],
   "source": [
    "import matplotlib.pyplot as plt\n",
    "err_svd = min(error)\n",
    "index_svd = np.argmin(error)\n",
    "\n",
    "plt.plot(error,'o-')\n",
    "plt.axhline(y=err_svd,color='red',linestyle='--') #erreur minimal\n",
    "plt.grid(True)\n",
    "plt.xticks(np.arange(1,20, step=2))\n",
    "plt.show() "
   ]
  },
  {
   "cell_type": "markdown",
   "id": "32328bc6",
   "metadata": {},
   "source": [
    "On observe sur le graphique une intersection entre la courbe bleu et la courbe rouge. Depuis l'intersection, si on se projecte sur l'axe des abscisses on trouve bien la valeur optimal du nombre de facteur pour minimser l'erreur "
   ]
  },
  {
   "cell_type": "markdown",
   "id": "d788ab41",
   "metadata": {},
   "source": [
    "What is, in this case, the optimal number of factors? "
   ]
  },
  {
   "cell_type": "code",
   "execution_count": 28,
   "id": "20e7fd31",
   "metadata": {
    "ExecuteTime": {
     "end_time": "2022-05-03T20:52:05.288672Z",
     "start_time": "2022-05-03T20:52:05.283634Z"
    }
   },
   "outputs": [
    {
     "data": {
      "text/plain": [
       "10"
      ]
     },
     "execution_count": 28,
     "metadata": {},
     "output_type": "execute_result"
    }
   ],
   "source": [
    "index_svd"
   ]
  },
  {
   "cell_type": "markdown",
   "id": "8e74ea3a",
   "metadata": {},
   "source": [
    "Sur le graphique on peut observer que la valeure optimale du nombre de facteur est de 10 car il s'agit de l'erreur minimale"
   ]
  },
  {
   "cell_type": "markdown",
   "id": "17ee824b",
   "metadata": {},
   "source": [
    "4\\. $\\underline{Check \\; if \\;  you \\; can \\; improve \\; the \\; predictions \\; using \\; the \\; weighted \\; SVD}$ \n",
    "\n",
    "4.a) First use the approach proposed by  Marlin or Srebro and Jaakkola implementing the following sequence:\n",
    "$$\n",
    "\\begin{array}{rll}\n",
    "loop & & & \\\\\n",
    "&F &=& W M  + (1-W) Z^{k} \\\\\n",
    "&U,V &=& svd(F) \\\\\n",
    "&Z^{k+1} &=& U V^\\top \n",
    "\\end{array}\n",
    "$$\n",
    "For details see for instance:"
   ]
  },
  {
   "cell_type": "code",
   "execution_count": 29,
   "id": "ebd8484a",
   "metadata": {
    "ExecuteTime": {
     "end_time": "2022-05-03T20:52:17.205902Z",
     "start_time": "2022-05-03T20:52:17.112989Z"
    }
   },
   "outputs": [],
   "source": [
    "Mest = 0*Ma_centre #matrice d'apprentissage sparse\n",
    "un = np.ones((943,1682))\n",
    "un_m_mask = scipy.sparse.csr_matrix(un - MaskA) "
   ]
  },
  {
   "cell_type": "code",
   "execution_count": 30,
   "id": "6bf1a60f",
   "metadata": {
    "ExecuteTime": {
     "end_time": "2022-05-03T20:54:25.148536Z",
     "start_time": "2022-05-03T20:52:20.689201Z"
    },
    "collapsed": true
   },
   "outputs": [
    {
     "name": "stdout",
     "output_type": "stream",
     "text": [
      "\n",
      " temps de calcul : 211.731\n"
     ]
    }
   ],
   "source": [
    "p = 20\n",
    "errw = np.zeros(p)\n",
    "to = time() \n",
    "for i in range(1,p+1):\n",
    "    for ii in range(1,30):\n",
    "        Y = Ma_centre + un_m_mask.multiply(Mest);\n",
    "        U, D, Vt = scipy.sparse.linalg.svds(Y,k=i)\n",
    "        Mest = np.dot(np.dot(U,np.diag(D)), Vt)\n",
    "    \n",
    "    Merr = Mt_centre - MaskB.multiply(Mest)\n",
    "    errw[i-1] = np.sum(Merr.power(2))/nt \n",
    "    \n",
    "t1 = time()\n",
    "print('\\n temps de calcul : {0:.3f}'.format( t1 - t0 ))"
   ]
  },
  {
   "cell_type": "code",
   "execution_count": 31,
   "id": "04d9f8f6",
   "metadata": {
    "ExecuteTime": {
     "end_time": "2022-05-03T20:54:27.262132Z",
     "start_time": "2022-05-03T20:54:27.246554Z"
    }
   },
   "outputs": [
    {
     "name": "stdout",
     "output_type": "stream",
     "text": [
      "[1.01202594 0.89913968 0.85843274 0.86588715 0.86319365 0.88266606\n",
      " 0.89373058 0.92458089 0.95563107 0.9798257  1.01458353 1.04893561\n",
      " 1.07663345 1.10985005 1.14225968 1.17594017 1.2142977  1.25347481\n",
      " 1.29248586 1.33417788]\n"
     ]
    }
   ],
   "source": [
    "print(errw)\n",
    "#print(Merr)"
   ]
  },
  {
   "cell_type": "code",
   "execution_count": 32,
   "id": "5f2798df",
   "metadata": {
    "ExecuteTime": {
     "end_time": "2022-05-03T20:54:27.978929Z",
     "start_time": "2022-05-03T20:54:27.961884Z"
    }
   },
   "outputs": [],
   "source": [
    "errw_svd= min(errw)\n",
    "index_svd_bis = np.argmin(errw)"
   ]
  },
  {
   "cell_type": "code",
   "execution_count": 33,
   "id": "ccd035d0",
   "metadata": {
    "ExecuteTime": {
     "end_time": "2022-05-03T20:54:30.016848Z",
     "start_time": "2022-05-03T20:54:29.895710Z"
    }
   },
   "outputs": [
    {
     "data": {
      "image/png": "[encoded data removed]",
      "text/plain": [
       "<Figure size 432x288 with 1 Axes>"
      ]
     },
     "metadata": {},
     "output_type": "display_data"
    }
   ],
   "source": [
    "plt.plot(error,'o-')\n",
    "plt.plot(errw, 'o-')\n",
    "plt.axhline(y=errw_svd,color='red',linestyle='--') #erreur minimal\n",
    "plt.grid(True)\n",
    "plt.xticks(np.arange(1,20, step=2))\n",
    "plt.show() "
   ]
  },
  {
   "cell_type": "markdown",
   "id": "15d94b71",
   "metadata": {},
   "source": [
    "On observe qu'on a améliorer les prédictions en utilisant les poids pondérées du SVD.\n",
    "L'erreur de prédiction (courbe orange) est inférieur comparé à l'approche précédente (courbe bleu) environ entre 1 et 11 composantes. C'est le contraire après 11 composante."
   ]
  },
  {
   "cell_type": "markdown",
   "id": "5aec5f42",
   "metadata": {},
   "source": [
    "5] $\\underline{Solve \\; the \\; penalized \\; weighted \\; SVD \\; problem}$  \n",
    "$$\n",
    "\\min_{U,V} \\|M - UV^\\top\\|_W^2 + \\lambda \\|U\\|^2+ \\lambda \\|V\\|^2\n",
    "$$\n",
    "with $\\lambda = 5$ by implementing the penalised Alternating Least Square(ALS) described as follows:\n",
    "\n",
    "Initialize $U$ and $V$ with the SVD on the full matrix\n",
    "$$\n",
    "\\begin{array}{rl}\n",
    "loop &  \\\\\n",
    "&  \\text{compute } U \\text{ that } \\min_{U} \\|M - UV^\\top\\|_W^2 + \\lambda \\|U\\|^2 \\text{ with a fix } V \\\\\n",
    "&  \\text{compute } V \\text{ that }  \\min_{V} \\|M - UV^\\top\\|_W^2 + \\lambda \\|V\\|^2 \\text{ with a fix } U \n",
    "\\end{array}\n",
    "$$"
   ]
  },
  {
   "cell_type": "code",
   "execution_count": 34,
   "id": "1884b78f",
   "metadata": {
    "ExecuteTime": {
     "end_time": "2022-05-03T20:54:36.111313Z",
     "start_time": "2022-05-03T20:54:36.100343Z"
    }
   },
   "outputs": [],
   "source": [
    "n,p = Ma.shape"
   ]
  },
  {
   "cell_type": "code",
   "execution_count": 35,
   "id": "d940ad04",
   "metadata": {
    "ExecuteTime": {
     "end_time": "2022-05-03T20:59:06.234337Z",
     "start_time": "2022-05-03T20:54:42.564518Z"
    }
   },
   "outputs": [
    {
     "name": "stdout",
     "output_type": "stream",
     "text": [
      "0.9934952752073885\n",
      "0.8903911757206809\n",
      "0.8566065741303704\n",
      "0.8487650867166223\n",
      "0.8507088458796934\n",
      "0.8600472014707174\n",
      "0.8678796369821655\n",
      "0.865601319331941\n",
      "0.8793951604340611\n"
     ]
    }
   ],
   "source": [
    "kmax = 10 #deterministe\n",
    "lam = 5 #on fixe lambda=5 d'aprés l'énoncé\n",
    "err_als = np.zeros(kmax-1)\n",
    "for k in range(1,kmax):\n",
    "    I = np.eye(k)\n",
    "    erri = np.zeros((20+1,)) \n",
    "    U, D, Vt = scipy.sparse.linalg.svds(Ma_centre,k=k)\n",
    "    Vt = np.dot(np.diag(D), Vt)\n",
    "    \n",
    "    Merr = Mt_centre - MaskB.multiply(U@Vt)\n",
    "    erri[0] = np.sum(Merr.power(2))/nt \n",
    "    \n",
    "    for nb in range(0,20):\n",
    "        for j in range(0,p):\n",
    "            indj = MaskA[:,j].nonzero()[0]\n",
    "            Vt[:,j] = np.linalg.solve(U[indj,:].T@U[indj,:] + lam*I, U[indj,:].T@Ma_centre[indj,j]).T\n",
    "            \n",
    "        \n",
    "        \n",
    "        for i in range(0,n):\n",
    "            indi = MaskA[i,:].nonzero()[1]\n",
    "            U[i,:] = np.ndarray.flatten(np.linalg.solve(Vt[:,indi]@Vt[:,indi].T + lam*I, Vt[:,indi]@Ma_centre[i,indi].T))\n",
    "            \n",
    "    Merr = Mt_centre - MaskB.multiply(U@Vt)\n",
    "    erri[nb+1] = np.sum(Merr.power(2))/nt \n",
    "    print(erri[nb+1])\n",
    "    err_als[k-1] = erri[nb+1]"
   ]
  },
  {
   "cell_type": "code",
   "execution_count": 36,
   "id": "d910ac50",
   "metadata": {
    "ExecuteTime": {
     "end_time": "2022-05-03T20:59:09.229134Z",
     "start_time": "2022-05-03T20:59:09.212122Z"
    }
   },
   "outputs": [],
   "source": [
    "errw_svd2= min(err_als)\n",
    "#index_svd_bis2 = np.argmin(errw_svd2)"
   ]
  },
  {
   "cell_type": "code",
   "execution_count": 37,
   "id": "8fabdcbb",
   "metadata": {
    "ExecuteTime": {
     "end_time": "2022-05-03T20:59:09.683263Z",
     "start_time": "2022-05-03T20:59:09.676283Z"
    }
   },
   "outputs": [
    {
     "name": "stdout",
     "output_type": "stream",
     "text": [
      "L'erreur minimale obtenue est 0.8487650867166223\n"
     ]
    }
   ],
   "source": [
    "print(\"L'erreur minimale obtenue est \" + str(errw_svd2))"
   ]
  },
  {
   "cell_type": "code",
   "execution_count": 38,
   "id": "1a63d4ac",
   "metadata": {
    "ExecuteTime": {
     "end_time": "2022-05-03T20:59:11.472224Z",
     "start_time": "2022-05-03T20:59:11.341646Z"
    }
   },
   "outputs": [
    {
     "data": {
      "image/png": "[encoded data removed]",
      "text/plain": [
       "<Figure size 432x288 with 1 Axes>"
      ]
     },
     "metadata": {},
     "output_type": "display_data"
    }
   ],
   "source": [
    "plt.plot(error,'o-')\n",
    "plt.plot(errw, 'o-')\n",
    "plt.plot(err_als, 'o-')\n",
    "plt.axhline(y=errw_svd2,color='red',linestyle='--') #erreur minimale\n",
    "plt.grid(True)\n",
    "plt.xticks(np.arange(1,20, step=2))\n",
    "plt.show() "
   ]
  },
  {
   "cell_type": "markdown",
   "id": "8ce8e71d",
   "metadata": {},
   "source": [
    "Graphiquement , on observe qu'on a amélioré les prédictions en pénalisant le problème des poids pondérées du SVD. \n",
    "\n",
    "Parmi les 3 méthodes celui là est la meilleure pour évaluer la note d'évaluation que les utilisateurs peuvent donner aux films "
   ]
  }
 ],
 "metadata": {
  "kernelspec": {
   "display_name": "Python 3 (ipykernel)",
   "language": "python",
   "name": "python3"
  },
  "language_info": {
   "codemirror_mode": {
    "name": "ipython",
    "version": 3
   },
   "file_extension": ".py",
   "mimetype": "text/x-python",
   "name": "python",
   "nbconvert_exporter": "python",
   "pygments_lexer": "ipython3",
   "version": "3.9.12"
  },
  "nbTranslate": {
   "displayLangs": [
    "*"
   ],
   "hotkey": "alt-t",
   "langInMainMenu": true,
   "sourceLang": "en",
   "targetLang": "fr",
   "useGoogleTranslate": true
  },
  "toc": {
   "base_numbering": 1,
   "nav_menu": {},
   "number_sections": true,
   "sideBar": true,
   "skip_h1_title": false,
   "title_cell": "Table of Contents",
   "title_sidebar": "Contents",
   "toc_cell": false,
   "toc_position": {},
   "toc_section_display": true,
   "toc_window_display": false
  },
  "varInspector": {
   "cols": {
    "lenName": 16,
    "lenType": 16,
    "lenVar": 40
   },
   "kernels_config": {
    "python": {
     "delete_cmd_postfix": "",
     "delete_cmd_prefix": "del ",
     "library": "var_list.py",
     "varRefreshCmd": "print(var_dic_list())"
    },
    "r": {
     "delete_cmd_postfix": ") ",
     "delete_cmd_prefix": "rm(",
     "library": "var_list.r",
     "varRefreshCmd": "cat(var_dic_list()) "
    }
   },
   "types_to_exclude": [
    "module",
    "function",
    "builtin_function_or_method",
    "instance",
    "_Feature"
   ],
   "window_display": false
  }
 },
 "nbformat": 4,
 "nbformat_minor": 5
}
