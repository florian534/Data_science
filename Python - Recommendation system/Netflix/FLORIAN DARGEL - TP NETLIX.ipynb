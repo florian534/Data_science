{
 "cells": [
  {
   "cell_type": "markdown",
   "metadata": {},
   "source": [
    "$\\textbf{NOM PRENOM : DARGEL FLORIAN}$"
   ]
  },
  {
   "cell_type": "markdown",
   "metadata": {},
   "source": [
    "$\\textbf{TP NETFLIX}$"
   ]
  },
  {
   "cell_type": "markdown",
   "metadata": {},
   "source": [
    "## The netflix data set"
   ]
  },
  {
   "cell_type": "markdown",
   "metadata": {},
   "source": [
    "$\\textbf{a) What was the Netflix competition?}$\n",
    "\n",
    "\n",
    "\n",
    "Netflix a réalisé un concours ouvert pour le meilleur algorithme de filtrage collaboratif pour prédire les notes des utilisateurs pour les films, sur la base des notes précédentes sans aucune autre information sur les utilisateurs ou les films, c'est-à-dire sans que les utilisateurs soient identifiés sauf par des numéros attribués pour le concours.\n",
    "\n",
    "Le grand prix, d'un montant de 1 000 000 $, a été remporté par l'équipe Pragmatic Chaos de BellKor. Il s'agit du jeu de données utilisé dans le cadre de cette compétition."
   ]
  },
  {
   "cell_type": "markdown",
   "metadata": {},
   "source": [
    "$\\textbf{b) What is the score used to compare the models?}$ "
   ]
  },
  {
   "cell_type": "markdown",
   "metadata": {
    "ExecuteTime": {
     "end_time": "2022-05-15T11:01:43.602580Z",
     "start_time": "2022-05-15T11:01:43.582948Z"
    }
   },
   "source": [
    "Le score utilisé pour comparer les modèles est le $\\underline{RMSE \\; (Root \\; mean \\; square \\; error)}$. Cette metrique est\n",
    "utilisée pour évaluer la précision prédictive d'un modèle de régression. "
   ]
  },
  {
   "cell_type": "markdown",
   "metadata": {},
   "source": [
    "\n",
    "$\\textbf{b) download the Netflix training data and the probe set from moodle. Note that\n",
    "netflix_data_app.mat size is 232.1 Mo.}$"
   ]
  },
  {
   "cell_type": "markdown",
   "metadata": {},
   "source": [
    "Après avoir télécharger la base de donnée \"netflix_data_app.mat\" et \"netflix_data_probe.mat\", on les importe"
   ]
  },
  {
   "cell_type": "code",
   "execution_count": 1,
   "metadata": {
    "ExecuteTime": {
     "end_time": "2022-05-16T17:45:34.399322Z",
     "start_time": "2022-05-16T17:45:28.462772Z"
    }
   },
   "outputs": [],
   "source": [
    "import  numpy as np\n",
    "from  time  import  time\n",
    "from  scipy.sparse  import  csr_matrix\n",
    "from  scipy.linalg  import  svd\n",
    "from  scipy.sparse.linalg  import  svds\n",
    "import  scipy.io\n",
    "D = scipy.io.loadmat(\"netflix_data_app.mat\")\n",
    "P = scipy.io.loadmat(\"netflix_data_probe.mat\")"
   ]
  },
  {
   "cell_type": "markdown",
   "metadata": {},
   "source": [
    "$\\textbf{c) What is the size and the type of these data}$"
   ]
  },
  {
   "cell_type": "code",
   "execution_count": 2,
   "metadata": {
    "ExecuteTime": {
     "end_time": "2022-05-16T17:45:34.430749Z",
     "start_time": "2022-05-16T17:45:34.418040Z"
    }
   },
   "outputs": [
    {
     "name": "stdout",
     "output_type": "stream",
     "text": [
      "On affiche les informations de la data D :  {'__header__': b'MATLAB 5.0 MAT-file, Platform: GLNX86, Created on: Thu Jun  5 21:40:42 2008', '__version__': '1.0', '__globals__': [], 'netflix_data_app': <17770x480189 sparse matrix of type '<class 'numpy.float64'>'\n",
      "\twith 99072112 stored elements in Compressed Sparse Column format>}\n",
      "\n",
      " Le type de données de la data D :  <built-in method values of dict object at 0x00000288FF2A37E0>\n",
      "\n",
      " data length:4\n",
      "\n",
      " On affiche les informations de la data P :   {'__header__': b'MATLAB 5.0 MAT-file, Platform: GLNX86, Created on: Thu Jun  5 21:40:30 2008', '__version__': '1.0', '__globals__': [], 'netflix_data_probe': <17770x480189 sparse matrix of type '<class 'numpy.float64'>'\n",
      "\twith 1408395 stored elements in Compressed Sparse Column format>}\n",
      "\n",
      " Le type de données de la data P:   <built-in method values of dict object at 0x00000288FF2A3828>\n",
      "\n",
      " data length:4\n"
     ]
    }
   ],
   "source": [
    "print(\"On affiche les informations de la data D :  \" + str(D))\n",
    "print(\"\\n Le type de données de la data D :  \" + str(D.values))\n",
    "print(\"\\n data length:{}\".format(len(D)))\n",
    "print(\"\\n On affiche les informations de la data P :   \" + str(P))\n",
    "print(\"\\n Le type de données de la data P:   \" + str(P.values))\n",
    "print(\"\\n data length:{}\".format(len(P)))"
   ]
  },
  {
   "cell_type": "markdown",
   "metadata": {},
   "source": [
    "Le types de données D est un __dictionnaire__ en ayant 4 éléments clés qui sont :\n",
    "   \n",
    "       header \n",
    "       Platform\n",
    "       Created\n",
    "       __version__\n",
    "       __globals__\n",
    "       netflix_data_app \n",
    "       \n",
    "Le types de données P est un __dictionnaire__ en ayant 4 éléments clés qui sont :\n",
    "    \n",
    "       header \n",
    "       Platform\n",
    "       Created\n",
    "       __version__\n",
    "       __globals__\n",
    "       netflix_data_app \n",
    "    \n",
    "\n",
    "\n",
    "\n",
    "La taille du jeux de données 'netflix_data_app' et de \"netflix_data_probe\" est de  480189 lignes (utilisateurs) x 17770 colonnes (films) "
   ]
  },
  {
   "cell_type": "markdown",
   "metadata": {},
   "source": [
    "$\\textbf{Build the associated data matrices, and explain the following piece of code.}$"
   ]
  },
  {
   "cell_type": "code",
   "execution_count": 3,
   "metadata": {
    "ExecuteTime": {
     "end_time": "2022-05-16T17:45:36.673227Z",
     "start_time": "2022-05-16T17:45:36.634074Z"
    }
   },
   "outputs": [
    {
     "name": "stdout",
     "output_type": "stream",
     "text": [
      "Help on csc_matrix in module scipy.sparse.csc object:\n",
      "\n",
      "class csc_matrix(scipy.sparse.compressed._cs_matrix)\n",
      " |  Compressed Sparse Column matrix\n",
      " |  \n",
      " |  This can be instantiated in several ways:\n",
      " |  \n",
      " |      csc_matrix(D)\n",
      " |          with a dense matrix or rank-2 ndarray D\n",
      " |  \n",
      " |      csc_matrix(S)\n",
      " |          with another sparse matrix S (equivalent to S.tocsc())\n",
      " |  \n",
      " |      csc_matrix((M, N), [dtype])\n",
      " |          to construct an empty matrix with shape (M, N)\n",
      " |          dtype is optional, defaulting to dtype='d'.\n",
      " |  \n",
      " |      csc_matrix((data, (row_ind, col_ind)), [shape=(M, N)])\n",
      " |          where ``data``, ``row_ind`` and ``col_ind`` satisfy the\n",
      " |          relationship ``a[row_ind[k], col_ind[k]] = data[k]``.\n",
      " |  \n",
      " |      csc_matrix((data, indices, indptr), [shape=(M, N)])\n",
      " |          is the standard CSC representation where the row indices for\n",
      " |          column i are stored in ``indices[indptr[i]:indptr[i+1]]``\n",
      " |          and their corresponding values are stored in\n",
      " |          ``data[indptr[i]:indptr[i+1]]``.  If the shape parameter is\n",
      " |          not supplied, the matrix dimensions are inferred from\n",
      " |          the index arrays.\n",
      " |  \n",
      " |  Attributes\n",
      " |  ----------\n",
      " |  dtype : dtype\n",
      " |      Data type of the matrix\n",
      " |  shape : 2-tuple\n",
      " |      Shape of the matrix\n",
      " |  ndim : int\n",
      " |      Number of dimensions (this is always 2)\n",
      " |  nnz\n",
      " |      Number of stored values, including explicit zeros\n",
      " |  data\n",
      " |      Data array of the matrix\n",
      " |  indices\n",
      " |      CSC format index array\n",
      " |  indptr\n",
      " |      CSC format index pointer array\n",
      " |  has_sorted_indices\n",
      " |      Whether indices are sorted\n",
      " |  \n",
      " |  Notes\n",
      " |  -----\n",
      " |  \n",
      " |  Sparse matrices can be used in arithmetic operations: they support\n",
      " |  addition, subtraction, multiplication, division, and matrix power.\n",
      " |  \n",
      " |  Advantages of the CSC format\n",
      " |      - efficient arithmetic operations CSC + CSC, CSC * CSC, etc.\n",
      " |      - efficient column slicing\n",
      " |      - fast matrix vector products (CSR, BSR may be faster)\n",
      " |  \n",
      " |  Disadvantages of the CSC format\n",
      " |    - slow row slicing operations (consider CSR)\n",
      " |    - changes to the sparsity structure are expensive (consider LIL or DOK)\n",
      " |  \n",
      " |  \n",
      " |  Examples\n",
      " |  --------\n",
      " |  \n",
      " |  >>> import numpy as np\n",
      " |  >>> from scipy.sparse import csc_matrix\n",
      " |  >>> csc_matrix((3, 4), dtype=np.int8).toarray()\n",
      " |  array([[0, 0, 0, 0],\n",
      " |         [0, 0, 0, 0],\n",
      " |         [0, 0, 0, 0]], dtype=int8)\n",
      " |  \n",
      " |  >>> row = np.array([0, 2, 2, 0, 1, 2])\n",
      " |  >>> col = np.array([0, 0, 1, 2, 2, 2])\n",
      " |  >>> data = np.array([1, 2, 3, 4, 5, 6])\n",
      " |  >>> csc_matrix((data, (row, col)), shape=(3, 3)).toarray()\n",
      " |  array([[1, 0, 4],\n",
      " |         [0, 0, 5],\n",
      " |         [2, 3, 6]])\n",
      " |  \n",
      " |  >>> indptr = np.array([0, 2, 3, 6])\n",
      " |  >>> indices = np.array([0, 2, 2, 0, 1, 2])\n",
      " |  >>> data = np.array([1, 2, 3, 4, 5, 6])\n",
      " |  >>> csc_matrix((data, indices, indptr), shape=(3, 3)).toarray()\n",
      " |  array([[1, 0, 4],\n",
      " |         [0, 0, 5],\n",
      " |         [2, 3, 6]])\n",
      " |  \n",
      " |  Method resolution order:\n",
      " |      csc_matrix\n",
      " |      scipy.sparse.compressed._cs_matrix\n",
      " |      scipy.sparse.data._data_matrix\n",
      " |      scipy.sparse.base.spmatrix\n",
      " |      scipy.sparse.data._minmax_mixin\n",
      " |      scipy.sparse._index.IndexMixin\n",
      " |      builtins.object\n",
      " |  \n",
      " |  Methods defined here:\n",
      " |  \n",
      " |  __iter__(self)\n",
      " |  \n",
      " |  getcol(self, i)\n",
      " |      Returns a copy of column i of the matrix, as a (m x 1)\n",
      " |      CSC matrix (column vector).\n",
      " |  \n",
      " |  getrow(self, i)\n",
      " |      Returns a copy of row i of the matrix, as a (1 x n)\n",
      " |      CSR matrix (row vector).\n",
      " |  \n",
      " |  nonzero(self)\n",
      " |      nonzero indices\n",
      " |      \n",
      " |      Returns a tuple of arrays (row,col) containing the indices\n",
      " |      of the non-zero elements of the matrix.\n",
      " |      \n",
      " |      Examples\n",
      " |      --------\n",
      " |      >>> from scipy.sparse import csr_matrix\n",
      " |      >>> A = csr_matrix([[1,2,0],[0,0,3],[4,0,5]])\n",
      " |      >>> A.nonzero()\n",
      " |      (array([0, 0, 1, 2, 2]), array([0, 1, 2, 0, 2]))\n",
      " |  \n",
      " |  tocsc(self, copy=False)\n",
      " |      Convert this matrix to Compressed Sparse Column format.\n",
      " |      \n",
      " |      With copy=False, the data/indices may be shared between this matrix and\n",
      " |      the resultant csc_matrix.\n",
      " |  \n",
      " |  tocsr(self, copy=False)\n",
      " |      Convert this matrix to Compressed Sparse Row format.\n",
      " |      \n",
      " |      With copy=False, the data/indices may be shared between this matrix and\n",
      " |      the resultant csr_matrix.\n",
      " |  \n",
      " |  transpose(self, axes=None, copy=False)\n",
      " |      Reverses the dimensions of the sparse matrix.\n",
      " |      \n",
      " |      Parameters\n",
      " |      ----------\n",
      " |      axes : None, optional\n",
      " |          This argument is in the signature *solely* for NumPy\n",
      " |          compatibility reasons. Do not pass in anything except\n",
      " |          for the default value.\n",
      " |      copy : bool, optional\n",
      " |          Indicates whether or not attributes of `self` should be\n",
      " |          copied whenever possible. The degree to which attributes\n",
      " |          are copied varies depending on the type of sparse matrix\n",
      " |          being used.\n",
      " |      \n",
      " |      Returns\n",
      " |      -------\n",
      " |      p : `self` with the dimensions reversed.\n",
      " |      \n",
      " |      See Also\n",
      " |      --------\n",
      " |      numpy.matrix.transpose : NumPy's implementation of 'transpose'\n",
      " |                               for matrices\n",
      " |  \n",
      " |  ----------------------------------------------------------------------\n",
      " |  Data and other attributes defined here:\n",
      " |  \n",
      " |  format = 'csc'\n",
      " |  \n",
      " |  ----------------------------------------------------------------------\n",
      " |  Methods inherited from scipy.sparse.compressed._cs_matrix:\n",
      " |  \n",
      " |  __eq__(self, other)\n",
      " |      Return self==value.\n",
      " |  \n",
      " |  __ge__(self, other)\n",
      " |      Return self>=value.\n",
      " |  \n",
      " |  __gt__(self, other)\n",
      " |      Return self>value.\n",
      " |  \n",
      " |  __init__(self, arg1, shape=None, dtype=None, copy=False)\n",
      " |      Initialize self.  See help(type(self)) for accurate signature.\n",
      " |  \n",
      " |  __le__(self, other)\n",
      " |      Return self<=value.\n",
      " |  \n",
      " |  __lt__(self, other)\n",
      " |      Return self<value.\n",
      " |  \n",
      " |  __ne__(self, other)\n",
      " |      Return self!=value.\n",
      " |  \n",
      " |  check_format(self, full_check=True)\n",
      " |      check whether the matrix format is valid\n",
      " |      \n",
      " |      Parameters\n",
      " |      ----------\n",
      " |      full_check : bool, optional\n",
      " |          If `True`, rigorous check, O(N) operations. Otherwise\n",
      " |          basic check, O(1) operations (default True).\n",
      " |  \n",
      " |  diagonal(self, k=0)\n",
      " |      Returns the k-th diagonal of the matrix.\n",
      " |      \n",
      " |      Parameters\n",
      " |      ----------\n",
      " |      k : int, optional\n",
      " |          Which diagonal to get, corresponding to elements a[i, i+k].\n",
      " |          Default: 0 (the main diagonal).\n",
      " |      \n",
      " |          .. versionadded:: 1.0\n",
      " |      \n",
      " |      See also\n",
      " |      --------\n",
      " |      numpy.diagonal : Equivalent numpy function.\n",
      " |      \n",
      " |      Examples\n",
      " |      --------\n",
      " |      >>> from scipy.sparse import csr_matrix\n",
      " |      >>> A = csr_matrix([[1, 2, 0], [0, 0, 3], [4, 0, 5]])\n",
      " |      >>> A.diagonal()\n",
      " |      array([1, 0, 5])\n",
      " |      >>> A.diagonal(k=1)\n",
      " |      array([2, 3])\n",
      " |  \n",
      " |  eliminate_zeros(self)\n",
      " |      Remove zero entries from the matrix\n",
      " |      \n",
      " |      This is an *in place* operation\n",
      " |  \n",
      " |  getnnz(self, axis=None)\n",
      " |      Number of stored values, including explicit zeros.\n",
      " |      \n",
      " |      Parameters\n",
      " |      ----------\n",
      " |      axis : None, 0, or 1\n",
      " |          Select between the number of values across the whole matrix, in\n",
      " |          each column, or in each row.\n",
      " |      \n",
      " |      See also\n",
      " |      --------\n",
      " |      count_nonzero : Number of non-zero entries\n",
      " |  \n",
      " |  maximum(self, other)\n",
      " |      Element-wise maximum between this and another matrix.\n",
      " |  \n",
      " |  minimum(self, other)\n",
      " |      Element-wise minimum between this and another matrix.\n",
      " |  \n",
      " |  multiply(self, other)\n",
      " |      Point-wise multiplication by another matrix, vector, or\n",
      " |      scalar.\n",
      " |  \n",
      " |  prune(self)\n",
      " |      Remove empty space after all non-zero elements.\n",
      " |  \n",
      " |  resize(self, *shape)\n",
      " |      Resize the matrix in-place to dimensions given by ``shape``\n",
      " |      \n",
      " |      Any elements that lie within the new shape will remain at the same\n",
      " |      indices, while non-zero elements lying outside the new shape are\n",
      " |      removed.\n",
      " |      \n",
      " |      Parameters\n",
      " |      ----------\n",
      " |      shape : (int, int)\n",
      " |          number of rows and columns in the new matrix\n",
      " |      \n",
      " |      Notes\n",
      " |      -----\n",
      " |      The semantics are not identical to `numpy.ndarray.resize` or\n",
      " |      `numpy.resize`.  Here, the same data will be maintained at each index\n",
      " |      before and after reshape, if that index is within the new bounds.  In\n",
      " |      numpy, resizing maintains contiguity of the array, moving elements\n",
      " |      around in the logical matrix but not within a flattened representation.\n",
      " |      \n",
      " |      We give no guarantees about whether the underlying data attributes\n",
      " |      (arrays, etc.) will be modified in place or replaced with new objects.\n",
      " |  \n",
      " |  sort_indices(self)\n",
      " |      Sort the indices of this matrix *in place*\n",
      " |  \n",
      " |  sorted_indices(self)\n",
      " |      Return a copy of this matrix with sorted indices\n",
      " |  \n",
      " |  sum(self, axis=None, dtype=None, out=None)\n",
      " |      Sum the matrix elements over a given axis.\n",
      " |      \n",
      " |      Parameters\n",
      " |      ----------\n",
      " |      axis : {-2, -1, 0, 1, None} optional\n",
      " |          Axis along which the sum is computed. The default is to\n",
      " |          compute the sum of all the matrix elements, returning a scalar\n",
      " |          (i.e. `axis` = `None`).\n",
      " |      dtype : dtype, optional\n",
      " |          The type of the returned matrix and of the accumulator in which\n",
      " |          the elements are summed.  The dtype of `a` is used by default\n",
      " |          unless `a` has an integer dtype of less precision than the default\n",
      " |          platform integer.  In that case, if `a` is signed then the platform\n",
      " |          integer is used while if `a` is unsigned then an unsigned integer\n",
      " |          of the same precision as the platform integer is used.\n",
      " |      \n",
      " |          .. versionadded:: 0.18.0\n",
      " |      \n",
      " |      out : np.matrix, optional\n",
      " |          Alternative output matrix in which to place the result. It must\n",
      " |          have the same shape as the expected output, but the type of the\n",
      " |          output values will be cast if necessary.\n",
      " |      \n",
      " |          .. versionadded:: 0.18.0\n",
      " |      \n",
      " |      Returns\n",
      " |      -------\n",
      " |      sum_along_axis : np.matrix\n",
      " |          A matrix with the same shape as `self`, with the specified\n",
      " |          axis removed.\n",
      " |      \n",
      " |      See Also\n",
      " |      --------\n",
      " |      numpy.matrix.sum : NumPy's implementation of 'sum' for matrices\n",
      " |  \n",
      " |  sum_duplicates(self)\n",
      " |      Eliminate duplicate matrix entries by adding them together\n",
      " |      \n",
      " |      The is an *in place* operation\n",
      " |  \n",
      " |  toarray(self, order=None, out=None)\n",
      " |      Return a dense ndarray representation of this matrix.\n",
      " |      \n",
      " |      Parameters\n",
      " |      ----------\n",
      " |      order : {'C', 'F'}, optional\n",
      " |          Whether to store multi-dimensional data in C (row-major)\n",
      " |          or Fortran (column-major) order in memory. The default\n",
      " |          is 'None', indicating the NumPy default of C-ordered.\n",
      " |          Cannot be specified in conjunction with the `out`\n",
      " |          argument.\n",
      " |      \n",
      " |      out : ndarray, 2-dimensional, optional\n",
      " |          If specified, uses this array as the output buffer\n",
      " |          instead of allocating a new array to return. The provided\n",
      " |          array must have the same shape and dtype as the sparse\n",
      " |          matrix on which you are calling the method. For most\n",
      " |          sparse types, `out` is required to be memory contiguous\n",
      " |          (either C or Fortran ordered).\n",
      " |      \n",
      " |      Returns\n",
      " |      -------\n",
      " |      arr : ndarray, 2-dimensional\n",
      " |          An array with the same shape and containing the same\n",
      " |          data represented by the sparse matrix, with the requested\n",
      " |          memory order. If `out` was passed, the same object is\n",
      " |          returned after being modified in-place to contain the\n",
      " |          appropriate values.\n",
      " |  \n",
      " |  tocoo(self, copy=True)\n",
      " |      Convert this matrix to COOrdinate format.\n",
      " |      \n",
      " |      With copy=False, the data/indices may be shared between this matrix and\n",
      " |      the resultant coo_matrix.\n",
      " |  \n",
      " |  ----------------------------------------------------------------------\n",
      " |  Data descriptors inherited from scipy.sparse.compressed._cs_matrix:\n",
      " |  \n",
      " |  has_canonical_format\n",
      " |      Determine whether the matrix has sorted indices and no duplicates\n",
      " |      \n",
      " |      Returns\n",
      " |          - True: if the above applies\n",
      " |          - False: otherwise\n",
      " |      \n",
      " |      has_canonical_format implies has_sorted_indices, so if the latter flag\n",
      " |      is False, so will the former be; if the former is found True, the\n",
      " |      latter flag is also set.\n",
      " |  \n",
      " |  has_sorted_indices\n",
      " |      Determine whether the matrix has sorted indices\n",
      " |      \n",
      " |      Returns\n",
      " |          - True: if the indices of the matrix are in sorted order\n",
      " |          - False: otherwise\n",
      " |  \n",
      " |  ----------------------------------------------------------------------\n",
      " |  Data and other attributes inherited from scipy.sparse.compressed._cs_matrix:\n",
      " |  \n",
      " |  __hash__ = None\n",
      " |  \n",
      " |  ----------------------------------------------------------------------\n",
      " |  Methods inherited from scipy.sparse.data._data_matrix:\n",
      " |  \n",
      " |  __abs__(self)\n",
      " |  \n",
      " |  __imul__(self, other)\n",
      " |  \n",
      " |  __itruediv__(self, other)\n",
      " |  \n",
      " |  __neg__(self)\n",
      " |  \n",
      " |  __round__(self, ndigits=0)\n",
      " |  \n",
      " |  arcsin(self)\n",
      " |      Element-wise arcsin.\n",
      " |      \n",
      " |      See numpy.arcsin for more information.\n",
      " |  \n",
      " |  arcsinh(self)\n",
      " |      Element-wise arcsinh.\n",
      " |      \n",
      " |      See numpy.arcsinh for more information.\n",
      " |  \n",
      " |  arctan(self)\n",
      " |      Element-wise arctan.\n",
      " |      \n",
      " |      See numpy.arctan for more information.\n",
      " |  \n",
      " |  arctanh(self)\n",
      " |      Element-wise arctanh.\n",
      " |      \n",
      " |      See numpy.arctanh for more information.\n",
      " |  \n",
      " |  astype(self, dtype, casting='unsafe', copy=True)\n",
      " |      Cast the matrix elements to a specified type.\n",
      " |      \n",
      " |      Parameters\n",
      " |      ----------\n",
      " |      dtype : string or numpy dtype\n",
      " |          Typecode or data-type to which to cast the data.\n",
      " |      casting : {'no', 'equiv', 'safe', 'same_kind', 'unsafe'}, optional\n",
      " |          Controls what kind of data casting may occur.\n",
      " |          Defaults to 'unsafe' for backwards compatibility.\n",
      " |          'no' means the data types should not be cast at all.\n",
      " |          'equiv' means only byte-order changes are allowed.\n",
      " |          'safe' means only casts which can preserve values are allowed.\n",
      " |          'same_kind' means only safe casts or casts within a kind,\n",
      " |          like float64 to float32, are allowed.\n",
      " |          'unsafe' means any data conversions may be done.\n",
      " |      copy : bool, optional\n",
      " |          If `copy` is `False`, the result might share some memory with this\n",
      " |          matrix. If `copy` is `True`, it is guaranteed that the result and\n",
      " |          this matrix do not share any memory.\n",
      " |  \n",
      " |  ceil(self)\n",
      " |      Element-wise ceil.\n",
      " |      \n",
      " |      See numpy.ceil for more information.\n",
      " |  \n",
      " |  conj(self, copy=True)\n",
      " |      Element-wise complex conjugation.\n",
      " |      \n",
      " |      If the matrix is of non-complex data type and `copy` is False,\n",
      " |      this method does nothing and the data is not copied.\n",
      " |      \n",
      " |      Parameters\n",
      " |      ----------\n",
      " |      copy : bool, optional\n",
      " |          If True, the result is guaranteed to not share data with self.\n",
      " |      \n",
      " |      Returns\n",
      " |      -------\n",
      " |      A : The element-wise complex conjugate.\n",
      " |  \n",
      " |  copy(self)\n",
      " |      Returns a copy of this matrix.\n",
      " |      \n",
      " |      No data/indices will be shared between the returned value and current\n",
      " |      matrix.\n",
      " |  \n",
      " |  count_nonzero(self)\n",
      " |      Number of non-zero entries, equivalent to\n",
      " |      \n",
      " |      np.count_nonzero(a.toarray())\n",
      " |      \n",
      " |      Unlike getnnz() and the nnz property, which return the number of stored\n",
      " |      entries (the length of the data attribute), this method counts the\n",
      " |      actual number of non-zero entries in data.\n",
      " |  \n",
      " |  deg2rad(self)\n",
      " |      Element-wise deg2rad.\n",
      " |      \n",
      " |      See numpy.deg2rad for more information.\n",
      " |  \n",
      " |  expm1(self)\n",
      " |      Element-wise expm1.\n",
      " |      \n",
      " |      See numpy.expm1 for more information.\n",
      " |  \n",
      " |  floor(self)\n",
      " |      Element-wise floor.\n",
      " |      \n",
      " |      See numpy.floor for more information.\n",
      " |  \n",
      " |  log1p(self)\n",
      " |      Element-wise log1p.\n",
      " |      \n",
      " |      See numpy.log1p for more information.\n",
      " |  \n",
      " |  power(self, n, dtype=None)\n",
      " |      This function performs element-wise power.\n",
      " |      \n",
      " |      Parameters\n",
      " |      ----------\n",
      " |      n : n is a scalar\n",
      " |      \n",
      " |      dtype : If dtype is not specified, the current dtype will be preserved.\n",
      " |  \n",
      " |  rad2deg(self)\n",
      " |      Element-wise rad2deg.\n",
      " |      \n",
      " |      See numpy.rad2deg for more information.\n",
      " |  \n",
      " |  rint(self)\n",
      " |      Element-wise rint.\n",
      " |      \n",
      " |      See numpy.rint for more information.\n",
      " |  \n",
      " |  sign(self)\n",
      " |      Element-wise sign.\n",
      " |      \n",
      " |      See numpy.sign for more information.\n",
      " |  \n",
      " |  sin(self)\n",
      " |      Element-wise sin.\n",
      " |      \n",
      " |      See numpy.sin for more information.\n",
      " |  \n",
      " |  sinh(self)\n",
      " |      Element-wise sinh.\n",
      " |      \n",
      " |      See numpy.sinh for more information.\n",
      " |  \n",
      " |  sqrt(self)\n",
      " |      Element-wise sqrt.\n",
      " |      \n",
      " |      See numpy.sqrt for more information.\n",
      " |  \n",
      " |  tan(self)\n",
      " |      Element-wise tan.\n",
      " |      \n",
      " |      See numpy.tan for more information.\n",
      " |  \n",
      " |  tanh(self)\n",
      " |      Element-wise tanh.\n",
      " |      \n",
      " |      See numpy.tanh for more information.\n",
      " |  \n",
      " |  trunc(self)\n",
      " |      Element-wise trunc.\n",
      " |      \n",
      " |      See numpy.trunc for more information.\n",
      " |  \n",
      " |  ----------------------------------------------------------------------\n",
      " |  Data descriptors inherited from scipy.sparse.data._data_matrix:\n",
      " |  \n",
      " |  dtype\n",
      " |  \n",
      " |  ----------------------------------------------------------------------\n",
      " |  Methods inherited from scipy.sparse.base.spmatrix:\n",
      " |  \n",
      " |  __add__(self, other)\n",
      " |  \n",
      " |  __bool__(self)\n",
      " |  \n",
      " |  __div__(self, other)\n",
      " |  \n",
      " |  __getattr__(self, attr)\n",
      " |  \n",
      " |  __iadd__(self, other)\n",
      " |  \n",
      " |  __idiv__(self, other)\n",
      " |  \n",
      " |  __isub__(self, other)\n",
      " |  \n",
      " |  __len__(self)\n",
      " |      # What should len(sparse) return? For consistency with dense matrices,\n",
      " |      # perhaps it should be the number of rows?  But for some uses the number of\n",
      " |      # non-zeros is more important.  For now, raise an exception!\n",
      " |  \n",
      " |  __matmul__(self, other)\n",
      " |  \n",
      " |  __mul__(self, other)\n",
      " |      interpret other and call one of the following\n",
      " |      \n",
      " |      self._mul_scalar()\n",
      " |      self._mul_vector()\n",
      " |      self._mul_multivector()\n",
      " |      self._mul_sparse_matrix()\n",
      " |  \n",
      " |  __nonzero__ = __bool__(self)\n",
      " |  \n",
      " |  __pow__(self, other)\n",
      " |  \n",
      " |  __radd__(self, other)\n",
      " |  \n",
      " |  __rdiv__(self, other)\n",
      " |  \n",
      " |  __repr__(self)\n",
      " |      Return repr(self).\n",
      " |  \n",
      " |  __rmatmul__(self, other)\n",
      " |  \n",
      " |  __rmul__(self, other)\n",
      " |  \n",
      " |  __rsub__(self, other)\n",
      " |  \n",
      " |  __rtruediv__(self, other)\n",
      " |  \n",
      " |  __str__(self)\n",
      " |      Return str(self).\n",
      " |  \n",
      " |  __sub__(self, other)\n",
      " |  \n",
      " |  __truediv__(self, other)\n",
      " |  \n",
      " |  asformat(self, format, copy=False)\n",
      " |      Return this matrix in the passed format.\n",
      " |      \n",
      " |      Parameters\n",
      " |      ----------\n",
      " |      format : {str, None}\n",
      " |          The desired matrix format (\"csr\", \"csc\", \"lil\", \"dok\", \"array\", ...)\n",
      " |          or None for no conversion.\n",
      " |      copy : bool, optional\n",
      " |          If True, the result is guaranteed to not share data with self.\n",
      " |      \n",
      " |      Returns\n",
      " |      -------\n",
      " |      A : This matrix in the passed format.\n",
      " |  \n",
      " |  asfptype(self)\n",
      " |      Upcast matrix to a floating point format (if necessary)\n",
      " |  \n",
      " |  conjugate(self, copy=True)\n",
      " |      Element-wise complex conjugation.\n",
      " |      \n",
      " |      If the matrix is of non-complex data type and `copy` is False,\n",
      " |      this method does nothing and the data is not copied.\n",
      " |      \n",
      " |      Parameters\n",
      " |      ----------\n",
      " |      copy : bool, optional\n",
      " |          If True, the result is guaranteed to not share data with self.\n",
      " |      \n",
      " |      Returns\n",
      " |      -------\n",
      " |      A : The element-wise complex conjugate.\n",
      " |  \n",
      " |  dot(self, other)\n",
      " |      Ordinary dot product\n",
      " |      \n",
      " |      Examples\n",
      " |      --------\n",
      " |      >>> import numpy as np\n",
      " |      >>> from scipy.sparse import csr_matrix\n",
      " |      >>> A = csr_matrix([[1, 2, 0], [0, 0, 3], [4, 0, 5]])\n",
      " |      >>> v = np.array([1, 0, -1])\n",
      " |      >>> A.dot(v)\n",
      " |      array([ 1, -3, -1], dtype=int64)\n",
      " |  \n",
      " |  getH(self)\n",
      " |      Return the Hermitian transpose of this matrix.\n",
      " |      \n",
      " |      See Also\n",
      " |      --------\n",
      " |      numpy.matrix.getH : NumPy's implementation of `getH` for matrices\n",
      " |  \n",
      " |  get_shape(self)\n",
      " |      Get shape of a matrix.\n",
      " |  \n",
      " |  getformat(self)\n",
      " |      Format of a matrix representation as a string.\n",
      " |  \n",
      " |  getmaxprint(self)\n",
      " |      Maximum number of elements to display when printed.\n",
      " |  \n",
      " |  mean(self, axis=None, dtype=None, out=None)\n",
      " |      Compute the arithmetic mean along the specified axis.\n",
      " |      \n",
      " |      Returns the average of the matrix elements. The average is taken\n",
      " |      over all elements in the matrix by default, otherwise over the\n",
      " |      specified axis. `float64` intermediate and return values are used\n",
      " |      for integer inputs.\n",
      " |      \n",
      " |      Parameters\n",
      " |      ----------\n",
      " |      axis : {-2, -1, 0, 1, None} optional\n",
      " |          Axis along which the mean is computed. The default is to compute\n",
      " |          the mean of all elements in the matrix (i.e. `axis` = `None`).\n",
      " |      dtype : data-type, optional\n",
      " |          Type to use in computing the mean. For integer inputs, the default\n",
      " |          is `float64`; for floating point inputs, it is the same as the\n",
      " |          input dtype.\n",
      " |      \n",
      " |          .. versionadded:: 0.18.0\n",
      " |      \n",
      " |      out : np.matrix, optional\n",
      " |          Alternative output matrix in which to place the result. It must\n",
      " |          have the same shape as the expected output, but the type of the\n",
      " |          output values will be cast if necessary.\n",
      " |      \n",
      " |          .. versionadded:: 0.18.0\n",
      " |      \n",
      " |      Returns\n",
      " |      -------\n",
      " |      m : np.matrix\n",
      " |      \n",
      " |      See Also\n",
      " |      --------\n",
      " |      numpy.matrix.mean : NumPy's implementation of 'mean' for matrices\n",
      " |  \n",
      " |  reshape(self, *args, **kwargs)\n",
      " |      reshape(self, shape, order='C', copy=False)\n",
      " |      \n",
      " |      Gives a new shape to a sparse matrix without changing its data.\n",
      " |      \n",
      " |      Parameters\n",
      " |      ----------\n",
      " |      shape : length-2 tuple of ints\n",
      " |          The new shape should be compatible with the original shape.\n",
      " |      order : {'C', 'F'}, optional\n",
      " |          Read the elements using this index order. 'C' means to read and\n",
      " |          write the elements using C-like index order; e.g. read entire first\n",
      " |          row, then second row, etc. 'F' means to read and write the elements\n",
      " |          using Fortran-like index order; e.g. read entire first column, then\n",
      " |          second column, etc.\n",
      " |      copy : bool, optional\n",
      " |          Indicates whether or not attributes of self should be copied\n",
      " |          whenever possible. The degree to which attributes are copied varies\n",
      " |          depending on the type of sparse matrix being used.\n",
      " |      \n",
      " |      Returns\n",
      " |      -------\n",
      " |      reshaped_matrix : sparse matrix\n",
      " |          A sparse matrix with the given `shape`, not necessarily of the same\n",
      " |          format as the current object.\n",
      " |      \n",
      " |      See Also\n",
      " |      --------\n",
      " |      numpy.matrix.reshape : NumPy's implementation of 'reshape' for\n",
      " |                             matrices\n",
      " |  \n",
      " |  set_shape(self, shape)\n",
      " |      See `reshape`.\n",
      " |  \n",
      " |  setdiag(self, values, k=0)\n",
      " |      Set diagonal or off-diagonal elements of the array.\n",
      " |      \n",
      " |      Parameters\n",
      " |      ----------\n",
      " |      values : array_like\n",
      " |          New values of the diagonal elements.\n",
      " |      \n",
      " |          Values may have any length.  If the diagonal is longer than values,\n",
      " |          then the remaining diagonal entries will not be set.  If values if\n",
      " |          longer than the diagonal, then the remaining values are ignored.\n",
      " |      \n",
      " |          If a scalar value is given, all of the diagonal is set to it.\n",
      " |      \n",
      " |      k : int, optional\n",
      " |          Which off-diagonal to set, corresponding to elements a[i,i+k].\n",
      " |          Default: 0 (the main diagonal).\n",
      " |  \n",
      " |  tobsr(self, blocksize=None, copy=False)\n",
      " |      Convert this matrix to Block Sparse Row format.\n",
      " |      \n",
      " |      With copy=False, the data/indices may be shared between this matrix and\n",
      " |      the resultant bsr_matrix.\n",
      " |      \n",
      " |      When blocksize=(R, C) is provided, it will be used for construction of\n",
      " |      the bsr_matrix.\n",
      " |  \n",
      " |  todense(self, order=None, out=None)\n",
      " |      Return a dense matrix representation of this matrix.\n",
      " |      \n",
      " |      Parameters\n",
      " |      ----------\n",
      " |      order : {'C', 'F'}, optional\n",
      " |          Whether to store multi-dimensional data in C (row-major)\n",
      " |          or Fortran (column-major) order in memory. The default\n",
      " |          is 'None', indicating the NumPy default of C-ordered.\n",
      " |          Cannot be specified in conjunction with the `out`\n",
      " |          argument.\n",
      " |      \n",
      " |      out : ndarray, 2-dimensional, optional\n",
      " |          If specified, uses this array (or `numpy.matrix`) as the\n",
      " |          output buffer instead of allocating a new array to\n",
      " |          return. The provided array must have the same shape and\n",
      " |          dtype as the sparse matrix on which you are calling the\n",
      " |          method.\n",
      " |      \n",
      " |      Returns\n",
      " |      -------\n",
      " |      arr : numpy.matrix, 2-dimensional\n",
      " |          A NumPy matrix object with the same shape and containing\n",
      " |          the same data represented by the sparse matrix, with the\n",
      " |          requested memory order. If `out` was passed and was an\n",
      " |          array (rather than a `numpy.matrix`), it will be filled\n",
      " |          with the appropriate values and returned wrapped in a\n",
      " |          `numpy.matrix` object that shares the same memory.\n",
      " |  \n",
      " |  todia(self, copy=False)\n",
      " |      Convert this matrix to sparse DIAgonal format.\n",
      " |      \n",
      " |      With copy=False, the data/indices may be shared between this matrix and\n",
      " |      the resultant dia_matrix.\n",
      " |  \n",
      " |  todok(self, copy=False)\n",
      " |      Convert this matrix to Dictionary Of Keys format.\n",
      " |      \n",
      " |      With copy=False, the data/indices may be shared between this matrix and\n",
      " |      the resultant dok_matrix.\n",
      " |  \n",
      " |  tolil(self, copy=False)\n",
      " |      Convert this matrix to List of Lists format.\n",
      " |      \n",
      " |      With copy=False, the data/indices may be shared between this matrix and\n",
      " |      the resultant lil_matrix.\n",
      " |  \n",
      " |  ----------------------------------------------------------------------\n",
      " |  Data descriptors inherited from scipy.sparse.base.spmatrix:\n",
      " |  \n",
      " |  __dict__\n",
      " |      dictionary for instance variables (if defined)\n",
      " |  \n",
      " |  __weakref__\n",
      " |      list of weak references to the object (if defined)\n",
      " |  \n",
      " |  nnz\n",
      " |      Number of stored values, including explicit zeros.\n",
      " |      \n",
      " |      See also\n",
      " |      --------\n",
      " |      count_nonzero : Number of non-zero entries\n",
      " |  \n",
      " |  shape\n",
      " |      Get shape of a matrix.\n",
      " |  \n",
      " |  ----------------------------------------------------------------------\n",
      " |  Data and other attributes inherited from scipy.sparse.base.spmatrix:\n",
      " |  \n",
      " |  __array_priority__ = 10.1\n",
      " |  \n",
      " |  ndim = 2\n",
      " |  \n",
      " |  ----------------------------------------------------------------------\n",
      " |  Methods inherited from scipy.sparse.data._minmax_mixin:\n",
      " |  \n",
      " |  argmax(self, axis=None, out=None)\n",
      " |      Return indices of maximum elements along an axis.\n",
      " |      \n",
      " |      Implicit zero elements are also taken into account. If there are\n",
      " |      several maximum values, the index of the first occurrence is returned.\n",
      " |      \n",
      " |      Parameters\n",
      " |      ----------\n",
      " |      axis : {-2, -1, 0, 1, None}, optional\n",
      " |          Axis along which the argmax is computed. If None (default), index\n",
      " |          of the maximum element in the flatten data is returned.\n",
      " |      out : None, optional\n",
      " |          This argument is in the signature *solely* for NumPy\n",
      " |          compatibility reasons. Do not pass in anything except for\n",
      " |          the default value, as this argument is not used.\n",
      " |      \n",
      " |      Returns\n",
      " |      -------\n",
      " |      ind : numpy.matrix or int\n",
      " |          Indices of maximum elements. If matrix, its size along `axis` is 1.\n",
      " |  \n",
      " |  argmin(self, axis=None, out=None)\n",
      " |      Return indices of minimum elements along an axis.\n",
      " |      \n",
      " |      Implicit zero elements are also taken into account. If there are\n",
      " |      several minimum values, the index of the first occurrence is returned.\n",
      " |      \n",
      " |      Parameters\n",
      " |      ----------\n",
      " |      axis : {-2, -1, 0, 1, None}, optional\n",
      " |          Axis along which the argmin is computed. If None (default), index\n",
      " |          of the minimum element in the flatten data is returned.\n",
      " |      out : None, optional\n",
      " |          This argument is in the signature *solely* for NumPy\n",
      " |          compatibility reasons. Do not pass in anything except for\n",
      " |          the default value, as this argument is not used.\n",
      " |      \n",
      " |      Returns\n",
      " |      -------\n",
      " |       ind : numpy.matrix or int\n",
      " |          Indices of minimum elements. If matrix, its size along `axis` is 1.\n",
      " |  \n",
      " |  max(self, axis=None, out=None)\n",
      " |      Return the maximum of the matrix or maximum along an axis.\n",
      " |      This takes all elements into account, not just the non-zero ones.\n",
      " |      \n",
      " |      Parameters\n",
      " |      ----------\n",
      " |      axis : {-2, -1, 0, 1, None} optional\n",
      " |          Axis along which the sum is computed. The default is to\n",
      " |          compute the maximum over all the matrix elements, returning\n",
      " |          a scalar (i.e. `axis` = `None`).\n",
      " |      \n",
      " |      out : None, optional\n",
      " |          This argument is in the signature *solely* for NumPy\n",
      " |          compatibility reasons. Do not pass in anything except\n",
      " |          for the default value, as this argument is not used.\n",
      " |      \n",
      " |      Returns\n",
      " |      -------\n",
      " |      amax : coo_matrix or scalar\n",
      " |          Maximum of `a`. If `axis` is None, the result is a scalar value.\n",
      " |          If `axis` is given, the result is a sparse.coo_matrix of dimension\n",
      " |          ``a.ndim - 1``.\n",
      " |      \n",
      " |      See Also\n",
      " |      --------\n",
      " |      min : The minimum value of a sparse matrix along a given axis.\n",
      " |      numpy.matrix.max : NumPy's implementation of 'max' for matrices\n",
      " |  \n",
      " |  min(self, axis=None, out=None)\n",
      " |      Return the minimum of the matrix or maximum along an axis.\n",
      " |      This takes all elements into account, not just the non-zero ones.\n",
      " |      \n",
      " |      Parameters\n",
      " |      ----------\n",
      " |      axis : {-2, -1, 0, 1, None} optional\n",
      " |          Axis along which the sum is computed. The default is to\n",
      " |          compute the minimum over all the matrix elements, returning\n",
      " |          a scalar (i.e. `axis` = `None`).\n",
      " |      \n",
      " |      out : None, optional\n",
      " |          This argument is in the signature *solely* for NumPy\n",
      " |          compatibility reasons. Do not pass in anything except for\n",
      " |          the default value, as this argument is not used.\n",
      " |      \n",
      " |      Returns\n",
      " |      -------\n",
      " |      amin : coo_matrix or scalar\n",
      " |          Minimum of `a`. If `axis` is None, the result is a scalar value.\n",
      " |          If `axis` is given, the result is a sparse.coo_matrix of dimension\n",
      " |          ``a.ndim - 1``.\n",
      " |      \n",
      " |      See Also\n",
      " |      --------\n",
      " |      max : The maximum value of a sparse matrix along a given axis.\n",
      " |      numpy.matrix.min : NumPy's implementation of 'min' for matrices\n",
      " |  \n",
      " |  ----------------------------------------------------------------------\n",
      " |  Methods inherited from scipy.sparse._index.IndexMixin:\n",
      " |  \n",
      " |  __getitem__(self, key)\n",
      " |  \n",
      " |  __setitem__(self, key, x)\n",
      "\n"
     ]
    }
   ],
   "source": [
    "M = D[\"netflix_data_app\"]\n",
    "Mt = P[\"netflix_data_probe\"]\n",
    "help(M)"
   ]
  },
  {
   "cell_type": "markdown",
   "metadata": {},
   "source": [
    "Pour la variable M, on sélectionne l'élement clé qui nous interesse dans le dictionnaire D c'est à dire \"netlix_data_app\" qui est la matrice sparse.\n",
    "\n",
    "Pour la variable Mt, on sélectionne l'élement clé qui nous interesse dans le dictionnaire D c'est à dire \"netlix_data_probe\" qui est la matrice sparse."
   ]
  },
  {
   "cell_type": "code",
   "execution_count": 4,
   "metadata": {
    "ExecuteTime": {
     "end_time": "2022-05-16T17:45:40.049231Z",
     "start_time": "2022-05-16T17:45:40.027288Z"
    },
    "scrolled": true
   },
   "outputs": [
    {
     "data": {
      "text/plain": [
       "scipy.sparse.csc.csc_matrix"
      ]
     },
     "execution_count": 4,
     "metadata": {},
     "output_type": "execute_result"
    }
   ],
   "source": [
    "M.__class__"
   ]
  },
  {
   "cell_type": "markdown",
   "metadata": {},
   "source": [
    "## Pre process the data:\n",
    "\n",
    "__a) Compute RMSE the root mean squared error (RMSE) on the probe set by predicting\n",
    "missing values by the global mean of the training data, that is:__\n",
    "\n",
    "$RMSE = \\sqrt{\\frac{1}{n_t} \\sum_{u,m;M_t(u,m) \\ne 0} (M_t (u,m) - \\mu)^2} $\n",
    "\n",
    "__How long does it takes to compute this error?__"
   ]
  },
  {
   "cell_type": "code",
   "execution_count": 5,
   "metadata": {
    "ExecuteTime": {
     "end_time": "2022-05-16T17:45:44.255205Z",
     "start_time": "2022-05-16T17:45:43.029437Z"
    }
   },
   "outputs": [
    {
     "name": "stdout",
     "output_type": "stream",
     "text": [
      "Le temps  de  calcul est de 0.7848715782165527 secondes\n",
      "L'erreur de RMSE est de 1.129623468965339\n"
     ]
    }
   ],
   "source": [
    "Mask = (M >.5) #Filtre valeur non nul sur la matrice apprentissage\n",
    "Maskt = (Mt >.5) #Filtre valeur non nul sur la matrice test \n",
    "\n",
    "t0 = time()\n",
    "moy = M.sum()/(M >.5).sum() #n=(M>.5).sum(), on prend le nombre d'element non nul dans la matrice M \n",
    "nt = np.sum(Mt >.5) #On compte le nombre de valeur non nul dans la matrice Mt \n",
    "Mt = Mt - moy*Maskt #soustrait par la moyenne \n",
    "err0 = np.sqrt(np.sum(Mt.power (2)) / nt) #calcul RMSE\n",
    "t1 = time()\n",
    "print(\"Le temps  de  calcul est de \" + str(t1 - t0 ) + \" secondes\")\n",
    "print(\"L'erreur de RMSE est de \" + str(err0))"
   ]
  },
  {
   "cell_type": "markdown",
   "metadata": {},
   "source": [
    "Le temps de calcul est très rapide."
   ]
  },
  {
   "cell_type": "markdown",
   "metadata": {},
   "source": [
    "__b) La moyenne sur les films__ "
   ]
  },
  {
   "cell_type": "code",
   "execution_count": 6,
   "metadata": {
    "ExecuteTime": {
     "end_time": "2022-05-16T17:45:48.620634Z",
     "start_time": "2022-05-16T17:45:46.641153Z"
    }
   },
   "outputs": [
    {
     "name": "stdout",
     "output_type": "stream",
     "text": [
      "Le temps  de  calcul est de 1.9674785137176514 secondes\n",
      "L'erreur de RMSE est de 1.0528157616564056\n"
     ]
    }
   ],
   "source": [
    "t0 = time()\n",
    "M = M - Mask*moy\n",
    "moy_films = M.sum(axis=1) / Mask.sum(axis=1)\n",
    "Mt = Mt - Maskt.multiply(moy_films)\n",
    "err1 = np.sqrt(np.sum(Mt.power (2)) / nt )\n",
    "t1 = time()\n",
    "print(\"Le temps  de  calcul est de \" + str(t1 - t0 ) + \" secondes\")\n",
    "print(\"L'erreur de RMSE est de \" + str(err1))"
   ]
  },
  {
   "cell_type": "markdown",
   "metadata": {},
   "source": [
    "Cette méthode nous a permi de réduire l'erreur RMSE. Le temps de calcul est légerement plus lent."
   ]
  },
  {
   "cell_type": "markdown",
   "metadata": {},
   "source": [
    "__c) la moyenne sur les utilisateurs__"
   ]
  },
  {
   "cell_type": "code",
   "execution_count": 7,
   "metadata": {
    "ExecuteTime": {
     "end_time": "2022-05-16T17:45:57.207757Z",
     "start_time": "2022-05-16T17:45:52.168106Z"
    }
   },
   "outputs": [
    {
     "name": "stdout",
     "output_type": "stream",
     "text": [
      "Le temps  de  calcul est de 5.021445989608765 secondes\n",
      "L'erreur de RMSE est de 0.9889584894704768\n"
     ]
    }
   ],
   "source": [
    "t0 = time()\n",
    "M = M - Mask.multiply(moy_films)\n",
    "Moy_utilisateur = M.sum(axis=0) / Mask.sum(axis=0)\n",
    "Mt = Mt - Maskt.multiply(Moy_utilisateur)\n",
    "err2 = np.sqrt(np.sum(Mt.power (2)) / nt )\n",
    "t1 = time()\n",
    "print(\"Le temps  de  calcul est de \" + str(t1 - t0 ) + \" secondes\")\n",
    "print(\"L'erreur de RMSE est de \" + str(err2))"
   ]
  },
  {
   "cell_type": "markdown",
   "metadata": {},
   "source": [
    "Cette méthode nous a permi de réduire encore l'erreur du RMSE. Le temps de calcul est légerement plus lent."
   ]
  },
  {
   "cell_type": "markdown",
   "metadata": {},
   "source": [
    "## Recommend using SVD"
   ]
  },
  {
   "cell_type": "code",
   "execution_count": 8,
   "metadata": {
    "ExecuteTime": {
     "end_time": "2022-05-16T17:46:03.580400Z",
     "start_time": "2022-05-16T17:46:00.490061Z"
    }
   },
   "outputs": [],
   "source": [
    "M = M - (M>0).multiply(Moy_utilisateur)"
   ]
  },
  {
   "cell_type": "markdown",
   "metadata": {},
   "source": [
    "On choisit notre nouvelle matrice M (soustrait par moyenne globale, films et utilisateurs)"
   ]
  },
  {
   "cell_type": "markdown",
   "metadata": {},
   "source": [
    "__a) Assuming the optimal number of factor to take into account is smaller than 100, as\n",
    "a first step of a SVD based recommender system, factorize the residual score matrix\n",
    "using the SVD. How long does it takes?__"
   ]
  },
  {
   "cell_type": "markdown",
   "metadata": {},
   "source": [
    "En supposant que le nombre optimal de facteur est inférieur à 100, nous allons prendre un nombre compris entre 1 et 99, prenons par exemple 50"
   ]
  },
  {
   "cell_type": "code",
   "execution_count": 9,
   "metadata": {
    "ExecuteTime": {
     "end_time": "2022-05-16T17:47:20.835300Z",
     "start_time": "2022-05-16T17:46:05.717395Z"
    }
   },
   "outputs": [
    {
     "name": "stdout",
     "output_type": "stream",
     "text": [
      "Wall time: 1min 15s\n"
     ]
    }
   ],
   "source": [
    "%%time\n",
    "from scipy.sparse.linalg import svds\n",
    "U,D,Vt = svds(M, k=50) #on fait la décomposition SVD, on choisit k=50 "
   ]
  },
  {
   "cell_type": "markdown",
   "metadata": {},
   "source": [
    "Le calcul prend 1 minute et 29 seconde"
   ]
  },
  {
   "cell_type": "markdown",
   "metadata": {},
   "source": [
    "__b) Explain what does this piece of code do.__"
   ]
  },
  {
   "cell_type": "code",
   "execution_count": 10,
   "metadata": {
    "ExecuteTime": {
     "end_time": "2022-05-15T18:40:59.296464Z",
     "start_time": "2022-05-15T18:40:59.286488Z"
    }
   },
   "outputs": [],
   "source": [
    "from numpy . random import default_rng #c'est pour fixer l'aléatoire \n",
    "nibis = 3\n",
    "kbis = 8\n",
    "rngbis = default_rng ()\n",
    "Ubis = rngbis. standard_normal ((nibis ,kbis))#La matrice Ubis : Tire des échantillons d'une distribution normale standard (moyenne=3, stdev=8).\n",
    "Vtbis = rngbis. standard_normal ((kbis ,1)) #La matrice Vbis: Tire des échantillons d'une distribution normale standard (moyenne=8, stdev=1).\n",
    "Pbis = Ubis*Vtbis.T #On ne fait pas le calcul matriciel on fait le produit terme à terme / 3 films noté par 8 utilisateurs\n",
    "predictionbis = np.cumsum(Pbis ,1) #On fait la sommme ligne par ligne\n",
    "targetbis = np.array ([[0] ,[0] ,[0]])\n",
    "errbis =np.sum ((predictionbis - targetbis )**2 ,0)"
   ]
  },
  {
   "cell_type": "markdown",
   "metadata": {},
   "source": [
    "Prenons un exemple pour expliquer cette partie du code avec $n_i$=2 (lignes) et $k$=3 (colonnes)\n",
    "\n",
    "On a la matrice U \\begin{pmatrix}\n",
    "a & b & c\\\\\n",
    "d & e & f\n",
    "\\end{pmatrix}\n",
    "\n",
    "On a la matrice V \\begin{pmatrix}\n",
    "g & h & i\n",
    "\\end{pmatrix}\n",
    "\n",
    "On fait le produit terme à terme c'est à dire U * V.T, ce qui donne \\begin{pmatrix}\n",
    "ag & bh & ci \\\\\n",
    "dg & eh & fi \n",
    "\\end{pmatrix}\n",
    "\n",
    "On fait ensuite la somme ligne par ligne, ce qui nous donne pour les predictions\\begin{pmatrix}\n",
    "ag & ag + bh & ag + bh + ci \\\\\n",
    "dg & dg + eh & dg + eh + fi \n",
    "\\end{pmatrix}"
   ]
  },
  {
   "cell_type": "markdown",
   "metadata": {},
   "source": [
    "__c) In one loop, predict the missing test values using the SVD with an increasing number\n",
    "of component and compute the associated RMSE, that is when the prediction is given\n",
    "by__\n",
    "\n",
    "$P(m,u) = \\sum_{k=1}^{n_k} U(u,k)V(m,k) + \\mu + \\mu_m + \\mu_u$"
   ]
  },
  {
   "cell_type": "markdown",
   "metadata": {},
   "source": [
    "On met dans l'ordre décroissant les valeurs singuliere U et Vt (pour un meilleur temps de calcul)"
   ]
  },
  {
   "cell_type": "code",
   "execution_count": 10,
   "metadata": {
    "ExecuteTime": {
     "end_time": "2022-05-16T17:47:22.971871Z",
     "start_time": "2022-05-16T17:47:22.818919Z"
    }
   },
   "outputs": [],
   "source": [
    "Vt = np.dot(np.diag(D),Vt) #Produit des 2 matrices D et Vt que l'on nomme Vt\n",
    "U = U[:, ::-1] #Ordre décroissant la matrice U\n",
    "Vt = Vt[::-1, :] #Ordre décroissant la matrice Vt"
   ]
  },
  {
   "cell_type": "code",
   "execution_count": 11,
   "metadata": {
    "ExecuteTime": {
     "end_time": "2022-05-16T17:47:25.233960Z",
     "start_time": "2022-05-16T17:47:24.987119Z"
    }
   },
   "outputs": [],
   "source": [
    "Mmin = M.min() #On prend la valeur minimale de la matrice M\n",
    "Mmax = M.max() #On prend la valeur maximale de la matrice M"
   ]
  },
  {
   "cell_type": "code",
   "execution_count": 12,
   "metadata": {
    "ExecuteTime": {
     "end_time": "2022-05-16T17:50:43.596763Z",
     "start_time": "2022-05-16T17:47:27.121381Z"
    }
   },
   "outputs": [
    {
     "name": "stdout",
     "output_type": "stream",
     "text": [
      "10000 users done\n",
      "20000 users done\n",
      "30000 users done\n",
      "40000 users done\n",
      "50000 users done\n",
      "60000 users done\n",
      "70000 users done\n",
      "80000 users done\n",
      "90000 users done\n",
      "100000 users done\n",
      "110000 users done\n",
      "120000 users done\n",
      "130000 users done\n",
      "140000 users done\n",
      "150000 users done\n",
      "160000 users done\n",
      "170000 users done\n",
      "180000 users done\n",
      "190000 users done\n",
      "200000 users done\n",
      "210000 users done\n",
      "220000 users done\n",
      "230000 users done\n",
      "240000 users done\n",
      "250000 users done\n",
      "260000 users done\n",
      "270000 users done\n",
      "280000 users done\n",
      "290000 users done\n",
      "300000 users done\n",
      "310000 users done\n",
      "320000 users done\n",
      "330000 users done\n",
      "340000 users done\n",
      "350000 users done\n",
      "360000 users done\n",
      "370000 users done\n",
      "380000 users done\n",
      "390000 users done\n",
      "400000 users done\n",
      "410000 users done\n",
      "420000 users done\n",
      "430000 users done\n",
      "440000 users done\n",
      "450000 users done\n",
      "460000 users done\n",
      "470000 users done\n",
      "480000 users done\n",
      "Wall time: 3min 16s\n"
     ]
    }
   ],
   "source": [
    "%%time\n",
    "p,n = Mt.shape #p : film, n : utilisateur\n",
    "square_error = 0. #fixe l'erreur initial à zero\n",
    "for i in range(0,n):\n",
    "        \n",
    "        ind = Maskt[:,i].nonzero()[0] #On prend les valeur non nul\n",
    "        \n",
    "        pred = U[ind,:] * Vt[None,:,i] #Element-wise ! Le produit terme à terme\n",
    "        pred = np.cumsum(pred,1) #On fait la somme ligne par ligne \n",
    "        pred = np.maximum(pred,Mmin)\n",
    "        pred = np.minimum(pred,Mmax)\n",
    "        \n",
    "        square_error += np.sum((pred - Mt[ind,i].toarray()[:])**2,0) #calcul de la différence valeur réel et prédit \n",
    "        \n",
    "        if (i+1)%10000 == 0:\n",
    "            print('{} users done'.format(i+1))\n",
    "            \n",
    "\n",
    "error = np.sqrt(square_error/nt) #RMSE"
   ]
  },
  {
   "cell_type": "markdown",
   "metadata": {},
   "source": [
    "On a plus de 480 000 utilisateurs, notre code les a pris en compte"
   ]
  },
  {
   "cell_type": "markdown",
   "metadata": {},
   "source": [
    "__d) What is, in this case, the optimal number of factors? Have you got a better result\n",
    "than Cinematch scores, that is 0.9514 on the probe set?__ "
   ]
  },
  {
   "cell_type": "code",
   "execution_count": 31,
   "metadata": {
    "ExecuteTime": {
     "end_time": "2022-05-16T18:13:56.061882Z",
     "start_time": "2022-05-16T18:13:55.870308Z"
    }
   },
   "outputs": [
    {
     "data": {
      "image/png": "[encoded data removed]",
      "text/plain": [
       "<Figure size 432x288 with 1 Axes>"
      ]
     },
     "metadata": {},
     "output_type": "display_data"
    },
    {
     "name": "stdout",
     "output_type": "stream",
     "text": [
      "le nombre de facteur optimal est de : 47\n",
      "La valeur du RMSE est de : 0.9731752047453025\n"
     ]
    }
   ],
   "source": [
    "import matplotlib.pyplot as plt\n",
    "plt.plot(error,'o-', label = \"L'erreur\")\n",
    "plt.axhline(y= error[np.argmin(error)], color='red',linestyle='--', label = \"L'erreur minimum\") #erreur minimale\n",
    "plt.grid(True)\n",
    "plt.legend()\n",
    "plt.xlabel('Nombre de facteurs')\n",
    "plt.ylabel('Erreur RMSE')\n",
    "plt.show() \n",
    "print(\"le nombre de facteur optimal est de : \" + str(np.argmin(error)))\n",
    "print(\"La valeur du RMSE est de : \" + str(error[np.argmin(error)]))"
   ]
  },
  {
   "cell_type": "markdown",
   "metadata": {},
   "source": [
    "On a une erreur plus basse avec la méthode svd. Le nombre optimal de facteur est de 47. Malgrés cela, on a pas eu un meilleur resultat que Cinemath scores qui est de 0.9514, il est recommandé par la suite d'utilisé la méthode SVD avec les poids pénalisé pour améliorer notre résultat"
   ]
  },
  {
   "cell_type": "markdown",
   "metadata": {},
   "source": [
    "## Recommend using weighted SVD"
   ]
  },
  {
   "cell_type": "markdown",
   "metadata": {},
   "source": [
    "__a) Write a function to evaluate the performance of this approach on the test matrix.?\n",
    "How long does it takes to run?__"
   ]
  },
  {
   "cell_type": "code",
   "execution_count": 16,
   "metadata": {
    "ExecuteTime": {
     "end_time": "2022-05-15T18:43:46.582725Z",
     "start_time": "2022-05-15T18:43:46.569247Z"
    }
   },
   "outputs": [],
   "source": [
    "def  Netflix_probe_error(U, Vt, Maskt, Mt, Mmin, Mmax ,nt):\n",
    "    p,n =   Mt.shape\n",
    "    err = 0.\n",
    "    for j in range(0,n):\n",
    "        ind = Maskt[:,j]. nonzero ()[0]\n",
    "        pred = np.dot(U[ind ,:],Vt[:,j])\n",
    "        pred = np.maximum(pred,Mmin)\n",
    "        pred = np.minimum(pred,Mmax)\n",
    "        err+=np.sum((pred - Mt[ind ,j]. toarray ().T)**2)\n",
    "    return  np.sqrt(err / nt)"
   ]
  },
  {
   "cell_type": "code",
   "execution_count": 17,
   "metadata": {
    "ExecuteTime": {
     "end_time": "2022-05-15T18:46:38.803357Z",
     "start_time": "2022-05-15T18:43:46.584436Z"
    }
   },
   "outputs": [
    {
     "name": "stdout",
     "output_type": "stream",
     "text": [
      "Wall time: 2min 52s\n"
     ]
    },
    {
     "data": {
      "text/plain": [
       "0.9731879816969271"
      ]
     },
     "execution_count": 17,
     "metadata": {},
     "output_type": "execute_result"
    }
   ],
   "source": [
    "%%time\n",
    "Netflix_probe_error(U,Vt,Maskt ,Mt , Mmin ,Mmax ,nt)"
   ]
  },
  {
   "cell_type": "markdown",
   "metadata": {},
   "source": [
    "La fonction Netflix_probe_error a pris 2 minutes et 44 secondes pour terminer les calculs."
   ]
  },
  {
   "cell_type": "markdown",
   "metadata": {},
   "source": [
    "__b) Improve the previous results by using the weighted SVD approach. Try with 50\n",
    "factors and alternated least square__\n",
    "\n",
    "__c) Improve again by using the SGD approach to factorization minimizing on the training\n",
    "set__"
   ]
  },
  {
   "cell_type": "markdown",
   "metadata": {},
   "source": [
    "$\\underline{On \\; rappelle \\; le \\; probleme \\;  de \\;  résolution \\; de \\; la \\; SVD \\; avec \\; les \\; poids \\; pénalisé}$  \n",
    "\n",
    "$$\n",
    "\\min_{U,V} \\|M - UV^\\top\\|_W^2 + \\lambda \\|U\\|^2+ \\lambda \\|V\\|^2\n",
    "$$\n",
    "avec $\\lambda = 5 \\; (the \\; value \\; is \\;arbitrary) $ l'Alternating Least Square (ALS) pénalisé se décrit comme suit:\n",
    "\n",
    "Initialiser $U$ et $V$ avec le SVD sur la matrice complète\n",
    "$$\n",
    "\\begin{array}{rl}\n",
    "Boucle &  \\\\\n",
    "&  \\text{Calcule } U \\text{ avec } \\min_{U} \\|M - UV^\\top\\|_W^2 + \\lambda \\|U\\|^2 \\text{ e fixant } V \\\\\n",
    "&  \\text{Calcule } V \\text{ avec }  \\min_{V} \\|M - UV^\\top\\|_W^2 + \\lambda \\|V\\|^2 \\text{ with a fixant } U \n",
    "\\end{array}\n",
    "$$"
   ]
  },
  {
   "cell_type": "markdown",
   "metadata": {},
   "source": [
    "Remarque pour réduire le temps de calcul, je l'ai fais avec 2 itérations et j'ai fixé le facteur k= 20"
   ]
  },
  {
   "cell_type": "code",
   "execution_count": 18,
   "metadata": {
    "ExecuteTime": {
     "end_time": "2022-05-15T22:00:45.106886Z",
     "start_time": "2022-05-15T18:46:38.805047Z"
    }
   },
   "outputs": [
    {
     "name": "stdout",
     "output_type": "stream",
     "text": [
      "\n",
      " Le temps de calcul est de 662.3497641086578\n",
      "L'erreur est de 0.9856624142690084\n",
      "\n",
      " Le temps de calcul est de 6757.672048091888\n",
      "L'erreur est de 0.9581060761724204\n",
      "L'erreur de RMSE est de 0.966144035603755\n",
      "\n",
      " temps de calcul est de 11646.12373828888 secondes \n",
      " \n",
      "\n",
      "Wall time: 3h 14min 6s\n"
     ]
    }
   ],
   "source": [
    "#Méthode ALS\n",
    "\n",
    "%%time\n",
    "Mmin = M.min() #taille minimale\n",
    "Mmax = M.max() #taille maximale\n",
    "n,p = M.shape # (n: nombre de films, p:nombre d'utilisateurs)\n",
    "lam=5 #la pénalisation lambda\n",
    "\n",
    "k = 20 #le nombre de facteur\n",
    "t0 = time()\n",
    "\n",
    "\n",
    "I = np.eye(k) #matrice identité de taille 20x20\n",
    "U, D, Vt = scipy.sparse.linalg.svds(M,k=k)\n",
    "Vt = np.dot(np.diag(D),Vt) #Produit matricielle D et Vt \n",
    "error=Netflix_probe_error(U,Vt,Maskt ,Mt , Mmin ,Mmax ,nt)\n",
    "    \n",
    "for nb in range(0,2): #2 iterations \n",
    "    to = time()\n",
    "    for j in range(0,p):\n",
    "        indj = Mask[:,j].nonzero()[0]\n",
    "        Vt[:,j] = np.linalg.solve(U[indj,:].T@U[indj,:] + lam*I,U[indj,:].T@M[indj,j]).T\n",
    "\n",
    "\n",
    "    t1=time()\n",
    "    print(\"\\n Le temps de calcul est de \" + str( t1 - t0 ))\n",
    "    error=Netflix_probe_error(U,Vt,Maskt ,Mt , Mmin ,Mmax ,nt)\n",
    "    print(\"L'erreur est de \" + str(error))\n",
    "    for i in range(0,n):\n",
    "        indi = Mask[i,:].nonzero()[1]\n",
    "        U[i,:] = np.linalg.solve(Vt[:,indi]@Vt[:,indi].T + lam*I,Vt[:,indi]@M[i,indi].T).T\n",
    "\n",
    "\n",
    "error=Netflix_probe_error(U,Vt,Maskt ,Mt , Mmin ,Mmax ,nt)\n",
    "print(\"L'erreur de RMSE est de \" + str(error))\n",
    "t1 = time()\n",
    "print(\"\\n temps de calcul est de \" + str( t1 - t0 ) + \" secondes \\n \\n\")"
   ]
  },
  {
   "cell_type": "markdown",
   "metadata": {},
   "source": [
    "On a maintenant un résultat de 0.966. On a un résultat qui est plus proche du score Cinematch qui est de 0.9514. On pourrait améliorer notre résultat si on augmentait notre nombre d'itération. L'inconvenient est que, pour 2 itérations, il nous a fallut plus de 3h pour obtenir cette amélioration. "
   ]
  },
  {
   "cell_type": "markdown",
   "metadata": {},
   "source": [
    "## L'ensemble des résultats"
   ]
  },
  {
   "cell_type": "markdown",
   "metadata": {},
   "source": [
    "\n",
    "    Avec la moyenne globale : erreur = 1.129, temps  de  calcul : 0.784 secondes\n",
    "    Avec la moyenne du film : erreur = 1.052, temps  de  calcul : 1.96 secondes \n",
    "    Avec la moyenne des utilisateurs : erreur = 0.988, temps  de  calcul : 5.021 secondes \n",
    "    \n",
    "    WeightedSVD (Pour k = 50) : erreur = 0.97377, temps de calcul : 3minutes 14 secondes\n",
    "    PenalizedWeightSVD (ALS) (k=20) : erreur = 0.966, temps de calcul : 3h 14min 6s"
   ]
  },
  {
   "cell_type": "markdown",
   "metadata": {},
   "source": [
    "Avec différentes méthodes qu'on a parcouru, on peut constater que notre métrique RMSE a diminué. On a constaté qu'on a des méthodes où les resultats sont meilleurs mais le temps de calcul est plus long.\n",
    "\n",
    "Pour améliorer la valeur du RMSE, on peut aller plus loin en utilisant d'autres méthodes comme le SGD avec pytorch"
   ]
  },
  {
   "cell_type": "code",
   "execution_count": null,
   "metadata": {},
   "outputs": [],
   "source": []
  }
 ],
 "metadata": {
  "kernelspec": {
   "display_name": "Python 3 (ipykernel)",
   "language": "python",
   "name": "python3"
  },
  "language_info": {
   "codemirror_mode": {
    "name": "ipython",
    "version": 3
   },
   "file_extension": ".py",
   "mimetype": "text/x-python",
   "name": "python",
   "nbconvert_exporter": "python",
   "pygments_lexer": "ipython3",
   "version": "3.9.12"
  },
  "nbTranslate": {
   "displayLangs": [
    "*"
   ],
   "hotkey": "alt-t",
   "langInMainMenu": true,
   "sourceLang": "en",
   "targetLang": "fr",
   "useGoogleTranslate": true
  },
  "toc": {
   "base_numbering": 1,
   "nav_menu": {},
   "number_sections": true,
   "sideBar": true,
   "skip_h1_title": false,
   "title_cell": "Table of Contents",
   "title_sidebar": "Contents",
   "toc_cell": false,
   "toc_position": {},
   "toc_section_display": true,
   "toc_window_display": false
  },
  "varInspector": {
   "cols": {
    "lenName": 16,
    "lenType": 16,
    "lenVar": 40
   },
   "kernels_config": {
    "python": {
     "delete_cmd_postfix": "",
     "delete_cmd_prefix": "del ",
     "library": "var_list.py",
     "varRefreshCmd": "print(var_dic_list())"
    },
    "r": {
     "delete_cmd_postfix": ") ",
     "delete_cmd_prefix": "rm(",
     "library": "var_list.r",
     "varRefreshCmd": "cat(var_dic_list()) "
    }
   },
   "types_to_exclude": [
    "module",
    "function",
    "builtin_function_or_method",
    "instance",
    "_Feature"
   ],
   "window_display": false
  }
 },
 "nbformat": 4,
 "nbformat_minor": 2
}
