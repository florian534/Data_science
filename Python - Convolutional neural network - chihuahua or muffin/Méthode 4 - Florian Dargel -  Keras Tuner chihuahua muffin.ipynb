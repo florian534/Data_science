{
 "cells": [
  {
   "cell_type": "markdown",
   "id": "06717ed0",
   "metadata": {},
   "source": [
    "# Keras - Tuner "
   ]
  },
  {
   "cell_type": "markdown",
   "id": "cc6d208d",
   "metadata": {},
   "source": [
    "Keras Tuner est une bibliothèque qui vous aide à choisir l'ensemble optimal d'hyperparamètres pour votre programme TensorFlow.\n",
    "\n",
    "On peut ajuster les hyperparamètres pour obtenir les valeurs qui peuvent aider à améliorer le modèle. Nous allons optimiser les hyperparamètres suivants dans le modèle :\n",
    "\n",
    "\n",
    "\n",
    "     Nombre de couches cachés\n",
    "\n",
    "     Nombre de neurones dans chaque couche cachée\n",
    "\n",
    "     Taux d'apprentissage\n",
    "\n",
    "     Fonction d'activation\n",
    "\n",
    "\n",
    "\n",
    "Mais d'abord, nous devons installer le Keras Tuner. "
   ]
  },
  {
   "cell_type": "code",
   "execution_count": 2,
   "id": "cc96ae94",
   "metadata": {
    "ExecuteTime": {
     "end_time": "2022-03-19T16:46:22.907048Z",
     "start_time": "2022-03-19T16:46:17.907402Z"
    }
   },
   "outputs": [
    {
     "name": "stdout",
     "output_type": "stream",
     "text": [
      "Requirement already satisfied: keras-tuner in c:\\users\\na_to\\anaconda3\\lib\\site-packages (1.1.0)\n",
      "Requirement already satisfied: numpy in c:\\users\\na_to\\anaconda3\\lib\\site-packages (from keras-tuner) (1.19.5)\n",
      "Requirement already satisfied: kt-legacy in c:\\users\\na_to\\anaconda3\\lib\\site-packages (from keras-tuner) (1.0.4)\n",
      "Requirement already satisfied: packaging in c:\\users\\na_to\\anaconda3\\lib\\site-packages (from keras-tuner) (20.9)\n",
      "Requirement already satisfied: scipy in c:\\users\\na_to\\anaconda3\\lib\\site-packages (from keras-tuner) (1.5.4)\n",
      "Requirement already satisfied: requests in c:\\users\\na_to\\anaconda3\\lib\\site-packages (from keras-tuner) (2.27.1)\n",
      "Requirement already satisfied: tensorboard in c:\\users\\na_to\\appdata\\roaming\\python\\python36\\site-packages (from keras-tuner) (2.6.0)\n",
      "Requirement already satisfied: ipython in c:\\users\\na_to\\anaconda3\\lib\\site-packages (from keras-tuner) (6.4.0)\n",
      "Requirement already satisfied: colorama in c:\\users\\na_to\\anaconda3\\lib\\site-packages (from ipython->keras-tuner) (0.3.9)\n",
      "Requirement already satisfied: decorator in c:\\users\\na_to\\anaconda3\\lib\\site-packages (from ipython->keras-tuner) (4.3.0)\n",
      "Requirement already satisfied: backcall in c:\\users\\na_to\\anaconda3\\lib\\site-packages (from ipython->keras-tuner) (0.1.0)\n",
      "Requirement already satisfied: jedi>=0.10 in c:\\users\\na_to\\anaconda3\\lib\\site-packages (from ipython->keras-tuner) (0.12.0)\n",
      "Requirement already satisfied: traitlets>=4.2 in c:\\users\\na_to\\anaconda3\\lib\\site-packages (from ipython->keras-tuner) (4.3.2)\n",
      "Requirement already satisfied: setuptools>=18.5 in c:\\users\\na_to\\anaconda3\\lib\\site-packages (from ipython->keras-tuner) (59.6.0)\n",
      "Requirement already satisfied: simplegeneric>0.8 in c:\\users\\na_to\\anaconda3\\lib\\site-packages (from ipython->keras-tuner) (0.8.1)\n",
      "Requirement already satisfied: pickleshare in c:\\users\\na_to\\anaconda3\\lib\\site-packages (from ipython->keras-tuner) (0.7.4)\n",
      "Requirement already satisfied: prompt-toolkit<2.0.0,>=1.0.15 in c:\\users\\na_to\\anaconda3\\lib\\site-packages (from ipython->keras-tuner) (1.0.15)\n",
      "Requirement already satisfied: pygments in c:\\users\\na_to\\anaconda3\\lib\\site-packages (from ipython->keras-tuner) (2.10.0)\n",
      "Requirement already satisfied: pyparsing>=2.0.2 in c:\\users\\na_to\\anaconda3\\lib\\site-packages (from packaging->keras-tuner) (3.0.6)\n",
      "Requirement already satisfied: certifi>=2017.4.17 in c:\\users\\na_to\\anaconda3\\lib\\site-packages (from requests->keras-tuner) (2021.5.30)\n",
      "Requirement already satisfied: charset-normalizer~=2.0.0 in c:\\users\\na_to\\anaconda3\\lib\\site-packages (from requests->keras-tuner) (2.0.10)\n",
      "Requirement already satisfied: idna<4,>=2.5 in c:\\users\\na_to\\anaconda3\\lib\\site-packages (from requests->keras-tuner) (3.3)\n",
      "Requirement already satisfied: urllib3<1.27,>=1.21.1 in c:\\users\\na_to\\anaconda3\\lib\\site-packages (from requests->keras-tuner) (1.26.8)\n",
      "Requirement already satisfied: wheel>=0.26 in c:\\users\\na_to\\anaconda3\\lib\\site-packages (from tensorboard->keras-tuner) (0.37.1)\n",
      "Requirement already satisfied: grpcio>=1.24.3 in c:\\users\\na_to\\appdata\\roaming\\python\\python36\\site-packages (from tensorboard->keras-tuner) (1.44.0)\n",
      "Requirement already satisfied: tensorboard-plugin-wit>=1.6.0 in c:\\users\\na_to\\anaconda3\\lib\\site-packages (from tensorboard->keras-tuner) (1.8.1)\n",
      "Requirement already satisfied: google-auth<2,>=1.6.3 in c:\\users\\na_to\\anaconda3\\lib\\site-packages (from tensorboard->keras-tuner) (1.35.0)\n",
      "Requirement already satisfied: werkzeug>=0.11.15 in c:\\users\\na_to\\anaconda3\\lib\\site-packages (from tensorboard->keras-tuner) (0.14.1)\n",
      "Requirement already satisfied: markdown>=2.6.8 in c:\\users\\na_to\\anaconda3\\lib\\site-packages (from tensorboard->keras-tuner) (3.1.1)\n",
      "Requirement already satisfied: absl-py>=0.4 in c:\\users\\na_to\\anaconda3\\lib\\site-packages (from tensorboard->keras-tuner) (0.12.0)\n",
      "Requirement already satisfied: protobuf>=3.6.0 in c:\\users\\na_to\\anaconda3\\lib\\site-packages (from tensorboard->keras-tuner) (3.19.1)\n",
      "Requirement already satisfied: google-auth-oauthlib<0.5,>=0.4.1 in c:\\users\\na_to\\appdata\\roaming\\python\\python36\\site-packages (from tensorboard->keras-tuner) (0.4.6)\n",
      "Requirement already satisfied: tensorboard-data-server<0.7.0,>=0.6.0 in c:\\users\\na_to\\anaconda3\\lib\\site-packages (from tensorboard->keras-tuner) (0.6.1)\n",
      "Requirement already satisfied: six in c:\\users\\na_to\\anaconda3\\lib\\site-packages (from absl-py>=0.4->tensorboard->keras-tuner) (1.15.0)\n",
      "Requirement already satisfied: rsa<5,>=3.1.4 in c:\\users\\na_to\\anaconda3\\lib\\site-packages (from google-auth<2,>=1.6.3->tensorboard->keras-tuner) (4.8)\n",
      "Requirement already satisfied: cachetools<5.0,>=2.0.0 in c:\\users\\na_to\\anaconda3\\lib\\site-packages (from google-auth<2,>=1.6.3->tensorboard->keras-tuner) (4.2.4)\n",
      "Requirement already satisfied: pyasn1-modules>=0.2.1 in c:\\users\\na_to\\anaconda3\\lib\\site-packages (from google-auth<2,>=1.6.3->tensorboard->keras-tuner) (0.2.8)\n",
      "Requirement already satisfied: requests-oauthlib>=0.7.0 in c:\\users\\na_to\\anaconda3\\lib\\site-packages (from google-auth-oauthlib<0.5,>=0.4.1->tensorboard->keras-tuner) (1.3.0)\n",
      "Requirement already satisfied: parso>=0.2.0 in c:\\users\\na_to\\anaconda3\\lib\\site-packages (from jedi>=0.10->ipython->keras-tuner) (0.2.0)\n",
      "Requirement already satisfied: wcwidth in c:\\users\\na_to\\anaconda3\\lib\\site-packages (from prompt-toolkit<2.0.0,>=1.0.15->ipython->keras-tuner) (0.1.7)\n",
      "Requirement already satisfied: ipython_genutils in c:\\users\\na_to\\anaconda3\\lib\\site-packages (from traitlets>=4.2->ipython->keras-tuner) (0.2.0)\n",
      "Requirement already satisfied: pyasn1<0.5.0,>=0.4.6 in c:\\users\\na_to\\anaconda3\\lib\\site-packages (from pyasn1-modules>=0.2.1->google-auth<2,>=1.6.3->tensorboard->keras-tuner) (0.4.8)\n",
      "Requirement already satisfied: oauthlib>=3.0.0 in c:\\users\\na_to\\anaconda3\\lib\\site-packages (from requests-oauthlib>=0.7.0->google-auth-oauthlib<0.5,>=0.4.1->tensorboard->keras-tuner) (3.1.0)\n"
     ]
    },
    {
     "name": "stderr",
     "output_type": "stream",
     "text": [
      "WARNING: Ignoring invalid distribution -umpy (c:\\users\\na_to\\anaconda3\\lib\\site-packages)\n",
      "WARNING: Ignoring invalid distribution -umpy (c:\\users\\na_to\\anaconda3\\lib\\site-packages)\n",
      "WARNING: Ignoring invalid distribution -umpy (c:\\users\\na_to\\anaconda3\\lib\\site-packages)\n",
      "WARNING: Ignoring invalid distribution -umpy (c:\\users\\na_to\\anaconda3\\lib\\site-packages)\n",
      "WARNING: Ignoring invalid distribution -umpy (c:\\users\\na_to\\anaconda3\\lib\\site-packages)\n"
     ]
    }
   ],
   "source": [
    "!pip install keras-tuner"
   ]
  },
  {
   "cell_type": "code",
   "execution_count": 3,
   "id": "0b98984e",
   "metadata": {
    "ExecuteTime": {
     "end_time": "2022-03-19T16:46:36.238637Z",
     "start_time": "2022-03-19T16:46:26.115520Z"
    }
   },
   "outputs": [],
   "source": [
    "from tensorflow import keras\n",
    "from keras_tuner import RandomSearch"
   ]
  },
  {
   "cell_type": "markdown",
   "id": "23305391",
   "metadata": {},
   "source": [
    "# Importation data "
   ]
  },
  {
   "cell_type": "markdown",
   "id": "7afd1d79",
   "metadata": {},
   "source": [
    "On importe les packages nécessaires pour le deep learning. "
   ]
  },
  {
   "cell_type": "code",
   "execution_count": 4,
   "id": "fb96a687",
   "metadata": {
    "ExecuteTime": {
     "end_time": "2022-03-19T16:47:19.107491Z",
     "start_time": "2022-03-19T16:47:18.607624Z"
    }
   },
   "outputs": [],
   "source": [
    "from tensorflow.keras.preprocessing.image import ImageDataGenerator\n",
    "from tensorflow.keras.models import Sequential\n",
    "from tensorflow.keras.layers import Conv2D, MaxPooling2D, Activation, Dropout, Flatten, Dense\n",
    "from tensorflow.keras.preprocessing.image import array_to_img, img_to_array, load_img\n",
    "from tensorflow.keras import layers\n",
    "import matplotlib.pyplot as plt"
   ]
  },
  {
   "cell_type": "markdown",
   "id": "b07ce7f9",
   "metadata": {},
   "source": [
    "On importe les données "
   ]
  },
  {
   "cell_type": "code",
   "execution_count": 51,
   "id": "83fef7e7",
   "metadata": {
    "ExecuteTime": {
     "end_time": "2022-03-19T17:51:39.626062Z",
     "start_time": "2022-03-19T17:51:39.610269Z"
    }
   },
   "outputs": [],
   "source": [
    "train_data_dir = 'C:/Users/na_to/OneDrive/Bureau/Insa/Mapromo/ML3/Exercices/Data/chihuahua-vs-muffin/train'\n",
    "validation_data_dir = 'C:/Users/na_to/OneDrive/Bureau/Insa/Mapromo/ML3/Exercices/Data/chihuahua-vs-muffin/validation'\n",
    "test_data_dir = 'C:/Users/na_to/OneDrive/Bureau/Insa/Mapromo/ML3/Exercices/Data/chihuahua-vs-muffin/test' "
   ]
  },
  {
   "cell_type": "markdown",
   "id": "b691cb3b",
   "metadata": {},
   "source": [
    "On definit les images de taille (256,256)"
   ]
  },
  {
   "cell_type": "code",
   "execution_count": 52,
   "id": "4b03c085",
   "metadata": {
    "ExecuteTime": {
     "end_time": "2022-03-19T17:51:40.921848Z",
     "start_time": "2022-03-19T17:51:40.468468Z"
    }
   },
   "outputs": [
    {
     "name": "stdout",
     "output_type": "stream",
     "text": [
      "Found 568 files belonging to 2 classes.\n",
      "Found 142 files belonging to 2 classes.\n",
      "Found 16 files belonging to 2 classes.\n"
     ]
    }
   ],
   "source": [
    "image_size = (256, 256)\n",
    "batch_size = 32  \n",
    "\n",
    "train_ds = keras.preprocessing.image_dataset_from_directory(\n",
    "    train_data_dir,\n",
    "    image_size=image_size,\n",
    "    batch_size=batch_size,\n",
    "    label_mode = 'categorical'\n",
    ")\n",
    "val_ds = keras.preprocessing.image_dataset_from_directory(\n",
    "    validation_data_dir,\n",
    "    image_size=image_size,\n",
    "    batch_size=batch_size,\n",
    "    label_mode = 'categorical'\n",
    ")\n",
    "\n",
    "test_ds = keras.preprocessing.image_dataset_from_directory(\n",
    "    test_data_dir,\n",
    "    image_size=image_size,\n",
    "    batch_size=batch_size,\n",
    "    label_mode = 'categorical'\n",
    ")"
   ]
  },
  {
   "cell_type": "markdown",
   "id": "535a92b9",
   "metadata": {},
   "source": [
    "On definit une variable qui contient le nom des classes : chihuahua et muffin"
   ]
  },
  {
   "cell_type": "code",
   "execution_count": 7,
   "id": "af742700",
   "metadata": {
    "ExecuteTime": {
     "end_time": "2022-03-19T16:47:22.197040Z",
     "start_time": "2022-03-19T16:47:22.177510Z"
    }
   },
   "outputs": [],
   "source": [
    "class_names = train_ds.class_names"
   ]
  },
  {
   "cell_type": "markdown",
   "id": "181c0646",
   "metadata": {},
   "source": [
    "On definit une variable qui prend en entrée (256,256,3)"
   ]
  },
  {
   "cell_type": "code",
   "execution_count": 8,
   "id": "de4d79ad",
   "metadata": {
    "ExecuteTime": {
     "end_time": "2022-03-19T16:47:22.622776Z",
     "start_time": "2022-03-19T16:47:22.617097Z"
    }
   },
   "outputs": [],
   "source": [
    "img_height, img_width = image_size\n",
    "input_shape = (img_height, img_width, 3)"
   ]
  },
  {
   "cell_type": "markdown",
   "id": "7d2d78ae",
   "metadata": {},
   "source": [
    "On ajoute de la data augmentation dans notre réseau"
   ]
  },
  {
   "cell_type": "code",
   "execution_count": 9,
   "id": "157158b6",
   "metadata": {
    "ExecuteTime": {
     "end_time": "2022-03-19T16:47:23.447080Z",
     "start_time": "2022-03-19T16:47:23.347111Z"
    }
   },
   "outputs": [],
   "source": [
    "data_augmentation = keras.Sequential(\n",
    "    [\n",
    "        layers.RandomFlip(\"horizontal\", input_shape=input_shape),\n",
    "        layers.RandomRotation(0.1),\n",
    "    ]\n",
    ")"
   ]
  },
  {
   "cell_type": "code",
   "execution_count": 10,
   "id": "8b34582b",
   "metadata": {
    "ExecuteTime": {
     "end_time": "2022-03-19T16:47:23.963437Z",
     "start_time": "2022-03-19T16:47:23.952404Z"
    }
   },
   "outputs": [],
   "source": [
    "train_ds = train_ds.prefetch(buffer_size=32)\n",
    "val_ds = val_ds.prefetch(buffer_size=32)"
   ]
  },
  {
   "cell_type": "markdown",
   "id": "20e1554d",
   "metadata": {},
   "source": [
    "# Optimisation"
   ]
  },
  {
   "cell_type": "markdown",
   "id": "673c4c1b",
   "metadata": {},
   "source": [
    "$\\underline{Fonction\\_d'optimisation}$ "
   ]
  },
  {
   "cell_type": "markdown",
   "id": "52e68be1",
   "metadata": {},
   "source": [
    "On définit la fonction $\\textbf{build_model}$ pour construire un modèle de réseau de neurone de convolution où les hyperparamètres sont le nombre de neurones dans la couche cachée et le taux d'apprentissage "
   ]
  },
  {
   "cell_type": "code",
   "execution_count": 23,
   "id": "48089561",
   "metadata": {
    "ExecuteTime": {
     "end_time": "2022-03-19T16:51:20.896844Z",
     "start_time": "2022-03-19T16:51:20.887264Z"
    }
   },
   "outputs": [],
   "source": [
    "def build_model(hp):          #hp signifie hyper parameters\n",
    "    # Preprocessing\n",
    "    model = Sequential() \n",
    "    model.add(data_augmentation)\n",
    "    model.add(layers.Rescaling(1./255))\n",
    "    model.add(Flatten(input_shape=(256,256,3)))\n",
    "    #providing range for number of neurons in a hidden layer\n",
    "    model.add(Dense(units=hp.Int('num_of_neurons',min_value=32,max_value=96,step=32),\n",
    "                                    activation='relu'))\n",
    "    #output layer\n",
    "    model.add(Dense(2,activation='softmax'))\n",
    "    #compiling the model\n",
    "    model.compile(optimizer=keras.optimizers.Adam(hp.Choice('learning_rate',values=[1e-2, 1e-3])),loss='categorical_crossentropy',metrics=['accuracy'])\n",
    "    return model"
   ]
  },
  {
   "cell_type": "markdown",
   "id": "31ad0d49",
   "metadata": {},
   "source": [
    "Dans le code ci-dessus, nous avons défini la fonction par le nom build_model(hp) où hp signifie hyperparamètre. Lors de l'ajout de la couche cachée, nous utilisons la fonction hp.Int() qui prend la valeur entière et teste sur la plage spécifiée pour le réglage. Nous avons fourni la plage pour les neurones de 32 à 96 avec une taille de pas de 32 afin que le modèle teste sur les neurones 32, 64, 96."
   ]
  },
  {
   "cell_type": "markdown",
   "id": "842de105",
   "metadata": {},
   "source": [
    "Ensuite, nous avons ajouté la couche de sortie. Lors de la compilation du modèle, l'optimiseur Adam est utilisé avec différentes valeurs de taux d'apprentissage qui est le prochain hyperparamètre pour le réglage. La fonction hp.Choice() est utilisée pour tester l'une des deux valeurs fournies pour le taux d'apprentissage. "
   ]
  },
  {
   "cell_type": "code",
   "execution_count": 32,
   "id": "e2615525",
   "metadata": {
    "ExecuteTime": {
     "end_time": "2022-03-19T16:56:09.907151Z",
     "start_time": "2022-03-19T16:56:09.777487Z"
    }
   },
   "outputs": [],
   "source": [
    "#feeding the model and parameters to Random Search\n",
    "tuner=RandomSearch(build_model,\n",
    "    objective='val_accuracy',\n",
    "    max_trials=3,\n",
    "    executions_per_trial=3,\n",
    "    directory='tuner1',\n",
    "    project_name='Classification')"
   ]
  },
  {
   "cell_type": "markdown",
   "id": "2dc05add",
   "metadata": {},
   "source": [
    "Le code ci-dessus utilise l'optimiseur d'hyperparamètres de recherche aléatoire. Les variables suivantes sont fournies à la recherche aléatoire. Le premier est le modèle, c'est-à-dire build_model, l'objectif suivant est val_accuracy, ce qui signifie que l'objectif du modèle est d'obtenir une bonne accuracy pour la validation. Ensuite, la valeur des trials et l'exécution par trial qui sont respectivement de 3 et 3 dans notre cas, ce qui signifie que 9 (3 * 3) itérations seront effectuées par le modèle pour trouver les meilleurs paramètres. Le répertoire et le nom du projet sont fournis pour enregistrer les valeurs de chaque essai. \n",
    "\n",
    "Une fois les valeurs enregistrées cela nous permet de ne plus re-fit le modèle et attendre comme la première exécution."
   ]
  },
  {
   "cell_type": "code",
   "execution_count": 33,
   "id": "f199a5fc",
   "metadata": {
    "ExecuteTime": {
     "end_time": "2022-03-19T16:56:11.480983Z",
     "start_time": "2022-03-19T16:56:11.467252Z"
    }
   },
   "outputs": [
    {
     "name": "stdout",
     "output_type": "stream",
     "text": [
      "Search space summary\n",
      "Default search space size: 2\n",
      "num_of_neurons (Int)\n",
      "{'default': None, 'conditions': [], 'min_value': 32, 'max_value': 96, 'step': 32, 'sampling': None}\n",
      "learning_rate (Choice)\n",
      "{'default': 0.01, 'conditions': [], 'values': [0.01, 0.001], 'ordered': True}\n"
     ]
    }
   ],
   "source": [
    "#this tells us how many hyperparameter we are tuning\n",
    "#in our case it's 2 = neurons,learning rate\n",
    "tuner.search_space_summary()"
   ]
  },
  {
   "cell_type": "code",
   "execution_count": 34,
   "id": "f6efe2c3",
   "metadata": {
    "ExecuteTime": {
     "end_time": "2022-03-19T17:03:50.397563Z",
     "start_time": "2022-03-19T16:56:11.940033Z"
    },
    "scrolled": false
   },
   "outputs": [
    {
     "name": "stdout",
     "output_type": "stream",
     "text": [
      "Trial 3 Complete [00h 02m 45s]\n",
      "val_accuracy: 0.6197183231512705\n",
      "\n",
      "Best val_accuracy So Far: 0.8403755823771158\n",
      "Total elapsed time: 00h 07m 38s\n",
      "INFO:tensorflow:Oracle triggered exit\n"
     ]
    }
   ],
   "source": [
    "epochs = 5 \n",
    "tuner.search(train_ds.repeat(), epochs=epochs, steps_per_epoch=50, validation_data=val_ds)"
   ]
  },
  {
   "cell_type": "markdown",
   "id": "93ae414e",
   "metadata": {},
   "source": [
    "Le code ci-dessus exécute 3 trails avec 3 exécutions chacune et affichent les détails de trail qui fournissent la plus grande accuracy de validation. On peut voir la meilleure accuracy de validation obtenue par le modèle. "
   ]
  },
  {
   "cell_type": "markdown",
   "id": "9a2519f3",
   "metadata": {},
   "source": [
    "Nous pouvons également vérifier le résumé de tous les sentiers effectués et les hyperparamètres choisis pour la meilleure accuracy en utilisant le code ci-dessous. La meilleure accuracy est obtenue en utilisant 32 neurones dans la couche cachée et 0,001 comme taux d'apprentissage. "
   ]
  },
  {
   "cell_type": "code",
   "execution_count": 35,
   "id": "3b4dac10",
   "metadata": {
    "ExecuteTime": {
     "end_time": "2022-03-19T17:07:20.847410Z",
     "start_time": "2022-03-19T17:07:20.827237Z"
    }
   },
   "outputs": [
    {
     "name": "stdout",
     "output_type": "stream",
     "text": [
      "Results summary\n",
      "Results in tuner1\\Classification\n",
      "Showing 10 best trials\n",
      "Objective(name='val_accuracy', direction='max')\n",
      "Trial summary\n",
      "Hyperparameters:\n",
      "num_of_neurons: 32\n",
      "learning_rate: 0.001\n",
      "Score: 0.8403755823771158\n",
      "Trial summary\n",
      "Hyperparameters:\n",
      "num_of_neurons: 32\n",
      "learning_rate: 0.01\n",
      "Score: 0.8380281527837118\n",
      "Trial summary\n",
      "Hyperparameters:\n",
      "num_of_neurons: 64\n",
      "learning_rate: 0.01\n",
      "Score: 0.6197183231512705\n"
     ]
    }
   ],
   "source": [
    "tuner.results_summary()"
   ]
  },
  {
   "cell_type": "markdown",
   "id": "16d569b9",
   "metadata": {},
   "source": [
    "C'est ainsi que nous effectuons le réglage des réseaux de neurones à l'aide de Keras Tuner. "
   ]
  },
  {
   "cell_type": "markdown",
   "id": "2d05e9b6",
   "metadata": {},
   "source": [
    "$\\underline{Amélioration\\_de\\_la\\_fonction\\_optimisation}$"
   ]
  },
  {
   "cell_type": "markdown",
   "id": "a8b4bcc0",
   "metadata": {},
   "source": [
    "On peut ajuster quelques paramètres supplémentaires dans le code suivant. Ici, nous fournissons également la plage du nombre de couches à utiliser dans le modèle qui se situe entre 2 et 10. "
   ]
  },
  {
   "cell_type": "code",
   "execution_count": 54,
   "id": "33555f1a",
   "metadata": {
    "ExecuteTime": {
     "end_time": "2022-03-19T17:59:28.679364Z",
     "start_time": "2022-03-19T17:59:28.663548Z"
    }
   },
   "outputs": [],
   "source": [
    "def build_model_bis(hp):                 #hp signigie hyper parameters\n",
    "    model_bis=Sequential()\n",
    "    model_bis.add(data_augmentation)\n",
    "    model_bis.add(layers.Rescaling(1./255))\n",
    "    model_bis.add(Flatten(input_shape=(256,256,3)))\n",
    "    #providing the range for hidden layers  \n",
    "    for i in range(hp.Int('num_of_layers',2,10)):         \n",
    "        #providing range for number of neurons in hidden layers\n",
    "        model_bis.add(Dense(units=hp.Int('num_of_neurons'+ str(i),min_value=32,max_value=96,step=32),\n",
    "                                    activation='relu'))\n",
    "    model_bis.add(Dense(2,activation='softmax'))    #output layer\n",
    "    #compiling the model\n",
    "    model_bis.compile(optimizer=keras.optimizers.Adam(hp.Choice('learning_rate',values=[1e-2, 1e-3])),   #tuning learning rate\n",
    "                  loss='categorical_crossentropy',metrics=['accuracy'])\n",
    "    return model_bis"
   ]
  },
  {
   "cell_type": "code",
   "execution_count": 58,
   "id": "28b03e82",
   "metadata": {
    "ExecuteTime": {
     "end_time": "2022-03-19T18:00:21.203162Z",
     "start_time": "2022-03-19T18:00:21.030245Z"
    }
   },
   "outputs": [],
   "source": [
    "#feeding the model and parameters to Random Search\n",
    "tuner_bis=RandomSearch(build_model_bis,\n",
    "    objective='val_accuracy',\n",
    "    max_trials=3,\n",
    "    executions_per_trial=3,\n",
    "    directory='tuner2',\n",
    "    project_name='Classification')"
   ]
  },
  {
   "cell_type": "markdown",
   "id": "52e7fdea",
   "metadata": {},
   "source": [
    "Ici on a 3 hyperparamètres que nous réglons : nombres de couches, nombre de neurones et taux d'apprentissage"
   ]
  },
  {
   "cell_type": "code",
   "execution_count": 59,
   "id": "866e2ab2",
   "metadata": {
    "ExecuteTime": {
     "end_time": "2022-03-19T18:09:55.058634Z",
     "start_time": "2022-03-19T18:00:22.824118Z"
    }
   },
   "outputs": [
    {
     "name": "stdout",
     "output_type": "stream",
     "text": [
      "Trial 3 Complete [00h 02m 47s]\n",
      "val_accuracy: 0.52112677693367\n",
      "\n",
      "Best val_accuracy So Far: 0.8192488352457682\n",
      "Total elapsed time: 00h 09m 32s\n",
      "INFO:tensorflow:Oracle triggered exit\n"
     ]
    }
   ],
   "source": [
    "epochs = 5 \n",
    "tuner_bis.search(train_ds.repeat(), epochs=epochs, steps_per_epoch=50, validation_data=val_ds)"
   ]
  },
  {
   "cell_type": "markdown",
   "id": "923b6cae",
   "metadata": {},
   "source": [
    "On obtient 81% comme meilleur accuracy pour la validation "
   ]
  },
  {
   "cell_type": "code",
   "execution_count": 60,
   "id": "92319523",
   "metadata": {
    "ExecuteTime": {
     "end_time": "2022-03-19T18:12:00.513222Z",
     "start_time": "2022-03-19T18:12:00.497275Z"
    }
   },
   "outputs": [
    {
     "name": "stdout",
     "output_type": "stream",
     "text": [
      "Results summary\n",
      "Results in tuner2\\Classification\n",
      "Showing 10 best trials\n",
      "Objective(name='val_accuracy', direction='max')\n",
      "Trial summary\n",
      "Hyperparameters:\n",
      "num_of_layers: 2\n",
      "num_of_neurons0: 64\n",
      "num_of_neurons1: 32\n",
      "learning_rate: 0.01\n",
      "Score: 0.8192488352457682\n",
      "Trial summary\n",
      "Hyperparameters:\n",
      "num_of_layers: 8\n",
      "num_of_neurons0: 96\n",
      "num_of_neurons1: 64\n",
      "learning_rate: 0.01\n",
      "num_of_neurons2: 32\n",
      "num_of_neurons3: 32\n",
      "num_of_neurons4: 32\n",
      "num_of_neurons5: 32\n",
      "num_of_neurons6: 32\n",
      "num_of_neurons7: 32\n",
      "Score: 0.8004694779713949\n",
      "Trial summary\n",
      "Hyperparameters:\n",
      "num_of_layers: 3\n",
      "num_of_neurons0: 32\n",
      "num_of_neurons1: 96\n",
      "learning_rate: 0.01\n",
      "num_of_neurons2: 96\n",
      "num_of_neurons3: 96\n",
      "num_of_neurons4: 96\n",
      "num_of_neurons5: 96\n",
      "num_of_neurons6: 64\n",
      "num_of_neurons7: 96\n",
      "Score: 0.52112677693367\n"
     ]
    }
   ],
   "source": [
    "tuner_bis.results_summary()"
   ]
  },
  {
   "cell_type": "markdown",
   "id": "eba5f833",
   "metadata": {},
   "source": [
    "L'idéal dans ce cas serait de construire un réseau de neurone avec 2 couches :\n",
    "\n",
    "    1ère couche : 64 neurones\n",
    "    2ème couche : 32 neurones\n",
    "\n",
    "On fixe ensuite comme valeur de taux d'apprentissage : 0.01"
   ]
  },
  {
   "cell_type": "markdown",
   "id": "160d4b28",
   "metadata": {},
   "source": [
    "# Modèle avec les meilleurs hyperparamètres"
   ]
  },
  {
   "cell_type": "code",
   "execution_count": 61,
   "id": "6f264c82",
   "metadata": {
    "ExecuteTime": {
     "end_time": "2022-03-19T18:13:31.463384Z",
     "start_time": "2022-03-19T18:13:31.268325Z"
    }
   },
   "outputs": [],
   "source": [
    "model_test = Sequential()\n",
    "# Preprocessing\n",
    "model_test.add(data_augmentation)\n",
    "model_test.add(layers.Rescaling(1./255))\n",
    "#flattening the images\n",
    "model_test.add(Flatten(input_shape=(256,256,3)))\n",
    "#adding first hidden layer\n",
    "model_test.add(Dense(64,activation='relu'))\n",
    "#adding second hidden layer\n",
    "model_test.add(Dense(32,activation='relu'))\n",
    "#adding output layer\n",
    "model_test.add(Dense(2,activation='softmax'))"
   ]
  },
  {
   "cell_type": "code",
   "execution_count": 62,
   "id": "74b764a1",
   "metadata": {
    "ExecuteTime": {
     "end_time": "2022-03-19T18:13:33.403224Z",
     "start_time": "2022-03-19T18:13:33.393268Z"
    }
   },
   "outputs": [],
   "source": [
    "model_test.compile(\n",
    "    optimizer=keras.optimizers.Adam(learning_rate=0.01),\n",
    "    loss=\"categorical_crossentropy\",\n",
    "    metrics=[\"accuracy\"],\n",
    ")"
   ]
  },
  {
   "cell_type": "code",
   "execution_count": 63,
   "id": "9be48ae4",
   "metadata": {
    "ExecuteTime": {
     "end_time": "2022-03-19T18:14:37.323864Z",
     "start_time": "2022-03-19T18:13:35.433373Z"
    }
   },
   "outputs": [
    {
     "name": "stdout",
     "output_type": "stream",
     "text": [
      "Epoch 1/5\n",
      "50/50 [==============================] - 14s 261ms/step - loss: 81.9484 - accuracy: 0.6875 - val_loss: 9.4504 - val_accuracy: 0.8169\n",
      "Epoch 2/5\n",
      "50/50 [==============================] - 12s 244ms/step - loss: 16.0671 - accuracy: 0.7411 - val_loss: 9.8585 - val_accuracy: 0.7606\n",
      "Epoch 3/5\n",
      "50/50 [==============================] - 12s 243ms/step - loss: 9.8743 - accuracy: 0.7773 - val_loss: 12.9803 - val_accuracy: 0.7042\n",
      "Epoch 4/5\n",
      "50/50 [==============================] - 12s 242ms/step - loss: 10.6412 - accuracy: 0.7519 - val_loss: 4.2059 - val_accuracy: 0.8099\n",
      "Epoch 5/5\n",
      "50/50 [==============================] - 11s 224ms/step - loss: 3.0325 - accuracy: 0.8295 - val_loss: 0.9892 - val_accuracy: 0.8521\n"
     ]
    },
    {
     "data": {
      "text/plain": [
       "<keras.callbacks.History at 0x1f11926c4a8>"
      ]
     },
     "execution_count": 63,
     "metadata": {},
     "output_type": "execute_result"
    }
   ],
   "source": [
    "model_test.fit(train_ds.repeat(), epochs=epochs, steps_per_epoch=50, validation_data=val_ds) "
   ]
  },
  {
   "cell_type": "code",
   "execution_count": 64,
   "id": "a0a92fc5",
   "metadata": {
    "ExecuteTime": {
     "end_time": "2022-03-19T18:15:30.195634Z",
     "start_time": "2022-03-19T18:15:29.268825Z"
    }
   },
   "outputs": [
    {
     "name": "stdout",
     "output_type": "stream",
     "text": [
      "5/5 [==============================] - 1s 35ms/step - loss: 0.9892 - accuracy: 0.8521\n"
     ]
    },
    {
     "data": {
      "text/plain": [
       "[0.9891656041145325, 0.8521126508712769]"
      ]
     },
     "execution_count": 64,
     "metadata": {},
     "output_type": "execute_result"
    }
   ],
   "source": [
    "model_test.evaluate(val_ds)"
   ]
  },
  {
   "cell_type": "code",
   "execution_count": 65,
   "id": "52280c99",
   "metadata": {
    "ExecuteTime": {
     "end_time": "2022-03-19T18:15:32.131169Z",
     "start_time": "2022-03-19T18:15:32.036662Z"
    }
   },
   "outputs": [
    {
     "name": "stdout",
     "output_type": "stream",
     "text": [
      "1/1 [==============================] - 0s 58ms/step - loss: 4.6884 - accuracy: 0.6250\n"
     ]
    },
    {
     "data": {
      "text/plain": [
       "[4.688446044921875, 0.625]"
      ]
     },
     "execution_count": 65,
     "metadata": {},
     "output_type": "execute_result"
    }
   ],
   "source": [
    "model_test.evaluate(test_ds)"
   ]
  },
  {
   "cell_type": "markdown",
   "id": "dd4f16de",
   "metadata": {},
   "source": [
    "$\\underline{Remarque :}$  \n",
    "\n",
    "On peut avoir de meilleur résultat en ajoutant plus de nombre de couches, de neurones et de learning rate dans les hyperparamètres. Plus on ajoutera et plus le temps de calcul sera long et plus le modèle aura des chances d'avoir des performances meilleurs. On obtient un résultat d'accuracy de 62.5% sur le test, ce résultat peut être amélioré."
   ]
  }
 ],
 "metadata": {
  "kernelspec": {
   "display_name": "Python 3",
   "language": "python",
   "name": "python3"
  },
  "language_info": {
   "codemirror_mode": {
    "name": "ipython",
    "version": 3
   },
   "file_extension": ".py",
   "mimetype": "text/x-python",
   "name": "python",
   "nbconvert_exporter": "python",
   "pygments_lexer": "ipython3",
   "version": "3.6.5"
  },
  "nbTranslate": {
   "displayLangs": [
    "*"
   ],
   "hotkey": "alt-t",
   "langInMainMenu": true,
   "sourceLang": "en",
   "targetLang": "fr",
   "useGoogleTranslate": true
  },
  "toc": {
   "base_numbering": 1,
   "nav_menu": {},
   "number_sections": true,
   "sideBar": true,
   "skip_h1_title": false,
   "title_cell": "Table of Contents",
   "title_sidebar": "Contents",
   "toc_cell": false,
   "toc_position": {},
   "toc_section_display": true,
   "toc_window_display": true
  },
  "varInspector": {
   "cols": {
    "lenName": 16,
    "lenType": 16,
    "lenVar": 40
   },
   "kernels_config": {
    "python": {
     "delete_cmd_postfix": "",
     "delete_cmd_prefix": "del ",
     "library": "var_list.py",
     "varRefreshCmd": "print(var_dic_list())"
    },
    "r": {
     "delete_cmd_postfix": ") ",
     "delete_cmd_prefix": "rm(",
     "library": "var_list.r",
     "varRefreshCmd": "cat(var_dic_list()) "
    }
   },
   "types_to_exclude": [
    "module",
    "function",
    "builtin_function_or_method",
    "instance",
    "_Feature"
   ],
   "window_display": false
  }
 },
 "nbformat": 4,
 "nbformat_minor": 5
}
