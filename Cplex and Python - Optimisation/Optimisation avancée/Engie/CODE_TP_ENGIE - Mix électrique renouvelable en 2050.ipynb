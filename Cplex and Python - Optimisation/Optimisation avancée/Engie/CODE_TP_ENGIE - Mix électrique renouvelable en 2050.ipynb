{
 "cells": [
  {
   "cell_type": "markdown",
   "id": "bc5f5574",
   "metadata": {},
   "source": [
    "$\\textbf{NOM PRENOM : FLORIAN DARGEL}$"
   ]
  },
  {
   "cell_type": "markdown",
   "id": "7fe37c03",
   "metadata": {},
   "source": [
    "$\\textbf{Importation des packages}$ "
   ]
  },
  {
   "cell_type": "code",
   "execution_count": 157,
   "id": "0cd0ecc1",
   "metadata": {
    "ExecuteTime": {
     "end_time": "2022-05-14T20:07:21.910498Z",
     "start_time": "2022-05-14T20:07:21.891263Z"
    }
   },
   "outputs": [],
   "source": [
    "#Package utile\n",
    "import pandas as pd \n",
    "import matplotlib.pyplot as plt #pour lesgraphiques\n",
    "import seaborn as sns #pour les graphiques"
   ]
  },
  {
   "cell_type": "markdown",
   "id": "3c6cbccc",
   "metadata": {},
   "source": [
    "# Question 1 - Création d'un profil de consommation "
   ]
  },
  {
   "cell_type": "markdown",
   "id": "87960e27",
   "metadata": {},
   "source": [
    "1] Dans la base Eco2Mix, récupérer les données de consommation d’électricité (colonne\n",
    "Consommation (MW)) de l’année 2017. Les données de consommation, exprimées en puissance\n",
    "(MW), sont disponibles pour chaque demi-heure de l’année. Calculer l’énergie consommée en\n",
    "MWh pour chaque demi-heure. Pour chaque heure de cette année, calculer la proportion de la\n",
    "consommation par rapport à la consommation annuelle, de manière à obtenir un profil (en %)."
   ]
  },
  {
   "cell_type": "markdown",
   "id": "5536deb6",
   "metadata": {},
   "source": [
    "$\\textbf{Récuperation de la base de données de l'année 2017}$ "
   ]
  },
  {
   "cell_type": "code",
   "execution_count": 158,
   "id": "a8048c4c",
   "metadata": {
    "ExecuteTime": {
     "end_time": "2022-05-14T20:07:36.774873Z",
     "start_time": "2022-05-14T20:07:35.142285Z"
    }
   },
   "outputs": [
    {
     "name": "stderr",
     "output_type": "stream",
     "text": [
      "C:\\Users\\na_to\\Anaconda3\\lib\\site-packages\\IPython\\core\\interactiveshell.py:2785: DtypeWarning: Columns (23,28) have mixed types.Specify dtype option on import or set low_memory=False.\n",
      "  interactivity=interactivity, compiler=compiler, result=result)\n"
     ]
    },
    {
     "data": {
      "text/html": [
       "<div>\n",
       "<style scoped>\n",
       "    .dataframe tbody tr th:only-of-type {\n",
       "        vertical-align: middle;\n",
       "    }\n",
       "\n",
       "    .dataframe tbody tr th {\n",
       "        vertical-align: top;\n",
       "    }\n",
       "\n",
       "    .dataframe thead th {\n",
       "        text-align: right;\n",
       "    }\n",
       "</style>\n",
       "<table border=\"1\" class=\"dataframe\">\n",
       "  <thead>\n",
       "    <tr style=\"text-align: right;\">\n",
       "      <th></th>\n",
       "      <th>Périmètre</th>\n",
       "      <th>Nature</th>\n",
       "      <th>Date</th>\n",
       "      <th>Heure</th>\n",
       "      <th>Date et Heure</th>\n",
       "      <th>Consommation (MW)</th>\n",
       "      <th>Prévision J-1 (MW)</th>\n",
       "      <th>Prévision J (MW)</th>\n",
       "      <th>Fioul (MW)</th>\n",
       "      <th>Charbon (MW)</th>\n",
       "      <th>...</th>\n",
       "      <th>Gaz - TAC (MW)</th>\n",
       "      <th>Gaz - Cogénération (MW)</th>\n",
       "      <th>Gaz - CCG (MW)</th>\n",
       "      <th>Gaz - Autres (MW)</th>\n",
       "      <th>Hydraulique - Fil de l'eau + éclusée (MW)</th>\n",
       "      <th>Hydraulique - Lacs (MW)</th>\n",
       "      <th>Hydraulique - STEP turbinage (MW)</th>\n",
       "      <th>Bioénergies - Déchets (MW)</th>\n",
       "      <th>Bioénergies - Biomasse (MW)</th>\n",
       "      <th>Bioénergies - Biogaz (MW)</th>\n",
       "    </tr>\n",
       "  </thead>\n",
       "  <tbody>\n",
       "    <tr>\n",
       "      <th>0</th>\n",
       "      <td>France</td>\n",
       "      <td>Données définitives</td>\n",
       "      <td>2015-03-04</td>\n",
       "      <td>12:00</td>\n",
       "      <td>2015-03-04T12:00:00+01:00</td>\n",
       "      <td>71330.0</td>\n",
       "      <td>71200</td>\n",
       "      <td>70400</td>\n",
       "      <td>488.0</td>\n",
       "      <td>2533.0</td>\n",
       "      <td>...</td>\n",
       "      <td>10.0</td>\n",
       "      <td>2343</td>\n",
       "      <td>2261.0</td>\n",
       "      <td>52.0</td>\n",
       "      <td>7170.0</td>\n",
       "      <td>3075.0</td>\n",
       "      <td>1173.0</td>\n",
       "      <td>520.0</td>\n",
       "      <td>209.0</td>\n",
       "      <td>200.0</td>\n",
       "    </tr>\n",
       "    <tr>\n",
       "      <th>1</th>\n",
       "      <td>France</td>\n",
       "      <td>Données définitives</td>\n",
       "      <td>2015-03-04</td>\n",
       "      <td>15:45</td>\n",
       "      <td>2015-03-04T15:45:00+01:00</td>\n",
       "      <td>NaN</td>\n",
       "      <td>65950</td>\n",
       "      <td>64850</td>\n",
       "      <td>NaN</td>\n",
       "      <td>NaN</td>\n",
       "      <td>...</td>\n",
       "      <td>NaN</td>\n",
       "      <td>NaN</td>\n",
       "      <td>NaN</td>\n",
       "      <td>NaN</td>\n",
       "      <td>NaN</td>\n",
       "      <td>NaN</td>\n",
       "      <td>NaN</td>\n",
       "      <td>NaN</td>\n",
       "      <td>NaN</td>\n",
       "      <td>NaN</td>\n",
       "    </tr>\n",
       "    <tr>\n",
       "      <th>2</th>\n",
       "      <td>France</td>\n",
       "      <td>Données définitives</td>\n",
       "      <td>2015-03-04</td>\n",
       "      <td>16:45</td>\n",
       "      <td>2015-03-04T16:45:00+01:00</td>\n",
       "      <td>NaN</td>\n",
       "      <td>64800</td>\n",
       "      <td>63800</td>\n",
       "      <td>NaN</td>\n",
       "      <td>NaN</td>\n",
       "      <td>...</td>\n",
       "      <td>NaN</td>\n",
       "      <td>NaN</td>\n",
       "      <td>NaN</td>\n",
       "      <td>NaN</td>\n",
       "      <td>NaN</td>\n",
       "      <td>NaN</td>\n",
       "      <td>NaN</td>\n",
       "      <td>NaN</td>\n",
       "      <td>NaN</td>\n",
       "      <td>NaN</td>\n",
       "    </tr>\n",
       "    <tr>\n",
       "      <th>3</th>\n",
       "      <td>France</td>\n",
       "      <td>Données définitives</td>\n",
       "      <td>2015-03-04</td>\n",
       "      <td>17:30</td>\n",
       "      <td>2015-03-04T17:30:00+01:00</td>\n",
       "      <td>65013.0</td>\n",
       "      <td>65000</td>\n",
       "      <td>64200</td>\n",
       "      <td>484.0</td>\n",
       "      <td>2303.0</td>\n",
       "      <td>...</td>\n",
       "      <td>10.0</td>\n",
       "      <td>2315</td>\n",
       "      <td>2134.0</td>\n",
       "      <td>52.0</td>\n",
       "      <td>6616.0</td>\n",
       "      <td>2541.0</td>\n",
       "      <td>206.0</td>\n",
       "      <td>517.0</td>\n",
       "      <td>214.0</td>\n",
       "      <td>209.0</td>\n",
       "    </tr>\n",
       "    <tr>\n",
       "      <th>4</th>\n",
       "      <td>France</td>\n",
       "      <td>Données définitives</td>\n",
       "      <td>2015-03-04</td>\n",
       "      <td>18:00</td>\n",
       "      <td>2015-03-04T18:00:00+01:00</td>\n",
       "      <td>66140.0</td>\n",
       "      <td>66200</td>\n",
       "      <td>65700</td>\n",
       "      <td>430.0</td>\n",
       "      <td>2351.0</td>\n",
       "      <td>...</td>\n",
       "      <td>18.0</td>\n",
       "      <td>2347</td>\n",
       "      <td>2209.0</td>\n",
       "      <td>52.0</td>\n",
       "      <td>6822.0</td>\n",
       "      <td>2776.0</td>\n",
       "      <td>271.0</td>\n",
       "      <td>520.0</td>\n",
       "      <td>213.0</td>\n",
       "      <td>208.0</td>\n",
       "    </tr>\n",
       "    <tr>\n",
       "      <th>...</th>\n",
       "      <td>...</td>\n",
       "      <td>...</td>\n",
       "      <td>...</td>\n",
       "      <td>...</td>\n",
       "      <td>...</td>\n",
       "      <td>...</td>\n",
       "      <td>...</td>\n",
       "      <td>...</td>\n",
       "      <td>...</td>\n",
       "      <td>...</td>\n",
       "      <td>...</td>\n",
       "      <td>...</td>\n",
       "      <td>...</td>\n",
       "      <td>...</td>\n",
       "      <td>...</td>\n",
       "      <td>...</td>\n",
       "      <td>...</td>\n",
       "      <td>...</td>\n",
       "      <td>...</td>\n",
       "      <td>...</td>\n",
       "      <td>...</td>\n",
       "    </tr>\n",
       "    <tr>\n",
       "      <th>356347</th>\n",
       "      <td>France</td>\n",
       "      <td>Données définitives</td>\n",
       "      <td>2014-09-07</td>\n",
       "      <td>14:45</td>\n",
       "      <td>2014-09-07T14:45:00+02:00</td>\n",
       "      <td>NaN</td>\n",
       "      <td>40050</td>\n",
       "      <td>40150</td>\n",
       "      <td>NaN</td>\n",
       "      <td>NaN</td>\n",
       "      <td>...</td>\n",
       "      <td>NaN</td>\n",
       "      <td>NaN</td>\n",
       "      <td>NaN</td>\n",
       "      <td>NaN</td>\n",
       "      <td>NaN</td>\n",
       "      <td>NaN</td>\n",
       "      <td>NaN</td>\n",
       "      <td>NaN</td>\n",
       "      <td>NaN</td>\n",
       "      <td>NaN</td>\n",
       "    </tr>\n",
       "    <tr>\n",
       "      <th>356348</th>\n",
       "      <td>France</td>\n",
       "      <td>Données définitives</td>\n",
       "      <td>2014-09-07</td>\n",
       "      <td>16:45</td>\n",
       "      <td>2014-09-07T16:45:00+02:00</td>\n",
       "      <td>NaN</td>\n",
       "      <td>37550</td>\n",
       "      <td>37550</td>\n",
       "      <td>NaN</td>\n",
       "      <td>NaN</td>\n",
       "      <td>...</td>\n",
       "      <td>NaN</td>\n",
       "      <td>NaN</td>\n",
       "      <td>NaN</td>\n",
       "      <td>NaN</td>\n",
       "      <td>NaN</td>\n",
       "      <td>NaN</td>\n",
       "      <td>NaN</td>\n",
       "      <td>NaN</td>\n",
       "      <td>NaN</td>\n",
       "      <td>NaN</td>\n",
       "    </tr>\n",
       "    <tr>\n",
       "      <th>356349</th>\n",
       "      <td>France</td>\n",
       "      <td>Données définitives</td>\n",
       "      <td>2014-09-07</td>\n",
       "      <td>17:15</td>\n",
       "      <td>2014-09-07T17:15:00+02:00</td>\n",
       "      <td>NaN</td>\n",
       "      <td>37500</td>\n",
       "      <td>37500</td>\n",
       "      <td>NaN</td>\n",
       "      <td>NaN</td>\n",
       "      <td>...</td>\n",
       "      <td>NaN</td>\n",
       "      <td>NaN</td>\n",
       "      <td>NaN</td>\n",
       "      <td>NaN</td>\n",
       "      <td>NaN</td>\n",
       "      <td>NaN</td>\n",
       "      <td>NaN</td>\n",
       "      <td>NaN</td>\n",
       "      <td>NaN</td>\n",
       "      <td>NaN</td>\n",
       "    </tr>\n",
       "    <tr>\n",
       "      <th>356350</th>\n",
       "      <td>France</td>\n",
       "      <td>Données définitives</td>\n",
       "      <td>2014-09-07</td>\n",
       "      <td>19:45</td>\n",
       "      <td>2014-09-07T19:45:00+02:00</td>\n",
       "      <td>NaN</td>\n",
       "      <td>41950</td>\n",
       "      <td>41950</td>\n",
       "      <td>NaN</td>\n",
       "      <td>NaN</td>\n",
       "      <td>...</td>\n",
       "      <td>NaN</td>\n",
       "      <td>NaN</td>\n",
       "      <td>NaN</td>\n",
       "      <td>NaN</td>\n",
       "      <td>NaN</td>\n",
       "      <td>NaN</td>\n",
       "      <td>NaN</td>\n",
       "      <td>NaN</td>\n",
       "      <td>NaN</td>\n",
       "      <td>NaN</td>\n",
       "    </tr>\n",
       "    <tr>\n",
       "      <th>356351</th>\n",
       "      <td>France</td>\n",
       "      <td>Données définitives</td>\n",
       "      <td>2014-09-07</td>\n",
       "      <td>23:45</td>\n",
       "      <td>2014-09-07T23:45:00+02:00</td>\n",
       "      <td>NaN</td>\n",
       "      <td>43700</td>\n",
       "      <td>43800</td>\n",
       "      <td>NaN</td>\n",
       "      <td>NaN</td>\n",
       "      <td>...</td>\n",
       "      <td>NaN</td>\n",
       "      <td>NaN</td>\n",
       "      <td>NaN</td>\n",
       "      <td>NaN</td>\n",
       "      <td>NaN</td>\n",
       "      <td>NaN</td>\n",
       "      <td>NaN</td>\n",
       "      <td>NaN</td>\n",
       "      <td>NaN</td>\n",
       "      <td>NaN</td>\n",
       "    </tr>\n",
       "  </tbody>\n",
       "</table>\n",
       "<p>356352 rows × 37 columns</p>\n",
       "</div>"
      ],
      "text/plain": [
       "       Périmètre               Nature        Date  Heure  \\\n",
       "0         France  Données définitives  2015-03-04  12:00   \n",
       "1         France  Données définitives  2015-03-04  15:45   \n",
       "2         France  Données définitives  2015-03-04  16:45   \n",
       "3         France  Données définitives  2015-03-04  17:30   \n",
       "4         France  Données définitives  2015-03-04  18:00   \n",
       "...          ...                  ...         ...    ...   \n",
       "356347    France  Données définitives  2014-09-07  14:45   \n",
       "356348    France  Données définitives  2014-09-07  16:45   \n",
       "356349    France  Données définitives  2014-09-07  17:15   \n",
       "356350    France  Données définitives  2014-09-07  19:45   \n",
       "356351    France  Données définitives  2014-09-07  23:45   \n",
       "\n",
       "                    Date et Heure  Consommation (MW)  Prévision J-1 (MW)  \\\n",
       "0       2015-03-04T12:00:00+01:00            71330.0               71200   \n",
       "1       2015-03-04T15:45:00+01:00                NaN               65950   \n",
       "2       2015-03-04T16:45:00+01:00                NaN               64800   \n",
       "3       2015-03-04T17:30:00+01:00            65013.0               65000   \n",
       "4       2015-03-04T18:00:00+01:00            66140.0               66200   \n",
       "...                           ...                ...                 ...   \n",
       "356347  2014-09-07T14:45:00+02:00                NaN               40050   \n",
       "356348  2014-09-07T16:45:00+02:00                NaN               37550   \n",
       "356349  2014-09-07T17:15:00+02:00                NaN               37500   \n",
       "356350  2014-09-07T19:45:00+02:00                NaN               41950   \n",
       "356351  2014-09-07T23:45:00+02:00                NaN               43700   \n",
       "\n",
       "        Prévision J (MW)  Fioul (MW)  Charbon (MW)  ...  Gaz - TAC (MW)  \\\n",
       "0                  70400       488.0        2533.0  ...            10.0   \n",
       "1                  64850         NaN           NaN  ...             NaN   \n",
       "2                  63800         NaN           NaN  ...             NaN   \n",
       "3                  64200       484.0        2303.0  ...            10.0   \n",
       "4                  65700       430.0        2351.0  ...            18.0   \n",
       "...                  ...         ...           ...  ...             ...   \n",
       "356347             40150         NaN           NaN  ...             NaN   \n",
       "356348             37550         NaN           NaN  ...             NaN   \n",
       "356349             37500         NaN           NaN  ...             NaN   \n",
       "356350             41950         NaN           NaN  ...             NaN   \n",
       "356351             43800         NaN           NaN  ...             NaN   \n",
       "\n",
       "        Gaz - Cogénération (MW)  Gaz - CCG (MW)  Gaz - Autres (MW)  \\\n",
       "0                          2343          2261.0               52.0   \n",
       "1                           NaN             NaN                NaN   \n",
       "2                           NaN             NaN                NaN   \n",
       "3                          2315          2134.0               52.0   \n",
       "4                          2347          2209.0               52.0   \n",
       "...                         ...             ...                ...   \n",
       "356347                      NaN             NaN                NaN   \n",
       "356348                      NaN             NaN                NaN   \n",
       "356349                      NaN             NaN                NaN   \n",
       "356350                      NaN             NaN                NaN   \n",
       "356351                      NaN             NaN                NaN   \n",
       "\n",
       "        Hydraulique - Fil de l'eau + éclusée (MW)  Hydraulique - Lacs (MW)  \\\n",
       "0                                          7170.0                   3075.0   \n",
       "1                                             NaN                      NaN   \n",
       "2                                             NaN                      NaN   \n",
       "3                                          6616.0                   2541.0   \n",
       "4                                          6822.0                   2776.0   \n",
       "...                                           ...                      ...   \n",
       "356347                                        NaN                      NaN   \n",
       "356348                                        NaN                      NaN   \n",
       "356349                                        NaN                      NaN   \n",
       "356350                                        NaN                      NaN   \n",
       "356351                                        NaN                      NaN   \n",
       "\n",
       "        Hydraulique - STEP turbinage (MW)  Bioénergies - Déchets (MW)  \\\n",
       "0                                  1173.0                       520.0   \n",
       "1                                     NaN                         NaN   \n",
       "2                                     NaN                         NaN   \n",
       "3                                   206.0                       517.0   \n",
       "4                                   271.0                       520.0   \n",
       "...                                   ...                         ...   \n",
       "356347                                NaN                         NaN   \n",
       "356348                                NaN                         NaN   \n",
       "356349                                NaN                         NaN   \n",
       "356350                                NaN                         NaN   \n",
       "356351                                NaN                         NaN   \n",
       "\n",
       "        Bioénergies - Biomasse (MW)  Bioénergies - Biogaz (MW)  \n",
       "0                             209.0                      200.0  \n",
       "1                               NaN                        NaN  \n",
       "2                               NaN                        NaN  \n",
       "3                             214.0                      209.0  \n",
       "4                             213.0                      208.0  \n",
       "...                             ...                        ...  \n",
       "356347                          NaN                        NaN  \n",
       "356348                          NaN                        NaN  \n",
       "356349                          NaN                        NaN  \n",
       "356350                          NaN                        NaN  \n",
       "356351                          NaN                        NaN  \n",
       "\n",
       "[356352 rows x 37 columns]"
      ]
     },
     "execution_count": 158,
     "metadata": {},
     "output_type": "execute_result"
    }
   ],
   "source": [
    "#Importation des données\n",
    "data = pd.read_csv(\"eco2mix-national-cons-def.csv\", sep=\";\")\n",
    "data "
   ]
  },
  {
   "cell_type": "code",
   "execution_count": 159,
   "id": "f53f218b",
   "metadata": {
    "ExecuteTime": {
     "end_time": "2022-05-14T20:07:49.447200Z",
     "start_time": "2022-05-14T20:07:49.216559Z"
    }
   },
   "outputs": [],
   "source": [
    "#Ranger l'heure dans l'ordre croissante\n",
    "data = data.sort_values(by=[\"Date\",\"Heure\"])"
   ]
  },
  {
   "cell_type": "code",
   "execution_count": 160,
   "id": "99802a6d",
   "metadata": {
    "ExecuteTime": {
     "end_time": "2022-05-14T20:08:45.709475Z",
     "start_time": "2022-05-14T20:08:02.085164Z"
    }
   },
   "outputs": [],
   "source": [
    "data[\"Date et Heure\"] = pd.to_datetime(data[\"Date et Heure\"],  format=\"%Y-%m-%dT%H:%M:%S\") "
   ]
  },
  {
   "cell_type": "code",
   "execution_count": 161,
   "id": "4e574e04",
   "metadata": {
    "ExecuteTime": {
     "end_time": "2022-05-14T20:08:59.628499Z",
     "start_time": "2022-05-14T20:08:59.117361Z"
    }
   },
   "outputs": [],
   "source": [
    "#Pour avoir l'heure\n",
    "data['hour'] =  data['Date et Heure'].apply(lambda x: str(x.hour))\n",
    "\n",
    "#Pour avoir l'année \n",
    "data['year'] = data['Date et Heure'].apply(lambda x: str(x.year))\n",
    "\n",
    "#Pour avoir le mois \n",
    "data['month'] = data['Date et Heure'].apply(lambda x: str(x.month))\n",
    "\n",
    "#Pour le jour  \n",
    "data['day'] = data['Date et Heure'].apply(lambda x: str(x.day))"
   ]
  },
  {
   "cell_type": "code",
   "execution_count": 162,
   "id": "4f3a24f2",
   "metadata": {
    "ExecuteTime": {
     "end_time": "2022-05-14T20:09:13.224296Z",
     "start_time": "2022-05-14T20:09:12.415309Z"
    }
   },
   "outputs": [
    {
     "name": "stdout",
     "output_type": "stream",
     "text": [
      "les années que nous avons sont ['2012' '2013' '2014' '2015' '2016' '2017' '2018' '2019' '2020' '2021'\n",
      " '2022']\n",
      "les mois que nous avons sont ['1' '10' '11' '12' '2' '3' '4' '5' '6' '7' '8' '9']\n",
      "les jours de semaines que nous avons sont['1' '10' '11' '12' '13' '14' '15' '16' '17' '18' '19' '2' '20' '21' '22'\n",
      " '23' '24' '25' '26' '27' '28' '29' '3' '30' '31' '4' '5' '6' '7' '8' '9']\n"
     ]
    }
   ],
   "source": [
    "print('les années que nous avons sont ' + str(np.unique(data['year'])))\n",
    "print('les mois que nous avons sont '+ str(np.unique(data['month']))) \n",
    "print('les jours de semaines que nous avons sont' +str(np.unique(data['day'])))"
   ]
  },
  {
   "cell_type": "code",
   "execution_count": 163,
   "id": "4c172211",
   "metadata": {
    "ExecuteTime": {
     "end_time": "2022-05-14T20:09:26.350117Z",
     "start_time": "2022-05-14T20:09:26.150181Z"
    }
   },
   "outputs": [],
   "source": [
    "#année 2017 \n",
    "data = data[data[\"year\"] == \"2017\"]"
   ]
  },
  {
   "cell_type": "markdown",
   "id": "d867f9e3",
   "metadata": {},
   "source": [
    "$\\textbf{Energie consommé en MWh pour chaque demi-heure}$ "
   ]
  },
  {
   "cell_type": "markdown",
   "id": "d8abece5",
   "metadata": {},
   "source": [
    "le mégawattheure indique la quantité d'énergie produite et distribuée en une heure par un mégawatt. On souhaite pour chaque demi-heure on va donc $\\underline{multiplié \\; la \\; consommation \\; par \\; 0.5}$"
   ]
  },
  {
   "cell_type": "code",
   "execution_count": 164,
   "id": "61f69380",
   "metadata": {
    "ExecuteTime": {
     "end_time": "2022-05-14T20:09:39.047759Z",
     "start_time": "2022-05-14T20:09:39.002523Z"
    }
   },
   "outputs": [
    {
     "data": {
      "text/plain": [
       "Périmètre                                        0\n",
       "Nature                                           0\n",
       "Date                                             0\n",
       "Heure                                            0\n",
       "Date et Heure                                    0\n",
       "Consommation (MW)                            17520\n",
       "Prévision J-1 (MW)                               0\n",
       "Prévision J (MW)                                 0\n",
       "Fioul (MW)                                   17520\n",
       "Charbon (MW)                                 17520\n",
       "Gaz (MW)                                     17520\n",
       "Nucléaire (MW)                               17520\n",
       "Eolien (MW)                                  17520\n",
       "Solaire (MW)                                 17520\n",
       "Hydraulique (MW)                             17520\n",
       "Pompage (MW)                                 17520\n",
       "Bioénergies (MW)                             17520\n",
       "Ech. physiques (MW)                          17520\n",
       "Taux de CO2 (g/kWh)                          17520\n",
       "Ech. comm. Angleterre (MW)                   17520\n",
       "Ech. comm. Espagne (MW)                      17520\n",
       "Ech. comm. Italie (MW)                       17520\n",
       "Ech. comm. Suisse (MW)                       17520\n",
       "Ech. comm. Allemagne-Belgique (MW)           17520\n",
       "Fioul - TAC (MW)                             17520\n",
       "Fioul - Cogénération (MW)                    17520\n",
       "Fioul - Autres (MW)                          17520\n",
       "Gaz - TAC (MW)                               17520\n",
       "Gaz - Cogénération (MW)                      17520\n",
       "Gaz - CCG (MW)                               17520\n",
       "Gaz - Autres (MW)                            17520\n",
       "Hydraulique - Fil de l'eau + éclusée (MW)    17520\n",
       "Hydraulique - Lacs (MW)                      17520\n",
       "Hydraulique - STEP turbinage (MW)            17520\n",
       "Bioénergies - Déchets (MW)                   17520\n",
       "Bioénergies - Biomasse (MW)                  17520\n",
       "Bioénergies - Biogaz (MW)                    17520\n",
       "hour                                             0\n",
       "year                                             0\n",
       "month                                            0\n",
       "day                                              0\n",
       "dtype: int64"
      ]
     },
     "execution_count": 164,
     "metadata": {},
     "output_type": "execute_result"
    }
   ],
   "source": [
    "data.isnull().sum()"
   ]
  },
  {
   "cell_type": "markdown",
   "id": "55a7920f",
   "metadata": {},
   "source": [
    "Pour l'année 2017, on en a plus de 17520 valeurs manquante sur la consommation, les valeurs manquantes sont les quart d'heures, on va les supprimer car ce qui nous interesse est l'information pour chaque demi heure."
   ]
  },
  {
   "cell_type": "code",
   "execution_count": 165,
   "id": "3602f7ad",
   "metadata": {
    "ExecuteTime": {
     "end_time": "2022-05-14T20:09:50.838759Z",
     "start_time": "2022-05-14T20:09:50.779063Z"
    }
   },
   "outputs": [
    {
     "data": {
      "text/html": [
       "<div>\n",
       "<style scoped>\n",
       "    .dataframe tbody tr th:only-of-type {\n",
       "        vertical-align: middle;\n",
       "    }\n",
       "\n",
       "    .dataframe tbody tr th {\n",
       "        vertical-align: top;\n",
       "    }\n",
       "\n",
       "    .dataframe thead th {\n",
       "        text-align: right;\n",
       "    }\n",
       "</style>\n",
       "<table border=\"1\" class=\"dataframe\">\n",
       "  <thead>\n",
       "    <tr style=\"text-align: right;\">\n",
       "      <th></th>\n",
       "      <th>Périmètre</th>\n",
       "      <th>Nature</th>\n",
       "      <th>Date</th>\n",
       "      <th>Heure</th>\n",
       "      <th>Date et Heure</th>\n",
       "      <th>Consommation (MW)</th>\n",
       "      <th>Prévision J-1 (MW)</th>\n",
       "      <th>Prévision J (MW)</th>\n",
       "      <th>Fioul (MW)</th>\n",
       "      <th>Charbon (MW)</th>\n",
       "      <th>...</th>\n",
       "      <th>Hydraulique - Fil de l'eau + éclusée (MW)</th>\n",
       "      <th>Hydraulique - Lacs (MW)</th>\n",
       "      <th>Hydraulique - STEP turbinage (MW)</th>\n",
       "      <th>Bioénergies - Déchets (MW)</th>\n",
       "      <th>Bioénergies - Biomasse (MW)</th>\n",
       "      <th>Bioénergies - Biogaz (MW)</th>\n",
       "      <th>hour</th>\n",
       "      <th>year</th>\n",
       "      <th>month</th>\n",
       "      <th>day</th>\n",
       "    </tr>\n",
       "  </thead>\n",
       "  <tbody>\n",
       "    <tr>\n",
       "      <th>243544</th>\n",
       "      <td>France</td>\n",
       "      <td>Données définitives</td>\n",
       "      <td>2017-01-01</td>\n",
       "      <td>00:00</td>\n",
       "      <td>2017-01-01 00:00:00+01:00</td>\n",
       "      <td>76259.0</td>\n",
       "      <td>76100</td>\n",
       "      <td>76500</td>\n",
       "      <td>164.0</td>\n",
       "      <td>1579.0</td>\n",
       "      <td>...</td>\n",
       "      <td>2592.0</td>\n",
       "      <td>3454.0</td>\n",
       "      <td>498.0</td>\n",
       "      <td>559.0</td>\n",
       "      <td>286.0</td>\n",
       "      <td>245.0</td>\n",
       "      <td>0</td>\n",
       "      <td>2017</td>\n",
       "      <td>1</td>\n",
       "      <td>1</td>\n",
       "    </tr>\n",
       "    <tr>\n",
       "      <th>265662</th>\n",
       "      <td>France</td>\n",
       "      <td>Données définitives</td>\n",
       "      <td>2017-01-01</td>\n",
       "      <td>00:30</td>\n",
       "      <td>2017-01-01 00:30:00+01:00</td>\n",
       "      <td>74981.0</td>\n",
       "      <td>74900</td>\n",
       "      <td>75100</td>\n",
       "      <td>601.0</td>\n",
       "      <td>1506.0</td>\n",
       "      <td>...</td>\n",
       "      <td>2717.0</td>\n",
       "      <td>3671.0</td>\n",
       "      <td>533.0</td>\n",
       "      <td>559.0</td>\n",
       "      <td>285.0</td>\n",
       "      <td>256.0</td>\n",
       "      <td>0</td>\n",
       "      <td>2017</td>\n",
       "      <td>1</td>\n",
       "      <td>1</td>\n",
       "    </tr>\n",
       "    <tr>\n",
       "      <th>265663</th>\n",
       "      <td>France</td>\n",
       "      <td>Données définitives</td>\n",
       "      <td>2017-01-01</td>\n",
       "      <td>01:00</td>\n",
       "      <td>2017-01-01 01:00:00+01:00</td>\n",
       "      <td>72912.0</td>\n",
       "      <td>73400</td>\n",
       "      <td>73400</td>\n",
       "      <td>596.0</td>\n",
       "      <td>1291.0</td>\n",
       "      <td>...</td>\n",
       "      <td>2661.0</td>\n",
       "      <td>2522.0</td>\n",
       "      <td>385.0</td>\n",
       "      <td>556.0</td>\n",
       "      <td>283.0</td>\n",
       "      <td>252.0</td>\n",
       "      <td>1</td>\n",
       "      <td>2017</td>\n",
       "      <td>1</td>\n",
       "      <td>1</td>\n",
       "    </tr>\n",
       "    <tr>\n",
       "      <th>243546</th>\n",
       "      <td>France</td>\n",
       "      <td>Données définitives</td>\n",
       "      <td>2017-01-01</td>\n",
       "      <td>01:30</td>\n",
       "      <td>2017-01-01 01:30:00+01:00</td>\n",
       "      <td>72682.0</td>\n",
       "      <td>73900</td>\n",
       "      <td>73900</td>\n",
       "      <td>587.0</td>\n",
       "      <td>1028.0</td>\n",
       "      <td>...</td>\n",
       "      <td>2537.0</td>\n",
       "      <td>2452.0</td>\n",
       "      <td>427.0</td>\n",
       "      <td>558.0</td>\n",
       "      <td>285.0</td>\n",
       "      <td>256.0</td>\n",
       "      <td>1</td>\n",
       "      <td>2017</td>\n",
       "      <td>1</td>\n",
       "      <td>1</td>\n",
       "    </tr>\n",
       "    <tr>\n",
       "      <th>5518</th>\n",
       "      <td>France</td>\n",
       "      <td>Données définitives</td>\n",
       "      <td>2017-01-01</td>\n",
       "      <td>02:00</td>\n",
       "      <td>2017-01-01 02:00:00+01:00</td>\n",
       "      <td>72166.0</td>\n",
       "      <td>73300</td>\n",
       "      <td>73300</td>\n",
       "      <td>599.0</td>\n",
       "      <td>1024.0</td>\n",
       "      <td>...</td>\n",
       "      <td>2426.0</td>\n",
       "      <td>2387.0</td>\n",
       "      <td>272.0</td>\n",
       "      <td>560.0</td>\n",
       "      <td>285.0</td>\n",
       "      <td>255.0</td>\n",
       "      <td>2</td>\n",
       "      <td>2017</td>\n",
       "      <td>1</td>\n",
       "      <td>1</td>\n",
       "    </tr>\n",
       "    <tr>\n",
       "      <th>...</th>\n",
       "      <td>...</td>\n",
       "      <td>...</td>\n",
       "      <td>...</td>\n",
       "      <td>...</td>\n",
       "      <td>...</td>\n",
       "      <td>...</td>\n",
       "      <td>...</td>\n",
       "      <td>...</td>\n",
       "      <td>...</td>\n",
       "      <td>...</td>\n",
       "      <td>...</td>\n",
       "      <td>...</td>\n",
       "      <td>...</td>\n",
       "      <td>...</td>\n",
       "      <td>...</td>\n",
       "      <td>...</td>\n",
       "      <td>...</td>\n",
       "      <td>...</td>\n",
       "      <td>...</td>\n",
       "      <td>...</td>\n",
       "      <td>...</td>\n",
       "    </tr>\n",
       "    <tr>\n",
       "      <th>136010</th>\n",
       "      <td>France</td>\n",
       "      <td>Données définitives</td>\n",
       "      <td>2017-12-31</td>\n",
       "      <td>21:30</td>\n",
       "      <td>2017-12-31 21:30:00+01:00</td>\n",
       "      <td>56739.0</td>\n",
       "      <td>53500</td>\n",
       "      <td>53300</td>\n",
       "      <td>164.0</td>\n",
       "      <td>34.0</td>\n",
       "      <td>...</td>\n",
       "      <td>5712.0</td>\n",
       "      <td>990.0</td>\n",
       "      <td>376.0</td>\n",
       "      <td>583.0</td>\n",
       "      <td>285.0</td>\n",
       "      <td>281.0</td>\n",
       "      <td>21</td>\n",
       "      <td>2017</td>\n",
       "      <td>12</td>\n",
       "      <td>31</td>\n",
       "    </tr>\n",
       "    <tr>\n",
       "      <th>136011</th>\n",
       "      <td>France</td>\n",
       "      <td>Données définitives</td>\n",
       "      <td>2017-12-31</td>\n",
       "      <td>22:00</td>\n",
       "      <td>2017-12-31 22:00:00+01:00</td>\n",
       "      <td>56233.0</td>\n",
       "      <td>53000</td>\n",
       "      <td>52800</td>\n",
       "      <td>164.0</td>\n",
       "      <td>34.0</td>\n",
       "      <td>...</td>\n",
       "      <td>5748.0</td>\n",
       "      <td>1009.0</td>\n",
       "      <td>0.0</td>\n",
       "      <td>586.0</td>\n",
       "      <td>296.0</td>\n",
       "      <td>281.0</td>\n",
       "      <td>22</td>\n",
       "      <td>2017</td>\n",
       "      <td>12</td>\n",
       "      <td>31</td>\n",
       "    </tr>\n",
       "    <tr>\n",
       "      <th>133235</th>\n",
       "      <td>France</td>\n",
       "      <td>Données définitives</td>\n",
       "      <td>2017-12-31</td>\n",
       "      <td>22:30</td>\n",
       "      <td>2017-12-31 22:30:00+01:00</td>\n",
       "      <td>57239.0</td>\n",
       "      <td>54700</td>\n",
       "      <td>54500</td>\n",
       "      <td>164.0</td>\n",
       "      <td>37.0</td>\n",
       "      <td>...</td>\n",
       "      <td>5769.0</td>\n",
       "      <td>1075.0</td>\n",
       "      <td>2.0</td>\n",
       "      <td>592.0</td>\n",
       "      <td>299.0</td>\n",
       "      <td>280.0</td>\n",
       "      <td>22</td>\n",
       "      <td>2017</td>\n",
       "      <td>12</td>\n",
       "      <td>31</td>\n",
       "    </tr>\n",
       "    <tr>\n",
       "      <th>14595</th>\n",
       "      <td>France</td>\n",
       "      <td>Données définitives</td>\n",
       "      <td>2017-12-31</td>\n",
       "      <td>23:00</td>\n",
       "      <td>2017-12-31 23:00:00+01:00</td>\n",
       "      <td>60642.0</td>\n",
       "      <td>57300</td>\n",
       "      <td>57100</td>\n",
       "      <td>164.0</td>\n",
       "      <td>37.0</td>\n",
       "      <td>...</td>\n",
       "      <td>6003.0</td>\n",
       "      <td>1906.0</td>\n",
       "      <td>444.0</td>\n",
       "      <td>591.0</td>\n",
       "      <td>291.0</td>\n",
       "      <td>279.0</td>\n",
       "      <td>23</td>\n",
       "      <td>2017</td>\n",
       "      <td>12</td>\n",
       "      <td>31</td>\n",
       "    </tr>\n",
       "    <tr>\n",
       "      <th>133237</th>\n",
       "      <td>France</td>\n",
       "      <td>Données définitives</td>\n",
       "      <td>2017-12-31</td>\n",
       "      <td>23:30</td>\n",
       "      <td>2017-12-31 23:30:00+01:00</td>\n",
       "      <td>60479.0</td>\n",
       "      <td>57300</td>\n",
       "      <td>57200</td>\n",
       "      <td>165.0</td>\n",
       "      <td>37.0</td>\n",
       "      <td>...</td>\n",
       "      <td>5968.0</td>\n",
       "      <td>1401.0</td>\n",
       "      <td>343.0</td>\n",
       "      <td>597.0</td>\n",
       "      <td>289.0</td>\n",
       "      <td>278.0</td>\n",
       "      <td>23</td>\n",
       "      <td>2017</td>\n",
       "      <td>12</td>\n",
       "      <td>31</td>\n",
       "    </tr>\n",
       "  </tbody>\n",
       "</table>\n",
       "<p>17520 rows × 41 columns</p>\n",
       "</div>"
      ],
      "text/plain": [
       "       Périmètre               Nature        Date  Heure  \\\n",
       "243544    France  Données définitives  2017-01-01  00:00   \n",
       "265662    France  Données définitives  2017-01-01  00:30   \n",
       "265663    France  Données définitives  2017-01-01  01:00   \n",
       "243546    France  Données définitives  2017-01-01  01:30   \n",
       "5518      France  Données définitives  2017-01-01  02:00   \n",
       "...          ...                  ...         ...    ...   \n",
       "136010    France  Données définitives  2017-12-31  21:30   \n",
       "136011    France  Données définitives  2017-12-31  22:00   \n",
       "133235    France  Données définitives  2017-12-31  22:30   \n",
       "14595     France  Données définitives  2017-12-31  23:00   \n",
       "133237    France  Données définitives  2017-12-31  23:30   \n",
       "\n",
       "                    Date et Heure  Consommation (MW)  Prévision J-1 (MW)  \\\n",
       "243544  2017-01-01 00:00:00+01:00            76259.0               76100   \n",
       "265662  2017-01-01 00:30:00+01:00            74981.0               74900   \n",
       "265663  2017-01-01 01:00:00+01:00            72912.0               73400   \n",
       "243546  2017-01-01 01:30:00+01:00            72682.0               73900   \n",
       "5518    2017-01-01 02:00:00+01:00            72166.0               73300   \n",
       "...                           ...                ...                 ...   \n",
       "136010  2017-12-31 21:30:00+01:00            56739.0               53500   \n",
       "136011  2017-12-31 22:00:00+01:00            56233.0               53000   \n",
       "133235  2017-12-31 22:30:00+01:00            57239.0               54700   \n",
       "14595   2017-12-31 23:00:00+01:00            60642.0               57300   \n",
       "133237  2017-12-31 23:30:00+01:00            60479.0               57300   \n",
       "\n",
       "        Prévision J (MW)  Fioul (MW)  Charbon (MW)  ...  \\\n",
       "243544             76500       164.0        1579.0  ...   \n",
       "265662             75100       601.0        1506.0  ...   \n",
       "265663             73400       596.0        1291.0  ...   \n",
       "243546             73900       587.0        1028.0  ...   \n",
       "5518               73300       599.0        1024.0  ...   \n",
       "...                  ...         ...           ...  ...   \n",
       "136010             53300       164.0          34.0  ...   \n",
       "136011             52800       164.0          34.0  ...   \n",
       "133235             54500       164.0          37.0  ...   \n",
       "14595              57100       164.0          37.0  ...   \n",
       "133237             57200       165.0          37.0  ...   \n",
       "\n",
       "        Hydraulique - Fil de l'eau + éclusée (MW)  Hydraulique - Lacs (MW)  \\\n",
       "243544                                     2592.0                   3454.0   \n",
       "265662                                     2717.0                   3671.0   \n",
       "265663                                     2661.0                   2522.0   \n",
       "243546                                     2537.0                   2452.0   \n",
       "5518                                       2426.0                   2387.0   \n",
       "...                                           ...                      ...   \n",
       "136010                                     5712.0                    990.0   \n",
       "136011                                     5748.0                   1009.0   \n",
       "133235                                     5769.0                   1075.0   \n",
       "14595                                      6003.0                   1906.0   \n",
       "133237                                     5968.0                   1401.0   \n",
       "\n",
       "        Hydraulique - STEP turbinage (MW)  Bioénergies - Déchets (MW)  \\\n",
       "243544                              498.0                       559.0   \n",
       "265662                              533.0                       559.0   \n",
       "265663                              385.0                       556.0   \n",
       "243546                              427.0                       558.0   \n",
       "5518                                272.0                       560.0   \n",
       "...                                   ...                         ...   \n",
       "136010                              376.0                       583.0   \n",
       "136011                                0.0                       586.0   \n",
       "133235                                2.0                       592.0   \n",
       "14595                               444.0                       591.0   \n",
       "133237                              343.0                       597.0   \n",
       "\n",
       "        Bioénergies - Biomasse (MW)  Bioénergies - Biogaz (MW)  hour  year  \\\n",
       "243544                        286.0                      245.0     0  2017   \n",
       "265662                        285.0                      256.0     0  2017   \n",
       "265663                        283.0                      252.0     1  2017   \n",
       "243546                        285.0                      256.0     1  2017   \n",
       "5518                          285.0                      255.0     2  2017   \n",
       "...                             ...                        ...   ...   ...   \n",
       "136010                        285.0                      281.0    21  2017   \n",
       "136011                        296.0                      281.0    22  2017   \n",
       "133235                        299.0                      280.0    22  2017   \n",
       "14595                         291.0                      279.0    23  2017   \n",
       "133237                        289.0                      278.0    23  2017   \n",
       "\n",
       "        month  day  \n",
       "243544      1    1  \n",
       "265662      1    1  \n",
       "265663      1    1  \n",
       "243546      1    1  \n",
       "5518        1    1  \n",
       "...       ...  ...  \n",
       "136010     12   31  \n",
       "136011     12   31  \n",
       "133235     12   31  \n",
       "14595      12   31  \n",
       "133237     12   31  \n",
       "\n",
       "[17520 rows x 41 columns]"
      ]
     },
     "execution_count": 165,
     "metadata": {},
     "output_type": "execute_result"
    }
   ],
   "source": [
    "#Supression valeur manquante consommation\n",
    "data = data[data['Consommation (MW)'].notna()]\n",
    "data "
   ]
  },
  {
   "cell_type": "code",
   "execution_count": 166,
   "id": "8059f2ce",
   "metadata": {
    "ExecuteTime": {
     "end_time": "2022-05-14T20:10:02.926839Z",
     "start_time": "2022-05-14T20:10:02.912872Z"
    }
   },
   "outputs": [],
   "source": [
    "data[\"energie\"] = 0.5 * data['Consommation (MW)']"
   ]
  },
  {
   "cell_type": "code",
   "execution_count": 167,
   "id": "958ed2e8",
   "metadata": {
    "ExecuteTime": {
     "end_time": "2022-05-14T20:10:15.323824Z",
     "start_time": "2022-05-14T20:10:15.263222Z"
    }
   },
   "outputs": [
    {
     "data": {
      "text/html": [
       "<div>\n",
       "<style scoped>\n",
       "    .dataframe tbody tr th:only-of-type {\n",
       "        vertical-align: middle;\n",
       "    }\n",
       "\n",
       "    .dataframe tbody tr th {\n",
       "        vertical-align: top;\n",
       "    }\n",
       "\n",
       "    .dataframe thead th {\n",
       "        text-align: right;\n",
       "    }\n",
       "</style>\n",
       "<table border=\"1\" class=\"dataframe\">\n",
       "  <thead>\n",
       "    <tr style=\"text-align: right;\">\n",
       "      <th></th>\n",
       "      <th>Périmètre</th>\n",
       "      <th>Nature</th>\n",
       "      <th>Date</th>\n",
       "      <th>Heure</th>\n",
       "      <th>Date et Heure</th>\n",
       "      <th>Consommation (MW)</th>\n",
       "      <th>Prévision J-1 (MW)</th>\n",
       "      <th>Prévision J (MW)</th>\n",
       "      <th>Fioul (MW)</th>\n",
       "      <th>Charbon (MW)</th>\n",
       "      <th>...</th>\n",
       "      <th>Hydraulique - Lacs (MW)</th>\n",
       "      <th>Hydraulique - STEP turbinage (MW)</th>\n",
       "      <th>Bioénergies - Déchets (MW)</th>\n",
       "      <th>Bioénergies - Biomasse (MW)</th>\n",
       "      <th>Bioénergies - Biogaz (MW)</th>\n",
       "      <th>hour</th>\n",
       "      <th>year</th>\n",
       "      <th>month</th>\n",
       "      <th>day</th>\n",
       "      <th>energie</th>\n",
       "    </tr>\n",
       "  </thead>\n",
       "  <tbody>\n",
       "    <tr>\n",
       "      <th>243544</th>\n",
       "      <td>France</td>\n",
       "      <td>Données définitives</td>\n",
       "      <td>2017-01-01</td>\n",
       "      <td>00:00</td>\n",
       "      <td>2017-01-01 00:00:00+01:00</td>\n",
       "      <td>76259.0</td>\n",
       "      <td>76100</td>\n",
       "      <td>76500</td>\n",
       "      <td>164.0</td>\n",
       "      <td>1579.0</td>\n",
       "      <td>...</td>\n",
       "      <td>3454.0</td>\n",
       "      <td>498.0</td>\n",
       "      <td>559.0</td>\n",
       "      <td>286.0</td>\n",
       "      <td>245.0</td>\n",
       "      <td>0</td>\n",
       "      <td>2017</td>\n",
       "      <td>1</td>\n",
       "      <td>1</td>\n",
       "      <td>38129.5</td>\n",
       "    </tr>\n",
       "    <tr>\n",
       "      <th>265662</th>\n",
       "      <td>France</td>\n",
       "      <td>Données définitives</td>\n",
       "      <td>2017-01-01</td>\n",
       "      <td>00:30</td>\n",
       "      <td>2017-01-01 00:30:00+01:00</td>\n",
       "      <td>74981.0</td>\n",
       "      <td>74900</td>\n",
       "      <td>75100</td>\n",
       "      <td>601.0</td>\n",
       "      <td>1506.0</td>\n",
       "      <td>...</td>\n",
       "      <td>3671.0</td>\n",
       "      <td>533.0</td>\n",
       "      <td>559.0</td>\n",
       "      <td>285.0</td>\n",
       "      <td>256.0</td>\n",
       "      <td>0</td>\n",
       "      <td>2017</td>\n",
       "      <td>1</td>\n",
       "      <td>1</td>\n",
       "      <td>37490.5</td>\n",
       "    </tr>\n",
       "    <tr>\n",
       "      <th>265663</th>\n",
       "      <td>France</td>\n",
       "      <td>Données définitives</td>\n",
       "      <td>2017-01-01</td>\n",
       "      <td>01:00</td>\n",
       "      <td>2017-01-01 01:00:00+01:00</td>\n",
       "      <td>72912.0</td>\n",
       "      <td>73400</td>\n",
       "      <td>73400</td>\n",
       "      <td>596.0</td>\n",
       "      <td>1291.0</td>\n",
       "      <td>...</td>\n",
       "      <td>2522.0</td>\n",
       "      <td>385.0</td>\n",
       "      <td>556.0</td>\n",
       "      <td>283.0</td>\n",
       "      <td>252.0</td>\n",
       "      <td>1</td>\n",
       "      <td>2017</td>\n",
       "      <td>1</td>\n",
       "      <td>1</td>\n",
       "      <td>36456.0</td>\n",
       "    </tr>\n",
       "    <tr>\n",
       "      <th>243546</th>\n",
       "      <td>France</td>\n",
       "      <td>Données définitives</td>\n",
       "      <td>2017-01-01</td>\n",
       "      <td>01:30</td>\n",
       "      <td>2017-01-01 01:30:00+01:00</td>\n",
       "      <td>72682.0</td>\n",
       "      <td>73900</td>\n",
       "      <td>73900</td>\n",
       "      <td>587.0</td>\n",
       "      <td>1028.0</td>\n",
       "      <td>...</td>\n",
       "      <td>2452.0</td>\n",
       "      <td>427.0</td>\n",
       "      <td>558.0</td>\n",
       "      <td>285.0</td>\n",
       "      <td>256.0</td>\n",
       "      <td>1</td>\n",
       "      <td>2017</td>\n",
       "      <td>1</td>\n",
       "      <td>1</td>\n",
       "      <td>36341.0</td>\n",
       "    </tr>\n",
       "    <tr>\n",
       "      <th>5518</th>\n",
       "      <td>France</td>\n",
       "      <td>Données définitives</td>\n",
       "      <td>2017-01-01</td>\n",
       "      <td>02:00</td>\n",
       "      <td>2017-01-01 02:00:00+01:00</td>\n",
       "      <td>72166.0</td>\n",
       "      <td>73300</td>\n",
       "      <td>73300</td>\n",
       "      <td>599.0</td>\n",
       "      <td>1024.0</td>\n",
       "      <td>...</td>\n",
       "      <td>2387.0</td>\n",
       "      <td>272.0</td>\n",
       "      <td>560.0</td>\n",
       "      <td>285.0</td>\n",
       "      <td>255.0</td>\n",
       "      <td>2</td>\n",
       "      <td>2017</td>\n",
       "      <td>1</td>\n",
       "      <td>1</td>\n",
       "      <td>36083.0</td>\n",
       "    </tr>\n",
       "    <tr>\n",
       "      <th>...</th>\n",
       "      <td>...</td>\n",
       "      <td>...</td>\n",
       "      <td>...</td>\n",
       "      <td>...</td>\n",
       "      <td>...</td>\n",
       "      <td>...</td>\n",
       "      <td>...</td>\n",
       "      <td>...</td>\n",
       "      <td>...</td>\n",
       "      <td>...</td>\n",
       "      <td>...</td>\n",
       "      <td>...</td>\n",
       "      <td>...</td>\n",
       "      <td>...</td>\n",
       "      <td>...</td>\n",
       "      <td>...</td>\n",
       "      <td>...</td>\n",
       "      <td>...</td>\n",
       "      <td>...</td>\n",
       "      <td>...</td>\n",
       "      <td>...</td>\n",
       "    </tr>\n",
       "    <tr>\n",
       "      <th>136010</th>\n",
       "      <td>France</td>\n",
       "      <td>Données définitives</td>\n",
       "      <td>2017-12-31</td>\n",
       "      <td>21:30</td>\n",
       "      <td>2017-12-31 21:30:00+01:00</td>\n",
       "      <td>56739.0</td>\n",
       "      <td>53500</td>\n",
       "      <td>53300</td>\n",
       "      <td>164.0</td>\n",
       "      <td>34.0</td>\n",
       "      <td>...</td>\n",
       "      <td>990.0</td>\n",
       "      <td>376.0</td>\n",
       "      <td>583.0</td>\n",
       "      <td>285.0</td>\n",
       "      <td>281.0</td>\n",
       "      <td>21</td>\n",
       "      <td>2017</td>\n",
       "      <td>12</td>\n",
       "      <td>31</td>\n",
       "      <td>28369.5</td>\n",
       "    </tr>\n",
       "    <tr>\n",
       "      <th>136011</th>\n",
       "      <td>France</td>\n",
       "      <td>Données définitives</td>\n",
       "      <td>2017-12-31</td>\n",
       "      <td>22:00</td>\n",
       "      <td>2017-12-31 22:00:00+01:00</td>\n",
       "      <td>56233.0</td>\n",
       "      <td>53000</td>\n",
       "      <td>52800</td>\n",
       "      <td>164.0</td>\n",
       "      <td>34.0</td>\n",
       "      <td>...</td>\n",
       "      <td>1009.0</td>\n",
       "      <td>0.0</td>\n",
       "      <td>586.0</td>\n",
       "      <td>296.0</td>\n",
       "      <td>281.0</td>\n",
       "      <td>22</td>\n",
       "      <td>2017</td>\n",
       "      <td>12</td>\n",
       "      <td>31</td>\n",
       "      <td>28116.5</td>\n",
       "    </tr>\n",
       "    <tr>\n",
       "      <th>133235</th>\n",
       "      <td>France</td>\n",
       "      <td>Données définitives</td>\n",
       "      <td>2017-12-31</td>\n",
       "      <td>22:30</td>\n",
       "      <td>2017-12-31 22:30:00+01:00</td>\n",
       "      <td>57239.0</td>\n",
       "      <td>54700</td>\n",
       "      <td>54500</td>\n",
       "      <td>164.0</td>\n",
       "      <td>37.0</td>\n",
       "      <td>...</td>\n",
       "      <td>1075.0</td>\n",
       "      <td>2.0</td>\n",
       "      <td>592.0</td>\n",
       "      <td>299.0</td>\n",
       "      <td>280.0</td>\n",
       "      <td>22</td>\n",
       "      <td>2017</td>\n",
       "      <td>12</td>\n",
       "      <td>31</td>\n",
       "      <td>28619.5</td>\n",
       "    </tr>\n",
       "    <tr>\n",
       "      <th>14595</th>\n",
       "      <td>France</td>\n",
       "      <td>Données définitives</td>\n",
       "      <td>2017-12-31</td>\n",
       "      <td>23:00</td>\n",
       "      <td>2017-12-31 23:00:00+01:00</td>\n",
       "      <td>60642.0</td>\n",
       "      <td>57300</td>\n",
       "      <td>57100</td>\n",
       "      <td>164.0</td>\n",
       "      <td>37.0</td>\n",
       "      <td>...</td>\n",
       "      <td>1906.0</td>\n",
       "      <td>444.0</td>\n",
       "      <td>591.0</td>\n",
       "      <td>291.0</td>\n",
       "      <td>279.0</td>\n",
       "      <td>23</td>\n",
       "      <td>2017</td>\n",
       "      <td>12</td>\n",
       "      <td>31</td>\n",
       "      <td>30321.0</td>\n",
       "    </tr>\n",
       "    <tr>\n",
       "      <th>133237</th>\n",
       "      <td>France</td>\n",
       "      <td>Données définitives</td>\n",
       "      <td>2017-12-31</td>\n",
       "      <td>23:30</td>\n",
       "      <td>2017-12-31 23:30:00+01:00</td>\n",
       "      <td>60479.0</td>\n",
       "      <td>57300</td>\n",
       "      <td>57200</td>\n",
       "      <td>165.0</td>\n",
       "      <td>37.0</td>\n",
       "      <td>...</td>\n",
       "      <td>1401.0</td>\n",
       "      <td>343.0</td>\n",
       "      <td>597.0</td>\n",
       "      <td>289.0</td>\n",
       "      <td>278.0</td>\n",
       "      <td>23</td>\n",
       "      <td>2017</td>\n",
       "      <td>12</td>\n",
       "      <td>31</td>\n",
       "      <td>30239.5</td>\n",
       "    </tr>\n",
       "  </tbody>\n",
       "</table>\n",
       "<p>17520 rows × 42 columns</p>\n",
       "</div>"
      ],
      "text/plain": [
       "       Périmètre               Nature        Date  Heure  \\\n",
       "243544    France  Données définitives  2017-01-01  00:00   \n",
       "265662    France  Données définitives  2017-01-01  00:30   \n",
       "265663    France  Données définitives  2017-01-01  01:00   \n",
       "243546    France  Données définitives  2017-01-01  01:30   \n",
       "5518      France  Données définitives  2017-01-01  02:00   \n",
       "...          ...                  ...         ...    ...   \n",
       "136010    France  Données définitives  2017-12-31  21:30   \n",
       "136011    France  Données définitives  2017-12-31  22:00   \n",
       "133235    France  Données définitives  2017-12-31  22:30   \n",
       "14595     France  Données définitives  2017-12-31  23:00   \n",
       "133237    France  Données définitives  2017-12-31  23:30   \n",
       "\n",
       "                    Date et Heure  Consommation (MW)  Prévision J-1 (MW)  \\\n",
       "243544  2017-01-01 00:00:00+01:00            76259.0               76100   \n",
       "265662  2017-01-01 00:30:00+01:00            74981.0               74900   \n",
       "265663  2017-01-01 01:00:00+01:00            72912.0               73400   \n",
       "243546  2017-01-01 01:30:00+01:00            72682.0               73900   \n",
       "5518    2017-01-01 02:00:00+01:00            72166.0               73300   \n",
       "...                           ...                ...                 ...   \n",
       "136010  2017-12-31 21:30:00+01:00            56739.0               53500   \n",
       "136011  2017-12-31 22:00:00+01:00            56233.0               53000   \n",
       "133235  2017-12-31 22:30:00+01:00            57239.0               54700   \n",
       "14595   2017-12-31 23:00:00+01:00            60642.0               57300   \n",
       "133237  2017-12-31 23:30:00+01:00            60479.0               57300   \n",
       "\n",
       "        Prévision J (MW)  Fioul (MW)  Charbon (MW)  ...  \\\n",
       "243544             76500       164.0        1579.0  ...   \n",
       "265662             75100       601.0        1506.0  ...   \n",
       "265663             73400       596.0        1291.0  ...   \n",
       "243546             73900       587.0        1028.0  ...   \n",
       "5518               73300       599.0        1024.0  ...   \n",
       "...                  ...         ...           ...  ...   \n",
       "136010             53300       164.0          34.0  ...   \n",
       "136011             52800       164.0          34.0  ...   \n",
       "133235             54500       164.0          37.0  ...   \n",
       "14595              57100       164.0          37.0  ...   \n",
       "133237             57200       165.0          37.0  ...   \n",
       "\n",
       "        Hydraulique - Lacs (MW)  Hydraulique - STEP turbinage (MW)  \\\n",
       "243544                   3454.0                              498.0   \n",
       "265662                   3671.0                              533.0   \n",
       "265663                   2522.0                              385.0   \n",
       "243546                   2452.0                              427.0   \n",
       "5518                     2387.0                              272.0   \n",
       "...                         ...                                ...   \n",
       "136010                    990.0                              376.0   \n",
       "136011                   1009.0                                0.0   \n",
       "133235                   1075.0                                2.0   \n",
       "14595                    1906.0                              444.0   \n",
       "133237                   1401.0                              343.0   \n",
       "\n",
       "        Bioénergies - Déchets (MW)  Bioénergies - Biomasse (MW)  \\\n",
       "243544                       559.0                        286.0   \n",
       "265662                       559.0                        285.0   \n",
       "265663                       556.0                        283.0   \n",
       "243546                       558.0                        285.0   \n",
       "5518                         560.0                        285.0   \n",
       "...                            ...                          ...   \n",
       "136010                       583.0                        285.0   \n",
       "136011                       586.0                        296.0   \n",
       "133235                       592.0                        299.0   \n",
       "14595                        591.0                        291.0   \n",
       "133237                       597.0                        289.0   \n",
       "\n",
       "        Bioénergies - Biogaz (MW)  hour  year  month  day  energie  \n",
       "243544                      245.0     0  2017      1    1  38129.5  \n",
       "265662                      256.0     0  2017      1    1  37490.5  \n",
       "265663                      252.0     1  2017      1    1  36456.0  \n",
       "243546                      256.0     1  2017      1    1  36341.0  \n",
       "5518                        255.0     2  2017      1    1  36083.0  \n",
       "...                           ...   ...   ...    ...  ...      ...  \n",
       "136010                      281.0    21  2017     12   31  28369.5  \n",
       "136011                      281.0    22  2017     12   31  28116.5  \n",
       "133235                      280.0    22  2017     12   31  28619.5  \n",
       "14595                       279.0    23  2017     12   31  30321.0  \n",
       "133237                      278.0    23  2017     12   31  30239.5  \n",
       "\n",
       "[17520 rows x 42 columns]"
      ]
     },
     "execution_count": 167,
     "metadata": {},
     "output_type": "execute_result"
    }
   ],
   "source": [
    "data "
   ]
  },
  {
   "cell_type": "markdown",
   "id": "def999bb",
   "metadata": {
    "ExecuteTime": {
     "end_time": "2022-05-10T18:51:27.467361Z",
     "start_time": "2022-05-10T18:51:27.448243Z"
    }
   },
   "source": [
    "Pour chaque heure de cette année, calculer la proportion de la consommation par rapport à la consommation annuelle, de manière à obtenir un profil (en %)."
   ]
  },
  {
   "cell_type": "code",
   "execution_count": 168,
   "id": "8ca7eb3d",
   "metadata": {
    "ExecuteTime": {
     "end_time": "2022-05-14T20:10:27.665233Z",
     "start_time": "2022-05-14T20:10:27.621634Z"
    }
   },
   "outputs": [
    {
     "name": "stdout",
     "output_type": "stream",
     "text": [
      "La consommation total de 2017 en MW 479044647.5\n"
     ]
    },
    {
     "data": {
      "text/html": [
       "<div>\n",
       "<style scoped>\n",
       "    .dataframe tbody tr th:only-of-type {\n",
       "        vertical-align: middle;\n",
       "    }\n",
       "\n",
       "    .dataframe tbody tr th {\n",
       "        vertical-align: top;\n",
       "    }\n",
       "\n",
       "    .dataframe thead th {\n",
       "        text-align: right;\n",
       "    }\n",
       "</style>\n",
       "<table border=\"1\" class=\"dataframe\">\n",
       "  <thead>\n",
       "    <tr style=\"text-align: right;\">\n",
       "      <th></th>\n",
       "      <th>Date</th>\n",
       "      <th>hour</th>\n",
       "      <th>energie</th>\n",
       "      <th>Profil(%)</th>\n",
       "    </tr>\n",
       "  </thead>\n",
       "  <tbody>\n",
       "    <tr>\n",
       "      <th>0</th>\n",
       "      <td>2017-01-01</td>\n",
       "      <td>0</td>\n",
       "      <td>75620.0</td>\n",
       "      <td>0.000158</td>\n",
       "    </tr>\n",
       "    <tr>\n",
       "      <th>1</th>\n",
       "      <td>2017-01-01</td>\n",
       "      <td>1</td>\n",
       "      <td>72797.0</td>\n",
       "      <td>0.000152</td>\n",
       "    </tr>\n",
       "    <tr>\n",
       "      <th>2</th>\n",
       "      <td>2017-01-01</td>\n",
       "      <td>10</td>\n",
       "      <td>66820.0</td>\n",
       "      <td>0.000139</td>\n",
       "    </tr>\n",
       "    <tr>\n",
       "      <th>3</th>\n",
       "      <td>2017-01-01</td>\n",
       "      <td>11</td>\n",
       "      <td>68446.0</td>\n",
       "      <td>0.000143</td>\n",
       "    </tr>\n",
       "    <tr>\n",
       "      <th>4</th>\n",
       "      <td>2017-01-01</td>\n",
       "      <td>12</td>\n",
       "      <td>70100.5</td>\n",
       "      <td>0.000146</td>\n",
       "    </tr>\n",
       "    <tr>\n",
       "      <th>...</th>\n",
       "      <td>...</td>\n",
       "      <td>...</td>\n",
       "      <td>...</td>\n",
       "      <td>...</td>\n",
       "    </tr>\n",
       "    <tr>\n",
       "      <th>8754</th>\n",
       "      <td>2017-12-31</td>\n",
       "      <td>5</td>\n",
       "      <td>48121.5</td>\n",
       "      <td>0.000100</td>\n",
       "    </tr>\n",
       "    <tr>\n",
       "      <th>8755</th>\n",
       "      <td>2017-12-31</td>\n",
       "      <td>6</td>\n",
       "      <td>49192.0</td>\n",
       "      <td>0.000103</td>\n",
       "    </tr>\n",
       "    <tr>\n",
       "      <th>8756</th>\n",
       "      <td>2017-12-31</td>\n",
       "      <td>7</td>\n",
       "      <td>50500.0</td>\n",
       "      <td>0.000105</td>\n",
       "    </tr>\n",
       "    <tr>\n",
       "      <th>8757</th>\n",
       "      <td>2017-12-31</td>\n",
       "      <td>8</td>\n",
       "      <td>52101.0</td>\n",
       "      <td>0.000109</td>\n",
       "    </tr>\n",
       "    <tr>\n",
       "      <th>8758</th>\n",
       "      <td>2017-12-31</td>\n",
       "      <td>9</td>\n",
       "      <td>53880.5</td>\n",
       "      <td>0.000112</td>\n",
       "    </tr>\n",
       "  </tbody>\n",
       "</table>\n",
       "<p>8759 rows × 4 columns</p>\n",
       "</div>"
      ],
      "text/plain": [
       "            Date hour  energie  Profil(%)\n",
       "0     2017-01-01    0  75620.0   0.000158\n",
       "1     2017-01-01    1  72797.0   0.000152\n",
       "2     2017-01-01   10  66820.0   0.000139\n",
       "3     2017-01-01   11  68446.0   0.000143\n",
       "4     2017-01-01   12  70100.5   0.000146\n",
       "...          ...  ...      ...        ...\n",
       "8754  2017-12-31    5  48121.5   0.000100\n",
       "8755  2017-12-31    6  49192.0   0.000103\n",
       "8756  2017-12-31    7  50500.0   0.000105\n",
       "8757  2017-12-31    8  52101.0   0.000109\n",
       "8758  2017-12-31    9  53880.5   0.000112\n",
       "\n",
       "[8759 rows x 4 columns]"
      ]
     },
     "execution_count": 168,
     "metadata": {},
     "output_type": "execute_result"
    }
   ],
   "source": [
    "data_bis=data.groupby(['Date','hour'])['energie'].sum().to_frame().reset_index()\n",
    "energie_total=data_bis['energie'].sum()\n",
    "print('La consommation total de 2017 en MW',energie_total)\n",
    "data_bis['Profil(%)']=data_bis['energie']/energie_total\n",
    "data_bis "
   ]
  },
  {
   "cell_type": "code",
   "execution_count": 169,
   "id": "2db09ea5",
   "metadata": {
    "ExecuteTime": {
     "end_time": "2022-05-14T20:10:40.110947Z",
     "start_time": "2022-05-14T20:10:40.036424Z"
    }
   },
   "outputs": [],
   "source": [
    "#Exportation du fichier en format csv\n",
    "data_bis.to_csv('q1_1.csv')"
   ]
  },
  {
   "cell_type": "markdown",
   "id": "037803f2",
   "metadata": {},
   "source": [
    "On a calculé l'énergie consommé en MWH pour chaque demi-heure (présent dans la colonne energie)"
   ]
  },
  {
   "cell_type": "markdown",
   "id": "2c832e67",
   "metadata": {
    "ExecuteTime": {
     "end_time": "2022-05-10T19:21:27.012812Z",
     "start_time": "2022-05-10T19:21:26.991552Z"
    }
   },
   "source": [
    "## Appliquer ce profil à une consommation d’électricité annuelle de 600 TWh, de manière à obtenir pour chaque heure de cette année une consommation (en TWh)."
   ]
  },
  {
   "cell_type": "markdown",
   "id": "ca298301",
   "metadata": {},
   "source": [
    "On a 600 TWh = 600 000 000 MWh"
   ]
  },
  {
   "cell_type": "code",
   "execution_count": 170,
   "id": "dd99917a",
   "metadata": {
    "ExecuteTime": {
     "end_time": "2022-05-14T20:10:52.886265Z",
     "start_time": "2022-05-14T20:10:52.858387Z"
    }
   },
   "outputs": [
    {
     "data": {
      "text/html": [
       "<div>\n",
       "<style scoped>\n",
       "    .dataframe tbody tr th:only-of-type {\n",
       "        vertical-align: middle;\n",
       "    }\n",
       "\n",
       "    .dataframe tbody tr th {\n",
       "        vertical-align: top;\n",
       "    }\n",
       "\n",
       "    .dataframe thead th {\n",
       "        text-align: right;\n",
       "    }\n",
       "</style>\n",
       "<table border=\"1\" class=\"dataframe\">\n",
       "  <thead>\n",
       "    <tr style=\"text-align: right;\">\n",
       "      <th></th>\n",
       "      <th>Date</th>\n",
       "      <th>hour</th>\n",
       "      <th>energie</th>\n",
       "      <th>Profil(%)</th>\n",
       "      <th>conso_600</th>\n",
       "    </tr>\n",
       "  </thead>\n",
       "  <tbody>\n",
       "    <tr>\n",
       "      <th>0</th>\n",
       "      <td>2017-01-01</td>\n",
       "      <td>0</td>\n",
       "      <td>75620.0</td>\n",
       "      <td>0.000158</td>\n",
       "      <td>94713.509976</td>\n",
       "    </tr>\n",
       "    <tr>\n",
       "      <th>1</th>\n",
       "      <td>2017-01-01</td>\n",
       "      <td>1</td>\n",
       "      <td>72797.0</td>\n",
       "      <td>0.000152</td>\n",
       "      <td>91177.722636</td>\n",
       "    </tr>\n",
       "    <tr>\n",
       "      <th>2</th>\n",
       "      <td>2017-01-01</td>\n",
       "      <td>10</td>\n",
       "      <td>66820.0</td>\n",
       "      <td>0.000139</td>\n",
       "      <td>83691.572819</td>\n",
       "    </tr>\n",
       "    <tr>\n",
       "      <th>3</th>\n",
       "      <td>2017-01-01</td>\n",
       "      <td>11</td>\n",
       "      <td>68446.0</td>\n",
       "      <td>0.000143</td>\n",
       "      <td>85728.126208</td>\n",
       "    </tr>\n",
       "    <tr>\n",
       "      <th>4</th>\n",
       "      <td>2017-01-01</td>\n",
       "      <td>12</td>\n",
       "      <td>70100.5</td>\n",
       "      <td>0.000146</td>\n",
       "      <td>87800.375642</td>\n",
       "    </tr>\n",
       "    <tr>\n",
       "      <th>...</th>\n",
       "      <td>...</td>\n",
       "      <td>...</td>\n",
       "      <td>...</td>\n",
       "      <td>...</td>\n",
       "      <td>...</td>\n",
       "    </tr>\n",
       "    <tr>\n",
       "      <th>8754</th>\n",
       "      <td>2017-12-31</td>\n",
       "      <td>5</td>\n",
       "      <td>48121.5</td>\n",
       "      <td>0.000100</td>\n",
       "      <td>60271.835101</td>\n",
       "    </tr>\n",
       "    <tr>\n",
       "      <th>8755</th>\n",
       "      <td>2017-12-31</td>\n",
       "      <td>6</td>\n",
       "      <td>49192.0</td>\n",
       "      <td>0.000103</td>\n",
       "      <td>61612.628706</td>\n",
       "    </tr>\n",
       "    <tr>\n",
       "      <th>8756</th>\n",
       "      <td>2017-12-31</td>\n",
       "      <td>7</td>\n",
       "      <td>50500.0</td>\n",
       "      <td>0.000105</td>\n",
       "      <td>63250.889365</td>\n",
       "    </tr>\n",
       "    <tr>\n",
       "      <th>8757</th>\n",
       "      <td>2017-12-31</td>\n",
       "      <td>8</td>\n",
       "      <td>52101.0</td>\n",
       "      <td>0.000109</td>\n",
       "      <td>65256.130432</td>\n",
       "    </tr>\n",
       "    <tr>\n",
       "      <th>8758</th>\n",
       "      <td>2017-12-31</td>\n",
       "      <td>9</td>\n",
       "      <td>53880.5</td>\n",
       "      <td>0.000112</td>\n",
       "      <td>67484.941474</td>\n",
       "    </tr>\n",
       "  </tbody>\n",
       "</table>\n",
       "<p>8759 rows × 5 columns</p>\n",
       "</div>"
      ],
      "text/plain": [
       "            Date hour  energie  Profil(%)     conso_600\n",
       "0     2017-01-01    0  75620.0   0.000158  94713.509976\n",
       "1     2017-01-01    1  72797.0   0.000152  91177.722636\n",
       "2     2017-01-01   10  66820.0   0.000139  83691.572819\n",
       "3     2017-01-01   11  68446.0   0.000143  85728.126208\n",
       "4     2017-01-01   12  70100.5   0.000146  87800.375642\n",
       "...          ...  ...      ...        ...           ...\n",
       "8754  2017-12-31    5  48121.5   0.000100  60271.835101\n",
       "8755  2017-12-31    6  49192.0   0.000103  61612.628706\n",
       "8756  2017-12-31    7  50500.0   0.000105  63250.889365\n",
       "8757  2017-12-31    8  52101.0   0.000109  65256.130432\n",
       "8758  2017-12-31    9  53880.5   0.000112  67484.941474\n",
       "\n",
       "[8759 rows x 5 columns]"
      ]
     },
     "execution_count": 170,
     "metadata": {},
     "output_type": "execute_result"
    }
   ],
   "source": [
    "data_bis['conso_600']=data_bis['Profil(%)'] * 600000000 #on exprime la consommation en MWH\n",
    "data_bis"
   ]
  },
  {
   "cell_type": "code",
   "execution_count": 54,
   "id": "8136a16b",
   "metadata": {
    "ExecuteTime": {
     "end_time": "2022-05-14T13:58:33.520736Z",
     "start_time": "2022-05-14T13:58:33.431181Z"
    }
   },
   "outputs": [],
   "source": [
    "#Exportation du fichier en format csv\n",
    "data_bis.to_csv('q1_2.csv')"
   ]
  },
  {
   "cell_type": "markdown",
   "id": "d9d7fecd",
   "metadata": {},
   "source": [
    "## Quelles variations de consommation peut-on observer à différentes granularités temporelles (journée, semaine, mois, année) ? Pouvez-vous expliquer ces variations ? "
   ]
  },
  {
   "cell_type": "markdown",
   "id": "b0e4aa5e",
   "metadata": {},
   "source": [
    "On observe que la consommation est moins elevée vers la moitié du l'année c'est à dire vers le mois de mai, juin, juillet, août. L'energie est plus consommé dans les période hivernale en métropole (gaz et electricité)."
   ]
  },
  {
   "cell_type": "code",
   "execution_count": 171,
   "id": "7f93a4c8",
   "metadata": {
    "ExecuteTime": {
     "end_time": "2022-05-14T20:11:06.127857Z",
     "start_time": "2022-05-14T20:11:06.081087Z"
    }
   },
   "outputs": [
    {
     "name": "stderr",
     "output_type": "stream",
     "text": [
      "C:\\Users\\na_to\\Anaconda3\\lib\\site-packages\\ipykernel_launcher.py:4: FutureWarning: weekofyear and week have been deprecated, please use DatetimeIndex.isocalendar().week instead, which returns a Series.  To exactly reproduce the behavior of week and weekofyear and return an Index, you may call pd.Int64Index(idx.isocalendar().week)\n",
      "  after removing the cwd from sys.path.\n"
     ]
    },
    {
     "data": {
      "text/html": [
       "<div>\n",
       "<style scoped>\n",
       "    .dataframe tbody tr th:only-of-type {\n",
       "        vertical-align: middle;\n",
       "    }\n",
       "\n",
       "    .dataframe tbody tr th {\n",
       "        vertical-align: top;\n",
       "    }\n",
       "\n",
       "    .dataframe thead th {\n",
       "        text-align: right;\n",
       "    }\n",
       "</style>\n",
       "<table border=\"1\" class=\"dataframe\">\n",
       "  <thead>\n",
       "    <tr style=\"text-align: right;\">\n",
       "      <th></th>\n",
       "      <th>Date</th>\n",
       "      <th>hour</th>\n",
       "      <th>energie</th>\n",
       "      <th>Profil(%)</th>\n",
       "      <th>conso_600</th>\n",
       "      <th>month</th>\n",
       "      <th>day</th>\n",
       "      <th>day_week</th>\n",
       "      <th>week</th>\n",
       "    </tr>\n",
       "  </thead>\n",
       "  <tbody>\n",
       "    <tr>\n",
       "      <th>0</th>\n",
       "      <td>2017-01-01</td>\n",
       "      <td>0</td>\n",
       "      <td>75620.0</td>\n",
       "      <td>0.000158</td>\n",
       "      <td>94713.509976</td>\n",
       "      <td>1</td>\n",
       "      <td>1</td>\n",
       "      <td>6</td>\n",
       "      <td>52</td>\n",
       "    </tr>\n",
       "    <tr>\n",
       "      <th>1</th>\n",
       "      <td>2017-01-01</td>\n",
       "      <td>1</td>\n",
       "      <td>72797.0</td>\n",
       "      <td>0.000152</td>\n",
       "      <td>91177.722636</td>\n",
       "      <td>1</td>\n",
       "      <td>1</td>\n",
       "      <td>6</td>\n",
       "      <td>52</td>\n",
       "    </tr>\n",
       "    <tr>\n",
       "      <th>2</th>\n",
       "      <td>2017-01-01</td>\n",
       "      <td>10</td>\n",
       "      <td>66820.0</td>\n",
       "      <td>0.000139</td>\n",
       "      <td>83691.572819</td>\n",
       "      <td>1</td>\n",
       "      <td>1</td>\n",
       "      <td>6</td>\n",
       "      <td>52</td>\n",
       "    </tr>\n",
       "    <tr>\n",
       "      <th>3</th>\n",
       "      <td>2017-01-01</td>\n",
       "      <td>11</td>\n",
       "      <td>68446.0</td>\n",
       "      <td>0.000143</td>\n",
       "      <td>85728.126208</td>\n",
       "      <td>1</td>\n",
       "      <td>1</td>\n",
       "      <td>6</td>\n",
       "      <td>52</td>\n",
       "    </tr>\n",
       "    <tr>\n",
       "      <th>4</th>\n",
       "      <td>2017-01-01</td>\n",
       "      <td>12</td>\n",
       "      <td>70100.5</td>\n",
       "      <td>0.000146</td>\n",
       "      <td>87800.375642</td>\n",
       "      <td>1</td>\n",
       "      <td>1</td>\n",
       "      <td>6</td>\n",
       "      <td>52</td>\n",
       "    </tr>\n",
       "    <tr>\n",
       "      <th>...</th>\n",
       "      <td>...</td>\n",
       "      <td>...</td>\n",
       "      <td>...</td>\n",
       "      <td>...</td>\n",
       "      <td>...</td>\n",
       "      <td>...</td>\n",
       "      <td>...</td>\n",
       "      <td>...</td>\n",
       "      <td>...</td>\n",
       "    </tr>\n",
       "    <tr>\n",
       "      <th>8754</th>\n",
       "      <td>2017-12-31</td>\n",
       "      <td>5</td>\n",
       "      <td>48121.5</td>\n",
       "      <td>0.000100</td>\n",
       "      <td>60271.835101</td>\n",
       "      <td>12</td>\n",
       "      <td>31</td>\n",
       "      <td>6</td>\n",
       "      <td>52</td>\n",
       "    </tr>\n",
       "    <tr>\n",
       "      <th>8755</th>\n",
       "      <td>2017-12-31</td>\n",
       "      <td>6</td>\n",
       "      <td>49192.0</td>\n",
       "      <td>0.000103</td>\n",
       "      <td>61612.628706</td>\n",
       "      <td>12</td>\n",
       "      <td>31</td>\n",
       "      <td>6</td>\n",
       "      <td>52</td>\n",
       "    </tr>\n",
       "    <tr>\n",
       "      <th>8756</th>\n",
       "      <td>2017-12-31</td>\n",
       "      <td>7</td>\n",
       "      <td>50500.0</td>\n",
       "      <td>0.000105</td>\n",
       "      <td>63250.889365</td>\n",
       "      <td>12</td>\n",
       "      <td>31</td>\n",
       "      <td>6</td>\n",
       "      <td>52</td>\n",
       "    </tr>\n",
       "    <tr>\n",
       "      <th>8757</th>\n",
       "      <td>2017-12-31</td>\n",
       "      <td>8</td>\n",
       "      <td>52101.0</td>\n",
       "      <td>0.000109</td>\n",
       "      <td>65256.130432</td>\n",
       "      <td>12</td>\n",
       "      <td>31</td>\n",
       "      <td>6</td>\n",
       "      <td>52</td>\n",
       "    </tr>\n",
       "    <tr>\n",
       "      <th>8758</th>\n",
       "      <td>2017-12-31</td>\n",
       "      <td>9</td>\n",
       "      <td>53880.5</td>\n",
       "      <td>0.000112</td>\n",
       "      <td>67484.941474</td>\n",
       "      <td>12</td>\n",
       "      <td>31</td>\n",
       "      <td>6</td>\n",
       "      <td>52</td>\n",
       "    </tr>\n",
       "  </tbody>\n",
       "</table>\n",
       "<p>8759 rows × 9 columns</p>\n",
       "</div>"
      ],
      "text/plain": [
       "            Date hour  energie  Profil(%)     conso_600  month  day  day_week  \\\n",
       "0     2017-01-01    0  75620.0   0.000158  94713.509976      1    1         6   \n",
       "1     2017-01-01    1  72797.0   0.000152  91177.722636      1    1         6   \n",
       "2     2017-01-01   10  66820.0   0.000139  83691.572819      1    1         6   \n",
       "3     2017-01-01   11  68446.0   0.000143  85728.126208      1    1         6   \n",
       "4     2017-01-01   12  70100.5   0.000146  87800.375642      1    1         6   \n",
       "...          ...  ...      ...        ...           ...    ...  ...       ...   \n",
       "8754  2017-12-31    5  48121.5   0.000100  60271.835101     12   31         6   \n",
       "8755  2017-12-31    6  49192.0   0.000103  61612.628706     12   31         6   \n",
       "8756  2017-12-31    7  50500.0   0.000105  63250.889365     12   31         6   \n",
       "8757  2017-12-31    8  52101.0   0.000109  65256.130432     12   31         6   \n",
       "8758  2017-12-31    9  53880.5   0.000112  67484.941474     12   31         6   \n",
       "\n",
       "      week  \n",
       "0       52  \n",
       "1       52  \n",
       "2       52  \n",
       "3       52  \n",
       "4       52  \n",
       "...    ...  \n",
       "8754    52  \n",
       "8755    52  \n",
       "8756    52  \n",
       "8757    52  \n",
       "8758    52  \n",
       "\n",
       "[8759 rows x 9 columns]"
      ]
     },
     "execution_count": 171,
     "metadata": {},
     "output_type": "execute_result"
    }
   ],
   "source": [
    "data_bis['month'] = pd.DatetimeIndex(data_bis['Date']).month #selectionne les mois\n",
    "data_bis['day'] = pd.DatetimeIndex(data_bis['Date']).day #selectionne les jours sur 1 mois\n",
    "data_bis ['day_week'] = pd.DatetimeIndex(data_bis['Date']).dayofweek #selectonne les jours sur 1 semaine\n",
    "data_bis ['week'] = pd.DatetimeIndex(data_bis['Date']).week\n",
    "data_bis"
   ]
  },
  {
   "cell_type": "markdown",
   "id": "6f2a4800",
   "metadata": {},
   "source": [
    "$\\textbf{Sur les jours de semaine}$"
   ]
  },
  {
   "cell_type": "code",
   "execution_count": 56,
   "id": "ca3a63e8",
   "metadata": {
    "ExecuteTime": {
     "end_time": "2022-05-14T13:58:49.819611Z",
     "start_time": "2022-05-14T13:58:33.803482Z"
    }
   },
   "outputs": [
    {
     "data": {
      "text/plain": [
       "[Text(0.5, 1.0, \"Sur l'année\")]"
      ]
     },
     "execution_count": 56,
     "metadata": {},
     "output_type": "execute_result"
    },
    {
     "data": {
      "image/png": "[encoded data removed]",
      "text/plain": [
       "<Figure size 1440x1440 with 6 Axes>"
      ]
     },
     "metadata": {},
     "output_type": "display_data"
    }
   ],
   "source": [
    "figure, ((ax1,ax2), (ax3,ax4), (ax5,ax6) ) = plt.subplots(nrows=3, ncols=2)\n",
    "figure.set_size_inches(20,20)\n",
    "#sur les mois \n",
    "x_month_list = ['Janvier', 'Fevrier', 'Mars', 'Avril', 'Mai', 'Juin', 'Juillet', 'Août', 'Septembre', 'Octobre', 'Novembre', 'Decembre']\n",
    "sns.barplot(data=data_bis, x=\"month\", y=\"conso_600\", ax=ax1)\n",
    "ax1.set(title = \"month\")\n",
    "ax1.set_xticklabels(x_month_list)\n",
    "\n",
    "#sur les jours (365)\n",
    "sns.barplot(data=data_bis, x=\"day\", y=\"conso_600\", ax=ax2)\n",
    "ax2.set(title = \"day\")\n",
    "\n",
    "#sur les jours de semaines\n",
    "x_dayweek_list = ['Lundi', 'Mardi', 'Mercredi', 'Jeudi', 'Vendredi', 'Samedi', 'Dimanche']\n",
    "sns.barplot(data=data_bis, x=\"day_week\", y=\"conso_600\",ax=ax3)\n",
    "ax3.set(title = \"Jour de semaine\")\n",
    "ax3.set_xticklabels(x_dayweek_list)\n",
    "\n",
    "#pour chaque semaines (1 à 52)\n",
    "sns.barplot(data=data_bis, x=\"week\", y=\"conso_600\", ax=ax4)\n",
    "ax4.set(title = \"week\")\n",
    "\n",
    "#sur l'année 2017\n",
    "sns.lineplot(data=data_bis, x=\"Date\", y=\"conso_600\",ax=ax5)\n",
    "ax5.set(title = \"Sur l'année\")"
   ]
  },
  {
   "cell_type": "markdown",
   "id": "d3fbb406",
   "metadata": {},
   "source": [
    "En analysant l'ensemble des graphiques, on observe que  la consommation d’électricité en été change par rapport à celle observée l’hiver. Notamment, en raison des vacances, de la non-utilisation du chauffage, de la diminution d’utilisation de l’éclairage… La demande en électricité est donc plus faible en hiver. Néanmoins, plus la température augmente en été, plus le besoin en électricité augmente également. En effet, plus il fait chaud, plus les gens utilisent la ventilation et la climatisation. Mais la consommation n'est pas très importante par rapport en hiver. En hiver, la consommation d’électricité est beaucoup plus importante qu’en été, notamment, avec l’utilisation plus importante et plus longue des chauffages et des lampes.\n",
    "\n",
    "$\\textbf{Sur l'année 2017}$ \n",
    "\n",
    "    Lorsqu'on observe les consommations sur chaque jour on observe des oscilations de consommation  qui decroient du début de l'année jusqu'à la moitié de l'année puis qui devient croissant de la moitié de l'année jusqu'à la fin de l'année. \n",
    "\n",
    "\n",
    "\n",
    "$\\textbf{Sur les mois}$ (Janvier, Fevrier, Mars, Avril, Mai, Juin, Juillet, Août, Septembre, Octobre, Novembre, Decembre\n",
    "\n",
    "    On observe que la consommation est moins elevée vers la moitié du l'année c'est à dire vers le mois de mai, juin, juillet, août. L'energie est plus consommé dans les période hivernale en métropole (gaz et electricité).\n",
    "\n",
    "$\\textbf{Sur les jours de semaines} (Lundi, mardi, mercredi, jeudi, vendredi, samedi, dimanche)$ \n",
    "\n",
    "    On observe que la consommation est moins important le week-end que en jour de semaine (le dimanche reste le jour où l'on consomme le moins). La grande majorité des entreprises sont fermées le dimanche, c'est une des raisons qu'il y ait moins de consommation. Les gens peuvent aussi réaliser des activés à l'exterieur que de rester chez soit et consommé de l'électricité.\n",
    "\n",
    "$\\textbf{Sur les jours du mois}$ \n",
    "    \n",
    "    On observe pas de grande différence, sur un mois, la différence de  consommation ne varie pas beaucoup "
   ]
  },
  {
   "cell_type": "markdown",
   "id": "ae92f06e",
   "metadata": {},
   "source": [
    "# Question 2 – Création de profils de production renouvelable "
   ]
  },
  {
   "cell_type": "markdown",
   "id": "88a6bc25",
   "metadata": {},
   "source": [
    "## Dans la base Eco2Mix, récupérer les données de production d’électricité éolienne (colonne Eolien (MW)) et solaire (colonne Solaire (MW)) de 2017. Les données de production sont exprimées en puissance pour chaque demi-heure. Calculer l’énergie produite, en MWh, pour chaque heure de l’année."
   ]
  },
  {
   "cell_type": "markdown",
   "id": "cd5b5068",
   "metadata": {
    "ExecuteTime": {
     "end_time": "2022-05-13T18:28:48.721742Z",
     "start_time": "2022-05-13T18:28:48.705167Z"
    }
   },
   "source": [
    "$\\textbf{Récupération les données de production d’électricité éolienne (colonne Eolien (MW)) et solaire (colonne Solaire (MW)) de 2017}$ "
   ]
  },
  {
   "cell_type": "code",
   "execution_count": 172,
   "id": "f93e264c",
   "metadata": {
    "ExecuteTime": {
     "end_time": "2022-05-14T20:11:21.032788Z",
     "start_time": "2022-05-14T20:11:19.619013Z"
    }
   },
   "outputs": [
    {
     "name": "stderr",
     "output_type": "stream",
     "text": [
      "C:\\Users\\na_to\\Anaconda3\\lib\\site-packages\\IPython\\core\\interactiveshell.py:2785: DtypeWarning: Columns (23,28) have mixed types.Specify dtype option on import or set low_memory=False.\n",
      "  interactivity=interactivity, compiler=compiler, result=result)\n"
     ]
    }
   ],
   "source": [
    "data_parc = pd.read_csv(\"parc-prod-par-filiere.csv\", sep=\";\")\n",
    "data_eco = pd.read_csv(\"eco2mix-national-cons-def.csv\", sep=\";\")\n",
    "#data_parc = data_parc[['Annee','Parc eolien (MW)','Parc solaire (MW)']]\n",
    "#data_parc = data_parc[data_parc[\"Annee\"] == \"2017\"]\n",
    "#data_parc"
   ]
  },
  {
   "cell_type": "code",
   "execution_count": 173,
   "id": "51ff153d",
   "metadata": {
    "ExecuteTime": {
     "end_time": "2022-05-14T20:11:33.555728Z",
     "start_time": "2022-05-14T20:11:33.370972Z"
    }
   },
   "outputs": [],
   "source": [
    "#trie dans l'ordre croissant la date et l'heure\n",
    "data_eco = data_eco.sort_values(by = ['Date','Heure'])"
   ]
  },
  {
   "cell_type": "code",
   "execution_count": 174,
   "id": "c2b8aaf8",
   "metadata": {
    "ExecuteTime": {
     "end_time": "2022-05-14T20:11:44.940423Z",
     "start_time": "2022-05-14T20:11:44.881457Z"
    }
   },
   "outputs": [
    {
     "data": {
      "text/html": [
       "<div>\n",
       "<style scoped>\n",
       "    .dataframe tbody tr th:only-of-type {\n",
       "        vertical-align: middle;\n",
       "    }\n",
       "\n",
       "    .dataframe tbody tr th {\n",
       "        vertical-align: top;\n",
       "    }\n",
       "\n",
       "    .dataframe thead th {\n",
       "        text-align: right;\n",
       "    }\n",
       "</style>\n",
       "<table border=\"1\" class=\"dataframe\">\n",
       "  <thead>\n",
       "    <tr style=\"text-align: right;\">\n",
       "      <th></th>\n",
       "      <th>Date</th>\n",
       "      <th>Heure</th>\n",
       "      <th>Date et Heure</th>\n",
       "      <th>Eolien (MW)</th>\n",
       "      <th>Solaire (MW)</th>\n",
       "    </tr>\n",
       "  </thead>\n",
       "  <tbody>\n",
       "    <tr>\n",
       "      <th>97574</th>\n",
       "      <td>2012-01-01</td>\n",
       "      <td>00:00</td>\n",
       "      <td>2012-01-01T00:00:00+01:00</td>\n",
       "      <td>3588.0</td>\n",
       "      <td>0.0</td>\n",
       "    </tr>\n",
       "    <tr>\n",
       "      <th>141213</th>\n",
       "      <td>2012-01-01</td>\n",
       "      <td>00:15</td>\n",
       "      <td>2012-01-01T00:15:00+01:00</td>\n",
       "      <td>NaN</td>\n",
       "      <td>NaN</td>\n",
       "    </tr>\n",
       "    <tr>\n",
       "      <th>325784</th>\n",
       "      <td>2012-01-01</td>\n",
       "      <td>00:30</td>\n",
       "      <td>2012-01-01T00:30:00+01:00</td>\n",
       "      <td>3588.0</td>\n",
       "      <td>0.0</td>\n",
       "    </tr>\n",
       "    <tr>\n",
       "      <th>325787</th>\n",
       "      <td>2012-01-01</td>\n",
       "      <td>00:45</td>\n",
       "      <td>2012-01-01T00:45:00+01:00</td>\n",
       "      <td>NaN</td>\n",
       "      <td>NaN</td>\n",
       "    </tr>\n",
       "    <tr>\n",
       "      <th>325790</th>\n",
       "      <td>2012-01-01</td>\n",
       "      <td>01:00</td>\n",
       "      <td>2012-01-01T01:00:00+01:00</td>\n",
       "      <td>3536.0</td>\n",
       "      <td>0.0</td>\n",
       "    </tr>\n",
       "    <tr>\n",
       "      <th>...</th>\n",
       "      <td>...</td>\n",
       "      <td>...</td>\n",
       "      <td>...</td>\n",
       "      <td>...</td>\n",
       "      <td>...</td>\n",
       "    </tr>\n",
       "    <tr>\n",
       "      <th>255921</th>\n",
       "      <td>2022-02-28</td>\n",
       "      <td>22:45</td>\n",
       "      <td>2022-02-28T22:45:00+01:00</td>\n",
       "      <td>NaN</td>\n",
       "      <td>NaN</td>\n",
       "    </tr>\n",
       "    <tr>\n",
       "      <th>5969</th>\n",
       "      <td>2022-02-28</td>\n",
       "      <td>23:00</td>\n",
       "      <td>2022-02-28T23:00:00+01:00</td>\n",
       "      <td>3487.0</td>\n",
       "      <td>2.0</td>\n",
       "    </tr>\n",
       "    <tr>\n",
       "      <th>255922</th>\n",
       "      <td>2022-02-28</td>\n",
       "      <td>23:15</td>\n",
       "      <td>2022-02-28T23:15:00+01:00</td>\n",
       "      <td>NaN</td>\n",
       "      <td>NaN</td>\n",
       "    </tr>\n",
       "    <tr>\n",
       "      <th>255923</th>\n",
       "      <td>2022-02-28</td>\n",
       "      <td>23:30</td>\n",
       "      <td>2022-02-28T23:30:00+01:00</td>\n",
       "      <td>3345.0</td>\n",
       "      <td>2.0</td>\n",
       "    </tr>\n",
       "    <tr>\n",
       "      <th>130677</th>\n",
       "      <td>2022-02-28</td>\n",
       "      <td>23:45</td>\n",
       "      <td>2022-02-28T23:45:00+01:00</td>\n",
       "      <td>NaN</td>\n",
       "      <td>NaN</td>\n",
       "    </tr>\n",
       "  </tbody>\n",
       "</table>\n",
       "<p>356352 rows × 5 columns</p>\n",
       "</div>"
      ],
      "text/plain": [
       "              Date  Heure              Date et Heure  Eolien (MW)  \\\n",
       "97574   2012-01-01  00:00  2012-01-01T00:00:00+01:00       3588.0   \n",
       "141213  2012-01-01  00:15  2012-01-01T00:15:00+01:00          NaN   \n",
       "325784  2012-01-01  00:30  2012-01-01T00:30:00+01:00       3588.0   \n",
       "325787  2012-01-01  00:45  2012-01-01T00:45:00+01:00          NaN   \n",
       "325790  2012-01-01  01:00  2012-01-01T01:00:00+01:00       3536.0   \n",
       "...            ...    ...                        ...          ...   \n",
       "255921  2022-02-28  22:45  2022-02-28T22:45:00+01:00          NaN   \n",
       "5969    2022-02-28  23:00  2022-02-28T23:00:00+01:00       3487.0   \n",
       "255922  2022-02-28  23:15  2022-02-28T23:15:00+01:00          NaN   \n",
       "255923  2022-02-28  23:30  2022-02-28T23:30:00+01:00       3345.0   \n",
       "130677  2022-02-28  23:45  2022-02-28T23:45:00+01:00          NaN   \n",
       "\n",
       "        Solaire (MW)  \n",
       "97574            0.0  \n",
       "141213           NaN  \n",
       "325784           0.0  \n",
       "325787           NaN  \n",
       "325790           0.0  \n",
       "...              ...  \n",
       "255921           NaN  \n",
       "5969             2.0  \n",
       "255922           NaN  \n",
       "255923           2.0  \n",
       "130677           NaN  \n",
       "\n",
       "[356352 rows x 5 columns]"
      ]
     },
     "execution_count": 174,
     "metadata": {},
     "output_type": "execute_result"
    }
   ],
   "source": [
    "data_eco=data_eco[['Date','Heure','Date et Heure','Eolien (MW)','Solaire (MW)']]\n",
    "data_eco"
   ]
  },
  {
   "cell_type": "code",
   "execution_count": 175,
   "id": "1d4a197f",
   "metadata": {
    "ExecuteTime": {
     "end_time": "2022-05-14T20:11:56.227529Z",
     "start_time": "2022-05-14T20:11:56.198404Z"
    }
   },
   "outputs": [],
   "source": [
    "#Supression valeur manquante consommation\n",
    "data_eco = data_eco[data_eco['Eolien (MW)'].notna()]"
   ]
  },
  {
   "cell_type": "code",
   "execution_count": 176,
   "id": "0e9d5b1b",
   "metadata": {
    "ExecuteTime": {
     "end_time": "2022-05-14T20:12:08.035754Z",
     "start_time": "2022-05-14T20:12:07.992097Z"
    }
   },
   "outputs": [
    {
     "data": {
      "text/plain": [
       "Date             0\n",
       "Heure            0\n",
       "Date et Heure    0\n",
       "Eolien (MW)      0\n",
       "Solaire (MW)     0\n",
       "dtype: int64"
      ]
     },
     "execution_count": 176,
     "metadata": {},
     "output_type": "execute_result"
    }
   ],
   "source": [
    "data_eco.isnull().sum()"
   ]
  },
  {
   "cell_type": "markdown",
   "id": "e7736571",
   "metadata": {},
   "source": [
    "On observe qu'on en a plus de valeur manquante"
   ]
  },
  {
   "cell_type": "code",
   "execution_count": 177,
   "id": "d59adb1a",
   "metadata": {
    "ExecuteTime": {
     "end_time": "2022-05-14T20:12:39.860340Z",
     "start_time": "2022-05-14T20:12:19.623638Z"
    }
   },
   "outputs": [
    {
     "name": "stderr",
     "output_type": "stream",
     "text": [
      "C:\\Users\\na_to\\Anaconda3\\lib\\site-packages\\ipykernel_launcher.py:1: SettingWithCopyWarning: \n",
      "A value is trying to be set on a copy of a slice from a DataFrame.\n",
      "Try using .loc[row_indexer,col_indexer] = value instead\n",
      "\n",
      "See the caveats in the documentation: https://pandas.pydata.org/pandas-docs/stable/user_guide/indexing.html#returning-a-view-versus-a-copy\n",
      "  \"\"\"Entry point for launching an IPython kernel.\n"
     ]
    }
   ],
   "source": [
    "data_eco[\"Date et Heure\"] = pd.to_datetime(data_eco[\"Date et Heure\"],  format=\"%Y-%m-%dT%H:%M:%S\") "
   ]
  },
  {
   "cell_type": "code",
   "execution_count": 178,
   "id": "d6acf794",
   "metadata": {
    "ExecuteTime": {
     "end_time": "2022-05-14T20:12:51.423887Z",
     "start_time": "2022-05-14T20:12:51.221069Z"
    }
   },
   "outputs": [
    {
     "name": "stderr",
     "output_type": "stream",
     "text": [
      "C:\\Users\\na_to\\Anaconda3\\lib\\site-packages\\ipykernel_launcher.py:2: SettingWithCopyWarning: \n",
      "A value is trying to be set on a copy of a slice from a DataFrame.\n",
      "Try using .loc[row_indexer,col_indexer] = value instead\n",
      "\n",
      "See the caveats in the documentation: https://pandas.pydata.org/pandas-docs/stable/user_guide/indexing.html#returning-a-view-versus-a-copy\n",
      "  \n",
      "C:\\Users\\na_to\\Anaconda3\\lib\\site-packages\\ipykernel_launcher.py:5: SettingWithCopyWarning: \n",
      "A value is trying to be set on a copy of a slice from a DataFrame.\n",
      "Try using .loc[row_indexer,col_indexer] = value instead\n",
      "\n",
      "See the caveats in the documentation: https://pandas.pydata.org/pandas-docs/stable/user_guide/indexing.html#returning-a-view-versus-a-copy\n",
      "  \"\"\"\n"
     ]
    },
    {
     "data": {
      "text/html": [
       "<div>\n",
       "<style scoped>\n",
       "    .dataframe tbody tr th:only-of-type {\n",
       "        vertical-align: middle;\n",
       "    }\n",
       "\n",
       "    .dataframe tbody tr th {\n",
       "        vertical-align: top;\n",
       "    }\n",
       "\n",
       "    .dataframe thead th {\n",
       "        text-align: right;\n",
       "    }\n",
       "</style>\n",
       "<table border=\"1\" class=\"dataframe\">\n",
       "  <thead>\n",
       "    <tr style=\"text-align: right;\">\n",
       "      <th></th>\n",
       "      <th>Date</th>\n",
       "      <th>Heure</th>\n",
       "      <th>Date et Heure</th>\n",
       "      <th>Eolien (MW)</th>\n",
       "      <th>Solaire (MW)</th>\n",
       "      <th>year</th>\n",
       "      <th>hour</th>\n",
       "    </tr>\n",
       "  </thead>\n",
       "  <tbody>\n",
       "    <tr>\n",
       "      <th>243544</th>\n",
       "      <td>2017-01-01</td>\n",
       "      <td>00:00</td>\n",
       "      <td>2017-01-01 00:00:00+01:00</td>\n",
       "      <td>267.0</td>\n",
       "      <td>-1.0</td>\n",
       "      <td>2017</td>\n",
       "      <td>0</td>\n",
       "    </tr>\n",
       "    <tr>\n",
       "      <th>265662</th>\n",
       "      <td>2017-01-01</td>\n",
       "      <td>00:30</td>\n",
       "      <td>2017-01-01 00:30:00+01:00</td>\n",
       "      <td>311.0</td>\n",
       "      <td>-1.0</td>\n",
       "      <td>2017</td>\n",
       "      <td>0</td>\n",
       "    </tr>\n",
       "    <tr>\n",
       "      <th>265663</th>\n",
       "      <td>2017-01-01</td>\n",
       "      <td>01:00</td>\n",
       "      <td>2017-01-01 01:00:00+01:00</td>\n",
       "      <td>351.0</td>\n",
       "      <td>-1.0</td>\n",
       "      <td>2017</td>\n",
       "      <td>1</td>\n",
       "    </tr>\n",
       "    <tr>\n",
       "      <th>243546</th>\n",
       "      <td>2017-01-01</td>\n",
       "      <td>01:30</td>\n",
       "      <td>2017-01-01 01:30:00+01:00</td>\n",
       "      <td>367.0</td>\n",
       "      <td>-1.0</td>\n",
       "      <td>2017</td>\n",
       "      <td>1</td>\n",
       "    </tr>\n",
       "    <tr>\n",
       "      <th>5518</th>\n",
       "      <td>2017-01-01</td>\n",
       "      <td>02:00</td>\n",
       "      <td>2017-01-01 02:00:00+01:00</td>\n",
       "      <td>360.0</td>\n",
       "      <td>-1.0</td>\n",
       "      <td>2017</td>\n",
       "      <td>2</td>\n",
       "    </tr>\n",
       "    <tr>\n",
       "      <th>...</th>\n",
       "      <td>...</td>\n",
       "      <td>...</td>\n",
       "      <td>...</td>\n",
       "      <td>...</td>\n",
       "      <td>...</td>\n",
       "      <td>...</td>\n",
       "      <td>...</td>\n",
       "    </tr>\n",
       "    <tr>\n",
       "      <th>136010</th>\n",
       "      <td>2017-12-31</td>\n",
       "      <td>21:30</td>\n",
       "      <td>2017-12-31 21:30:00+01:00</td>\n",
       "      <td>10775.0</td>\n",
       "      <td>-1.0</td>\n",
       "      <td>2017</td>\n",
       "      <td>21</td>\n",
       "    </tr>\n",
       "    <tr>\n",
       "      <th>136011</th>\n",
       "      <td>2017-12-31</td>\n",
       "      <td>22:00</td>\n",
       "      <td>2017-12-31 22:00:00+01:00</td>\n",
       "      <td>10797.0</td>\n",
       "      <td>-1.0</td>\n",
       "      <td>2017</td>\n",
       "      <td>22</td>\n",
       "    </tr>\n",
       "    <tr>\n",
       "      <th>133235</th>\n",
       "      <td>2017-12-31</td>\n",
       "      <td>22:30</td>\n",
       "      <td>2017-12-31 22:30:00+01:00</td>\n",
       "      <td>10698.0</td>\n",
       "      <td>-1.0</td>\n",
       "      <td>2017</td>\n",
       "      <td>22</td>\n",
       "    </tr>\n",
       "    <tr>\n",
       "      <th>14595</th>\n",
       "      <td>2017-12-31</td>\n",
       "      <td>23:00</td>\n",
       "      <td>2017-12-31 23:00:00+01:00</td>\n",
       "      <td>10712.0</td>\n",
       "      <td>-1.0</td>\n",
       "      <td>2017</td>\n",
       "      <td>23</td>\n",
       "    </tr>\n",
       "    <tr>\n",
       "      <th>133237</th>\n",
       "      <td>2017-12-31</td>\n",
       "      <td>23:30</td>\n",
       "      <td>2017-12-31 23:30:00+01:00</td>\n",
       "      <td>10720.0</td>\n",
       "      <td>-1.0</td>\n",
       "      <td>2017</td>\n",
       "      <td>23</td>\n",
       "    </tr>\n",
       "  </tbody>\n",
       "</table>\n",
       "<p>17520 rows × 7 columns</p>\n",
       "</div>"
      ],
      "text/plain": [
       "              Date  Heure              Date et Heure  Eolien (MW)  \\\n",
       "243544  2017-01-01  00:00  2017-01-01 00:00:00+01:00        267.0   \n",
       "265662  2017-01-01  00:30  2017-01-01 00:30:00+01:00        311.0   \n",
       "265663  2017-01-01  01:00  2017-01-01 01:00:00+01:00        351.0   \n",
       "243546  2017-01-01  01:30  2017-01-01 01:30:00+01:00        367.0   \n",
       "5518    2017-01-01  02:00  2017-01-01 02:00:00+01:00        360.0   \n",
       "...            ...    ...                        ...          ...   \n",
       "136010  2017-12-31  21:30  2017-12-31 21:30:00+01:00      10775.0   \n",
       "136011  2017-12-31  22:00  2017-12-31 22:00:00+01:00      10797.0   \n",
       "133235  2017-12-31  22:30  2017-12-31 22:30:00+01:00      10698.0   \n",
       "14595   2017-12-31  23:00  2017-12-31 23:00:00+01:00      10712.0   \n",
       "133237  2017-12-31  23:30  2017-12-31 23:30:00+01:00      10720.0   \n",
       "\n",
       "        Solaire (MW)  year hour  \n",
       "243544          -1.0  2017    0  \n",
       "265662          -1.0  2017    0  \n",
       "265663          -1.0  2017    1  \n",
       "243546          -1.0  2017    1  \n",
       "5518            -1.0  2017    2  \n",
       "...              ...   ...  ...  \n",
       "136010          -1.0  2017   21  \n",
       "136011          -1.0  2017   22  \n",
       "133235          -1.0  2017   22  \n",
       "14595           -1.0  2017   23  \n",
       "133237          -1.0  2017   23  \n",
       "\n",
       "[17520 rows x 7 columns]"
      ]
     },
     "execution_count": 178,
     "metadata": {},
     "output_type": "execute_result"
    }
   ],
   "source": [
    "#Pour créer une colonne année \n",
    "data_eco['year'] = data_eco['Date et Heure'].apply(lambda x: str(x.year))\n",
    "\n",
    "#Pour avoir l'heure\n",
    "data_eco['hour'] =  data_eco['Date et Heure'].apply(lambda x: str(x.hour))\n",
    "\n",
    "#Pour avoir l'année 2017 \n",
    "data_eco = data_eco[data_eco[\"year\"] == \"2017\"] \n",
    "data_eco "
   ]
  },
  {
   "cell_type": "markdown",
   "id": "33f24f4d",
   "metadata": {},
   "source": [
    "$\\textbf{On calcule l’énergie produite, en MWh, pour chaque heure de l’année.}$"
   ]
  },
  {
   "cell_type": "code",
   "execution_count": 179,
   "id": "84b18551",
   "metadata": {
    "ExecuteTime": {
     "end_time": "2022-05-14T20:13:03.070234Z",
     "start_time": "2022-05-14T20:13:03.056328Z"
    }
   },
   "outputs": [],
   "source": [
    "data_eco[\"energie_solaire\"] = 0.5 * data_eco['Solaire (MW)']\n",
    "data_eco[\"energie_eolien\"] = 0.5 * data_eco['Eolien (MW)']"
   ]
  },
  {
   "cell_type": "code",
   "execution_count": 180,
   "id": "285cbffc",
   "metadata": {
    "ExecuteTime": {
     "end_time": "2022-05-14T20:13:14.316269Z",
     "start_time": "2022-05-14T20:13:14.287836Z"
    }
   },
   "outputs": [
    {
     "data": {
      "text/html": [
       "<div>\n",
       "<style scoped>\n",
       "    .dataframe tbody tr th:only-of-type {\n",
       "        vertical-align: middle;\n",
       "    }\n",
       "\n",
       "    .dataframe tbody tr th {\n",
       "        vertical-align: top;\n",
       "    }\n",
       "\n",
       "    .dataframe thead th {\n",
       "        text-align: right;\n",
       "    }\n",
       "</style>\n",
       "<table border=\"1\" class=\"dataframe\">\n",
       "  <thead>\n",
       "    <tr style=\"text-align: right;\">\n",
       "      <th></th>\n",
       "      <th>Date</th>\n",
       "      <th>hour</th>\n",
       "      <th>energie_solaire</th>\n",
       "    </tr>\n",
       "  </thead>\n",
       "  <tbody>\n",
       "    <tr>\n",
       "      <th>0</th>\n",
       "      <td>2017-01-01</td>\n",
       "      <td>0</td>\n",
       "      <td>-1.0</td>\n",
       "    </tr>\n",
       "    <tr>\n",
       "      <th>1</th>\n",
       "      <td>2017-01-01</td>\n",
       "      <td>1</td>\n",
       "      <td>-1.0</td>\n",
       "    </tr>\n",
       "    <tr>\n",
       "      <th>2</th>\n",
       "      <td>2017-01-01</td>\n",
       "      <td>10</td>\n",
       "      <td>623.5</td>\n",
       "    </tr>\n",
       "    <tr>\n",
       "      <th>3</th>\n",
       "      <td>2017-01-01</td>\n",
       "      <td>11</td>\n",
       "      <td>1077.5</td>\n",
       "    </tr>\n",
       "    <tr>\n",
       "      <th>4</th>\n",
       "      <td>2017-01-01</td>\n",
       "      <td>12</td>\n",
       "      <td>1355.0</td>\n",
       "    </tr>\n",
       "    <tr>\n",
       "      <th>...</th>\n",
       "      <td>...</td>\n",
       "      <td>...</td>\n",
       "      <td>...</td>\n",
       "    </tr>\n",
       "    <tr>\n",
       "      <th>8754</th>\n",
       "      <td>2017-12-31</td>\n",
       "      <td>5</td>\n",
       "      <td>-1.0</td>\n",
       "    </tr>\n",
       "    <tr>\n",
       "      <th>8755</th>\n",
       "      <td>2017-12-31</td>\n",
       "      <td>6</td>\n",
       "      <td>-1.0</td>\n",
       "    </tr>\n",
       "    <tr>\n",
       "      <th>8756</th>\n",
       "      <td>2017-12-31</td>\n",
       "      <td>7</td>\n",
       "      <td>-1.0</td>\n",
       "    </tr>\n",
       "    <tr>\n",
       "      <th>8757</th>\n",
       "      <td>2017-12-31</td>\n",
       "      <td>8</td>\n",
       "      <td>2.5</td>\n",
       "    </tr>\n",
       "    <tr>\n",
       "      <th>8758</th>\n",
       "      <td>2017-12-31</td>\n",
       "      <td>9</td>\n",
       "      <td>301.0</td>\n",
       "    </tr>\n",
       "  </tbody>\n",
       "</table>\n",
       "<p>8759 rows × 3 columns</p>\n",
       "</div>"
      ],
      "text/plain": [
       "            Date hour  energie_solaire\n",
       "0     2017-01-01    0             -1.0\n",
       "1     2017-01-01    1             -1.0\n",
       "2     2017-01-01   10            623.5\n",
       "3     2017-01-01   11           1077.5\n",
       "4     2017-01-01   12           1355.0\n",
       "...          ...  ...              ...\n",
       "8754  2017-12-31    5             -1.0\n",
       "8755  2017-12-31    6             -1.0\n",
       "8756  2017-12-31    7             -1.0\n",
       "8757  2017-12-31    8              2.5\n",
       "8758  2017-12-31    9            301.0\n",
       "\n",
       "[8759 rows x 3 columns]"
      ]
     },
     "execution_count": 180,
     "metadata": {},
     "output_type": "execute_result"
    }
   ],
   "source": [
    "data_eco_solaire=data_eco.groupby(['Date','hour'])['energie_solaire'].sum().to_frame().reset_index()\n",
    "data_eco_solaire "
   ]
  },
  {
   "cell_type": "code",
   "execution_count": 181,
   "id": "545f5636",
   "metadata": {
    "ExecuteTime": {
     "end_time": "2022-05-14T20:13:25.634986Z",
     "start_time": "2022-05-14T20:13:25.604981Z"
    }
   },
   "outputs": [
    {
     "data": {
      "text/html": [
       "<div>\n",
       "<style scoped>\n",
       "    .dataframe tbody tr th:only-of-type {\n",
       "        vertical-align: middle;\n",
       "    }\n",
       "\n",
       "    .dataframe tbody tr th {\n",
       "        vertical-align: top;\n",
       "    }\n",
       "\n",
       "    .dataframe thead th {\n",
       "        text-align: right;\n",
       "    }\n",
       "</style>\n",
       "<table border=\"1\" class=\"dataframe\">\n",
       "  <thead>\n",
       "    <tr style=\"text-align: right;\">\n",
       "      <th></th>\n",
       "      <th>Date</th>\n",
       "      <th>hour</th>\n",
       "      <th>energie_eolien</th>\n",
       "    </tr>\n",
       "  </thead>\n",
       "  <tbody>\n",
       "    <tr>\n",
       "      <th>0</th>\n",
       "      <td>2017-01-01</td>\n",
       "      <td>0</td>\n",
       "      <td>289.0</td>\n",
       "    </tr>\n",
       "    <tr>\n",
       "      <th>1</th>\n",
       "      <td>2017-01-01</td>\n",
       "      <td>1</td>\n",
       "      <td>359.0</td>\n",
       "    </tr>\n",
       "    <tr>\n",
       "      <th>2</th>\n",
       "      <td>2017-01-01</td>\n",
       "      <td>10</td>\n",
       "      <td>617.5</td>\n",
       "    </tr>\n",
       "    <tr>\n",
       "      <th>3</th>\n",
       "      <td>2017-01-01</td>\n",
       "      <td>11</td>\n",
       "      <td>655.5</td>\n",
       "    </tr>\n",
       "    <tr>\n",
       "      <th>4</th>\n",
       "      <td>2017-01-01</td>\n",
       "      <td>12</td>\n",
       "      <td>715.5</td>\n",
       "    </tr>\n",
       "    <tr>\n",
       "      <th>...</th>\n",
       "      <td>...</td>\n",
       "      <td>...</td>\n",
       "      <td>...</td>\n",
       "    </tr>\n",
       "    <tr>\n",
       "      <th>8754</th>\n",
       "      <td>2017-12-31</td>\n",
       "      <td>5</td>\n",
       "      <td>9515.5</td>\n",
       "    </tr>\n",
       "    <tr>\n",
       "      <th>8755</th>\n",
       "      <td>2017-12-31</td>\n",
       "      <td>6</td>\n",
       "      <td>9369.5</td>\n",
       "    </tr>\n",
       "    <tr>\n",
       "      <th>8756</th>\n",
       "      <td>2017-12-31</td>\n",
       "      <td>7</td>\n",
       "      <td>9373.0</td>\n",
       "    </tr>\n",
       "    <tr>\n",
       "      <th>8757</th>\n",
       "      <td>2017-12-31</td>\n",
       "      <td>8</td>\n",
       "      <td>9701.5</td>\n",
       "    </tr>\n",
       "    <tr>\n",
       "      <th>8758</th>\n",
       "      <td>2017-12-31</td>\n",
       "      <td>9</td>\n",
       "      <td>9904.5</td>\n",
       "    </tr>\n",
       "  </tbody>\n",
       "</table>\n",
       "<p>8759 rows × 3 columns</p>\n",
       "</div>"
      ],
      "text/plain": [
       "            Date hour  energie_eolien\n",
       "0     2017-01-01    0           289.0\n",
       "1     2017-01-01    1           359.0\n",
       "2     2017-01-01   10           617.5\n",
       "3     2017-01-01   11           655.5\n",
       "4     2017-01-01   12           715.5\n",
       "...          ...  ...             ...\n",
       "8754  2017-12-31    5          9515.5\n",
       "8755  2017-12-31    6          9369.5\n",
       "8756  2017-12-31    7          9373.0\n",
       "8757  2017-12-31    8          9701.5\n",
       "8758  2017-12-31    9          9904.5\n",
       "\n",
       "[8759 rows x 3 columns]"
      ]
     },
     "execution_count": 181,
     "metadata": {},
     "output_type": "execute_result"
    }
   ],
   "source": [
    "data_eco_eolien=data_eco.groupby(['Date','hour'])['energie_eolien'].sum().to_frame().reset_index()\n",
    "data_eco_eolien "
   ]
  },
  {
   "cell_type": "code",
   "execution_count": 182,
   "id": "ba16ee3c",
   "metadata": {
    "ExecuteTime": {
     "end_time": "2022-05-14T20:13:38.559434Z",
     "start_time": "2022-05-14T20:13:38.531289Z"
    }
   },
   "outputs": [
    {
     "data": {
      "text/html": [
       "<div>\n",
       "<style scoped>\n",
       "    .dataframe tbody tr th:only-of-type {\n",
       "        vertical-align: middle;\n",
       "    }\n",
       "\n",
       "    .dataframe tbody tr th {\n",
       "        vertical-align: top;\n",
       "    }\n",
       "\n",
       "    .dataframe thead th {\n",
       "        text-align: right;\n",
       "    }\n",
       "</style>\n",
       "<table border=\"1\" class=\"dataframe\">\n",
       "  <thead>\n",
       "    <tr style=\"text-align: right;\">\n",
       "      <th></th>\n",
       "      <th>Date</th>\n",
       "      <th>hour</th>\n",
       "      <th>energie_eolien</th>\n",
       "      <th>energie_solaire</th>\n",
       "    </tr>\n",
       "  </thead>\n",
       "  <tbody>\n",
       "    <tr>\n",
       "      <th>0</th>\n",
       "      <td>2017-01-01</td>\n",
       "      <td>0</td>\n",
       "      <td>289.0</td>\n",
       "      <td>-1.0</td>\n",
       "    </tr>\n",
       "    <tr>\n",
       "      <th>1</th>\n",
       "      <td>2017-01-01</td>\n",
       "      <td>1</td>\n",
       "      <td>359.0</td>\n",
       "      <td>-1.0</td>\n",
       "    </tr>\n",
       "    <tr>\n",
       "      <th>2</th>\n",
       "      <td>2017-01-01</td>\n",
       "      <td>10</td>\n",
       "      <td>617.5</td>\n",
       "      <td>623.5</td>\n",
       "    </tr>\n",
       "    <tr>\n",
       "      <th>3</th>\n",
       "      <td>2017-01-01</td>\n",
       "      <td>11</td>\n",
       "      <td>655.5</td>\n",
       "      <td>1077.5</td>\n",
       "    </tr>\n",
       "    <tr>\n",
       "      <th>4</th>\n",
       "      <td>2017-01-01</td>\n",
       "      <td>12</td>\n",
       "      <td>715.5</td>\n",
       "      <td>1355.0</td>\n",
       "    </tr>\n",
       "    <tr>\n",
       "      <th>...</th>\n",
       "      <td>...</td>\n",
       "      <td>...</td>\n",
       "      <td>...</td>\n",
       "      <td>...</td>\n",
       "    </tr>\n",
       "    <tr>\n",
       "      <th>8754</th>\n",
       "      <td>2017-12-31</td>\n",
       "      <td>5</td>\n",
       "      <td>9515.5</td>\n",
       "      <td>-1.0</td>\n",
       "    </tr>\n",
       "    <tr>\n",
       "      <th>8755</th>\n",
       "      <td>2017-12-31</td>\n",
       "      <td>6</td>\n",
       "      <td>9369.5</td>\n",
       "      <td>-1.0</td>\n",
       "    </tr>\n",
       "    <tr>\n",
       "      <th>8756</th>\n",
       "      <td>2017-12-31</td>\n",
       "      <td>7</td>\n",
       "      <td>9373.0</td>\n",
       "      <td>-1.0</td>\n",
       "    </tr>\n",
       "    <tr>\n",
       "      <th>8757</th>\n",
       "      <td>2017-12-31</td>\n",
       "      <td>8</td>\n",
       "      <td>9701.5</td>\n",
       "      <td>2.5</td>\n",
       "    </tr>\n",
       "    <tr>\n",
       "      <th>8758</th>\n",
       "      <td>2017-12-31</td>\n",
       "      <td>9</td>\n",
       "      <td>9904.5</td>\n",
       "      <td>301.0</td>\n",
       "    </tr>\n",
       "  </tbody>\n",
       "</table>\n",
       "<p>8759 rows × 4 columns</p>\n",
       "</div>"
      ],
      "text/plain": [
       "            Date hour  energie_eolien  energie_solaire\n",
       "0     2017-01-01    0           289.0             -1.0\n",
       "1     2017-01-01    1           359.0             -1.0\n",
       "2     2017-01-01   10           617.5            623.5\n",
       "3     2017-01-01   11           655.5           1077.5\n",
       "4     2017-01-01   12           715.5           1355.0\n",
       "...          ...  ...             ...              ...\n",
       "8754  2017-12-31    5          9515.5             -1.0\n",
       "8755  2017-12-31    6          9369.5             -1.0\n",
       "8756  2017-12-31    7          9373.0             -1.0\n",
       "8757  2017-12-31    8          9701.5              2.5\n",
       "8758  2017-12-31    9          9904.5            301.0\n",
       "\n",
       "[8759 rows x 4 columns]"
      ]
     },
     "execution_count": 182,
     "metadata": {},
     "output_type": "execute_result"
    }
   ],
   "source": [
    "#Regroupement sur une table \n",
    "data_sol_eol = data_eco_eolien.join(data_eco_solaire['energie_solaire'])\n",
    "data_sol_eol"
   ]
  },
  {
   "cell_type": "code",
   "execution_count": 68,
   "id": "de16d660",
   "metadata": {
    "ExecuteTime": {
     "end_time": "2022-05-14T13:59:12.726717Z",
     "start_time": "2022-05-14T13:59:12.682243Z"
    }
   },
   "outputs": [],
   "source": [
    "#Exportation du fichier en format csv\n",
    "data_sol_eol.to_csv('q2_1.csv')"
   ]
  },
  {
   "cell_type": "markdown",
   "id": "9b8909b2",
   "metadata": {},
   "source": [
    "## Dans la base du parc national annuel, récupérer les puissances installées (colonnes Parc eolien (MW) et Parc solaire (MW)) au 31 décembre 2016. Calculer l’énergie maximum pouvant être produite pendant 1 h, en MWh."
   ]
  },
  {
   "cell_type": "code",
   "execution_count": 183,
   "id": "d17a711b",
   "metadata": {
    "ExecuteTime": {
     "end_time": "2022-05-14T20:13:50.182106Z",
     "start_time": "2022-05-14T20:13:50.168824Z"
    }
   },
   "outputs": [
    {
     "data": {
      "text/html": [
       "<div>\n",
       "<style scoped>\n",
       "    .dataframe tbody tr th:only-of-type {\n",
       "        vertical-align: middle;\n",
       "    }\n",
       "\n",
       "    .dataframe tbody tr th {\n",
       "        vertical-align: top;\n",
       "    }\n",
       "\n",
       "    .dataframe thead th {\n",
       "        text-align: right;\n",
       "    }\n",
       "</style>\n",
       "<table border=\"1\" class=\"dataframe\">\n",
       "  <thead>\n",
       "    <tr style=\"text-align: right;\">\n",
       "      <th></th>\n",
       "      <th>Parc eolien (MW)</th>\n",
       "      <th>Parc solaire (MW)</th>\n",
       "    </tr>\n",
       "  </thead>\n",
       "  <tbody>\n",
       "    <tr>\n",
       "      <th>2016</th>\n",
       "      <td>11761.4</td>\n",
       "      <td>6772.5</td>\n",
       "    </tr>\n",
       "  </tbody>\n",
       "</table>\n",
       "</div>"
      ],
      "text/plain": [
       "      Parc eolien (MW)  Parc solaire (MW)\n",
       "2016           11761.4             6772.5"
      ]
     },
     "execution_count": 183,
     "metadata": {},
     "output_type": "execute_result"
    }
   ],
   "source": [
    "#On récupére l'année 31 décembre 2016\n",
    "data_parc = data_parc[data_parc[\"Annee\"]==2016]\n",
    "data_parc = data_parc[['Parc eolien (MW)','Parc solaire (MW)']] \n",
    "data_parc.rename(index={2: '2016'})"
   ]
  },
  {
   "cell_type": "markdown",
   "id": "8c261d1c",
   "metadata": {},
   "source": [
    "Energie maximum pouvant être produite pendant 1h, en MWh:\n",
    "        \n",
    "        Pour l'eolien : 11 761 x 1 = 11761 MWh\n",
    "        Pour le solaire : 6772.5 x 1 = 6772.5 MWh"
   ]
  },
  {
   "cell_type": "code",
   "execution_count": 70,
   "id": "c9a18429",
   "metadata": {
    "ExecuteTime": {
     "end_time": "2022-05-14T13:59:12.930261Z",
     "start_time": "2022-05-14T13:59:12.918000Z"
    }
   },
   "outputs": [],
   "source": [
    "#Exportation du fichier en format csv\n",
    "data_parc.to_csv('q2_2.csv')"
   ]
  },
  {
   "cell_type": "markdown",
   "id": "2ae4d965",
   "metadata": {},
   "source": [
    "## Pour chaque heure de 2017, calculer la proportion de la production par rapport à la production maximum"
   ]
  },
  {
   "cell_type": "code",
   "execution_count": 184,
   "id": "47123db8",
   "metadata": {
    "ExecuteTime": {
     "end_time": "2022-05-14T20:14:01.522625Z",
     "start_time": "2022-05-14T20:14:01.494362Z"
    }
   },
   "outputs": [
    {
     "data": {
      "text/html": [
       "<div>\n",
       "<style scoped>\n",
       "    .dataframe tbody tr th:only-of-type {\n",
       "        vertical-align: middle;\n",
       "    }\n",
       "\n",
       "    .dataframe tbody tr th {\n",
       "        vertical-align: top;\n",
       "    }\n",
       "\n",
       "    .dataframe thead th {\n",
       "        text-align: right;\n",
       "    }\n",
       "</style>\n",
       "<table border=\"1\" class=\"dataframe\">\n",
       "  <thead>\n",
       "    <tr style=\"text-align: right;\">\n",
       "      <th></th>\n",
       "      <th>Date</th>\n",
       "      <th>hour</th>\n",
       "      <th>energie_eolien</th>\n",
       "      <th>energie_solaire</th>\n",
       "      <th>eolien(proportion_production)</th>\n",
       "      <th>solaire(proportion_production)</th>\n",
       "    </tr>\n",
       "  </thead>\n",
       "  <tbody>\n",
       "    <tr>\n",
       "      <th>0</th>\n",
       "      <td>2017-01-01</td>\n",
       "      <td>0</td>\n",
       "      <td>289.0</td>\n",
       "      <td>-1.0</td>\n",
       "      <td>0.024572</td>\n",
       "      <td>-0.000148</td>\n",
       "    </tr>\n",
       "    <tr>\n",
       "      <th>1</th>\n",
       "      <td>2017-01-01</td>\n",
       "      <td>1</td>\n",
       "      <td>359.0</td>\n",
       "      <td>-1.0</td>\n",
       "      <td>0.030524</td>\n",
       "      <td>-0.000148</td>\n",
       "    </tr>\n",
       "    <tr>\n",
       "      <th>2</th>\n",
       "      <td>2017-01-01</td>\n",
       "      <td>10</td>\n",
       "      <td>617.5</td>\n",
       "      <td>623.5</td>\n",
       "      <td>0.052502</td>\n",
       "      <td>0.092063</td>\n",
       "    </tr>\n",
       "    <tr>\n",
       "      <th>3</th>\n",
       "      <td>2017-01-01</td>\n",
       "      <td>11</td>\n",
       "      <td>655.5</td>\n",
       "      <td>1077.5</td>\n",
       "      <td>0.055733</td>\n",
       "      <td>0.159099</td>\n",
       "    </tr>\n",
       "    <tr>\n",
       "      <th>4</th>\n",
       "      <td>2017-01-01</td>\n",
       "      <td>12</td>\n",
       "      <td>715.5</td>\n",
       "      <td>1355.0</td>\n",
       "      <td>0.060835</td>\n",
       "      <td>0.200074</td>\n",
       "    </tr>\n",
       "    <tr>\n",
       "      <th>...</th>\n",
       "      <td>...</td>\n",
       "      <td>...</td>\n",
       "      <td>...</td>\n",
       "      <td>...</td>\n",
       "      <td>...</td>\n",
       "      <td>...</td>\n",
       "    </tr>\n",
       "    <tr>\n",
       "      <th>8754</th>\n",
       "      <td>2017-12-31</td>\n",
       "      <td>5</td>\n",
       "      <td>9515.5</td>\n",
       "      <td>-1.0</td>\n",
       "      <td>0.809045</td>\n",
       "      <td>-0.000148</td>\n",
       "    </tr>\n",
       "    <tr>\n",
       "      <th>8755</th>\n",
       "      <td>2017-12-31</td>\n",
       "      <td>6</td>\n",
       "      <td>9369.5</td>\n",
       "      <td>-1.0</td>\n",
       "      <td>0.796631</td>\n",
       "      <td>-0.000148</td>\n",
       "    </tr>\n",
       "    <tr>\n",
       "      <th>8756</th>\n",
       "      <td>2017-12-31</td>\n",
       "      <td>7</td>\n",
       "      <td>9373.0</td>\n",
       "      <td>-1.0</td>\n",
       "      <td>0.796929</td>\n",
       "      <td>-0.000148</td>\n",
       "    </tr>\n",
       "    <tr>\n",
       "      <th>8757</th>\n",
       "      <td>2017-12-31</td>\n",
       "      <td>8</td>\n",
       "      <td>9701.5</td>\n",
       "      <td>2.5</td>\n",
       "      <td>0.824859</td>\n",
       "      <td>0.000369</td>\n",
       "    </tr>\n",
       "    <tr>\n",
       "      <th>8758</th>\n",
       "      <td>2017-12-31</td>\n",
       "      <td>9</td>\n",
       "      <td>9904.5</td>\n",
       "      <td>301.0</td>\n",
       "      <td>0.842119</td>\n",
       "      <td>0.044444</td>\n",
       "    </tr>\n",
       "  </tbody>\n",
       "</table>\n",
       "<p>8759 rows × 6 columns</p>\n",
       "</div>"
      ],
      "text/plain": [
       "            Date hour  energie_eolien  energie_solaire  \\\n",
       "0     2017-01-01    0           289.0             -1.0   \n",
       "1     2017-01-01    1           359.0             -1.0   \n",
       "2     2017-01-01   10           617.5            623.5   \n",
       "3     2017-01-01   11           655.5           1077.5   \n",
       "4     2017-01-01   12           715.5           1355.0   \n",
       "...          ...  ...             ...              ...   \n",
       "8754  2017-12-31    5          9515.5             -1.0   \n",
       "8755  2017-12-31    6          9369.5             -1.0   \n",
       "8756  2017-12-31    7          9373.0             -1.0   \n",
       "8757  2017-12-31    8          9701.5              2.5   \n",
       "8758  2017-12-31    9          9904.5            301.0   \n",
       "\n",
       "      eolien(proportion_production)  solaire(proportion_production)  \n",
       "0                          0.024572                       -0.000148  \n",
       "1                          0.030524                       -0.000148  \n",
       "2                          0.052502                        0.092063  \n",
       "3                          0.055733                        0.159099  \n",
       "4                          0.060835                        0.200074  \n",
       "...                             ...                             ...  \n",
       "8754                       0.809045                       -0.000148  \n",
       "8755                       0.796631                       -0.000148  \n",
       "8756                       0.796929                       -0.000148  \n",
       "8757                       0.824859                        0.000369  \n",
       "8758                       0.842119                        0.044444  \n",
       "\n",
       "[8759 rows x 6 columns]"
      ]
     },
     "execution_count": 184,
     "metadata": {},
     "output_type": "execute_result"
    }
   ],
   "source": [
    "data_sol_eol['eolien(proportion_production)']  = (data_sol_eol['energie_eolien'] / data_parc['Parc eolien (MW)'].values)\n",
    "data_sol_eol['solaire(proportion_production)']  = (data_sol_eol['energie_solaire'] / data_parc['Parc solaire (MW)'].values) \n",
    "data_sol_eol"
   ]
  },
  {
   "cell_type": "code",
   "execution_count": 72,
   "id": "572ad74c",
   "metadata": {
    "ExecuteTime": {
     "end_time": "2022-05-14T13:59:13.222367Z",
     "start_time": "2022-05-14T13:59:13.132139Z"
    }
   },
   "outputs": [],
   "source": [
    "#Exportation du fichier en format csv\n",
    "data_sol_eol.to_csv('q2_3.csv')"
   ]
  },
  {
   "cell_type": "markdown",
   "id": "3a016501",
   "metadata": {
    "ExecuteTime": {
     "end_time": "2022-05-11T09:57:38.970449Z",
     "start_time": "2022-05-11T09:57:38.956431Z"
    }
   },
   "source": [
    "## Quelles variations de production peut-on observer à différentes granularités temporelles (journée, semaine, mois, année) ? Pouvez-vous expliquer ces variations ?"
   ]
  },
  {
   "cell_type": "code",
   "execution_count": 185,
   "id": "4f09f240",
   "metadata": {
    "ExecuteTime": {
     "end_time": "2022-05-14T20:14:15.652395Z",
     "start_time": "2022-05-14T20:14:15.608491Z"
    }
   },
   "outputs": [
    {
     "name": "stderr",
     "output_type": "stream",
     "text": [
      "C:\\Users\\na_to\\Anaconda3\\lib\\site-packages\\ipykernel_launcher.py:4: FutureWarning: weekofyear and week have been deprecated, please use DatetimeIndex.isocalendar().week instead, which returns a Series.  To exactly reproduce the behavior of week and weekofyear and return an Index, you may call pd.Int64Index(idx.isocalendar().week)\n",
      "  after removing the cwd from sys.path.\n"
     ]
    },
    {
     "data": {
      "text/html": [
       "<div>\n",
       "<style scoped>\n",
       "    .dataframe tbody tr th:only-of-type {\n",
       "        vertical-align: middle;\n",
       "    }\n",
       "\n",
       "    .dataframe tbody tr th {\n",
       "        vertical-align: top;\n",
       "    }\n",
       "\n",
       "    .dataframe thead th {\n",
       "        text-align: right;\n",
       "    }\n",
       "</style>\n",
       "<table border=\"1\" class=\"dataframe\">\n",
       "  <thead>\n",
       "    <tr style=\"text-align: right;\">\n",
       "      <th></th>\n",
       "      <th>Date</th>\n",
       "      <th>hour</th>\n",
       "      <th>energie_eolien</th>\n",
       "      <th>energie_solaire</th>\n",
       "      <th>eolien(proportion_production)</th>\n",
       "      <th>solaire(proportion_production)</th>\n",
       "      <th>month</th>\n",
       "      <th>day</th>\n",
       "      <th>day_week</th>\n",
       "      <th>week</th>\n",
       "    </tr>\n",
       "  </thead>\n",
       "  <tbody>\n",
       "    <tr>\n",
       "      <th>0</th>\n",
       "      <td>2017-01-01</td>\n",
       "      <td>0</td>\n",
       "      <td>289.0</td>\n",
       "      <td>-1.0</td>\n",
       "      <td>0.024572</td>\n",
       "      <td>-0.000148</td>\n",
       "      <td>1</td>\n",
       "      <td>1</td>\n",
       "      <td>6</td>\n",
       "      <td>52</td>\n",
       "    </tr>\n",
       "    <tr>\n",
       "      <th>1</th>\n",
       "      <td>2017-01-01</td>\n",
       "      <td>1</td>\n",
       "      <td>359.0</td>\n",
       "      <td>-1.0</td>\n",
       "      <td>0.030524</td>\n",
       "      <td>-0.000148</td>\n",
       "      <td>1</td>\n",
       "      <td>1</td>\n",
       "      <td>6</td>\n",
       "      <td>52</td>\n",
       "    </tr>\n",
       "    <tr>\n",
       "      <th>2</th>\n",
       "      <td>2017-01-01</td>\n",
       "      <td>10</td>\n",
       "      <td>617.5</td>\n",
       "      <td>623.5</td>\n",
       "      <td>0.052502</td>\n",
       "      <td>0.092063</td>\n",
       "      <td>1</td>\n",
       "      <td>1</td>\n",
       "      <td>6</td>\n",
       "      <td>52</td>\n",
       "    </tr>\n",
       "    <tr>\n",
       "      <th>3</th>\n",
       "      <td>2017-01-01</td>\n",
       "      <td>11</td>\n",
       "      <td>655.5</td>\n",
       "      <td>1077.5</td>\n",
       "      <td>0.055733</td>\n",
       "      <td>0.159099</td>\n",
       "      <td>1</td>\n",
       "      <td>1</td>\n",
       "      <td>6</td>\n",
       "      <td>52</td>\n",
       "    </tr>\n",
       "    <tr>\n",
       "      <th>4</th>\n",
       "      <td>2017-01-01</td>\n",
       "      <td>12</td>\n",
       "      <td>715.5</td>\n",
       "      <td>1355.0</td>\n",
       "      <td>0.060835</td>\n",
       "      <td>0.200074</td>\n",
       "      <td>1</td>\n",
       "      <td>1</td>\n",
       "      <td>6</td>\n",
       "      <td>52</td>\n",
       "    </tr>\n",
       "    <tr>\n",
       "      <th>...</th>\n",
       "      <td>...</td>\n",
       "      <td>...</td>\n",
       "      <td>...</td>\n",
       "      <td>...</td>\n",
       "      <td>...</td>\n",
       "      <td>...</td>\n",
       "      <td>...</td>\n",
       "      <td>...</td>\n",
       "      <td>...</td>\n",
       "      <td>...</td>\n",
       "    </tr>\n",
       "    <tr>\n",
       "      <th>8754</th>\n",
       "      <td>2017-12-31</td>\n",
       "      <td>5</td>\n",
       "      <td>9515.5</td>\n",
       "      <td>-1.0</td>\n",
       "      <td>0.809045</td>\n",
       "      <td>-0.000148</td>\n",
       "      <td>12</td>\n",
       "      <td>31</td>\n",
       "      <td>6</td>\n",
       "      <td>52</td>\n",
       "    </tr>\n",
       "    <tr>\n",
       "      <th>8755</th>\n",
       "      <td>2017-12-31</td>\n",
       "      <td>6</td>\n",
       "      <td>9369.5</td>\n",
       "      <td>-1.0</td>\n",
       "      <td>0.796631</td>\n",
       "      <td>-0.000148</td>\n",
       "      <td>12</td>\n",
       "      <td>31</td>\n",
       "      <td>6</td>\n",
       "      <td>52</td>\n",
       "    </tr>\n",
       "    <tr>\n",
       "      <th>8756</th>\n",
       "      <td>2017-12-31</td>\n",
       "      <td>7</td>\n",
       "      <td>9373.0</td>\n",
       "      <td>-1.0</td>\n",
       "      <td>0.796929</td>\n",
       "      <td>-0.000148</td>\n",
       "      <td>12</td>\n",
       "      <td>31</td>\n",
       "      <td>6</td>\n",
       "      <td>52</td>\n",
       "    </tr>\n",
       "    <tr>\n",
       "      <th>8757</th>\n",
       "      <td>2017-12-31</td>\n",
       "      <td>8</td>\n",
       "      <td>9701.5</td>\n",
       "      <td>2.5</td>\n",
       "      <td>0.824859</td>\n",
       "      <td>0.000369</td>\n",
       "      <td>12</td>\n",
       "      <td>31</td>\n",
       "      <td>6</td>\n",
       "      <td>52</td>\n",
       "    </tr>\n",
       "    <tr>\n",
       "      <th>8758</th>\n",
       "      <td>2017-12-31</td>\n",
       "      <td>9</td>\n",
       "      <td>9904.5</td>\n",
       "      <td>301.0</td>\n",
       "      <td>0.842119</td>\n",
       "      <td>0.044444</td>\n",
       "      <td>12</td>\n",
       "      <td>31</td>\n",
       "      <td>6</td>\n",
       "      <td>52</td>\n",
       "    </tr>\n",
       "  </tbody>\n",
       "</table>\n",
       "<p>8759 rows × 10 columns</p>\n",
       "</div>"
      ],
      "text/plain": [
       "            Date hour  energie_eolien  energie_solaire  \\\n",
       "0     2017-01-01    0           289.0             -1.0   \n",
       "1     2017-01-01    1           359.0             -1.0   \n",
       "2     2017-01-01   10           617.5            623.5   \n",
       "3     2017-01-01   11           655.5           1077.5   \n",
       "4     2017-01-01   12           715.5           1355.0   \n",
       "...          ...  ...             ...              ...   \n",
       "8754  2017-12-31    5          9515.5             -1.0   \n",
       "8755  2017-12-31    6          9369.5             -1.0   \n",
       "8756  2017-12-31    7          9373.0             -1.0   \n",
       "8757  2017-12-31    8          9701.5              2.5   \n",
       "8758  2017-12-31    9          9904.5            301.0   \n",
       "\n",
       "      eolien(proportion_production)  solaire(proportion_production)  month  \\\n",
       "0                          0.024572                       -0.000148      1   \n",
       "1                          0.030524                       -0.000148      1   \n",
       "2                          0.052502                        0.092063      1   \n",
       "3                          0.055733                        0.159099      1   \n",
       "4                          0.060835                        0.200074      1   \n",
       "...                             ...                             ...    ...   \n",
       "8754                       0.809045                       -0.000148     12   \n",
       "8755                       0.796631                       -0.000148     12   \n",
       "8756                       0.796929                       -0.000148     12   \n",
       "8757                       0.824859                        0.000369     12   \n",
       "8758                       0.842119                        0.044444     12   \n",
       "\n",
       "      day  day_week  week  \n",
       "0       1         6    52  \n",
       "1       1         6    52  \n",
       "2       1         6    52  \n",
       "3       1         6    52  \n",
       "4       1         6    52  \n",
       "...   ...       ...   ...  \n",
       "8754   31         6    52  \n",
       "8755   31         6    52  \n",
       "8756   31         6    52  \n",
       "8757   31         6    52  \n",
       "8758   31         6    52  \n",
       "\n",
       "[8759 rows x 10 columns]"
      ]
     },
     "execution_count": 185,
     "metadata": {},
     "output_type": "execute_result"
    }
   ],
   "source": [
    "data_sol_eol['month'] = pd.DatetimeIndex(data_sol_eol['Date']).month\n",
    "data_sol_eol['day'] = pd.DatetimeIndex(data_sol_eol['Date']).day\n",
    "data_sol_eol['day_week'] = pd.DatetimeIndex(data_sol_eol['Date']).dayofweek\n",
    "data_sol_eol['week'] = pd.DatetimeIndex(data_sol_eol['Date']).week\n",
    "data_sol_eol"
   ]
  },
  {
   "cell_type": "code",
   "execution_count": 74,
   "id": "f90943f5",
   "metadata": {
    "ExecuteTime": {
     "end_time": "2022-05-14T13:59:39.177505Z",
     "start_time": "2022-05-14T13:59:13.428755Z"
    }
   },
   "outputs": [
    {
     "data": {
      "text/plain": [
       "Text(0, 0.5, 'Profils de production')"
      ]
     },
     "execution_count": 74,
     "metadata": {},
     "output_type": "execute_result"
    },
    {
     "data": {
      "image/png": "[encoded data removed]",
      "text/plain": [
       "<Figure size 1440x1440 with 6 Axes>"
      ]
     },
     "metadata": {},
     "output_type": "display_data"
    }
   ],
   "source": [
    "figure, ((ax1,ax2), (ax3,ax4), (ax5,ax6)) = plt.subplots(nrows=3, ncols=2)\n",
    "figure.set_size_inches(20,20)\n",
    "#sur les mois \n",
    "sns.barplot(data=data_sol_eol, x=\"month\", y='eolien(proportion_production)', ax=ax1, color=\"g\")\n",
    "sns.lineplot(data=data_sol_eol, x=\"month\", y='solaire(proportion_production)', ax=ax1, color=\"y\")\n",
    "ax1.set(title = \"month\")\n",
    "ax1.legend(labels=[\"production eolien\",\"production solaire\"], labelcolor= [\"green\",\"gold\"])\n",
    "ax1.set_xticklabels(x_month_list)\n",
    "ax1.set_ylabel(\"Profils de production\",)\n",
    "\n",
    "#sur les jours \n",
    "sns.barplot(data=data_sol_eol, x=\"day\", y='eolien(proportion_production)',ax=ax2, color=\"g\")\n",
    "sns.lineplot(data=data_sol_eol, x=\"day\", y='solaire(proportion_production)',ax=ax2, color=\"y\")\n",
    "ax2.set(title = \"day\")\n",
    "ax2.legend(labels=[\"production eolien\",\"production solaire\"])\n",
    "ax2.legend(labels=[\"production eolien\",\"production solaire\"], labelcolor= [\"green\",\"gold\"])\n",
    "ax2.set_ylabel(\"Profils de production\",)\n",
    "\n",
    "#sur les jours de semaines\n",
    "#x_dayweek_list = ['Lundi', 'Mardi', 'Mercredi', 'Jeudi', 'Vendredi', 'Samedi', 'Dimanche']\n",
    "sns.barplot(data=data_sol_eol, x=\"day_week\", y='eolien(proportion_production)',ax=ax3, color=\"g\")\n",
    "sns.lineplot(data=data_sol_eol, x=\"day_week\", y='solaire(proportion_production)',ax=ax3, color=\"y\")\n",
    "ax3.set(title = \"Jour de semaine\")\n",
    "ax3.legend(labels=[\"production eolien\",\"production solaire\"])\n",
    "ax3.legend(labels=[\"production eolien\",\"production solaire\"], labelcolor= [\"green\",\"gold\"])\n",
    "ax3.set_xticklabels(x_dayweek_list)\n",
    "ax3.set_ylabel(\"Profils de production\",)\n",
    "\n",
    "#sur l'année\n",
    "sns.lineplot(data=data_sol_eol, x=\"Date\", y='eolien(proportion_production)', ax=ax4,  color=\"g\")\n",
    "sns.lineplot(data=data_sol_eol, x=\"Date\", y='solaire(proportion_production)', ax=ax4, color=\"y\")\n",
    "ax4.set(title = \"Sur l'année\")\n",
    "ax4.legend(labels=[\"production eolien\",\"production solaire\"])\n",
    "ax4.legend(labels=[\"production eolien\",\"production solaire\"], labelcolor= [\"green\",\"gold\"])\n",
    "ax4.set_ylabel(\"Profils de production\",)\n",
    "\n",
    "#sur les semaines\n",
    "sns.barplot(data=data_sol_eol, x=\"week\", y='eolien(proportion_production)', ax=ax5,  color=\"g\")\n",
    "sns.lineplot(data=data_sol_eol, x=\"week\", y='solaire(proportion_production)', ax=ax5, color=\"y\")\n",
    "ax5.set(title = \"week\")\n",
    "ax5.legend(labels=[\"production eolien\",\"production solaire\"])\n",
    "ax5.legend(labels=[\"production eolien\",\"production solaire\"], labelcolor= [\"green\",\"gold\"])\n",
    "ax5.set_ylabel(\"Profils de production\",)"
   ]
  },
  {
   "cell_type": "markdown",
   "id": "a3855764",
   "metadata": {},
   "source": [
    "Pour les productions solaires \n",
    "\n",
    "    On a une production renouvelable plus importante de mai à septembre. Cela vient du fait qu’il s’agit de l’été,\n",
    "    on a donc plus d’ensoleillement durant cette periode en métropole. En tout cas on en a moins de consommation\n",
    "    durant cette periode. Sur la semaine (lundi à dimanche) la production est stable.\n",
    "    \n",
    "Pour les productions éoliens\n",
    "    \n",
    "    On a une production renouvelable plus importante de novembre à fevrier. Cela vient du fait qu'on a probablement plus de vent durant cette période. On a aussi des eoliens en mer qui peuvent recevoir des vents plus forts et plus réguliers que le terrestre. Par contre le mardi, la production est moins importante comparé aux autres jours, il doit probablement avoir une maintenance pour le mardi."
   ]
  },
  {
   "cell_type": "markdown",
   "id": "ce0f3b9e",
   "metadata": {},
   "source": [
    "## Comparez les profils de production renouvelable et les profils de consommation. Que pouvez-vous en dire "
   ]
  },
  {
   "cell_type": "markdown",
   "id": "9d8ef0ba",
   "metadata": {},
   "source": [
    "Les énergies renouvelables participent à la couverture de la consommation d’électricité. L’objectif étant avoir\n",
    "une baisse de la consommation et une augmentation sur la production d’énergies renouvelables en déterminant\n",
    "un mix électrique neutre en carbone, à l’horizon 2050. On observe que l’energie solaire étant importante en\n",
    "été peut couvrir une grande partie de la consommation d’éléctricité (la consommation est basse durant cette\n",
    "période), une quantité plus importante d’energie solaire est stocké durant cette période. En hiver c’est plutôt\n",
    "l’éolien qui obtient une quantité plus importante d’energie grâce aux vents qui peut couvrir une grande partie\n",
    "de la consommation d’électricité où la consommation est plus elevée en hiver.\n",
    "\n",
    "L’energie solaire qui a été stocké en été peut être utilisé durant la période hivernale. En cas de rupture, il\n",
    "y a toujours l’eolien qui est présent. L’objectif est d’atteindre un pourcentage élevé d’énergies renouvelables\n",
    "dans la consommation totale d’énergie de la France à horizon 2050."
   ]
  },
  {
   "cell_type": "markdown",
   "id": "f93c453f",
   "metadata": {},
   "source": [
    "# Question 3"
   ]
  },
  {
   "cell_type": "markdown",
   "id": "26bc9f00",
   "metadata": {},
   "source": [
    "1] Modéliser le problème sous forme d’un programme linéaire. L’objectif de ce programme linéaire\n",
    "est de minimiser la somme des coûts d’investissement et des coûts opérationnels du système. La\n",
    "consommation de chaque heure de la journée doit être satisfaite dans la mesure du possible par\n",
    "la production des différents actifs. L’équation doit également tenir compte des délestages ou des\n",
    "excès de production éventuels. La production horaire de chaque actif ne peut pas dépasser sa\n",
    "production horaire maximum. Pour les actifs éoliens et solaires, la production horaire est fixée par\n",
    "le produit entre la production horaire maximum et le profil déterminé dans la question 2."
   ]
  },
  {
   "cell_type": "markdown",
   "id": "d75e7ac9",
   "metadata": {},
   "source": [
    "$\\textbf{Modélisons le problème sous forme d’un programme linéaire.}$ "
   ]
  },
  {
   "cell_type": "markdown",
   "id": "93137568",
   "metadata": {},
   "source": [
    "Fonction objective : ${\\min 70000 c_1 + 50000 c_2 + 60000c_3 + 150 g_{i} + 3000 e_{i} + 1000 d_{i}}$ \n",
    "\n",
    "Contrainte 1 : $c_1 \\times  profil1_i +  c_2 \\times  profil2_i + g_i + d_i - e_i = conso_i$ \n",
    "\n",
    "Contrainte 2 : $g_i \\leq c_3$\n",
    "\n",
    "contrainte 3 : $c_1 \\geq 0$ \n",
    "\n",
    "contrainte 4 : $c_2 \\geq 0$ \n",
    "\n",
    "contrainte 5 : $c_3 \\geq 0$ \n",
    "\n",
    "contrainte 6 : $g_i \\geq 0$\n",
    "\n",
    "contrainte 7 : $e_i \\geq 0$ \n",
    "\n",
    "contrainte 8 : $d_i \\geq 0$\n",
    "\n",
    "\n",
    "$c_1$ : capacité éolien | $c_2$ : capacité solaire  | $c_3$ : capacité biogaz |  $g_i$ : la production d'electricité par biogaz en heure pour un scénario de 600TWH | $d_i$ : le délestages\n",
    "\n",
    "$e_i$ : excés de production "
   ]
  },
  {
   "cell_type": "markdown",
   "id": "1fd9be78",
   "metadata": {},
   "source": [
    "$\\textbf{2] Coder et résoudre ce programme linéaire. Comment est composé le mix électrique obtenu ?}$ $\\textbf{Observe-t-on des délestages ou des excès de production ?}$ $\\textbf{Combien d’heures et en quelle quantité ?}$"
   ]
  },
  {
   "cell_type": "code",
   "execution_count": null,
   "id": "a749bafe",
   "metadata": {
    "ExecuteTime": {
     "end_time": "2022-05-14T13:57:30.414110Z",
     "start_time": "2022-05-14T13:57:22.504Z"
    }
   },
   "outputs": [],
   "source": [
    "fonction_obj = \"70000c1 + 50000c2 + 60000c3\"\n",
    "for i in range(0,data_sol_eol.shape[0]-1):\n",
    "    fonction_obj = fonction_obj + \" + 150g_\" + str(i) + \"+\" + \" 1000e_\" + str(i) + \"+\" + \" 3000d_\" + str(i) #ecriture de la fonction objective\n",
    "\n",
    "#Ecriture de la fonction  objective\n",
    "filename ='question3.lp'\n",
    "with open(filename, 'a', encoding='latin-1') as f:\n",
    "    f.write(\"Minimize\\n\")\n",
    "    f.write('fonction_objective:') #ecriture de la fonction objective \n",
    "    f.write(fonction_obj)\n",
    "    f.write(\"\\nSubject To \\n\") #utilisation des contraintes pour la suite\n",
    "    f.close()\n",
    "    \n",
    "#Pour la première contrainte \n",
    "for i in range(0,data_sol_eol.shape[0]-1):\n",
    "    if data_sol_eol['solaire(proportion_production)'][i] < 0: #car on a des energie solaire negatives\n",
    "        contrainte1 = str((data_sol_eol['eolien(proportion_production)'][i]))  + 'c1 ' + str((data_sol_eol['solaire(proportion_production)'][i])) + 'c2 + g_' + str(i) + '+d_' + str(i) + '-e_' + str(i) + '=' +str(data_bis['conso_600'][i]) + '\\n'       \n",
    "    else: \n",
    "        contrainte1 = str((data_sol_eol['eolien(proportion_production)'][i]))  + 'c1 +' + str((data_sol_eol['solaire(proportion_production)'][i])) + 'c2 + g_' + str(i) + '+d_' + str(i) + '-e_' + str(i) + '=' +str(data_bis['conso_600'][i]) + '\\n' \n",
    "    with open(filename, 'a',encoding='latin-1') as f:\n",
    "        f.write(contrainte1)\n",
    "        f.close\n",
    "    \n",
    "#Pour la deuxième contrainte\n",
    "for i in range(0,data_sol_eol.shape[0]-1):\n",
    "    contrainte2 = 'g_' + str(i) + '-c3 <= 0' + '\\n'  \n",
    "    with open(filename, 'a', encoding='latin-1') as f:\n",
    "        f.write(contrainte2)\n",
    "        f.close()   \n",
    "        \n",
    "##Pour les bounds : \n",
    "with open(filename, 'a', encoding='latin-1') as f:\n",
    "    f.write(\"bounds\\n\")\n",
    "    f.close()\n",
    "\n",
    "        \n",
    "#Pour les contraintes 6,7,8\n",
    "for i in range(0,data_sol_eol.shape[0]-1):\n",
    "    bounds = 'd_'+str(i)+'>=0' + '\\n' + 'e_'+str(i)+'>=0' + '\\n' + 'g_'+str(i)+'>=0' + '\\n'\n",
    "    with open(filename, 'a', encoding='latin-1') as f:\n",
    "        f.write(bounds)\n",
    "        f.close()\n",
    "        \n",
    "#Pour les contraintes c1, c2, c3        \n",
    "bounds2 = 'c1 >=0' + '\\n' + 'c2>=0' + '\\n' + 'c3>=0' + '\\n'  \n",
    "with open(filename, 'a', encoding='latin-1') as f:  \n",
    "    f.write(bounds2)\n",
    "    f.write('END')\n",
    "    f.close()"
   ]
  },
  {
   "cell_type": "markdown",
   "id": "2e32f4e2",
   "metadata": {},
   "source": [
    "Voici quelques résultats obtenus après avoir résolu notre programme linéaire avec CPLEX"
   ]
  },
  {
   "cell_type": "code",
   "execution_count": 186,
   "id": "2ea5d2fc",
   "metadata": {
    "ExecuteTime": {
     "end_time": "2022-05-14T20:14:28.306462Z",
     "start_time": "2022-05-14T20:14:28.277553Z"
    }
   },
   "outputs": [
    {
     "data": {
      "image/png": "[encoded data removed]",
      "text/plain": [
       "<PIL.PngImagePlugin.PngImageFile image mode=RGBA size=388x98 at 0x1AE4FF839B0>"
      ]
     },
     "execution_count": 186,
     "metadata": {},
     "output_type": "execute_result"
    }
   ],
   "source": [
    "from PIL import Image\n",
    "im = Image.open('cplex.png')\n",
    "im"
   ]
  },
  {
   "cell_type": "markdown",
   "id": "b964becc",
   "metadata": {
    "ExecuteTime": {
     "end_time": "2022-05-11T15:31:00.525282Z",
     "start_time": "2022-05-11T15:31:00.265394Z"
    }
   },
   "source": [
    "Le mix électrique désigne les sources d’énergie utilisées dans la production d’électricité d’un pays. Leur utilisation se fait en proportions différentes. \n",
    "\n",
    "    Le mix électrique avec les valeurs de capacités optimales sont : \n",
    "        c1 (éolien) = 88694\n",
    "        c2 (solaire) = 56265\n",
    "        c3 (CCGT) = 96233"
   ]
  },
  {
   "cell_type": "code",
   "execution_count": 187,
   "id": "b4355e7c",
   "metadata": {
    "ExecuteTime": {
     "end_time": "2022-05-14T20:14:40.789088Z",
     "start_time": "2022-05-14T20:14:40.761588Z"
    }
   },
   "outputs": [
    {
     "data": {
      "image/png": "[encoded data removed]",
      "text/plain": [
       "<PIL.PngImagePlugin.PngImageFile image mode=RGBA size=656x105 at 0x1AE4FF935C0>"
      ]
     },
     "execution_count": 187,
     "metadata": {},
     "output_type": "execute_result"
    }
   ],
   "source": [
    "im2 = Image.open('cplex_cout.png')\n",
    "im2"
   ]
  },
  {
   "cell_type": "markdown",
   "id": "7e32453a",
   "metadata": {},
   "source": [
    "En affichant le résultat de la fonction objective, on obtient un côut en euro d'environ $7,07 x 10^{10}$"
   ]
  },
  {
   "cell_type": "markdown",
   "id": "d7f46c1f",
   "metadata": {},
   "source": [
    "Après avoir exporter le modèle en format XML sur cplex on importe notre fichier sur python"
   ]
  },
  {
   "cell_type": "code",
   "execution_count": 188,
   "id": "a5ae761c",
   "metadata": {
    "ExecuteTime": {
     "end_time": "2022-05-14T20:14:53.253200Z",
     "start_time": "2022-05-14T20:14:53.224557Z"
    }
   },
   "outputs": [],
   "source": [
    "from bs4 import BeautifulSoup \n",
    "\n",
    "with open('solution3', 'r') as f: \n",
    "    data = f.read() \n",
    "#data"
   ]
  },
  {
   "cell_type": "code",
   "execution_count": 189,
   "id": "b921d53b",
   "metadata": {
    "ExecuteTime": {
     "end_time": "2022-05-14T20:15:09.660900Z",
     "start_time": "2022-05-14T20:15:07.272213Z"
    },
    "scrolled": false
   },
   "outputs": [],
   "source": [
    "Bs_data = BeautifulSoup(data, \"xml\") \n",
    "#Bs_data"
   ]
  },
  {
   "cell_type": "code",
   "execution_count": 190,
   "id": "002bbc2d",
   "metadata": {
    "ExecuteTime": {
     "end_time": "2022-05-14T20:15:24.111793Z",
     "start_time": "2022-05-14T20:15:24.098726Z"
    }
   },
   "outputs": [
    {
     "name": "stdout",
     "output_type": "stream",
     "text": [
      "la valeur de la fonction objective est égale à 70781469446.144196\n"
     ]
    }
   ],
   "source": [
    "b_name = Bs_data.find(\"header\")\n",
    "value = b_name.get('objectiveValue')\n",
    "print(\"la valeur de la fonction objective est égale à \" + str(value))"
   ]
  },
  {
   "cell_type": "code",
   "execution_count": 191,
   "id": "58c09bdd",
   "metadata": {
    "ExecuteTime": {
     "end_time": "2022-05-14T20:15:38.487176Z",
     "start_time": "2022-05-14T20:15:38.289193Z"
    }
   },
   "outputs": [],
   "source": [
    "c_name = Bs_data.find(\"variables\")\n",
    "#print(c_name)"
   ]
  },
  {
   "cell_type": "code",
   "execution_count": 192,
   "id": "082a500e",
   "metadata": {
    "ExecuteTime": {
     "end_time": "2022-05-14T20:15:53.406506Z",
     "start_time": "2022-05-14T20:15:53.366335Z"
    }
   },
   "outputs": [],
   "source": [
    "test = c_name.find_all('variable')"
   ]
  },
  {
   "cell_type": "code",
   "execution_count": 193,
   "id": "f1f4850f",
   "metadata": {
    "ExecuteTime": {
     "end_time": "2022-05-14T20:16:08.483872Z",
     "start_time": "2022-05-14T20:16:08.439679Z"
    }
   },
   "outputs": [],
   "source": [
    "variables = []\n",
    "valeurs = []\n",
    "for i in range(0,len(test)-1):\n",
    "    test_1 = test[i]\n",
    "    a = test_1.get('name')\n",
    "    b = test_1.get('value')\n",
    "    variables.append(a)\n",
    "    valeurs.append(b)"
   ]
  },
  {
   "cell_type": "code",
   "execution_count": 194,
   "id": "3b3949a1",
   "metadata": {
    "ExecuteTime": {
     "end_time": "2022-05-14T20:16:21.876758Z",
     "start_time": "2022-05-14T20:16:21.864418Z"
    }
   },
   "outputs": [],
   "source": [
    "df = pd.DataFrame(columns = ['variables' , 'valeurs'])"
   ]
  },
  {
   "cell_type": "code",
   "execution_count": 195,
   "id": "3d8ea2ea",
   "metadata": {
    "ExecuteTime": {
     "end_time": "2022-05-14T20:18:09.262801Z",
     "start_time": "2022-05-14T20:16:34.188363Z"
    }
   },
   "outputs": [
    {
     "data": {
      "text/html": [
       "<div>\n",
       "<style scoped>\n",
       "    .dataframe tbody tr th:only-of-type {\n",
       "        vertical-align: middle;\n",
       "    }\n",
       "\n",
       "    .dataframe tbody tr th {\n",
       "        vertical-align: top;\n",
       "    }\n",
       "\n",
       "    .dataframe thead th {\n",
       "        text-align: right;\n",
       "    }\n",
       "</style>\n",
       "<table border=\"1\" class=\"dataframe\">\n",
       "  <thead>\n",
       "    <tr style=\"text-align: right;\">\n",
       "      <th></th>\n",
       "      <th>variables</th>\n",
       "      <th>valeurs</th>\n",
       "    </tr>\n",
       "  </thead>\n",
       "  <tbody>\n",
       "    <tr>\n",
       "      <th>0</th>\n",
       "      <td>c1</td>\n",
       "      <td>88694.211583424447</td>\n",
       "    </tr>\n",
       "    <tr>\n",
       "      <th>1</th>\n",
       "      <td>c2</td>\n",
       "      <td>56265.985842089198</td>\n",
       "    </tr>\n",
       "    <tr>\n",
       "      <th>2</th>\n",
       "      <td>c3</td>\n",
       "      <td>96233.026858550045</td>\n",
       "    </tr>\n",
       "    <tr>\n",
       "      <th>3</th>\n",
       "      <td>g_0</td>\n",
       "      <td>92542.432269436569</td>\n",
       "    </tr>\n",
       "    <tr>\n",
       "      <th>4</th>\n",
       "      <td>e_0</td>\n",
       "      <td>0</td>\n",
       "    </tr>\n",
       "    <tr>\n",
       "      <th>...</th>\n",
       "      <td>...</td>\n",
       "      <td>...</td>\n",
       "    </tr>\n",
       "    <tr>\n",
       "      <th>26271</th>\n",
       "      <td>g_8756</td>\n",
       "      <td>0</td>\n",
       "    </tr>\n",
       "    <tr>\n",
       "      <th>26272</th>\n",
       "      <td>e_8756</td>\n",
       "      <td>7423.7863845914262</td>\n",
       "    </tr>\n",
       "    <tr>\n",
       "      <th>26273</th>\n",
       "      <td>d_8756</td>\n",
       "      <td>0</td>\n",
       "    </tr>\n",
       "    <tr>\n",
       "      <th>26274</th>\n",
       "      <td>g_8757</td>\n",
       "      <td>0</td>\n",
       "    </tr>\n",
       "    <tr>\n",
       "      <th>26275</th>\n",
       "      <td>e_8757</td>\n",
       "      <td>7924.883579709307</td>\n",
       "    </tr>\n",
       "  </tbody>\n",
       "</table>\n",
       "<p>26276 rows × 2 columns</p>\n",
       "</div>"
      ],
      "text/plain": [
       "      variables             valeurs\n",
       "0            c1  88694.211583424447\n",
       "1            c2  56265.985842089198\n",
       "2            c3  96233.026858550045\n",
       "3           g_0  92542.432269436569\n",
       "4           e_0                   0\n",
       "...         ...                 ...\n",
       "26271    g_8756                   0\n",
       "26272    e_8756  7423.7863845914262\n",
       "26273    d_8756                   0\n",
       "26274    g_8757                   0\n",
       "26275    e_8757   7924.883579709307\n",
       "\n",
       "[26276 rows x 2 columns]"
      ]
     },
     "execution_count": 195,
     "metadata": {},
     "output_type": "execute_result"
    }
   ],
   "source": [
    "for i in range (0,len(test)-1):\n",
    "    df.loc[i] = [variables[i], valeurs[i]]\n",
    "df"
   ]
  },
  {
   "cell_type": "code",
   "execution_count": 136,
   "id": "9dc0bc51",
   "metadata": {
    "ExecuteTime": {
     "end_time": "2022-05-14T10:49:49.772639Z",
     "start_time": "2022-05-14T10:49:49.713885Z"
    }
   },
   "outputs": [],
   "source": [
    "#Exportation du fichier en format csv\n",
    "df.to_csv('q3_resultats.csv')"
   ]
  },
  {
   "cell_type": "code",
   "execution_count": 196,
   "id": "a9780fdc",
   "metadata": {
    "ExecuteTime": {
     "end_time": "2022-05-14T20:18:22.177581Z",
     "start_time": "2022-05-14T20:18:22.119409Z"
    }
   },
   "outputs": [
    {
     "data": {
      "text/html": [
       "<div>\n",
       "<style scoped>\n",
       "    .dataframe tbody tr th:only-of-type {\n",
       "        vertical-align: middle;\n",
       "    }\n",
       "\n",
       "    .dataframe tbody tr th {\n",
       "        vertical-align: top;\n",
       "    }\n",
       "\n",
       "    .dataframe thead th {\n",
       "        text-align: right;\n",
       "    }\n",
       "</style>\n",
       "<table border=\"1\" class=\"dataframe\">\n",
       "  <thead>\n",
       "    <tr style=\"text-align: right;\">\n",
       "      <th></th>\n",
       "      <th>variables</th>\n",
       "      <th>valeurs</th>\n",
       "    </tr>\n",
       "  </thead>\n",
       "  <tbody>\n",
       "    <tr>\n",
       "      <th>0</th>\n",
       "      <td>e_0</td>\n",
       "      <td>0</td>\n",
       "    </tr>\n",
       "    <tr>\n",
       "      <th>1</th>\n",
       "      <td>e_1</td>\n",
       "      <td>0</td>\n",
       "    </tr>\n",
       "    <tr>\n",
       "      <th>2</th>\n",
       "      <td>e_2</td>\n",
       "      <td>0</td>\n",
       "    </tr>\n",
       "    <tr>\n",
       "      <th>3</th>\n",
       "      <td>e_3</td>\n",
       "      <td>0</td>\n",
       "    </tr>\n",
       "    <tr>\n",
       "      <th>4</th>\n",
       "      <td>e_4</td>\n",
       "      <td>0</td>\n",
       "    </tr>\n",
       "    <tr>\n",
       "      <th>...</th>\n",
       "      <td>...</td>\n",
       "      <td>...</td>\n",
       "    </tr>\n",
       "    <tr>\n",
       "      <th>8753</th>\n",
       "      <td>e_8753</td>\n",
       "      <td>12190.10816640401</td>\n",
       "    </tr>\n",
       "    <tr>\n",
       "      <th>8754</th>\n",
       "      <td>e_8754</td>\n",
       "      <td>11477.451252431834</td>\n",
       "    </tr>\n",
       "    <tr>\n",
       "      <th>8755</th>\n",
       "      <td>e_8755</td>\n",
       "      <td>9035.6530991477848</td>\n",
       "    </tr>\n",
       "    <tr>\n",
       "      <th>8756</th>\n",
       "      <td>e_8756</td>\n",
       "      <td>7423.7863845914262</td>\n",
       "    </tr>\n",
       "    <tr>\n",
       "      <th>8757</th>\n",
       "      <td>e_8757</td>\n",
       "      <td>7924.883579709307</td>\n",
       "    </tr>\n",
       "  </tbody>\n",
       "</table>\n",
       "<p>8758 rows × 2 columns</p>\n",
       "</div>"
      ],
      "text/plain": [
       "     variables             valeurs\n",
       "0          e_0                   0\n",
       "1          e_1                   0\n",
       "2          e_2                   0\n",
       "3          e_3                   0\n",
       "4          e_4                   0\n",
       "...        ...                 ...\n",
       "8753    e_8753   12190.10816640401\n",
       "8754    e_8754  11477.451252431834\n",
       "8755    e_8755  9035.6530991477848\n",
       "8756    e_8756  7423.7863845914262\n",
       "8757    e_8757   7924.883579709307\n",
       "\n",
       "[8758 rows x 2 columns]"
      ]
     },
     "execution_count": 196,
     "metadata": {},
     "output_type": "execute_result"
    }
   ],
   "source": [
    "exce = [col for col in df['variables'].values if 'e_' in col]\n",
    "d= pd.DataFrame(exce,columns=['variables'])\n",
    "d_exce=d.merge(df)\n",
    "d_exce"
   ]
  },
  {
   "cell_type": "markdown",
   "id": "4cc98ef4",
   "metadata": {},
   "source": [
    "$\\textbf{Excès de production : heures et quantité}$"
   ]
  },
  {
   "cell_type": "code",
   "execution_count": 197,
   "id": "c02b1a07",
   "metadata": {
    "ExecuteTime": {
     "end_time": "2022-05-14T20:18:34.843842Z",
     "start_time": "2022-05-14T20:18:34.814878Z"
    }
   },
   "outputs": [
    {
     "data": {
      "text/html": [
       "<div>\n",
       "<style scoped>\n",
       "    .dataframe tbody tr th:only-of-type {\n",
       "        vertical-align: middle;\n",
       "    }\n",
       "\n",
       "    .dataframe tbody tr th {\n",
       "        vertical-align: top;\n",
       "    }\n",
       "\n",
       "    .dataframe thead th {\n",
       "        text-align: right;\n",
       "    }\n",
       "</style>\n",
       "<table border=\"1\" class=\"dataframe\">\n",
       "  <thead>\n",
       "    <tr style=\"text-align: right;\">\n",
       "      <th></th>\n",
       "      <th>variables</th>\n",
       "      <th>valeurs</th>\n",
       "    </tr>\n",
       "  </thead>\n",
       "  <tbody>\n",
       "    <tr>\n",
       "      <th>1277</th>\n",
       "      <td>e_1277</td>\n",
       "      <td>1078.6155295659992</td>\n",
       "    </tr>\n",
       "    <tr>\n",
       "      <th>1278</th>\n",
       "      <td>e_1278</td>\n",
       "      <td>1820.4277837119371</td>\n",
       "    </tr>\n",
       "    <tr>\n",
       "      <th>1279</th>\n",
       "      <td>e_1279</td>\n",
       "      <td>872.19856488059486</td>\n",
       "    </tr>\n",
       "    <tr>\n",
       "      <th>1372</th>\n",
       "      <td>e_1372</td>\n",
       "      <td>2283.1460880649574</td>\n",
       "    </tr>\n",
       "    <tr>\n",
       "      <th>1373</th>\n",
       "      <td>e_1373</td>\n",
       "      <td>4917.1140308182912</td>\n",
       "    </tr>\n",
       "    <tr>\n",
       "      <th>...</th>\n",
       "      <td>...</td>\n",
       "      <td>...</td>\n",
       "    </tr>\n",
       "    <tr>\n",
       "      <th>8753</th>\n",
       "      <td>e_8753</td>\n",
       "      <td>12190.10816640401</td>\n",
       "    </tr>\n",
       "    <tr>\n",
       "      <th>8754</th>\n",
       "      <td>e_8754</td>\n",
       "      <td>11477.451252431834</td>\n",
       "    </tr>\n",
       "    <tr>\n",
       "      <th>8755</th>\n",
       "      <td>e_8755</td>\n",
       "      <td>9035.6530991477848</td>\n",
       "    </tr>\n",
       "    <tr>\n",
       "      <th>8756</th>\n",
       "      <td>e_8756</td>\n",
       "      <td>7423.7863845914262</td>\n",
       "    </tr>\n",
       "    <tr>\n",
       "      <th>8757</th>\n",
       "      <td>e_8757</td>\n",
       "      <td>7924.883579709307</td>\n",
       "    </tr>\n",
       "  </tbody>\n",
       "</table>\n",
       "<p>371 rows × 2 columns</p>\n",
       "</div>"
      ],
      "text/plain": [
       "     variables             valeurs\n",
       "1277    e_1277  1078.6155295659992\n",
       "1278    e_1278  1820.4277837119371\n",
       "1279    e_1279  872.19856488059486\n",
       "1372    e_1372  2283.1460880649574\n",
       "1373    e_1373  4917.1140308182912\n",
       "...        ...                 ...\n",
       "8753    e_8753   12190.10816640401\n",
       "8754    e_8754  11477.451252431834\n",
       "8755    e_8755  9035.6530991477848\n",
       "8756    e_8756  7423.7863845914262\n",
       "8757    e_8757   7924.883579709307\n",
       "\n",
       "[371 rows x 2 columns]"
      ]
     },
     "execution_count": 197,
     "metadata": {},
     "output_type": "execute_result"
    }
   ],
   "source": [
    "d_exce_bis = d_exce[d_exce[\"valeurs\"] != \"0\"]\n",
    "d_exce_bis"
   ]
  },
  {
   "cell_type": "code",
   "execution_count": 198,
   "id": "b59d60c5",
   "metadata": {
    "ExecuteTime": {
     "end_time": "2022-05-14T20:18:49.058694Z",
     "start_time": "2022-05-14T20:18:49.045130Z"
    }
   },
   "outputs": [
    {
     "name": "stderr",
     "output_type": "stream",
     "text": [
      "C:\\Users\\na_to\\Anaconda3\\lib\\site-packages\\ipykernel_launcher.py:1: SettingWithCopyWarning: \n",
      "A value is trying to be set on a copy of a slice from a DataFrame.\n",
      "Try using .loc[row_indexer,col_indexer] = value instead\n",
      "\n",
      "See the caveats in the documentation: https://pandas.pydata.org/pandas-docs/stable/user_guide/indexing.html#returning-a-view-versus-a-copy\n",
      "  \"\"\"Entry point for launching an IPython kernel.\n"
     ]
    }
   ],
   "source": [
    "d_exce_bis['valeurs'] = d_exce_bis['valeurs'].astype(float, copy=False)"
   ]
  },
  {
   "cell_type": "code",
   "execution_count": 199,
   "id": "e6339c03",
   "metadata": {
    "ExecuteTime": {
     "end_time": "2022-05-14T20:19:01.321606Z",
     "start_time": "2022-05-14T20:19:01.308636Z"
    }
   },
   "outputs": [
    {
     "name": "stdout",
     "output_type": "stream",
     "text": [
      "On observe un excés de prodution de 3659076.797956488 MW qui a duré 371 Heures\n"
     ]
    }
   ],
   "source": [
    "print(\"On observe un excés de prodution de \" + str(d_exce_bis['valeurs'].sum()) + \" MW qui a duré \" +  str(d_exce_bis.shape[0]) + \" Heures\")"
   ]
  },
  {
   "cell_type": "code",
   "execution_count": 200,
   "id": "fa3b2801",
   "metadata": {
    "ExecuteTime": {
     "end_time": "2022-05-14T20:19:13.929822Z",
     "start_time": "2022-05-14T20:19:13.885649Z"
    }
   },
   "outputs": [
    {
     "data": {
      "text/html": [
       "<div>\n",
       "<style scoped>\n",
       "    .dataframe tbody tr th:only-of-type {\n",
       "        vertical-align: middle;\n",
       "    }\n",
       "\n",
       "    .dataframe tbody tr th {\n",
       "        vertical-align: top;\n",
       "    }\n",
       "\n",
       "    .dataframe thead th {\n",
       "        text-align: right;\n",
       "    }\n",
       "</style>\n",
       "<table border=\"1\" class=\"dataframe\">\n",
       "  <thead>\n",
       "    <tr style=\"text-align: right;\">\n",
       "      <th></th>\n",
       "      <th>variables</th>\n",
       "      <th>valeurs</th>\n",
       "    </tr>\n",
       "  </thead>\n",
       "  <tbody>\n",
       "    <tr>\n",
       "      <th>0</th>\n",
       "      <td>g_0</td>\n",
       "      <td>92542.432269436569</td>\n",
       "    </tr>\n",
       "    <tr>\n",
       "      <th>1</th>\n",
       "      <td>g_1</td>\n",
       "      <td>88478.766036390283</td>\n",
       "    </tr>\n",
       "    <tr>\n",
       "      <th>2</th>\n",
       "      <td>g_2</td>\n",
       "      <td>73854.88373040664</td>\n",
       "    </tr>\n",
       "    <tr>\n",
       "      <th>3</th>\n",
       "      <td>g_3</td>\n",
       "      <td>71833.038547690783</td>\n",
       "    </tr>\n",
       "    <tr>\n",
       "      <th>4</th>\n",
       "      <td>g_4</td>\n",
       "      <td>71147.348071856162</td>\n",
       "    </tr>\n",
       "    <tr>\n",
       "      <th>...</th>\n",
       "      <td>...</td>\n",
       "      <td>...</td>\n",
       "    </tr>\n",
       "    <tr>\n",
       "      <th>8753</th>\n",
       "      <td>g_8753</td>\n",
       "      <td>0</td>\n",
       "    </tr>\n",
       "    <tr>\n",
       "      <th>8754</th>\n",
       "      <td>g_8754</td>\n",
       "      <td>0</td>\n",
       "    </tr>\n",
       "    <tr>\n",
       "      <th>8755</th>\n",
       "      <td>g_8755</td>\n",
       "      <td>0</td>\n",
       "    </tr>\n",
       "    <tr>\n",
       "      <th>8756</th>\n",
       "      <td>g_8756</td>\n",
       "      <td>0</td>\n",
       "    </tr>\n",
       "    <tr>\n",
       "      <th>8757</th>\n",
       "      <td>g_8757</td>\n",
       "      <td>0</td>\n",
       "    </tr>\n",
       "  </tbody>\n",
       "</table>\n",
       "<p>8758 rows × 2 columns</p>\n",
       "</div>"
      ],
      "text/plain": [
       "     variables             valeurs\n",
       "0          g_0  92542.432269436569\n",
       "1          g_1  88478.766036390283\n",
       "2          g_2   73854.88373040664\n",
       "3          g_3  71833.038547690783\n",
       "4          g_4  71147.348071856162\n",
       "...        ...                 ...\n",
       "8753    g_8753                   0\n",
       "8754    g_8754                   0\n",
       "8755    g_8755                   0\n",
       "8756    g_8756                   0\n",
       "8757    g_8757                   0\n",
       "\n",
       "[8758 rows x 2 columns]"
      ]
     },
     "execution_count": 200,
     "metadata": {},
     "output_type": "execute_result"
    }
   ],
   "source": [
    "dele = [col for col in df['variables'].values if 'g_' in col]\n",
    "dbis= pd.DataFrame(dele,columns=['variables'])\n",
    "d_dele=dbis.merge(df)\n",
    "d_dele "
   ]
  },
  {
   "cell_type": "code",
   "execution_count": 201,
   "id": "1e28fd4f",
   "metadata": {
    "ExecuteTime": {
     "end_time": "2022-05-14T20:19:26.475156Z",
     "start_time": "2022-05-14T20:19:26.446978Z"
    }
   },
   "outputs": [
    {
     "name": "stderr",
     "output_type": "stream",
     "text": [
      "C:\\Users\\na_to\\Anaconda3\\lib\\site-packages\\ipykernel_launcher.py:2: SettingWithCopyWarning: \n",
      "A value is trying to be set on a copy of a slice from a DataFrame.\n",
      "Try using .loc[row_indexer,col_indexer] = value instead\n",
      "\n",
      "See the caveats in the documentation: https://pandas.pydata.org/pandas-docs/stable/user_guide/indexing.html#returning-a-view-versus-a-copy\n",
      "  \n"
     ]
    }
   ],
   "source": [
    "d_dele_bis = d_dele[d_dele[\"valeurs\"] != \"0\"]\n",
    "d_dele_bis['valeurs'] = d_dele_bis['valeurs'].astype(float, copy=False)"
   ]
  },
  {
   "cell_type": "code",
   "execution_count": 202,
   "id": "8fb098f5",
   "metadata": {
    "ExecuteTime": {
     "end_time": "2022-05-14T20:19:38.798571Z",
     "start_time": "2022-05-14T20:19:38.786556Z"
    }
   },
   "outputs": [
    {
     "name": "stdout",
     "output_type": "stream",
     "text": [
      "On observe des délestages de 347141414.4821293 MW qui a duré 8385 Heures\n"
     ]
    }
   ],
   "source": [
    "print(\"On observe des délestages de \" + str(d_dele_bis['valeurs'].sum()) + \" MW qui a duré \" +  str(d_dele_bis.shape[0]) + \" Heures\")"
   ]
  },
  {
   "cell_type": "markdown",
   "id": "9ac80997",
   "metadata": {},
   "source": [
    "# Question 4 Simulation de l’adéquation du mix électrique "
   ]
  },
  {
   "cell_type": "markdown",
   "id": "59b86b9c",
   "metadata": {},
   "source": [
    "Le mix électrique calculé dans la question 3 est adapté à une consommation annuelle de 600 TWh.\n",
    "Cependant, il existe une incertitude importante sur ces projections de demande à long terme, et\n",
    "particulièrement dans le cadre de la transition énergétique. En effet, il est difficile d’évaluer quels\n",
    "vecteurs énergétiques et quelles technologies émergeront pour satisfaire les différents usages à cet\n",
    "horizon"
   ]
  },
  {
   "cell_type": "markdown",
   "id": "81b20cc2",
   "metadata": {},
   "source": [
    "2] En fixant les capacités des actifs à celles obtenues dans la question 2, simuler le fonctionnement\n",
    "du système électrique pour des consommations annuelles de 500 TWh et 700 TWh. Le système\n",
    "s’adapte-t-il à ces consommations annuelles ? Les délestages et excès de production varient-ils ?\n",
    "Pourquoi ?"
   ]
  },
  {
   "cell_type": "markdown",
   "id": "ca464445",
   "metadata": {},
   "source": [
    "Les capacités des actifs obtenus pour C1,C2 et C3 sont : \n",
    "    \n",
    "    C1 = 88694\n",
    "    C2 = 56265\n",
    "    C3 = 96233"
   ]
  },
  {
   "cell_type": "code",
   "execution_count": 78,
   "id": "67532302",
   "metadata": {
    "ExecuteTime": {
     "end_time": "2022-05-14T14:06:47.697551Z",
     "start_time": "2022-05-14T14:06:47.694927Z"
    }
   },
   "outputs": [],
   "source": [
    "c1= 88694\n",
    "c2= 56265\n",
    "c3= 96233"
   ]
  },
  {
   "cell_type": "code",
   "execution_count": 79,
   "id": "5366fa31",
   "metadata": {
    "ExecuteTime": {
     "end_time": "2022-05-14T14:06:49.067401Z",
     "start_time": "2022-05-14T14:06:49.034026Z"
    }
   },
   "outputs": [
    {
     "data": {
      "text/html": [
       "<div>\n",
       "<style scoped>\n",
       "    .dataframe tbody tr th:only-of-type {\n",
       "        vertical-align: middle;\n",
       "    }\n",
       "\n",
       "    .dataframe tbody tr th {\n",
       "        vertical-align: top;\n",
       "    }\n",
       "\n",
       "    .dataframe thead th {\n",
       "        text-align: right;\n",
       "    }\n",
       "</style>\n",
       "<table border=\"1\" class=\"dataframe\">\n",
       "  <thead>\n",
       "    <tr style=\"text-align: right;\">\n",
       "      <th></th>\n",
       "      <th>Date</th>\n",
       "      <th>hour</th>\n",
       "      <th>energie</th>\n",
       "      <th>Profil(%)</th>\n",
       "      <th>conso_600</th>\n",
       "      <th>month</th>\n",
       "      <th>day</th>\n",
       "      <th>day_week</th>\n",
       "      <th>week</th>\n",
       "      <th>conso_500</th>\n",
       "      <th>conso_700</th>\n",
       "    </tr>\n",
       "  </thead>\n",
       "  <tbody>\n",
       "    <tr>\n",
       "      <th>0</th>\n",
       "      <td>2017-01-01</td>\n",
       "      <td>0</td>\n",
       "      <td>75620.0</td>\n",
       "      <td>0.000158</td>\n",
       "      <td>94713.509976</td>\n",
       "      <td>1</td>\n",
       "      <td>1</td>\n",
       "      <td>6</td>\n",
       "      <td>52</td>\n",
       "      <td>78927.924980</td>\n",
       "      <td>110499.094972</td>\n",
       "    </tr>\n",
       "    <tr>\n",
       "      <th>1</th>\n",
       "      <td>2017-01-01</td>\n",
       "      <td>1</td>\n",
       "      <td>72797.0</td>\n",
       "      <td>0.000152</td>\n",
       "      <td>91177.722636</td>\n",
       "      <td>1</td>\n",
       "      <td>1</td>\n",
       "      <td>6</td>\n",
       "      <td>52</td>\n",
       "      <td>75981.435530</td>\n",
       "      <td>106374.009742</td>\n",
       "    </tr>\n",
       "    <tr>\n",
       "      <th>2</th>\n",
       "      <td>2017-01-01</td>\n",
       "      <td>10</td>\n",
       "      <td>66820.0</td>\n",
       "      <td>0.000139</td>\n",
       "      <td>83691.572819</td>\n",
       "      <td>1</td>\n",
       "      <td>1</td>\n",
       "      <td>6</td>\n",
       "      <td>52</td>\n",
       "      <td>69742.977350</td>\n",
       "      <td>97640.168289</td>\n",
       "    </tr>\n",
       "    <tr>\n",
       "      <th>3</th>\n",
       "      <td>2017-01-01</td>\n",
       "      <td>11</td>\n",
       "      <td>68446.0</td>\n",
       "      <td>0.000143</td>\n",
       "      <td>85728.126208</td>\n",
       "      <td>1</td>\n",
       "      <td>1</td>\n",
       "      <td>6</td>\n",
       "      <td>52</td>\n",
       "      <td>71440.105173</td>\n",
       "      <td>100016.147242</td>\n",
       "    </tr>\n",
       "    <tr>\n",
       "      <th>4</th>\n",
       "      <td>2017-01-01</td>\n",
       "      <td>12</td>\n",
       "      <td>70100.5</td>\n",
       "      <td>0.000146</td>\n",
       "      <td>87800.375642</td>\n",
       "      <td>1</td>\n",
       "      <td>1</td>\n",
       "      <td>6</td>\n",
       "      <td>52</td>\n",
       "      <td>73166.979702</td>\n",
       "      <td>102433.771583</td>\n",
       "    </tr>\n",
       "    <tr>\n",
       "      <th>...</th>\n",
       "      <td>...</td>\n",
       "      <td>...</td>\n",
       "      <td>...</td>\n",
       "      <td>...</td>\n",
       "      <td>...</td>\n",
       "      <td>...</td>\n",
       "      <td>...</td>\n",
       "      <td>...</td>\n",
       "      <td>...</td>\n",
       "      <td>...</td>\n",
       "      <td>...</td>\n",
       "    </tr>\n",
       "    <tr>\n",
       "      <th>8754</th>\n",
       "      <td>2017-12-31</td>\n",
       "      <td>5</td>\n",
       "      <td>48121.5</td>\n",
       "      <td>0.000100</td>\n",
       "      <td>60271.835101</td>\n",
       "      <td>12</td>\n",
       "      <td>31</td>\n",
       "      <td>6</td>\n",
       "      <td>52</td>\n",
       "      <td>50226.529251</td>\n",
       "      <td>70317.140951</td>\n",
       "    </tr>\n",
       "    <tr>\n",
       "      <th>8755</th>\n",
       "      <td>2017-12-31</td>\n",
       "      <td>6</td>\n",
       "      <td>49192.0</td>\n",
       "      <td>0.000103</td>\n",
       "      <td>61612.628706</td>\n",
       "      <td>12</td>\n",
       "      <td>31</td>\n",
       "      <td>6</td>\n",
       "      <td>52</td>\n",
       "      <td>51343.857255</td>\n",
       "      <td>71881.400157</td>\n",
       "    </tr>\n",
       "    <tr>\n",
       "      <th>8756</th>\n",
       "      <td>2017-12-31</td>\n",
       "      <td>7</td>\n",
       "      <td>50500.0</td>\n",
       "      <td>0.000105</td>\n",
       "      <td>63250.889365</td>\n",
       "      <td>12</td>\n",
       "      <td>31</td>\n",
       "      <td>6</td>\n",
       "      <td>52</td>\n",
       "      <td>52709.074471</td>\n",
       "      <td>73792.704259</td>\n",
       "    </tr>\n",
       "    <tr>\n",
       "      <th>8757</th>\n",
       "      <td>2017-12-31</td>\n",
       "      <td>8</td>\n",
       "      <td>52101.0</td>\n",
       "      <td>0.000109</td>\n",
       "      <td>65256.130432</td>\n",
       "      <td>12</td>\n",
       "      <td>31</td>\n",
       "      <td>6</td>\n",
       "      <td>52</td>\n",
       "      <td>54380.108693</td>\n",
       "      <td>76132.152171</td>\n",
       "    </tr>\n",
       "    <tr>\n",
       "      <th>8758</th>\n",
       "      <td>2017-12-31</td>\n",
       "      <td>9</td>\n",
       "      <td>53880.5</td>\n",
       "      <td>0.000112</td>\n",
       "      <td>67484.941474</td>\n",
       "      <td>12</td>\n",
       "      <td>31</td>\n",
       "      <td>6</td>\n",
       "      <td>52</td>\n",
       "      <td>56237.451228</td>\n",
       "      <td>78732.431720</td>\n",
       "    </tr>\n",
       "  </tbody>\n",
       "</table>\n",
       "<p>8759 rows × 11 columns</p>\n",
       "</div>"
      ],
      "text/plain": [
       "            Date hour  energie  Profil(%)     conso_600  month  day  day_week  \\\n",
       "0     2017-01-01    0  75620.0   0.000158  94713.509976      1    1         6   \n",
       "1     2017-01-01    1  72797.0   0.000152  91177.722636      1    1         6   \n",
       "2     2017-01-01   10  66820.0   0.000139  83691.572819      1    1         6   \n",
       "3     2017-01-01   11  68446.0   0.000143  85728.126208      1    1         6   \n",
       "4     2017-01-01   12  70100.5   0.000146  87800.375642      1    1         6   \n",
       "...          ...  ...      ...        ...           ...    ...  ...       ...   \n",
       "8754  2017-12-31    5  48121.5   0.000100  60271.835101     12   31         6   \n",
       "8755  2017-12-31    6  49192.0   0.000103  61612.628706     12   31         6   \n",
       "8756  2017-12-31    7  50500.0   0.000105  63250.889365     12   31         6   \n",
       "8757  2017-12-31    8  52101.0   0.000109  65256.130432     12   31         6   \n",
       "8758  2017-12-31    9  53880.5   0.000112  67484.941474     12   31         6   \n",
       "\n",
       "      week     conso_500      conso_700  \n",
       "0       52  78927.924980  110499.094972  \n",
       "1       52  75981.435530  106374.009742  \n",
       "2       52  69742.977350   97640.168289  \n",
       "3       52  71440.105173  100016.147242  \n",
       "4       52  73166.979702  102433.771583  \n",
       "...    ...           ...            ...  \n",
       "8754    52  50226.529251   70317.140951  \n",
       "8755    52  51343.857255   71881.400157  \n",
       "8756    52  52709.074471   73792.704259  \n",
       "8757    52  54380.108693   76132.152171  \n",
       "8758    52  56237.451228   78732.431720  \n",
       "\n",
       "[8759 rows x 11 columns]"
      ]
     },
     "execution_count": 79,
     "metadata": {},
     "output_type": "execute_result"
    }
   ],
   "source": [
    "data_certitude = data_bis\n",
    "data_certitude['conso_500'] = data_certitude['Profil(%)'] * 500000000 \n",
    "data_certitude['conso_700'] = data_certitude['Profil(%)'] * 700000000 \n",
    "data_certitude"
   ]
  },
  {
   "cell_type": "code",
   "execution_count": 149,
   "id": "b1609468",
   "metadata": {
    "ExecuteTime": {
     "end_time": "2022-05-14T16:32:47.348738Z",
     "start_time": "2022-05-14T16:32:47.235185Z"
    }
   },
   "outputs": [],
   "source": [
    "data_certitude.to_csv(\"q4_conso500_conso700.csv\")"
   ]
  },
  {
   "cell_type": "markdown",
   "id": "ecd748d2",
   "metadata": {},
   "source": [
    "$\\textbf{Pour 500 TWh}$"
   ]
  },
  {
   "cell_type": "code",
   "execution_count": 80,
   "id": "b1b6a6e2",
   "metadata": {
    "ExecuteTime": {
     "end_time": "2022-05-14T14:17:45.114522Z",
     "start_time": "2022-05-14T14:17:32.990366Z"
    }
   },
   "outputs": [],
   "source": [
    "fonction_obj_fix= str(70000*c1 + 50000*c2 + 60000*c3)\n",
    "\n",
    "##Pour les bounds : \n",
    "filename ='question4_500TWH_.lp'\n",
    "with open(filename, 'a', encoding='latin-1') as f:\n",
    "    f.write(\"Minimize\\n\")\n",
    "    f.write('fonction_objective:') #ecriture de la fonction objective \n",
    "    f.close()\n",
    "\n",
    "for i in range(0,data_sol_eol.shape[0]-1):\n",
    "    obj_bis = \"150g_\" + str(i) + \"+\" + \" 1000e_\" + str(i) + \"+\" + \" 3000d_\" + str(i) + \"+\" #ecriture de la fonction objective\n",
    "    with open(filename, 'a', encoding='latin-1') as f: \n",
    "        f.write(obj_bis)\n",
    "        f.close()  \n",
    "                \n",
    "with open(filename, 'a', encoding='latin-1') as f:\n",
    "    f.write(fonction_obj_fix) #ecriture de la fonction objective \n",
    "    f.close()\n",
    "        \n",
    "with open(filename, 'a', encoding='latin-1') as f:\n",
    "    f.write(\"\\nSubject To \\n\") #utilisation des contraintes pour la suite\n",
    "    f.close()\n",
    "    \n",
    "#Pour la première contrainte \n",
    "for i in range(0,data_sol_eol.shape[0]-1):\n",
    "    if data_sol_eol['solaire(proportion_production)'][i] < 0: #car on a des energie solaire negatives\n",
    "        contrainte1 = 'g_' + str(i) + '+d_' + str(i) + '-e_' + str(i) + '=' + str(data_certitude['conso_500'][i]-(data_sol_eol['eolien(proportion_production)'][i])*c1 - (data_sol_eol['eolien(proportion_production)'][i])*c2) + '\\n'\n",
    "    else: \n",
    "        contrainte1 = 'g_' + str(i) + '+d_' + str(i) + '-e_' + str(i) + '=' + str(data_certitude['conso_500'][i]-(data_sol_eol['eolien(proportion_production)'][i])*c1 - (data_sol_eol['eolien(proportion_production)'][i])*c2) + '\\n' \n",
    "    with open(filename, 'a',encoding='latin-1') as f:\n",
    "        f.write(contrainte1)\n",
    "        f.close\n",
    "    \n",
    "#Pour la deuxième contrainte\n",
    "for i in range(0,data_sol_eol.shape[0]-1):\n",
    "    contrainte2 = 'g_' + str(i)  + ' <= ' + str(c3)  + '\\n'    \n",
    "    with open(filename, 'a', encoding='latin-1') as f:\n",
    "        f.write(contrainte2)\n",
    "        f.close()   \n",
    "        \n",
    "##Pour les bounds : \n",
    "with open(filename, 'a', encoding='latin-1') as f:\n",
    "    f.write(\"bounds\\n\")\n",
    "    f.close()\n",
    "\n",
    "        \n",
    "#Pour les contraintes 6,7,8\n",
    "for i in range(0,data_sol_eol.shape[0]-1):\n",
    "    bounds = 'd_'+str(i)+'>=0' + '\\n' + 'e_'+str(i)+'>=0' + '\\n' + 'g_'+str(i)+'>=0' + '\\n'\n",
    "    with open(filename, 'a', encoding='latin-1') as f:\n",
    "        f.write(bounds)\n",
    "        f.close()             \n",
    "        \n",
    "#end    \n",
    "with open(filename, 'a', encoding='latin-1') as f:  \n",
    "    f.write('END')\n",
    "    f.close()"
   ]
  },
  {
   "cell_type": "code",
   "execution_count": 106,
   "id": "ed41b532",
   "metadata": {
    "ExecuteTime": {
     "end_time": "2022-05-14T15:21:57.630553Z",
     "start_time": "2022-05-14T15:21:57.606261Z"
    }
   },
   "outputs": [
    {
     "data": {
      "image/png": "[encoded data removed]",
      "text/plain": [
       "<PIL.PngImagePlugin.PngImageFile image mode=RGBA size=539x81 at 0x1AE2BB5F6A0>"
      ]
     },
     "execution_count": 106,
     "metadata": {},
     "output_type": "execute_result"
    }
   ],
   "source": [
    "im500 = Image.open('cout500.png')\n",
    "im500 "
   ]
  },
  {
   "cell_type": "markdown",
   "id": "64233aac",
   "metadata": {
    "ExecuteTime": {
     "end_time": "2022-05-13T22:22:32.762014Z",
     "start_time": "2022-05-13T22:22:32.753009Z"
    }
   },
   "source": [
    "On importe ensuite le fichier xml"
   ]
  },
  {
   "cell_type": "code",
   "execution_count": 82,
   "id": "343d4002",
   "metadata": {
    "ExecuteTime": {
     "end_time": "2022-05-14T14:34:14.186253Z",
     "start_time": "2022-05-14T14:34:13.117614Z"
    }
   },
   "outputs": [
    {
     "name": "stdout",
     "output_type": "stream",
     "text": [
      "la valeur de la fonction objective est égale à 83706921463.394623 euros\n"
     ]
    }
   ],
   "source": [
    "from bs4 import BeautifulSoup \n",
    "with open('solution4_500TWH_', 'r') as f: \n",
    "    data500 = f.read() \n",
    "    \n",
    "Bs_data500 = BeautifulSoup(data500, \"xml\") \n",
    "b_name500 = Bs_data500.find(\"header\")\n",
    "value500 = b_name500.get('objectiveValue')\n",
    "print(\"la valeur de la fonction objective est égale à \" + str(value500) + \" euros\")"
   ]
  },
  {
   "cell_type": "code",
   "execution_count": 83,
   "id": "4b970efb",
   "metadata": {
    "ExecuteTime": {
     "end_time": "2022-05-14T14:34:20.939894Z",
     "start_time": "2022-05-14T14:34:20.788966Z"
    }
   },
   "outputs": [],
   "source": [
    "c_name500 = Bs_data500.find(\"variables\")\n",
    "test500 = c_name500.find_all('variable')"
   ]
  },
  {
   "cell_type": "code",
   "execution_count": 84,
   "id": "ef37295b",
   "metadata": {
    "ExecuteTime": {
     "end_time": "2022-05-14T14:35:45.300972Z",
     "start_time": "2022-05-14T14:34:23.128368Z"
    },
    "scrolled": true
   },
   "outputs": [
    {
     "data": {
      "text/html": [
       "<div>\n",
       "<style scoped>\n",
       "    .dataframe tbody tr th:only-of-type {\n",
       "        vertical-align: middle;\n",
       "    }\n",
       "\n",
       "    .dataframe tbody tr th {\n",
       "        vertical-align: top;\n",
       "    }\n",
       "\n",
       "    .dataframe thead th {\n",
       "        text-align: right;\n",
       "    }\n",
       "</style>\n",
       "<table border=\"1\" class=\"dataframe\">\n",
       "  <thead>\n",
       "    <tr style=\"text-align: right;\">\n",
       "      <th></th>\n",
       "      <th>variables</th>\n",
       "      <th>valeurs</th>\n",
       "    </tr>\n",
       "  </thead>\n",
       "  <tbody>\n",
       "    <tr>\n",
       "      <th>0</th>\n",
       "      <td>g_0</td>\n",
       "      <td>75366.006245938945</td>\n",
       "    </tr>\n",
       "    <tr>\n",
       "      <th>1</th>\n",
       "      <td>e_0</td>\n",
       "      <td>0</td>\n",
       "    </tr>\n",
       "    <tr>\n",
       "      <th>2</th>\n",
       "      <td>d_0</td>\n",
       "      <td>0</td>\n",
       "    </tr>\n",
       "    <tr>\n",
       "      <th>3</th>\n",
       "      <td>g_1</td>\n",
       "      <td>71556.768313485387</td>\n",
       "    </tr>\n",
       "    <tr>\n",
       "      <th>4</th>\n",
       "      <td>e_1</td>\n",
       "      <td>0</td>\n",
       "    </tr>\n",
       "    <tr>\n",
       "      <th>...</th>\n",
       "      <td>...</td>\n",
       "      <td>...</td>\n",
       "    </tr>\n",
       "    <tr>\n",
       "      <th>26268</th>\n",
       "      <td>g_8756</td>\n",
       "      <td>0</td>\n",
       "    </tr>\n",
       "    <tr>\n",
       "      <th>26269</th>\n",
       "      <td>e_8756</td>\n",
       "      <td>62812.947312144956</td>\n",
       "    </tr>\n",
       "    <tr>\n",
       "      <th>26270</th>\n",
       "      <td>d_8756</td>\n",
       "      <td>0</td>\n",
       "    </tr>\n",
       "    <tr>\n",
       "      <th>26271</th>\n",
       "      <td>g_8757</td>\n",
       "      <td>0</td>\n",
       "    </tr>\n",
       "    <tr>\n",
       "      <th>26272</th>\n",
       "      <td>e_8757</td>\n",
       "      <td>65190.668467568823</td>\n",
       "    </tr>\n",
       "  </tbody>\n",
       "</table>\n",
       "<p>26273 rows × 2 columns</p>\n",
       "</div>"
      ],
      "text/plain": [
       "      variables             valeurs\n",
       "0           g_0  75366.006245938945\n",
       "1           e_0                   0\n",
       "2           d_0                   0\n",
       "3           g_1  71556.768313485387\n",
       "4           e_1                   0\n",
       "...         ...                 ...\n",
       "26268    g_8756                   0\n",
       "26269    e_8756  62812.947312144956\n",
       "26270    d_8756                   0\n",
       "26271    g_8757                   0\n",
       "26272    e_8757  65190.668467568823\n",
       "\n",
       "[26273 rows x 2 columns]"
      ]
     },
     "execution_count": 84,
     "metadata": {},
     "output_type": "execute_result"
    }
   ],
   "source": [
    "variables500 = []\n",
    "valeurs500 = []\n",
    "for i in range(0,len(test500)-1):\n",
    "    test_500 = test500[i]\n",
    "    a500 = test_500.get('name')\n",
    "    b500 = test_500.get('value')\n",
    "    variables500.append(a500)\n",
    "    valeurs500.append(b500)\n",
    "    \n",
    "df500 = pd.DataFrame(columns = ['variables' , 'valeurs'])\n",
    "\n",
    "for i in range (0,len(test500)-1):\n",
    "    df500.loc[i] = [variables500[i], valeurs500[i]]\n",
    "df500"
   ]
  },
  {
   "cell_type": "code",
   "execution_count": 85,
   "id": "afad81bd",
   "metadata": {
    "ExecuteTime": {
     "end_time": "2022-05-14T14:36:28.655194Z",
     "start_time": "2022-05-14T14:36:28.577425Z"
    }
   },
   "outputs": [],
   "source": [
    "#Exportation du fichier en format csv\n",
    "df500.to_csv('q4_resultats_500TWH_.csv')"
   ]
  },
  {
   "cell_type": "code",
   "execution_count": 86,
   "id": "f85a6d55",
   "metadata": {
    "ExecuteTime": {
     "end_time": "2022-05-14T14:36:32.265176Z",
     "start_time": "2022-05-14T14:36:32.221125Z"
    }
   },
   "outputs": [
    {
     "data": {
      "text/html": [
       "<div>\n",
       "<style scoped>\n",
       "    .dataframe tbody tr th:only-of-type {\n",
       "        vertical-align: middle;\n",
       "    }\n",
       "\n",
       "    .dataframe tbody tr th {\n",
       "        vertical-align: top;\n",
       "    }\n",
       "\n",
       "    .dataframe thead th {\n",
       "        text-align: right;\n",
       "    }\n",
       "</style>\n",
       "<table border=\"1\" class=\"dataframe\">\n",
       "  <thead>\n",
       "    <tr style=\"text-align: right;\">\n",
       "      <th></th>\n",
       "      <th>variables</th>\n",
       "      <th>valeurs</th>\n",
       "    </tr>\n",
       "  </thead>\n",
       "  <tbody>\n",
       "    <tr>\n",
       "      <th>0</th>\n",
       "      <td>e_0</td>\n",
       "      <td>0</td>\n",
       "    </tr>\n",
       "    <tr>\n",
       "      <th>1</th>\n",
       "      <td>e_1</td>\n",
       "      <td>0</td>\n",
       "    </tr>\n",
       "    <tr>\n",
       "      <th>2</th>\n",
       "      <td>e_2</td>\n",
       "      <td>0</td>\n",
       "    </tr>\n",
       "    <tr>\n",
       "      <th>3</th>\n",
       "      <td>e_3</td>\n",
       "      <td>0</td>\n",
       "    </tr>\n",
       "    <tr>\n",
       "      <th>4</th>\n",
       "      <td>e_4</td>\n",
       "      <td>0</td>\n",
       "    </tr>\n",
       "    <tr>\n",
       "      <th>...</th>\n",
       "      <td>...</td>\n",
       "      <td>...</td>\n",
       "    </tr>\n",
       "    <tr>\n",
       "      <th>8753</th>\n",
       "      <td>e_8753</td>\n",
       "      <td>68799.45750945271</td>\n",
       "    </tr>\n",
       "    <tr>\n",
       "      <th>8754</th>\n",
       "      <td>e_8754</td>\n",
       "      <td>67051.801942969803</td>\n",
       "    </tr>\n",
       "    <tr>\n",
       "      <th>8755</th>\n",
       "      <td>e_8755</td>\n",
       "      <td>64135.027104029505</td>\n",
       "    </tr>\n",
       "    <tr>\n",
       "      <th>8756</th>\n",
       "      <td>e_8756</td>\n",
       "      <td>62812.947312144956</td>\n",
       "    </tr>\n",
       "    <tr>\n",
       "      <th>8757</th>\n",
       "      <td>e_8757</td>\n",
       "      <td>65190.668467568823</td>\n",
       "    </tr>\n",
       "  </tbody>\n",
       "</table>\n",
       "<p>8758 rows × 2 columns</p>\n",
       "</div>"
      ],
      "text/plain": [
       "     variables             valeurs\n",
       "0          e_0                   0\n",
       "1          e_1                   0\n",
       "2          e_2                   0\n",
       "3          e_3                   0\n",
       "4          e_4                   0\n",
       "...        ...                 ...\n",
       "8753    e_8753   68799.45750945271\n",
       "8754    e_8754  67051.801942969803\n",
       "8755    e_8755  64135.027104029505\n",
       "8756    e_8756  62812.947312144956\n",
       "8757    e_8757  65190.668467568823\n",
       "\n",
       "[8758 rows x 2 columns]"
      ]
     },
     "execution_count": 86,
     "metadata": {},
     "output_type": "execute_result"
    }
   ],
   "source": [
    "exce500 = [col for col in df500['variables'].values if 'e_' in col]\n",
    "d500= pd.DataFrame(exce500,columns=['variables'])\n",
    "d_exce500=d500.merge(df500)\n",
    "d_exce500"
   ]
  },
  {
   "cell_type": "code",
   "execution_count": 87,
   "id": "7cf81073",
   "metadata": {
    "ExecuteTime": {
     "end_time": "2022-05-14T14:36:36.592842Z",
     "start_time": "2022-05-14T14:36:36.564888Z"
    }
   },
   "outputs": [
    {
     "data": {
      "text/html": [
       "<div>\n",
       "<style scoped>\n",
       "    .dataframe tbody tr th:only-of-type {\n",
       "        vertical-align: middle;\n",
       "    }\n",
       "\n",
       "    .dataframe tbody tr th {\n",
       "        vertical-align: top;\n",
       "    }\n",
       "\n",
       "    .dataframe thead th {\n",
       "        text-align: right;\n",
       "    }\n",
       "</style>\n",
       "<table border=\"1\" class=\"dataframe\">\n",
       "  <thead>\n",
       "    <tr style=\"text-align: right;\">\n",
       "      <th></th>\n",
       "      <th>variables</th>\n",
       "      <th>valeurs</th>\n",
       "    </tr>\n",
       "  </thead>\n",
       "  <tbody>\n",
       "    <tr>\n",
       "      <th>245</th>\n",
       "      <td>e_245</td>\n",
       "      <td>822.06108923258216</td>\n",
       "    </tr>\n",
       "    <tr>\n",
       "      <th>246</th>\n",
       "      <td>e_246</td>\n",
       "      <td>3293.7950223247171</td>\n",
       "    </tr>\n",
       "    <tr>\n",
       "      <th>247</th>\n",
       "      <td>e_247</td>\n",
       "      <td>4913.0578986384062</td>\n",
       "    </tr>\n",
       "    <tr>\n",
       "      <th>248</th>\n",
       "      <td>e_248</td>\n",
       "      <td>5648.5995108156603</td>\n",
       "    </tr>\n",
       "    <tr>\n",
       "      <th>249</th>\n",
       "      <td>e_249</td>\n",
       "      <td>4164.5233939762511</td>\n",
       "    </tr>\n",
       "    <tr>\n",
       "      <th>...</th>\n",
       "      <td>...</td>\n",
       "      <td>...</td>\n",
       "    </tr>\n",
       "    <tr>\n",
       "      <th>8753</th>\n",
       "      <td>e_8753</td>\n",
       "      <td>68799.45750945271</td>\n",
       "    </tr>\n",
       "    <tr>\n",
       "      <th>8754</th>\n",
       "      <td>e_8754</td>\n",
       "      <td>67051.801942969803</td>\n",
       "    </tr>\n",
       "    <tr>\n",
       "      <th>8755</th>\n",
       "      <td>e_8755</td>\n",
       "      <td>64135.027104029505</td>\n",
       "    </tr>\n",
       "    <tr>\n",
       "      <th>8756</th>\n",
       "      <td>e_8756</td>\n",
       "      <td>62812.947312144956</td>\n",
       "    </tr>\n",
       "    <tr>\n",
       "      <th>8757</th>\n",
       "      <td>e_8757</td>\n",
       "      <td>65190.668467568823</td>\n",
       "    </tr>\n",
       "  </tbody>\n",
       "</table>\n",
       "<p>1473 rows × 2 columns</p>\n",
       "</div>"
      ],
      "text/plain": [
       "     variables             valeurs\n",
       "245      e_245  822.06108923258216\n",
       "246      e_246  3293.7950223247171\n",
       "247      e_247  4913.0578986384062\n",
       "248      e_248  5648.5995108156603\n",
       "249      e_249  4164.5233939762511\n",
       "...        ...                 ...\n",
       "8753    e_8753   68799.45750945271\n",
       "8754    e_8754  67051.801942969803\n",
       "8755    e_8755  64135.027104029505\n",
       "8756    e_8756  62812.947312144956\n",
       "8757    e_8757  65190.668467568823\n",
       "\n",
       "[1473 rows x 2 columns]"
      ]
     },
     "execution_count": 87,
     "metadata": {},
     "output_type": "execute_result"
    }
   ],
   "source": [
    "d_exce_bis500 = d_exce500[d_exce500[\"valeurs\"] != \"0\"]\n",
    "d_exce_bis500"
   ]
  },
  {
   "cell_type": "code",
   "execution_count": 88,
   "id": "adb13e88",
   "metadata": {
    "ExecuteTime": {
     "end_time": "2022-05-14T14:37:17.713863Z",
     "start_time": "2022-05-14T14:37:17.697216Z"
    }
   },
   "outputs": [
    {
     "name": "stderr",
     "output_type": "stream",
     "text": [
      "C:\\Users\\na_to\\Anaconda3\\lib\\site-packages\\ipykernel_launcher.py:1: SettingWithCopyWarning: \n",
      "A value is trying to be set on a copy of a slice from a DataFrame.\n",
      "Try using .loc[row_indexer,col_indexer] = value instead\n",
      "\n",
      "See the caveats in the documentation: https://pandas.pydata.org/pandas-docs/stable/user_guide/indexing.html#returning-a-view-versus-a-copy\n",
      "  \"\"\"Entry point for launching an IPython kernel.\n"
     ]
    }
   ],
   "source": [
    "d_exce_bis500['valeurs'] = d_exce_bis500['valeurs'].astype(float, copy=False)"
   ]
  },
  {
   "cell_type": "code",
   "execution_count": 89,
   "id": "5905910f",
   "metadata": {
    "ExecuteTime": {
     "end_time": "2022-05-14T14:38:12.360070Z",
     "start_time": "2022-05-14T14:38:12.352587Z"
    }
   },
   "outputs": [
    {
     "name": "stdout",
     "output_type": "stream",
     "text": [
      "On observe un excés de prodution de 33436130.070349935 MW qui a duré 1473 Heures\n"
     ]
    }
   ],
   "source": [
    "print(\"On observe un excés de prodution de \" + str(d_exce_bis500['valeurs'].sum()) + \" MW qui a duré \" +  str(d_exce_bis500.shape[0]) + \" Heures\")"
   ]
  },
  {
   "cell_type": "markdown",
   "id": "fabeec7b",
   "metadata": {},
   "source": [
    "Excés de production plus important pour 500TWH comparé à 600TWH car beaucoup d'énergie (solaire, eolien et CCGT) sont stockés du fait qu'on a une consommation moins importante"
   ]
  },
  {
   "cell_type": "code",
   "execution_count": 90,
   "id": "dd422c9c",
   "metadata": {
    "ExecuteTime": {
     "end_time": "2022-05-14T14:49:48.550977Z",
     "start_time": "2022-05-14T14:49:48.498977Z"
    }
   },
   "outputs": [
    {
     "data": {
      "text/html": [
       "<div>\n",
       "<style scoped>\n",
       "    .dataframe tbody tr th:only-of-type {\n",
       "        vertical-align: middle;\n",
       "    }\n",
       "\n",
       "    .dataframe tbody tr th {\n",
       "        vertical-align: top;\n",
       "    }\n",
       "\n",
       "    .dataframe thead th {\n",
       "        text-align: right;\n",
       "    }\n",
       "</style>\n",
       "<table border=\"1\" class=\"dataframe\">\n",
       "  <thead>\n",
       "    <tr style=\"text-align: right;\">\n",
       "      <th></th>\n",
       "      <th>variables</th>\n",
       "      <th>valeurs</th>\n",
       "    </tr>\n",
       "  </thead>\n",
       "  <tbody>\n",
       "    <tr>\n",
       "      <th>0</th>\n",
       "      <td>g_0</td>\n",
       "      <td>75366.006245938945</td>\n",
       "    </tr>\n",
       "    <tr>\n",
       "      <th>1</th>\n",
       "      <td>g_1</td>\n",
       "      <td>71556.768313485387</td>\n",
       "    </tr>\n",
       "    <tr>\n",
       "      <th>2</th>\n",
       "      <td>g_2</td>\n",
       "      <td>62132.303237591848</td>\n",
       "    </tr>\n",
       "    <tr>\n",
       "      <th>3</th>\n",
       "      <td>g_3</td>\n",
       "      <td>63361.081885033906</td>\n",
       "    </tr>\n",
       "    <tr>\n",
       "      <th>4</th>\n",
       "      <td>g_4</td>\n",
       "      <td>64348.457714854478</td>\n",
       "    </tr>\n",
       "    <tr>\n",
       "      <th>...</th>\n",
       "      <td>...</td>\n",
       "      <td>...</td>\n",
       "    </tr>\n",
       "    <tr>\n",
       "      <th>8753</th>\n",
       "      <td>g_8753</td>\n",
       "      <td>0</td>\n",
       "    </tr>\n",
       "    <tr>\n",
       "      <th>8754</th>\n",
       "      <td>g_8754</td>\n",
       "      <td>0</td>\n",
       "    </tr>\n",
       "    <tr>\n",
       "      <th>8755</th>\n",
       "      <td>g_8755</td>\n",
       "      <td>0</td>\n",
       "    </tr>\n",
       "    <tr>\n",
       "      <th>8756</th>\n",
       "      <td>g_8756</td>\n",
       "      <td>0</td>\n",
       "    </tr>\n",
       "    <tr>\n",
       "      <th>8757</th>\n",
       "      <td>g_8757</td>\n",
       "      <td>0</td>\n",
       "    </tr>\n",
       "  </tbody>\n",
       "</table>\n",
       "<p>8758 rows × 2 columns</p>\n",
       "</div>"
      ],
      "text/plain": [
       "     variables             valeurs\n",
       "0          g_0  75366.006245938945\n",
       "1          g_1  71556.768313485387\n",
       "2          g_2  62132.303237591848\n",
       "3          g_3  63361.081885033906\n",
       "4          g_4  64348.457714854478\n",
       "...        ...                 ...\n",
       "8753    g_8753                   0\n",
       "8754    g_8754                   0\n",
       "8755    g_8755                   0\n",
       "8756    g_8756                   0\n",
       "8757    g_8757                   0\n",
       "\n",
       "[8758 rows x 2 columns]"
      ]
     },
     "execution_count": 90,
     "metadata": {},
     "output_type": "execute_result"
    }
   ],
   "source": [
    "dele500 = [col for col in df500['variables'].values if 'g_' in col]\n",
    "dbis500= pd.DataFrame(dele500,columns=['variables'])\n",
    "d_dele500=dbis500.merge(df500)\n",
    "d_dele500 "
   ]
  },
  {
   "cell_type": "code",
   "execution_count": 91,
   "id": "f34c8dbb",
   "metadata": {
    "ExecuteTime": {
     "end_time": "2022-05-14T14:49:51.367774Z",
     "start_time": "2022-05-14T14:49:51.343070Z"
    }
   },
   "outputs": [
    {
     "name": "stderr",
     "output_type": "stream",
     "text": [
      "C:\\Users\\na_to\\Anaconda3\\lib\\site-packages\\ipykernel_launcher.py:2: SettingWithCopyWarning: \n",
      "A value is trying to be set on a copy of a slice from a DataFrame.\n",
      "Try using .loc[row_indexer,col_indexer] = value instead\n",
      "\n",
      "See the caveats in the documentation: https://pandas.pydata.org/pandas-docs/stable/user_guide/indexing.html#returning-a-view-versus-a-copy\n",
      "  \n"
     ]
    }
   ],
   "source": [
    "d_dele_bis500 = d_dele500[d_dele500[\"valeurs\"] != \"0\"]\n",
    "d_dele_bis500['valeurs'] = d_dele_bis500['valeurs'].astype(float, copy=False)"
   ]
  },
  {
   "cell_type": "code",
   "execution_count": 92,
   "id": "20b744ec",
   "metadata": {
    "ExecuteTime": {
     "end_time": "2022-05-14T14:49:53.817577Z",
     "start_time": "2022-05-14T14:49:53.804789Z"
    }
   },
   "outputs": [
    {
     "name": "stdout",
     "output_type": "stream",
     "text": [
      "On observe des délestages de 236499875.95363104 MW qui a duré 7285 Heures\n"
     ]
    }
   ],
   "source": [
    "print(\"On observe des délestages de \" + str(d_dele_bis500['valeurs'].sum()) + \" MW qui a duré \" +  str(d_dele_bis500.shape[0]) + \" Heures\")"
   ]
  },
  {
   "cell_type": "markdown",
   "id": "3fc7253b",
   "metadata": {},
   "source": [
    "$\\textbf{Pour 700 TWh}$"
   ]
  },
  {
   "cell_type": "code",
   "execution_count": 94,
   "id": "4efc6b6e",
   "metadata": {
    "ExecuteTime": {
     "end_time": "2022-05-14T14:55:38.587322Z",
     "start_time": "2022-05-14T14:55:26.459945Z"
    }
   },
   "outputs": [],
   "source": [
    "fonction_obj_fix= str(70000*c1 + 50000*c2 + 60000*c3)\n",
    "\n",
    "##Pour les bounds : \n",
    "filename ='question4_700TWH_.lp'\n",
    "with open(filename, 'a', encoding='latin-1') as f:\n",
    "    f.write(\"Minimize\\n\")\n",
    "    f.write('fonction_objective:') #ecriture de la fonction objective \n",
    "    f.close()\n",
    "\n",
    "for i in range(0,data_sol_eol.shape[0]-1):\n",
    "    obj_bis = \"150g_\" + str(i) + \"+\" + \" 1000e_\" + str(i) + \"+\" + \" 3000d_\" + str(i) + \"+\" #ecriture de la fonction objective\n",
    "    with open(filename, 'a', encoding='latin-1') as f: \n",
    "        f.write(obj_bis)\n",
    "        f.close()  \n",
    "                \n",
    "with open(filename, 'a', encoding='latin-1') as f:\n",
    "    f.write(fonction_obj_fix) #ecriture de la fonction objective \n",
    "    f.close()\n",
    "        \n",
    "with open(filename, 'a', encoding='latin-1') as f:\n",
    "    f.write(\"\\nSubject To \\n\") #utilisation des contraintes pour la suite\n",
    "    f.close()\n",
    "    \n",
    "#Pour la première contrainte \n",
    "for i in range(0,data_sol_eol.shape[0]-1):\n",
    "    if data_sol_eol['solaire(proportion_production)'][i] < 0: #car on a des energie solaire negatives\n",
    "        contrainte1 = 'g_' + str(i) + '+d_' + str(i) + '-e_' + str(i) + '=' + str(data_certitude['conso_700'][i]-(data_sol_eol['eolien(proportion_production)'][i])*c1 - (data_sol_eol['eolien(proportion_production)'][i])*c2) + '\\n'\n",
    "    else: \n",
    "        contrainte1 = 'g_' + str(i) + '+d_' + str(i) + '-e_' + str(i) + '=' + str(data_certitude['conso_700'][i]-(data_sol_eol['eolien(proportion_production)'][i])*c1 - (data_sol_eol['eolien(proportion_production)'][i])*c2) + '\\n' \n",
    "    with open(filename, 'a',encoding='latin-1') as f:\n",
    "        f.write(contrainte1)\n",
    "        f.close\n",
    "    \n",
    "#Pour la deuxième contrainte\n",
    "for i in range(0,data_sol_eol.shape[0]-1):\n",
    "    contrainte2 = 'g_' + str(i)  + ' <= ' + str(c3)  + '\\n'   \n",
    "    with open(filename, 'a', encoding='latin-1') as f:\n",
    "        f.write(contrainte2)\n",
    "        f.close()   \n",
    "        \n",
    "##Pour les bounds : \n",
    "with open(filename, 'a', encoding='latin-1') as f:\n",
    "    f.write(\"bounds\\n\")\n",
    "    f.close()\n",
    "\n",
    "        \n",
    "#Pour les contraintes 6,7,8\n",
    "for i in range(0,data_sol_eol.shape[0]-1):\n",
    "    bounds = 'd_'+str(i)+'>=0' + '\\n' + 'e_'+str(i)+'>=0' + '\\n' + 'g_'+str(i)+'>=0' + '\\n'\n",
    "    with open(filename, 'a', encoding='latin-1') as f:\n",
    "        f.write(bounds)\n",
    "        f.close()             \n",
    "        \n",
    "#end    \n",
    "with open(filename, 'a', encoding='latin-1') as f:  \n",
    "    f.write('END')\n",
    "    f.close()"
   ]
  },
  {
   "cell_type": "code",
   "execution_count": 107,
   "id": "61b85f9d",
   "metadata": {
    "ExecuteTime": {
     "end_time": "2022-05-14T15:22:26.882387Z",
     "start_time": "2022-05-14T15:22:26.864956Z"
    }
   },
   "outputs": [
    {
     "data": {
      "image/png": "[encoded data removed]",
      "text/plain": [
       "<PIL.PngImagePlugin.PngImageFile image mode=RGBA size=511x77 at 0x1AE29281390>"
      ]
     },
     "execution_count": 107,
     "metadata": {},
     "output_type": "execute_result"
    }
   ],
   "source": [
    "im700 = Image.open('cout700.png')\n",
    "im700 "
   ]
  },
  {
   "cell_type": "markdown",
   "id": "74ca02ea",
   "metadata": {},
   "source": [
    "$\\underline{ On \\; importe \\; le \\; fichier \\; xml}$  "
   ]
  },
  {
   "cell_type": "code",
   "execution_count": 95,
   "id": "1d24122a",
   "metadata": {
    "ExecuteTime": {
     "end_time": "2022-05-14T15:09:32.228976Z",
     "start_time": "2022-05-14T15:09:31.102533Z"
    }
   },
   "outputs": [
    {
     "name": "stdout",
     "output_type": "stream",
     "text": [
      "la valeur de la fonction objective est égale à 93615975230.360977 euros\n"
     ]
    }
   ],
   "source": [
    "from bs4 import BeautifulSoup \n",
    "with open('q4_resultats_700TWH_', 'r') as f: \n",
    "    data700 = f.read() \n",
    "    \n",
    "Bs_data700 = BeautifulSoup(data700, \"xml\") \n",
    "b_name700 = Bs_data700.find(\"header\")\n",
    "value700 = b_name700.get('objectiveValue')\n",
    "print(\"la valeur de la fonction objective est égale à \" + str(value700) + \" euros\")"
   ]
  },
  {
   "cell_type": "markdown",
   "id": "c82d2e2d",
   "metadata": {},
   "source": [
    "Le coût est beaucoup plus elevé pour 700 TWH comparé à 500 TWH"
   ]
  },
  {
   "cell_type": "code",
   "execution_count": 96,
   "id": "93b7c15e",
   "metadata": {
    "ExecuteTime": {
     "end_time": "2022-05-14T15:09:41.421426Z",
     "start_time": "2022-05-14T15:09:41.266784Z"
    }
   },
   "outputs": [],
   "source": [
    "c_name700 = Bs_data700.find(\"variables\")\n",
    "test700 = c_name700.find_all('variable')"
   ]
  },
  {
   "cell_type": "code",
   "execution_count": 97,
   "id": "5eefabf8",
   "metadata": {
    "ExecuteTime": {
     "end_time": "2022-05-14T15:11:06.357587Z",
     "start_time": "2022-05-14T15:09:45.714831Z"
    }
   },
   "outputs": [
    {
     "data": {
      "text/html": [
       "<div>\n",
       "<style scoped>\n",
       "    .dataframe tbody tr th:only-of-type {\n",
       "        vertical-align: middle;\n",
       "    }\n",
       "\n",
       "    .dataframe tbody tr th {\n",
       "        vertical-align: top;\n",
       "    }\n",
       "\n",
       "    .dataframe thead th {\n",
       "        text-align: right;\n",
       "    }\n",
       "</style>\n",
       "<table border=\"1\" class=\"dataframe\">\n",
       "  <thead>\n",
       "    <tr style=\"text-align: right;\">\n",
       "      <th></th>\n",
       "      <th>variables</th>\n",
       "      <th>valeurs</th>\n",
       "    </tr>\n",
       "  </thead>\n",
       "  <tbody>\n",
       "    <tr>\n",
       "      <th>0</th>\n",
       "      <td>g_0</td>\n",
       "      <td>96233</td>\n",
       "    </tr>\n",
       "    <tr>\n",
       "      <th>1</th>\n",
       "      <td>e_0</td>\n",
       "      <td>0</td>\n",
       "    </tr>\n",
       "    <tr>\n",
       "      <th>2</th>\n",
       "      <td>d_0</td>\n",
       "      <td>10704.176237980239</td>\n",
       "    </tr>\n",
       "    <tr>\n",
       "      <th>3</th>\n",
       "      <td>g_1</td>\n",
       "      <td>96233</td>\n",
       "    </tr>\n",
       "    <tr>\n",
       "      <th>4</th>\n",
       "      <td>e_1</td>\n",
       "      <td>0</td>\n",
       "    </tr>\n",
       "    <tr>\n",
       "      <th>...</th>\n",
       "      <td>...</td>\n",
       "      <td>...</td>\n",
       "    </tr>\n",
       "    <tr>\n",
       "      <th>26268</th>\n",
       "      <td>g_8756</td>\n",
       "      <td>0</td>\n",
       "    </tr>\n",
       "    <tr>\n",
       "      <th>26269</th>\n",
       "      <td>e_8756</td>\n",
       "      <td>41729.317523754515</td>\n",
       "    </tr>\n",
       "    <tr>\n",
       "      <th>26270</th>\n",
       "      <td>d_8756</td>\n",
       "      <td>0</td>\n",
       "    </tr>\n",
       "    <tr>\n",
       "      <th>26271</th>\n",
       "      <td>g_8757</td>\n",
       "      <td>0</td>\n",
       "    </tr>\n",
       "    <tr>\n",
       "      <th>26272</th>\n",
       "      <td>e_8757</td>\n",
       "      <td>43438.624990243457</td>\n",
       "    </tr>\n",
       "  </tbody>\n",
       "</table>\n",
       "<p>26273 rows × 2 columns</p>\n",
       "</div>"
      ],
      "text/plain": [
       "      variables             valeurs\n",
       "0           g_0               96233\n",
       "1           e_0                   0\n",
       "2           d_0  10704.176237980239\n",
       "3           g_1               96233\n",
       "4           e_1                   0\n",
       "...         ...                 ...\n",
       "26268    g_8756                   0\n",
       "26269    e_8756  41729.317523754515\n",
       "26270    d_8756                   0\n",
       "26271    g_8757                   0\n",
       "26272    e_8757  43438.624990243457\n",
       "\n",
       "[26273 rows x 2 columns]"
      ]
     },
     "execution_count": 97,
     "metadata": {},
     "output_type": "execute_result"
    }
   ],
   "source": [
    "variables700 = []\n",
    "valeurs700 = []\n",
    "for i in range(0,len(test700)-1):\n",
    "    test_700 = test700[i]\n",
    "    a700 = test_700.get('name')\n",
    "    b700 = test_700.get('value')\n",
    "    variables700.append(a700)\n",
    "    valeurs700.append(b700)\n",
    "    \n",
    "df700 = pd.DataFrame(columns = ['variables' , 'valeurs'])\n",
    "\n",
    "for i in range (0,len(test700)-1):\n",
    "    df700.loc[i] = [variables700[i], valeurs700[i]]\n",
    "df700"
   ]
  },
  {
   "cell_type": "code",
   "execution_count": 98,
   "id": "141dfe24",
   "metadata": {
    "ExecuteTime": {
     "end_time": "2022-05-14T15:13:09.265178Z",
     "start_time": "2022-05-14T15:13:09.193683Z"
    }
   },
   "outputs": [],
   "source": [
    "#Exortation du fichier \n",
    "df700.to_csv('q4_resultats_700TWH_.csv')"
   ]
  },
  {
   "cell_type": "code",
   "execution_count": 99,
   "id": "c3357dde",
   "metadata": {
    "ExecuteTime": {
     "end_time": "2022-05-14T15:13:56.336829Z",
     "start_time": "2022-05-14T15:13:56.296000Z"
    }
   },
   "outputs": [
    {
     "data": {
      "text/html": [
       "<div>\n",
       "<style scoped>\n",
       "    .dataframe tbody tr th:only-of-type {\n",
       "        vertical-align: middle;\n",
       "    }\n",
       "\n",
       "    .dataframe tbody tr th {\n",
       "        vertical-align: top;\n",
       "    }\n",
       "\n",
       "    .dataframe thead th {\n",
       "        text-align: right;\n",
       "    }\n",
       "</style>\n",
       "<table border=\"1\" class=\"dataframe\">\n",
       "  <thead>\n",
       "    <tr style=\"text-align: right;\">\n",
       "      <th></th>\n",
       "      <th>variables</th>\n",
       "      <th>valeurs</th>\n",
       "    </tr>\n",
       "  </thead>\n",
       "  <tbody>\n",
       "    <tr>\n",
       "      <th>0</th>\n",
       "      <td>e_0</td>\n",
       "      <td>0</td>\n",
       "    </tr>\n",
       "    <tr>\n",
       "      <th>1</th>\n",
       "      <td>e_1</td>\n",
       "      <td>0</td>\n",
       "    </tr>\n",
       "    <tr>\n",
       "      <th>2</th>\n",
       "      <td>e_2</td>\n",
       "      <td>0</td>\n",
       "    </tr>\n",
       "    <tr>\n",
       "      <th>3</th>\n",
       "      <td>e_3</td>\n",
       "      <td>0</td>\n",
       "    </tr>\n",
       "    <tr>\n",
       "      <th>4</th>\n",
       "      <td>e_4</td>\n",
       "      <td>0</td>\n",
       "    </tr>\n",
       "    <tr>\n",
       "      <th>...</th>\n",
       "      <td>...</td>\n",
       "      <td>...</td>\n",
       "    </tr>\n",
       "    <tr>\n",
       "      <th>8753</th>\n",
       "      <td>e_8753</td>\n",
       "      <td>48466.279692243086</td>\n",
       "    </tr>\n",
       "    <tr>\n",
       "      <th>8754</th>\n",
       "      <td>e_8754</td>\n",
       "      <td>46961.190242731573</td>\n",
       "    </tr>\n",
       "    <tr>\n",
       "      <th>8755</th>\n",
       "      <td>e_8755</td>\n",
       "      <td>43597.484202039355</td>\n",
       "    </tr>\n",
       "    <tr>\n",
       "      <th>8756</th>\n",
       "      <td>e_8756</td>\n",
       "      <td>41729.317523754515</td>\n",
       "    </tr>\n",
       "    <tr>\n",
       "      <th>8757</th>\n",
       "      <td>e_8757</td>\n",
       "      <td>43438.624990243457</td>\n",
       "    </tr>\n",
       "  </tbody>\n",
       "</table>\n",
       "<p>8758 rows × 2 columns</p>\n",
       "</div>"
      ],
      "text/plain": [
       "     variables             valeurs\n",
       "0          e_0                   0\n",
       "1          e_1                   0\n",
       "2          e_2                   0\n",
       "3          e_3                   0\n",
       "4          e_4                   0\n",
       "...        ...                 ...\n",
       "8753    e_8753  48466.279692243086\n",
       "8754    e_8754  46961.190242731573\n",
       "8755    e_8755  43597.484202039355\n",
       "8756    e_8756  41729.317523754515\n",
       "8757    e_8757  43438.624990243457\n",
       "\n",
       "[8758 rows x 2 columns]"
      ]
     },
     "execution_count": 99,
     "metadata": {},
     "output_type": "execute_result"
    }
   ],
   "source": [
    "exce700 = [col for col in df700['variables'].values if 'e_' in col]\n",
    "d700= pd.DataFrame(exce700,columns=['variables'])\n",
    "d_exce700=d700.merge(df700)\n",
    "d_exce700"
   ]
  },
  {
   "cell_type": "code",
   "execution_count": 100,
   "id": "a5e160d2",
   "metadata": {
    "ExecuteTime": {
     "end_time": "2022-05-14T15:14:00.811266Z",
     "start_time": "2022-05-14T15:14:00.796306Z"
    }
   },
   "outputs": [
    {
     "data": {
      "text/html": [
       "<div>\n",
       "<style scoped>\n",
       "    .dataframe tbody tr th:only-of-type {\n",
       "        vertical-align: middle;\n",
       "    }\n",
       "\n",
       "    .dataframe tbody tr th {\n",
       "        vertical-align: top;\n",
       "    }\n",
       "\n",
       "    .dataframe thead th {\n",
       "        text-align: right;\n",
       "    }\n",
       "</style>\n",
       "<table border=\"1\" class=\"dataframe\">\n",
       "  <thead>\n",
       "    <tr style=\"text-align: right;\">\n",
       "      <th></th>\n",
       "      <th>variables</th>\n",
       "      <th>valeurs</th>\n",
       "    </tr>\n",
       "  </thead>\n",
       "  <tbody>\n",
       "    <tr>\n",
       "      <th>800</th>\n",
       "      <td>e_800</td>\n",
       "      <td>2081.6847557333022</td>\n",
       "    </tr>\n",
       "    <tr>\n",
       "      <th>801</th>\n",
       "      <td>e_801</td>\n",
       "      <td>3316.8459470890521</td>\n",
       "    </tr>\n",
       "    <tr>\n",
       "      <th>1049</th>\n",
       "      <td>e_1049</td>\n",
       "      <td>5376.9846454975414</td>\n",
       "    </tr>\n",
       "    <tr>\n",
       "      <th>1050</th>\n",
       "      <td>e_1050</td>\n",
       "      <td>8363.0744378090021</td>\n",
       "    </tr>\n",
       "    <tr>\n",
       "      <th>1051</th>\n",
       "      <td>e_1051</td>\n",
       "      <td>3601.9594385981982</td>\n",
       "    </tr>\n",
       "    <tr>\n",
       "      <th>...</th>\n",
       "      <td>...</td>\n",
       "      <td>...</td>\n",
       "    </tr>\n",
       "    <tr>\n",
       "      <th>8753</th>\n",
       "      <td>e_8753</td>\n",
       "      <td>48466.279692243086</td>\n",
       "    </tr>\n",
       "    <tr>\n",
       "      <th>8754</th>\n",
       "      <td>e_8754</td>\n",
       "      <td>46961.190242731573</td>\n",
       "    </tr>\n",
       "    <tr>\n",
       "      <th>8755</th>\n",
       "      <td>e_8755</td>\n",
       "      <td>43597.484202039355</td>\n",
       "    </tr>\n",
       "    <tr>\n",
       "      <th>8756</th>\n",
       "      <td>e_8756</td>\n",
       "      <td>41729.317523754515</td>\n",
       "    </tr>\n",
       "    <tr>\n",
       "      <th>8757</th>\n",
       "      <td>e_8757</td>\n",
       "      <td>43438.624990243457</td>\n",
       "    </tr>\n",
       "  </tbody>\n",
       "</table>\n",
       "<p>601 rows × 2 columns</p>\n",
       "</div>"
      ],
      "text/plain": [
       "     variables             valeurs\n",
       "800      e_800  2081.6847557333022\n",
       "801      e_801  3316.8459470890521\n",
       "1049    e_1049  5376.9846454975414\n",
       "1050    e_1050  8363.0744378090021\n",
       "1051    e_1051  3601.9594385981982\n",
       "...        ...                 ...\n",
       "8753    e_8753  48466.279692243086\n",
       "8754    e_8754  46961.190242731573\n",
       "8755    e_8755  43597.484202039355\n",
       "8756    e_8756  41729.317523754515\n",
       "8757    e_8757  43438.624990243457\n",
       "\n",
       "[601 rows x 2 columns]"
      ]
     },
     "execution_count": 100,
     "metadata": {},
     "output_type": "execute_result"
    }
   ],
   "source": [
    "d_exce_bis700 = d_exce700[d_exce700[\"valeurs\"] != \"0\"]\n",
    "d_exce_bis700"
   ]
  },
  {
   "cell_type": "code",
   "execution_count": 108,
   "id": "bf3f639a",
   "metadata": {
    "ExecuteTime": {
     "end_time": "2022-05-14T15:35:46.563127Z",
     "start_time": "2022-05-14T15:35:46.550811Z"
    }
   },
   "outputs": [
    {
     "name": "stderr",
     "output_type": "stream",
     "text": [
      "C:\\Users\\na_to\\Anaconda3\\lib\\site-packages\\ipykernel_launcher.py:1: SettingWithCopyWarning: \n",
      "A value is trying to be set on a copy of a slice from a DataFrame.\n",
      "Try using .loc[row_indexer,col_indexer] = value instead\n",
      "\n",
      "See the caveats in the documentation: https://pandas.pydata.org/pandas-docs/stable/user_guide/indexing.html#returning-a-view-versus-a-copy\n",
      "  \"\"\"Entry point for launching an IPython kernel.\n"
     ]
    }
   ],
   "source": [
    "d_exce_bis700['valeurs'] = d_exce_bis700['valeurs'].astype(float, copy=False)"
   ]
  },
  {
   "cell_type": "code",
   "execution_count": 109,
   "id": "f211149f",
   "metadata": {
    "ExecuteTime": {
     "end_time": "2022-05-14T15:36:37.516588Z",
     "start_time": "2022-05-14T15:36:37.510686Z"
    }
   },
   "outputs": [
    {
     "name": "stdout",
     "output_type": "stream",
     "text": [
      "On observe un excés de prodution de 10775540.390963536 MW qui a duré 601 Heures\n"
     ]
    }
   ],
   "source": [
    "print(\"On observe un excés de prodution de \" + str(d_exce_bis700['valeurs'].sum()) + \" MW qui a duré \" +  str(d_exce_bis700.shape[0]) + \" Heures\")"
   ]
  },
  {
   "cell_type": "code",
   "execution_count": 101,
   "id": "fc3679ea",
   "metadata": {
    "ExecuteTime": {
     "end_time": "2022-05-14T15:14:14.380235Z",
     "start_time": "2022-05-14T15:14:14.339110Z"
    }
   },
   "outputs": [
    {
     "data": {
      "text/html": [
       "<div>\n",
       "<style scoped>\n",
       "    .dataframe tbody tr th:only-of-type {\n",
       "        vertical-align: middle;\n",
       "    }\n",
       "\n",
       "    .dataframe tbody tr th {\n",
       "        vertical-align: top;\n",
       "    }\n",
       "\n",
       "    .dataframe thead th {\n",
       "        text-align: right;\n",
       "    }\n",
       "</style>\n",
       "<table border=\"1\" class=\"dataframe\">\n",
       "  <thead>\n",
       "    <tr style=\"text-align: right;\">\n",
       "      <th></th>\n",
       "      <th>variables</th>\n",
       "      <th>valeurs</th>\n",
       "    </tr>\n",
       "  </thead>\n",
       "  <tbody>\n",
       "    <tr>\n",
       "      <th>0</th>\n",
       "      <td>g_0</td>\n",
       "      <td>96233</td>\n",
       "    </tr>\n",
       "    <tr>\n",
       "      <th>1</th>\n",
       "      <td>g_1</td>\n",
       "      <td>96233</td>\n",
       "    </tr>\n",
       "    <tr>\n",
       "      <th>2</th>\n",
       "      <td>g_2</td>\n",
       "      <td>90029.494177398781</td>\n",
       "    </tr>\n",
       "    <tr>\n",
       "      <th>3</th>\n",
       "      <td>g_3</td>\n",
       "      <td>91937.123954265029</td>\n",
       "    </tr>\n",
       "    <tr>\n",
       "      <th>4</th>\n",
       "      <td>g_4</td>\n",
       "      <td>93615.249595667643</td>\n",
       "    </tr>\n",
       "    <tr>\n",
       "      <th>...</th>\n",
       "      <td>...</td>\n",
       "      <td>...</td>\n",
       "    </tr>\n",
       "    <tr>\n",
       "      <th>8753</th>\n",
       "      <td>g_8753</td>\n",
       "      <td>0</td>\n",
       "    </tr>\n",
       "    <tr>\n",
       "      <th>8754</th>\n",
       "      <td>g_8754</td>\n",
       "      <td>0</td>\n",
       "    </tr>\n",
       "    <tr>\n",
       "      <th>8755</th>\n",
       "      <td>g_8755</td>\n",
       "      <td>0</td>\n",
       "    </tr>\n",
       "    <tr>\n",
       "      <th>8756</th>\n",
       "      <td>g_8756</td>\n",
       "      <td>0</td>\n",
       "    </tr>\n",
       "    <tr>\n",
       "      <th>8757</th>\n",
       "      <td>g_8757</td>\n",
       "      <td>0</td>\n",
       "    </tr>\n",
       "  </tbody>\n",
       "</table>\n",
       "<p>8758 rows × 2 columns</p>\n",
       "</div>"
      ],
      "text/plain": [
       "     variables             valeurs\n",
       "0          g_0               96233\n",
       "1          g_1               96233\n",
       "2          g_2  90029.494177398781\n",
       "3          g_3  91937.123954265029\n",
       "4          g_4  93615.249595667643\n",
       "...        ...                 ...\n",
       "8753    g_8753                   0\n",
       "8754    g_8754                   0\n",
       "8755    g_8755                   0\n",
       "8756    g_8756                   0\n",
       "8757    g_8757                   0\n",
       "\n",
       "[8758 rows x 2 columns]"
      ]
     },
     "execution_count": 101,
     "metadata": {},
     "output_type": "execute_result"
    }
   ],
   "source": [
    "dele700 = [col for col in df700['variables'].values if 'g_' in col]\n",
    "dbis700= pd.DataFrame(dele700,columns=['variables'])\n",
    "d_dele700=dbis700.merge(df700)\n",
    "d_dele700 "
   ]
  },
  {
   "cell_type": "code",
   "execution_count": 102,
   "id": "710e65ef",
   "metadata": {
    "ExecuteTime": {
     "end_time": "2022-05-14T15:14:18.502226Z",
     "start_time": "2022-05-14T15:14:18.488263Z"
    }
   },
   "outputs": [
    {
     "name": "stderr",
     "output_type": "stream",
     "text": [
      "C:\\Users\\na_to\\Anaconda3\\lib\\site-packages\\ipykernel_launcher.py:2: SettingWithCopyWarning: \n",
      "A value is trying to be set on a copy of a slice from a DataFrame.\n",
      "Try using .loc[row_indexer,col_indexer] = value instead\n",
      "\n",
      "See the caveats in the documentation: https://pandas.pydata.org/pandas-docs/stable/user_guide/indexing.html#returning-a-view-versus-a-copy\n",
      "  \n"
     ]
    }
   ],
   "source": [
    "d_dele_bis700 = d_dele700[d_dele700[\"valeurs\"] != \"0\"]\n",
    "d_dele_bis700['valeurs'] = d_dele_bis700['valeurs'].astype(float, copy=False)"
   ]
  },
  {
   "cell_type": "code",
   "execution_count": 103,
   "id": "6d41f1ad",
   "metadata": {
    "ExecuteTime": {
     "end_time": "2022-05-14T15:14:22.652642Z",
     "start_time": "2022-05-14T15:14:22.639671Z"
    }
   },
   "outputs": [
    {
     "name": "stdout",
     "output_type": "stream",
     "text": [
      "On observe des délestages de 411721315.45328504 MW qui a duré 8157 Heures\n"
     ]
    }
   ],
   "source": [
    "print(\"On observe des délestages de \" + str(d_dele_bis700['valeurs'].sum()) + \" MW qui a duré \" +  str(d_dele_bis700.shape[0]) + \" Heures\")"
   ]
  },
  {
   "cell_type": "markdown",
   "id": "ae1b4554",
   "metadata": {},
   "source": [
    "il peut être nécessaire d’effectuer des coupures ponctuelles\n",
    "appelées délestages pour conserver l'intégrité du système électrique. \n",
    "\n",
    "Pour une consommation fixé à 700TWH, la situation électrique est très tendue sur le réseau électrique. on a des valeurs de délestages plus elevés que en en 500TWH. On a plus de coupures ponctuelle pour une consommation de 700TWH afin éviter un problème à plus grande échelle."
   ]
  },
  {
   "cell_type": "markdown",
   "id": "6028b375",
   "metadata": {},
   "source": [
    "Les systèmes s'adaptent à ses consommation annuelles"
   ]
  },
  {
   "cell_type": "markdown",
   "id": "b4e698a6",
   "metadata": {},
   "source": [
    "Remarque: La capacité éolien est beaucoup moins importante (11761) comparé à celui de que l'on avait trouvé à la question 3 (88694). L'energie éolien peut être en grande partie lié à la cause des excés de productions."
   ]
  },
  {
   "cell_type": "markdown",
   "id": "75bba38d",
   "metadata": {},
   "source": [
    "## Comparaison excés de production deletage"
   ]
  },
  {
   "cell_type": "code",
   "execution_count": 145,
   "id": "be260942",
   "metadata": {
    "ExecuteTime": {
     "end_time": "2022-05-14T15:58:57.462630Z",
     "start_time": "2022-05-14T15:58:57.437399Z"
    }
   },
   "outputs": [
    {
     "data": {
      "text/html": [
       "<div>\n",
       "<style scoped>\n",
       "    .dataframe tbody tr th:only-of-type {\n",
       "        vertical-align: middle;\n",
       "    }\n",
       "\n",
       "    .dataframe tbody tr th {\n",
       "        vertical-align: top;\n",
       "    }\n",
       "\n",
       "    .dataframe thead th {\n",
       "        text-align: right;\n",
       "    }\n",
       "</style>\n",
       "<table border=\"1\" class=\"dataframe\">\n",
       "  <thead>\n",
       "    <tr style=\"text-align: right;\">\n",
       "      <th></th>\n",
       "      <th>deletage</th>\n",
       "      <th>excés de production</th>\n",
       "      <th>consommation annuelle</th>\n",
       "    </tr>\n",
       "  </thead>\n",
       "  <tbody>\n",
       "    <tr>\n",
       "      <th>0</th>\n",
       "      <td>2.364999e+08</td>\n",
       "      <td>3.343613e+07</td>\n",
       "      <td>500</td>\n",
       "    </tr>\n",
       "    <tr>\n",
       "      <th>1</th>\n",
       "      <td>4.117213e+08</td>\n",
       "      <td>1.077554e+07</td>\n",
       "      <td>700</td>\n",
       "    </tr>\n",
       "  </tbody>\n",
       "</table>\n",
       "</div>"
      ],
      "text/plain": [
       "       deletage  excés de production  consommation annuelle\n",
       "0  2.364999e+08         3.343613e+07                    500\n",
       "1  4.117213e+08         1.077554e+07                    700"
      ]
     },
     "execution_count": 145,
     "metadata": {},
     "output_type": "execute_result"
    }
   ],
   "source": [
    "compa_ex_del = pd.DataFrame({'deletage': [ d_dele_bis500['valeurs'].sum(), d_dele_bis700['valeurs'].sum()], 'excés de production': [d_exce_bis500['valeurs'].sum(),d_exce_bis700['valeurs'].sum()], 'consommation annuelle': [500,700]})\n",
    "\n",
    "compa_ex_del"
   ]
  },
  {
   "cell_type": "code",
   "execution_count": 146,
   "id": "efa21a65",
   "metadata": {
    "ExecuteTime": {
     "end_time": "2022-05-14T15:59:04.171683Z",
     "start_time": "2022-05-14T15:59:03.925677Z"
    }
   },
   "outputs": [
    {
     "data": {
      "text/plain": [
       "<AxesSubplot:xlabel='consommation annuelle', ylabel='excés de production'>"
      ]
     },
     "execution_count": 146,
     "metadata": {},
     "output_type": "execute_result"
    },
    {
     "data": {
      "image/png": "[encoded data removed]",
      "text/plain": [
       "<Figure size 720x360 with 2 Axes>"
      ]
     },
     "metadata": {},
     "output_type": "display_data"
    }
   ],
   "source": [
    "figure, ((ax10,ax11)) = plt.subplots(nrows=1, ncols=2)\n",
    "figure.set_size_inches(10,5)\n",
    "\n",
    "sns.barplot(data=compa_ex_del, x = 'consommation annuelle', y='deletage', ax=ax10, color ='r')\n",
    "sns.barplot(data=compa_ex_del, x = 'consommation annuelle', y='excés de production', ax=ax11, color = \"g\")"
   ]
  },
  {
   "cell_type": "markdown",
   "id": "3f1b123b",
   "metadata": {},
   "source": [
    "Le délestage varie : \n",
    "\n",
    "    En effet, pour des consommations annuelles de 700TWH la situation électrique est plus tendue sur le réseau électrique comparé à des consommations annuelles de 500 TWH.\n",
    "    Des coupures ponctuelles sont plus fréquent (pour 700TWH) pour conserver l'intégrité du système électrique. Ces coupures maitrisées sont généralement de courte durée, elle permettent d’éviter un problème à plus grande échelle.\n",
    "    \n",
    "L'excés de production varie : \n",
    "\n",
    "    En effet, lorsqu'on a des consommations annuelles moins importantes, on a beaucoup plus d'énergie (éolien, solaire et CCGT) qui sont stocké"
   ]
  },
  {
   "cell_type": "markdown",
   "id": "31638ba3",
   "metadata": {},
   "source": [
    "# Question 5 – Prise en compte de plusieurs scénarios"
   ]
  },
  {
   "cell_type": "markdown",
   "id": "81df50c9",
   "metadata": {},
   "source": [
    "## 1 Modéliser le problème d’optimisation stochastique à 2 étapes. L’objectif est de minimiser l’espérance du coût d’installation des capacités électriques et de fonctionnement du système dans les 3 scénarios. En 1ère étape, la décision sur les capacités de chaque actif doit être prise. En 2ème étape, le système doit satisfaire la demande dans chacun des 3 scénarios avec les capacités installées en 1ère étape."
   ]
  },
  {
   "cell_type": "markdown",
   "id": "c0baf184",
   "metadata": {},
   "source": [
    "On formule le problème :\n",
    "\n",
    "Min $70000c_{1} + 50000c_{2} + 60000c_{3} + \\frac{1}{3} (150g_{1_{i}} + 1000e_{1_{i}} +3000d_{1_{i}}) + \\frac{1}{3} (150g_{2_{i}} + 1000e_{2_{i}} +3000d_{2_{i}}) + \\frac{1}{3}  (150g_{3_{i}} + 1000e_{3_{i}} +3000d_{3_{i}})$\n",
    "\n",
    "$\\underline{Les \\; contraintes :}$ \n",
    "\n",
    "$c_1 \\times  profil1_i +  c_2 \\times  profil2_i + g_{1_{i}} + d_{1_{i}} - e_{1_{i}} = consommation500_i$ \n",
    "\n",
    "$c_1 \\times  profil1_i +  c_2 \\times  profil2_i + g_{2_{i}} + d_{2_{i}} - e_{2_{i}} = consommation600_i$ \n",
    "\n",
    "$c_1 \\times  profil1_i +  c_2 \\times  profil2_i + g_{3_{i}} + d_{3_{i}} - e_{3_{i}} = consommation700_i$ \n",
    "\n",
    "$g_{1_{i}} \\leq c_{3}$\n",
    "\n",
    "$g_{2_{i}} \\leq c_{3}$\n",
    "\n",
    "$g_{3_{i}} \\leq c_{3}$\n",
    "\n",
    "$c_{1}>0$\n",
    "\n",
    "$c_{2}>0$\n",
    "\n",
    "$c_{3}>0$\n",
    "\n",
    "$g_{1_{i}} \\geq 0$\n",
    "\n",
    "$g_{2_{i}} \\geq 0$\n",
    "\n",
    "$g_{3_{i}} \\geq 0$\n",
    "\n",
    "$e_{1_{i}} \\geq 0$\n",
    "\n",
    "$e_{2_{i}} \\geq 0$\n",
    "\n",
    "$e_{3_{i}} \\geq 0$\n",
    "\n",
    "$d_{1_{i}} \\geq 0$\n",
    "\n",
    "$d_{2_{i}} \\geq 0$\n",
    "\n",
    "$d_{3_{i}} \\geq 0$"
   ]
  },
  {
   "cell_type": "code",
   "execution_count": 112,
   "id": "e01ff0d1",
   "metadata": {
    "ExecuteTime": {
     "end_time": "2022-05-14T00:40:39.549126Z",
     "start_time": "2022-05-14T00:40:11.794373Z"
    }
   },
   "outputs": [],
   "source": [
    "#Ecriture de la fonction objective\n",
    "Objective = \"70000 c1 + 50000 c2 + 60000 c3\"\n",
    "for i in range(0,data_sol_eol.shape[0]-1):\n",
    "    Objective = Objective + \" + 50gun_\" + str(i) + \"+\" + \"1000dun_\" + str(i)  + \"+ 333.3eun_\" + str(i)  \n",
    "\n",
    "for i in range(0,data_sol_eol.shape[0]-1):\n",
    "    Objective2 = Objective + \" + 50gdeux_\" + str(i) + \"+\" + \"1000ddeux_\" + str(i) + \"+\" + \"333.3edeux_\"  + str(i) \n",
    "\n",
    "for i in range(0,data_sol_eol.shape[0]-1):\n",
    "    Objective3 = Objective2 + \"+ 50gtrois_\" + str(i) + \"+\" + \"1000dtrois_\" + str(i) + \"+\" + \"333.3etrois_\"  + str(i)  \n",
    "          \n",
    "    \n",
    "filename ='q5.lp'\n",
    "with open(filename, 'a', encoding='latin-1') as f:\n",
    "    f.write(\"Minimize\\n\")\n",
    "    f.write('Obj:')\n",
    "    f.write(Objective3)\n",
    "    f.write(\"\\nSubject To \\n\")\n",
    "    f.close()\n",
    "    \n",
    "#ecriture des contraintes    \n",
    "for i in range(0,data_sol_eol.shape[0]-1):\n",
    "    contrainte1 =   'gun_' + str(i) + '-c3 <= 0'   + '\\n' \n",
    "    with open(filename, 'a', encoding='latin-1') as f:\n",
    "        \n",
    "        f.write(contrainte1)\n",
    "        f.close()\n",
    "\n",
    "\n",
    "for i in range(0,data_sol_eol.shape[0]-1):\n",
    "    contrainte2 =   'gdeux_' + str(i) + '-c3 <= 0'   + '\\n' \n",
    "    with open(filename, 'a', encoding='latin-1') as f:\n",
    "        \n",
    "        f.write(contrainte2)\n",
    "        f.close()\n",
    "        \n",
    "for i in range(0,data_sol_eol.shape[0]-1):\n",
    "    contrainte3 =   'gtrois_' + str(i) + '-c3 <= 0'   + '\\n' \n",
    "    with open(filename, 'a', encoding='latin-1') as f:\n",
    "        \n",
    "        f.write(contrainte3)\n",
    "        f.close()        \n",
    "\n",
    "   \n",
    "               \n",
    "               \n",
    "#Pour la première contrainte \n",
    "for i in range(0,data_sol_eol.shape[0]-1):\n",
    "    if data_sol_eol['solaire(proportion_production)'][i] < 0: #car on a des energie solaire negatives\n",
    "        contrainte4 = str((data_sol_eol['eolien(proportion_production)'][i]))  + 'c1 ' + str((data_sol_eol['solaire(proportion_production)'][i])) + 'c2 + gun_' + str(i) + '+dun_' + str(i) + '-eun_' + str(i) + '=' +str(data_bis['conso_500'][i]) + '\\n'       \n",
    "    else: \n",
    "        contrainte4 = str((data_sol_eol['eolien(proportion_production)'][i]))  + 'c1 +' + str((data_sol_eol['solaire(proportion_production)'][i])) + 'c2 + gun_' + str(i) + '+dun_' + str(i) + '-eun_' + str(i) + '=' +str(data_bis['conso_500'][i]) + '\\n' \n",
    "    with open(filename, 'a',encoding='latin-1') as f:\n",
    "        f.write(contrainte4)\n",
    "        f.close       \n",
    "\n",
    "for i in range(0,data_sol_eol.shape[0]-1):\n",
    "    if data_sol_eol['solaire(proportion_production)'][i] < 0: #car on a des energie solaire negatives\n",
    "        contrainte5 = str((data_sol_eol['eolien(proportion_production)'][i]))  + 'c1 ' + str((data_sol_eol['solaire(proportion_production)'][i])) + 'c2 + gdeux_' + str(i) + '+ddeux_' + str(i) + '-edeux_' + str(i) + '=' +str(data_bis['conso_600'][i]) + '\\n'       \n",
    "    else: \n",
    "        contrainte5 = str((data_sol_eol['eolien(proportion_production)'][i]))  + 'c1 +' + str((data_sol_eol['solaire(proportion_production)'][i])) + 'c2 + gdeux_' + str(i) + '+ddeux_' + str(i) + '-edeux_' + str(i) + '=' +str(data_bis['conso_600'][i]) + '\\n' \n",
    "    with open(filename, 'a',encoding='latin-1') as f:\n",
    "        f.write(contrainte5)\n",
    "        f.close   \n",
    "        \n",
    "for i in range(0,data_sol_eol.shape[0]-1):\n",
    "    if data_sol_eol['solaire(proportion_production)'][i] < 0: #car on a des energie solaire negatives\n",
    "        contrainte6 = str((data_sol_eol['eolien(proportion_production)'][i]))  + 'c1 ' + str((data_sol_eol['solaire(proportion_production)'][i])) + 'c2 + gtrois_' + str(i) + '+dtrois_' + str(i) + '-etrois_' + str(i) + '=' +str(data_bis['conso_700'][i]) + '\\n'       \n",
    "    else: \n",
    "        contrainte6 = str((data_sol_eol['eolien(proportion_production)'][i]))  + 'c1 +' + str((data_sol_eol['solaire(proportion_production)'][i])) + 'c2 + gtrois_' + str(i) + '+dtrois_' + str(i) + '-etrois_' + str(i) + '=' +str(data_bis['conso_700'][i]) + '\\n' \n",
    "    with open(filename, 'a',encoding='latin-1') as f:\n",
    "        f.write(contrainte6)\n",
    "        f.close \n",
    "               \n",
    "with open(filename, 'a', encoding='latin-1') as f:\n",
    "    f.write(\"Bounds\\n\")\n",
    "    f.close()\n",
    "\n",
    "    \n",
    "    \n",
    "    \n",
    "    \n",
    "for i in range(0,data_sol_eol.shape[0]-1):\n",
    "    bounds1 = 'dun_'+str(i)+'>=0' + '\\n' + 'eun_' + str(i) + '>=0' + '\\n' + 'gun_'+str(i)+'>=0' + '\\n'\n",
    "    with open(filename, 'a', encoding='latin-1') as f:\n",
    "        \n",
    "        f.write(bounds1)\n",
    "        f.close()\n",
    "\n",
    "for i in range(0,data_sol_eol.shape[0]-1):\n",
    "    bounds2 = 'ddeux_'+str(i)+'>=0' + '\\n' + 'edeux_'+ str(i) +'>=0' + '\\n' +  'gdeux_'+str(i)+'>=0' + '\\n'\n",
    "    with open(filename, 'a', encoding='latin-1') as f:\n",
    "        \n",
    "        f.write(bounds2)\n",
    "        f.close()\n",
    "  \n",
    "\n",
    "        \n",
    "for i in range(0,data_sol_eol.shape[0]-1):\n",
    "    bounds3 = 'dtrois_'+str(i)+'>=0' + '\\n' + 'etrois_' + str(i) + '>=0' + '\\n' + 'gtrois_'+str(i) +'>=0' + '\\n'\n",
    "    with open(filename, 'a', encoding='latin-1') as f:\n",
    "        \n",
    "        f.write(bounds3)\n",
    "        f.close()   \n",
    "  \n",
    "\n",
    "    \n",
    "bounds4 = 'c1 >=0' + '\\n' + 'c2>=0' + '\\n' + 'c3>=0' + '\\n'  \n",
    "\n",
    "with open(filename, 'a', encoding='latin-1') as f:\n",
    "    \n",
    "    f.write(bounds4)\n",
    "    f.write('END')\n",
    "    f.close()"
   ]
  },
  {
   "cell_type": "markdown",
   "id": "f7800cad",
   "metadata": {},
   "source": [
    "On a minimisé l’espérance du coût d’installation des capacités électriques et de fonctionnement du système dans les 3 scénarios.\n",
    "Après avoir résolu le probleme sur CPLEX, on importe le fichier de format XML"
   ]
  },
  {
   "cell_type": "markdown",
   "id": "775ce6a0",
   "metadata": {},
   "source": [
    "Comment les capacités installées évoluent-elles ? Pourquoi ?"
   ]
  },
  {
   "cell_type": "code",
   "execution_count": 122,
   "id": "3f90763a",
   "metadata": {
    "ExecuteTime": {
     "end_time": "2022-05-14T09:42:16.707745Z",
     "start_time": "2022-05-14T09:42:16.678951Z"
    }
   },
   "outputs": [
    {
     "data": {
      "image/png": "[encoded data removed]",
      "text/plain": [
       "<PIL.PngImagePlugin.PngImageFile image mode=RGBA size=451x206 at 0x159B4F72208>"
      ]
     },
     "execution_count": 122,
     "metadata": {},
     "output_type": "execute_result"
    }
   ],
   "source": [
    "imq5 = Image.open('solutionq5.png')\n",
    "imq5"
   ]
  },
  {
   "cell_type": "markdown",
   "id": "d5f6444c",
   "metadata": {},
   "source": [
    "En prenant en compte les 3 scénarios\n",
    "    \n",
    "    Le mix électrique avec les valeurs de capacités optimales sont : \n",
    "        c1 (éolien) = 66907\n",
    "        c2 (solaire) = 32772\n",
    "        c3 (CCGT) = 77639\n",
    "        \n",
    "On observe que comparé à la question 3, les valeurs des capacités éoliens, solaires et CCGT sont moins elevés lorsqu'on prend en compte les différents scénario de demande dans l’optimisation. En fixant ses résultats on a un mix électrique pouvant s’adapter à plusieurs futurs possibles."
   ]
  },
  {
   "cell_type": "code",
   "execution_count": 152,
   "id": "7f891b7f",
   "metadata": {
    "ExecuteTime": {
     "end_time": "2022-05-14T18:05:14.397695Z",
     "start_time": "2022-05-14T18:05:10.877963Z"
    }
   },
   "outputs": [
    {
     "name": "stdout",
     "output_type": "stream",
     "text": [
      "la valeur de la fonction objective est égale à 27438037255.620716 euros\n"
     ]
    }
   ],
   "source": [
    "from bs4 import BeautifulSoup \n",
    "with open('solution_q5', 'r') as f: \n",
    "    data5= f.read() \n",
    "    \n",
    "Bs_data5 = BeautifulSoup(data5, \"xml\") \n",
    "b_name5 = Bs_data5.find(\"header\")\n",
    "value5 = b_name5.get('objectiveValue')\n",
    "print(\"la valeur de la fonction objective est égale à \" + str(value5) + \" euros\")"
   ]
  },
  {
   "cell_type": "code",
   "execution_count": 153,
   "id": "c171e466",
   "metadata": {
    "ExecuteTime": {
     "end_time": "2022-05-14T18:05:23.874219Z",
     "start_time": "2022-05-14T18:05:23.454698Z"
    }
   },
   "outputs": [],
   "source": [
    "c_name5 = Bs_data5.find(\"variables\")\n",
    "test5 = c_name5.find_all('variable')"
   ]
  },
  {
   "cell_type": "code",
   "execution_count": 154,
   "id": "852f64e0",
   "metadata": {
    "ExecuteTime": {
     "end_time": "2022-05-14T18:13:44.813129Z",
     "start_time": "2022-05-14T18:05:37.606359Z"
    }
   },
   "outputs": [
    {
     "data": {
      "text/html": [
       "<div>\n",
       "<style scoped>\n",
       "    .dataframe tbody tr th:only-of-type {\n",
       "        vertical-align: middle;\n",
       "    }\n",
       "\n",
       "    .dataframe tbody tr th {\n",
       "        vertical-align: top;\n",
       "    }\n",
       "\n",
       "    .dataframe thead th {\n",
       "        text-align: right;\n",
       "    }\n",
       "</style>\n",
       "<table border=\"1\" class=\"dataframe\">\n",
       "  <thead>\n",
       "    <tr style=\"text-align: right;\">\n",
       "      <th></th>\n",
       "      <th>variables</th>\n",
       "      <th>valeurs</th>\n",
       "    </tr>\n",
       "  </thead>\n",
       "  <tbody>\n",
       "    <tr>\n",
       "      <th>0</th>\n",
       "      <td>c1</td>\n",
       "      <td>66907.131693016636</td>\n",
       "    </tr>\n",
       "    <tr>\n",
       "      <th>1</th>\n",
       "      <td>c2</td>\n",
       "      <td>32772.308312280125</td>\n",
       "    </tr>\n",
       "    <tr>\n",
       "      <th>2</th>\n",
       "      <td>c3</td>\n",
       "      <td>77639.442432678814</td>\n",
       "    </tr>\n",
       "    <tr>\n",
       "      <th>3</th>\n",
       "      <td>gun_0</td>\n",
       "      <td>77288.728342740695</td>\n",
       "    </tr>\n",
       "    <tr>\n",
       "      <th>4</th>\n",
       "      <td>dun_0</td>\n",
       "      <td>0</td>\n",
       "    </tr>\n",
       "    <tr>\n",
       "      <th>...</th>\n",
       "      <td>...</td>\n",
       "      <td>...</td>\n",
       "    </tr>\n",
       "    <tr>\n",
       "      <th>78819</th>\n",
       "      <td>dtrois_8754</td>\n",
       "      <td>16191.11021501207</td>\n",
       "    </tr>\n",
       "    <tr>\n",
       "      <th>78820</th>\n",
       "      <td>etrois_8754</td>\n",
       "      <td>0</td>\n",
       "    </tr>\n",
       "    <tr>\n",
       "      <th>78821</th>\n",
       "      <td>dtrois_8755</td>\n",
       "      <td>18585.920310253972</td>\n",
       "    </tr>\n",
       "    <tr>\n",
       "      <th>78822</th>\n",
       "      <td>etrois_8755</td>\n",
       "      <td>0</td>\n",
       "    </tr>\n",
       "    <tr>\n",
       "      <th>78823</th>\n",
       "      <td>dtrois_8756</td>\n",
       "      <td>20477.313946135222</td>\n",
       "    </tr>\n",
       "  </tbody>\n",
       "</table>\n",
       "<p>78824 rows × 2 columns</p>\n",
       "</div>"
      ],
      "text/plain": [
       "         variables             valeurs\n",
       "0               c1  66907.131693016636\n",
       "1               c2  32772.308312280125\n",
       "2               c3  77639.442432678814\n",
       "3            gun_0  77288.728342740695\n",
       "4            dun_0                   0\n",
       "...            ...                 ...\n",
       "78819  dtrois_8754   16191.11021501207\n",
       "78820  etrois_8754                   0\n",
       "78821  dtrois_8755  18585.920310253972\n",
       "78822  etrois_8755                   0\n",
       "78823  dtrois_8756  20477.313946135222\n",
       "\n",
       "[78824 rows x 2 columns]"
      ]
     },
     "execution_count": 154,
     "metadata": {},
     "output_type": "execute_result"
    }
   ],
   "source": [
    "variables5 = []\n",
    "valeurs5 = []\n",
    "for i in range(0,len(test5)-1):\n",
    "    test_5 = test5[i]\n",
    "    a5 = test_5.get('name')\n",
    "    b5 = test_5.get('value')\n",
    "    variables5.append(a5)\n",
    "    valeurs5.append(b5)\n",
    "    \n",
    "df5 = pd.DataFrame(columns = ['variables' , 'valeurs'])\n",
    "\n",
    "for i in range (0,len(test5)-1):\n",
    "    df5.loc[i] = [variables5[i], valeurs5[i]]\n",
    "df5"
   ]
  },
  {
   "cell_type": "code",
   "execution_count": 155,
   "id": "60b36b7a",
   "metadata": {
    "ExecuteTime": {
     "end_time": "2022-05-14T18:13:56.932639Z",
     "start_time": "2022-05-14T18:13:56.764196Z"
    }
   },
   "outputs": [],
   "source": [
    "#Exportation du fichier en format csv\n",
    "df5.to_csv('q5_resultats_scenario.csv')"
   ]
  }
 ],
 "metadata": {
  "kernelspec": {
   "display_name": "Python 3 (ipykernel)",
   "language": "python",
   "name": "python3"
  },
  "language_info": {
   "codemirror_mode": {
    "name": "ipython",
    "version": 3
   },
   "file_extension": ".py",
   "mimetype": "text/x-python",
   "name": "python",
   "nbconvert_exporter": "python",
   "pygments_lexer": "ipython3",
   "version": "3.9.12"
  },
  "nbTranslate": {
   "displayLangs": [
    "*"
   ],
   "hotkey": "alt-t",
   "langInMainMenu": true,
   "sourceLang": "en",
   "targetLang": "fr",
   "useGoogleTranslate": true
  },
  "toc": {
   "base_numbering": 1,
   "nav_menu": {},
   "number_sections": true,
   "sideBar": true,
   "skip_h1_title": false,
   "title_cell": "Table of Contents",
   "title_sidebar": "Contents",
   "toc_cell": false,
   "toc_position": {},
   "toc_section_display": true,
   "toc_window_display": false
  },
  "varInspector": {
   "cols": {
    "lenName": 16,
    "lenType": 16,
    "lenVar": 40
   },
   "kernels_config": {
    "python": {
     "delete_cmd_postfix": "",
     "delete_cmd_prefix": "del ",
     "library": "var_list.py",
     "varRefreshCmd": "print(var_dic_list())"
    },
    "r": {
     "delete_cmd_postfix": ") ",
     "delete_cmd_prefix": "rm(",
     "library": "var_list.r",
     "varRefreshCmd": "cat(var_dic_list()) "
    }
   },
   "types_to_exclude": [
    "module",
    "function",
    "builtin_function_or_method",
    "instance",
    "_Feature"
   ],
   "window_display": false
  }
 },
 "nbformat": 4,
 "nbformat_minor": 5
}
