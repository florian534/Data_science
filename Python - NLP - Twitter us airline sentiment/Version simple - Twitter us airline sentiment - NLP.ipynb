{
 "cells": [
  {
   "cell_type": "markdown",
   "id": "8bcdd982",
   "metadata": {},
   "source": [
    "## Importation de la base de données"
   ]
  },
  {
   "cell_type": "code",
   "execution_count": 15,
   "id": "d83e9015",
   "metadata": {
    "ExecuteTime": {
     "end_time": "2024-08-29T12:17:26.574924Z",
     "start_time": "2024-08-29T12:17:26.534287Z"
    }
   },
   "outputs": [
    {
     "data": {
      "text/html": [
       "<div>\n",
       "<style scoped>\n",
       "    .dataframe tbody tr th:only-of-type {\n",
       "        vertical-align: middle;\n",
       "    }\n",
       "\n",
       "    .dataframe tbody tr th {\n",
       "        vertical-align: top;\n",
       "    }\n",
       "\n",
       "    .dataframe thead th {\n",
       "        text-align: right;\n",
       "    }\n",
       "</style>\n",
       "<table border=\"1\" class=\"dataframe\">\n",
       "  <thead>\n",
       "    <tr style=\"text-align: right;\">\n",
       "      <th></th>\n",
       "      <th>airline_sentiment</th>\n",
       "      <th>text</th>\n",
       "    </tr>\n",
       "  </thead>\n",
       "  <tbody>\n",
       "    <tr>\n",
       "      <th>0</th>\n",
       "      <td>neutral</td>\n",
       "      <td>@VirginAmerica What @dhepburn said.</td>\n",
       "    </tr>\n",
       "    <tr>\n",
       "      <th>1</th>\n",
       "      <td>positive</td>\n",
       "      <td>@VirginAmerica plus you've added commercials t...</td>\n",
       "    </tr>\n",
       "    <tr>\n",
       "      <th>2</th>\n",
       "      <td>neutral</td>\n",
       "      <td>@VirginAmerica I didn't today... Must mean I n...</td>\n",
       "    </tr>\n",
       "    <tr>\n",
       "      <th>3</th>\n",
       "      <td>negative</td>\n",
       "      <td>@VirginAmerica it's really aggressive to blast...</td>\n",
       "    </tr>\n",
       "    <tr>\n",
       "      <th>4</th>\n",
       "      <td>negative</td>\n",
       "      <td>@VirginAmerica and it's a really big bad thing...</td>\n",
       "    </tr>\n",
       "    <tr>\n",
       "      <th>...</th>\n",
       "      <td>...</td>\n",
       "      <td>...</td>\n",
       "    </tr>\n",
       "    <tr>\n",
       "      <th>14635</th>\n",
       "      <td>positive</td>\n",
       "      <td>@AmericanAir thank you we got on a different f...</td>\n",
       "    </tr>\n",
       "    <tr>\n",
       "      <th>14636</th>\n",
       "      <td>negative</td>\n",
       "      <td>@AmericanAir leaving over 20 minutes Late Flig...</td>\n",
       "    </tr>\n",
       "    <tr>\n",
       "      <th>14637</th>\n",
       "      <td>neutral</td>\n",
       "      <td>@AmericanAir Please bring American Airlines to...</td>\n",
       "    </tr>\n",
       "    <tr>\n",
       "      <th>14638</th>\n",
       "      <td>negative</td>\n",
       "      <td>@AmericanAir you have my money, you change my ...</td>\n",
       "    </tr>\n",
       "    <tr>\n",
       "      <th>14639</th>\n",
       "      <td>neutral</td>\n",
       "      <td>@AmericanAir we have 8 ppl so we need 2 know h...</td>\n",
       "    </tr>\n",
       "  </tbody>\n",
       "</table>\n",
       "<p>14640 rows × 2 columns</p>\n",
       "</div>"
      ],
      "text/plain": [
       "      airline_sentiment                                               text\n",
       "0               neutral                @VirginAmerica What @dhepburn said.\n",
       "1              positive  @VirginAmerica plus you've added commercials t...\n",
       "2               neutral  @VirginAmerica I didn't today... Must mean I n...\n",
       "3              negative  @VirginAmerica it's really aggressive to blast...\n",
       "4              negative  @VirginAmerica and it's a really big bad thing...\n",
       "...                 ...                                                ...\n",
       "14635          positive  @AmericanAir thank you we got on a different f...\n",
       "14636          negative  @AmericanAir leaving over 20 minutes Late Flig...\n",
       "14637           neutral  @AmericanAir Please bring American Airlines to...\n",
       "14638          negative  @AmericanAir you have my money, you change my ...\n",
       "14639           neutral  @AmericanAir we have 8 ppl so we need 2 know h...\n",
       "\n",
       "[14640 rows x 2 columns]"
      ]
     },
     "execution_count": 15,
     "metadata": {},
     "output_type": "execute_result"
    }
   ],
   "source": [
    "import pandas as pd \n",
    "data = pd.read_csv(\"Tweets.csv\", usecols=['text', 'airline_sentiment'])\n",
    "data "
   ]
  },
  {
   "cell_type": "markdown",
   "id": "cfc96fc4",
   "metadata": {},
   "source": [
    "## Minuscule et suppression des ponctuations"
   ]
  },
  {
   "cell_type": "code",
   "execution_count": 16,
   "id": "00047888",
   "metadata": {
    "ExecuteTime": {
     "end_time": "2024-08-29T12:17:27.355212Z",
     "start_time": "2024-08-29T12:17:27.319510Z"
    }
   },
   "outputs": [
    {
     "data": {
      "text/html": [
       "<div>\n",
       "<style scoped>\n",
       "    .dataframe tbody tr th:only-of-type {\n",
       "        vertical-align: middle;\n",
       "    }\n",
       "\n",
       "    .dataframe tbody tr th {\n",
       "        vertical-align: top;\n",
       "    }\n",
       "\n",
       "    .dataframe thead th {\n",
       "        text-align: right;\n",
       "    }\n",
       "</style>\n",
       "<table border=\"1\" class=\"dataframe\">\n",
       "  <thead>\n",
       "    <tr style=\"text-align: right;\">\n",
       "      <th></th>\n",
       "      <th>airline_sentiment</th>\n",
       "      <th>text</th>\n",
       "    </tr>\n",
       "  </thead>\n",
       "  <tbody>\n",
       "    <tr>\n",
       "      <th>0</th>\n",
       "      <td>neutral</td>\n",
       "      <td>virginamerica what dhepburn said</td>\n",
       "    </tr>\n",
       "    <tr>\n",
       "      <th>1</th>\n",
       "      <td>positive</td>\n",
       "      <td>virginamerica plus youve added commercials to ...</td>\n",
       "    </tr>\n",
       "    <tr>\n",
       "      <th>2</th>\n",
       "      <td>neutral</td>\n",
       "      <td>virginamerica i didnt today must mean i need t...</td>\n",
       "    </tr>\n",
       "    <tr>\n",
       "      <th>3</th>\n",
       "      <td>negative</td>\n",
       "      <td>virginamerica its really aggressive to blast o...</td>\n",
       "    </tr>\n",
       "    <tr>\n",
       "      <th>4</th>\n",
       "      <td>negative</td>\n",
       "      <td>virginamerica and its a really big bad thing a...</td>\n",
       "    </tr>\n",
       "    <tr>\n",
       "      <th>...</th>\n",
       "      <td>...</td>\n",
       "      <td>...</td>\n",
       "    </tr>\n",
       "    <tr>\n",
       "      <th>14635</th>\n",
       "      <td>positive</td>\n",
       "      <td>americanair thank you we got on a different fl...</td>\n",
       "    </tr>\n",
       "    <tr>\n",
       "      <th>14636</th>\n",
       "      <td>negative</td>\n",
       "      <td>americanair leaving over 20 minutes late fligh...</td>\n",
       "    </tr>\n",
       "    <tr>\n",
       "      <th>14637</th>\n",
       "      <td>neutral</td>\n",
       "      <td>americanair please bring american airlines to ...</td>\n",
       "    </tr>\n",
       "    <tr>\n",
       "      <th>14638</th>\n",
       "      <td>negative</td>\n",
       "      <td>americanair you have my money you change my fl...</td>\n",
       "    </tr>\n",
       "    <tr>\n",
       "      <th>14639</th>\n",
       "      <td>neutral</td>\n",
       "      <td>americanair we have 8 ppl so we need 2 know ho...</td>\n",
       "    </tr>\n",
       "  </tbody>\n",
       "</table>\n",
       "<p>14640 rows × 2 columns</p>\n",
       "</div>"
      ],
      "text/plain": [
       "      airline_sentiment                                               text\n",
       "0               neutral                   virginamerica what dhepburn said\n",
       "1              positive  virginamerica plus youve added commercials to ...\n",
       "2               neutral  virginamerica i didnt today must mean i need t...\n",
       "3              negative  virginamerica its really aggressive to blast o...\n",
       "4              negative  virginamerica and its a really big bad thing a...\n",
       "...                 ...                                                ...\n",
       "14635          positive  americanair thank you we got on a different fl...\n",
       "14636          negative  americanair leaving over 20 minutes late fligh...\n",
       "14637           neutral  americanair please bring american airlines to ...\n",
       "14638          negative  americanair you have my money you change my fl...\n",
       "14639           neutral  americanair we have 8 ppl so we need 2 know ho...\n",
       "\n",
       "[14640 rows x 2 columns]"
      ]
     },
     "execution_count": 16,
     "metadata": {},
     "output_type": "execute_result"
    }
   ],
   "source": [
    "import re \n",
    "# Fonction pour mettre le texte en minuscules et supprimer les caractères spéciaux\n",
    "def nettoyer_texte(texte):\n",
    "    texte = texte.lower()  # Convertir en minuscules\n",
    "    texte = re.sub(r'[^a-zA-Z0-9\\s]', '', texte)  # Supprimer les caractères spéciaux et la ponctuation\n",
    "    return texte\n",
    "\n",
    "# Appliquer la fonction de nettoyage à la colonne 'text'\n",
    "data['text'] = data['text'].apply(nettoyer_texte)\n",
    "data "
   ]
  },
  {
   "cell_type": "markdown",
   "id": "979fb77e",
   "metadata": {},
   "source": [
    "## Tokenisation et supprimer les mots vides"
   ]
  },
  {
   "cell_type": "code",
   "execution_count": 17,
   "id": "22002404",
   "metadata": {
    "ExecuteTime": {
     "end_time": "2024-08-29T12:17:30.498636Z",
     "start_time": "2024-08-29T12:17:28.055135Z"
    }
   },
   "outputs": [
    {
     "data": {
      "text/html": [
       "<div>\n",
       "<style scoped>\n",
       "    .dataframe tbody tr th:only-of-type {\n",
       "        vertical-align: middle;\n",
       "    }\n",
       "\n",
       "    .dataframe tbody tr th {\n",
       "        vertical-align: top;\n",
       "    }\n",
       "\n",
       "    .dataframe thead th {\n",
       "        text-align: right;\n",
       "    }\n",
       "</style>\n",
       "<table border=\"1\" class=\"dataframe\">\n",
       "  <thead>\n",
       "    <tr style=\"text-align: right;\">\n",
       "      <th></th>\n",
       "      <th>airline_sentiment</th>\n",
       "      <th>text</th>\n",
       "    </tr>\n",
       "  </thead>\n",
       "  <tbody>\n",
       "    <tr>\n",
       "      <th>0</th>\n",
       "      <td>neutral</td>\n",
       "      <td>[virginamerica, dhepburn, said]</td>\n",
       "    </tr>\n",
       "    <tr>\n",
       "      <th>1</th>\n",
       "      <td>positive</td>\n",
       "      <td>[virginamerica, plus, youve, added, commercial...</td>\n",
       "    </tr>\n",
       "    <tr>\n",
       "      <th>2</th>\n",
       "      <td>neutral</td>\n",
       "      <td>[virginamerica, didnt, today, must, mean, need...</td>\n",
       "    </tr>\n",
       "    <tr>\n",
       "      <th>3</th>\n",
       "      <td>negative</td>\n",
       "      <td>[virginamerica, really, aggressive, blast, obn...</td>\n",
       "    </tr>\n",
       "    <tr>\n",
       "      <th>4</th>\n",
       "      <td>negative</td>\n",
       "      <td>[virginamerica, really, big, bad, thing]</td>\n",
       "    </tr>\n",
       "    <tr>\n",
       "      <th>...</th>\n",
       "      <td>...</td>\n",
       "      <td>...</td>\n",
       "    </tr>\n",
       "    <tr>\n",
       "      <th>14635</th>\n",
       "      <td>positive</td>\n",
       "      <td>[americanair, thank, got, different, flight, c...</td>\n",
       "    </tr>\n",
       "    <tr>\n",
       "      <th>14636</th>\n",
       "      <td>negative</td>\n",
       "      <td>[americanair, leaving, 20, minutes, late, flig...</td>\n",
       "    </tr>\n",
       "    <tr>\n",
       "      <th>14637</th>\n",
       "      <td>neutral</td>\n",
       "      <td>[americanair, please, bring, american, airline...</td>\n",
       "    </tr>\n",
       "    <tr>\n",
       "      <th>14638</th>\n",
       "      <td>negative</td>\n",
       "      <td>[americanair, money, change, flight, dont, ans...</td>\n",
       "    </tr>\n",
       "    <tr>\n",
       "      <th>14639</th>\n",
       "      <td>neutral</td>\n",
       "      <td>[americanair, 8, ppl, need, 2, know, many, sea...</td>\n",
       "    </tr>\n",
       "  </tbody>\n",
       "</table>\n",
       "<p>14640 rows × 2 columns</p>\n",
       "</div>"
      ],
      "text/plain": [
       "      airline_sentiment                                               text\n",
       "0               neutral                    [virginamerica, dhepburn, said]\n",
       "1              positive  [virginamerica, plus, youve, added, commercial...\n",
       "2               neutral  [virginamerica, didnt, today, must, mean, need...\n",
       "3              negative  [virginamerica, really, aggressive, blast, obn...\n",
       "4              negative           [virginamerica, really, big, bad, thing]\n",
       "...                 ...                                                ...\n",
       "14635          positive  [americanair, thank, got, different, flight, c...\n",
       "14636          negative  [americanair, leaving, 20, minutes, late, flig...\n",
       "14637           neutral  [americanair, please, bring, american, airline...\n",
       "14638          negative  [americanair, money, change, flight, dont, ans...\n",
       "14639           neutral  [americanair, 8, ppl, need, 2, know, many, sea...\n",
       "\n",
       "[14640 rows x 2 columns]"
      ]
     },
     "execution_count": 17,
     "metadata": {},
     "output_type": "execute_result"
    }
   ],
   "source": [
    "from nltk.tokenize import word_tokenize\n",
    "from nltk.corpus import stopwords\n",
    "import nltk\n",
    "\n",
    "# Télécharger les stopwords et le tokenizer de nltk (à faire une seule fois)\n",
    "#nltk.download('punkt')\n",
    "#nltk.download('stopwords')\n",
    "\n",
    "# Fonction pour nettoyer le texte, faire la tokenisation et supprimer les mots vides\n",
    "def tokeniser(texte):\n",
    "    tokens = word_tokenize(texte)  # Tokenisation\n",
    "    stop_words = set(stopwords.words('english'))  # Définir la liste des stopwords en français\n",
    "    tokens = [mot for mot in tokens if mot not in stop_words]  # Supprimer les mots vides\n",
    "    return tokens\n",
    "\n",
    "# Appliquer la fonction de nettoyage et tokenisation à la colonne 'text'\n",
    "data['text'] = data['text'].apply(tokeniser)\n",
    "data "
   ]
  },
  {
   "cell_type": "markdown",
   "id": "dea12a1f",
   "metadata": {},
   "source": [
    "## Réduire les différence grammaticales"
   ]
  },
  {
   "cell_type": "code",
   "execution_count": 18,
   "id": "6499e803",
   "metadata": {
    "ExecuteTime": {
     "end_time": "2024-08-29T12:17:32.136937Z",
     "start_time": "2024-08-29T12:17:32.133768Z"
    }
   },
   "outputs": [],
   "source": [
    "from nltk.stem import WordNetLemmatizer\n",
    "#nltk.download('wordnet')\n",
    "#nltk.download('omw-1.4')  # Support supplémentaire pour WordNet"
   ]
  },
  {
   "cell_type": "code",
   "execution_count": 19,
   "id": "5b0716f5",
   "metadata": {
    "ExecuteTime": {
     "end_time": "2024-08-29T12:17:33.014546Z",
     "start_time": "2024-08-29T12:17:32.687219Z"
    }
   },
   "outputs": [
    {
     "data": {
      "text/html": [
       "<div>\n",
       "<style scoped>\n",
       "    .dataframe tbody tr th:only-of-type {\n",
       "        vertical-align: middle;\n",
       "    }\n",
       "\n",
       "    .dataframe tbody tr th {\n",
       "        vertical-align: top;\n",
       "    }\n",
       "\n",
       "    .dataframe thead th {\n",
       "        text-align: right;\n",
       "    }\n",
       "</style>\n",
       "<table border=\"1\" class=\"dataframe\">\n",
       "  <thead>\n",
       "    <tr style=\"text-align: right;\">\n",
       "      <th></th>\n",
       "      <th>airline_sentiment</th>\n",
       "      <th>text</th>\n",
       "    </tr>\n",
       "  </thead>\n",
       "  <tbody>\n",
       "    <tr>\n",
       "      <th>0</th>\n",
       "      <td>neutral</td>\n",
       "      <td>virginamerica dhepburn said</td>\n",
       "    </tr>\n",
       "    <tr>\n",
       "      <th>1</th>\n",
       "      <td>positive</td>\n",
       "      <td>virginamerica plus youve added commercial expe...</td>\n",
       "    </tr>\n",
       "    <tr>\n",
       "      <th>2</th>\n",
       "      <td>neutral</td>\n",
       "      <td>virginamerica didnt today must mean need take ...</td>\n",
       "    </tr>\n",
       "    <tr>\n",
       "      <th>3</th>\n",
       "      <td>negative</td>\n",
       "      <td>virginamerica really aggressive blast obnoxiou...</td>\n",
       "    </tr>\n",
       "    <tr>\n",
       "      <th>4</th>\n",
       "      <td>negative</td>\n",
       "      <td>virginamerica really big bad thing</td>\n",
       "    </tr>\n",
       "    <tr>\n",
       "      <th>...</th>\n",
       "      <td>...</td>\n",
       "      <td>...</td>\n",
       "    </tr>\n",
       "    <tr>\n",
       "      <th>14635</th>\n",
       "      <td>positive</td>\n",
       "      <td>americanair thank got different flight chicago</td>\n",
       "    </tr>\n",
       "    <tr>\n",
       "      <th>14636</th>\n",
       "      <td>negative</td>\n",
       "      <td>americanair leaving 20 minute late flight warn...</td>\n",
       "    </tr>\n",
       "    <tr>\n",
       "      <th>14637</th>\n",
       "      <td>neutral</td>\n",
       "      <td>americanair please bring american airline blac...</td>\n",
       "    </tr>\n",
       "    <tr>\n",
       "      <th>14638</th>\n",
       "      <td>negative</td>\n",
       "      <td>americanair money change flight dont answer ph...</td>\n",
       "    </tr>\n",
       "    <tr>\n",
       "      <th>14639</th>\n",
       "      <td>neutral</td>\n",
       "      <td>americanair 8 ppl need 2 know many seat next f...</td>\n",
       "    </tr>\n",
       "  </tbody>\n",
       "</table>\n",
       "<p>14640 rows × 2 columns</p>\n",
       "</div>"
      ],
      "text/plain": [
       "      airline_sentiment                                               text\n",
       "0               neutral                        virginamerica dhepburn said\n",
       "1              positive  virginamerica plus youve added commercial expe...\n",
       "2               neutral  virginamerica didnt today must mean need take ...\n",
       "3              negative  virginamerica really aggressive blast obnoxiou...\n",
       "4              negative                 virginamerica really big bad thing\n",
       "...                 ...                                                ...\n",
       "14635          positive     americanair thank got different flight chicago\n",
       "14636          negative  americanair leaving 20 minute late flight warn...\n",
       "14637           neutral  americanair please bring american airline blac...\n",
       "14638          negative  americanair money change flight dont answer ph...\n",
       "14639           neutral  americanair 8 ppl need 2 know many seat next f...\n",
       "\n",
       "[14640 rows x 2 columns]"
      ]
     },
     "execution_count": 19,
     "metadata": {},
     "output_type": "execute_result"
    }
   ],
   "source": [
    "# Initialiser le lemmatizer\n",
    "lemmatizer = WordNetLemmatizer()\n",
    "\n",
    "def lemmatiser(texte):\n",
    "    tokens_lemmatized = [lemmatizer.lemmatize(mot) for mot in texte]  # Appliquer la lemmatisation\n",
    "    return ' '.join(tokens_lemmatized)\n",
    "\n",
    "# Appliquer la fonction à la colonne 'text'\n",
    "data['text'] = data['text'].apply(lemmatiser)\n",
    "data "
   ]
  },
  {
   "cell_type": "markdown",
   "id": "2778fc71",
   "metadata": {},
   "source": [
    "## Bag of words et variable cible "
   ]
  },
  {
   "cell_type": "code",
   "execution_count": 20,
   "id": "d971ea01",
   "metadata": {
    "ExecuteTime": {
     "end_time": "2024-08-29T12:20:40.689081Z",
     "start_time": "2024-08-29T12:20:40.683903Z"
    }
   },
   "outputs": [],
   "source": [
    "from sklearn.preprocessing import LabelEncoder\n",
    "# Convertir les sentiments en étiquettes numériques\n",
    "label_encoder = LabelEncoder()\n",
    "data['airline_sentiment'] = label_encoder.fit_transform(data['airline_sentiment'])"
   ]
  },
  {
   "cell_type": "code",
   "execution_count": 23,
   "id": "4529fc0b",
   "metadata": {
    "ExecuteTime": {
     "end_time": "2024-08-29T12:22:10.495549Z",
     "start_time": "2024-08-29T12:22:10.260475Z"
    }
   },
   "outputs": [],
   "source": [
    "from sklearn.feature_extraction.text import CountVectorizer\n",
    "from tensorflow.keras.utils import to_categorical\n",
    "\n",
    "# Création du modèle Bag of Words\n",
    "vectorizer = CountVectorizer()\n",
    "X = vectorizer.fit_transform(data['text']).toarray()\n",
    "y = to_categorical(data['airline_sentiment'])  # Convertir les étiquettes en vecteurs binaires"
   ]
  },
  {
   "cell_type": "markdown",
   "id": "61ae8ce5",
   "metadata": {
    "ExecuteTime": {
     "end_time": "2024-08-29T12:26:53.373895Z",
     "start_time": "2024-08-29T12:26:53.366389Z"
    }
   },
   "source": [
    "## Réseau de neurones"
   ]
  },
  {
   "cell_type": "code",
   "execution_count": 29,
   "id": "26ea6218",
   "metadata": {
    "ExecuteTime": {
     "end_time": "2024-08-29T12:27:56.719935Z",
     "start_time": "2024-08-29T12:27:54.315554Z"
    }
   },
   "outputs": [],
   "source": [
    "from sklearn.model_selection import train_test_split\n",
    "# Séparation des données en ensembles d'entraînement et de test\n",
    "X_train, X_test, y_train, y_test = train_test_split(X, y, test_size=0.3, random_state=42)"
   ]
  },
  {
   "cell_type": "code",
   "execution_count": 30,
   "id": "4c239f9b",
   "metadata": {
    "ExecuteTime": {
     "end_time": "2024-08-29T12:28:34.113730Z",
     "start_time": "2024-08-29T12:28:34.104718Z"
    }
   },
   "outputs": [
    {
     "data": {
      "text/plain": [
       "array([[0, 0, 0, ..., 0, 0, 0],\n",
       "       [0, 0, 0, ..., 0, 0, 0],\n",
       "       [0, 0, 0, ..., 0, 0, 0],\n",
       "       ...,\n",
       "       [0, 0, 0, ..., 0, 0, 0],\n",
       "       [0, 0, 0, ..., 0, 0, 0],\n",
       "       [0, 0, 0, ..., 0, 0, 0]], dtype=int64)"
      ]
     },
     "execution_count": 30,
     "metadata": {},
     "output_type": "execute_result"
    }
   ],
   "source": [
    "X_train.shape"
   ]
  },
  {
   "cell_type": "code",
   "execution_count": 39,
   "id": "d64f8938",
   "metadata": {
    "ExecuteTime": {
     "end_time": "2024-08-29T12:49:22.024590Z",
     "start_time": "2024-08-29T12:48:33.637327Z"
    }
   },
   "outputs": [
    {
     "name": "stdout",
     "output_type": "stream",
     "text": [
      "Epoch 1/3\n",
      "4099/4099 [==============================] - 15s 4ms/step - loss: 0.6411 - accuracy: 0.7347 - val_loss: 0.5660 - val_accuracy: 0.7785\n",
      "Epoch 2/3\n",
      "4099/4099 [==============================] - 16s 4ms/step - loss: 0.4338 - accuracy: 0.8347 - val_loss: 0.5661 - val_accuracy: 0.7873\n",
      "Epoch 3/3\n",
      "4099/4099 [==============================] - 16s 4ms/step - loss: 0.3227 - accuracy: 0.8794 - val_loss: 0.6273 - val_accuracy: 0.7800\n",
      "138/138 [==============================] - 0s 2ms/step - loss: 0.6007 - accuracy: 0.7974\n",
      "Loss: 0.6006750464439392\n",
      "Accuracy: 0.7973588109016418\n"
     ]
    },
    {
     "data": {
      "image/png": "[encoded data removed]",
      "text/plain": [
       "<Figure size 1200x600 with 1 Axes>"
      ]
     },
     "metadata": {},
     "output_type": "display_data"
    },
    {
     "data": {
      "image/png": "[encoded data removed]",
      "text/plain": [
       "<Figure size 1200x600 with 1 Axes>"
      ]
     },
     "metadata": {},
     "output_type": "display_data"
    }
   ],
   "source": [
    "from tensorflow.keras.models import Sequential\n",
    "from tensorflow.keras.layers import Dense\n",
    "from tensorflow.keras.layers import Dropout\n",
    "import matplotlib.pyplot as plt\n",
    "\n",
    "# Construction du modèle de réseau de neurones\n",
    "model = Sequential()\n",
    "model.add(Dense(64, input_dim=X_train.shape[1], activation='relu')) #64 c'est le nombre de neurones dans cette couche dense. Chaque neurone de la couche dense recevra un vecteur d'entrée de taille X_train.shape[1]\n",
    "model.add(Dropout(0.5))  # 50% des neurones sont ignorés pendant l'entraînement\n",
    "model.add(Dense(32, activation='relu')) #Elle permet de capturer des relations non linéaires dans les données et aide à introduire de la non-linéarité dans le modèle, ce qui est crucial pour résoudre des problèmes complexes.\n",
    "model.add(Dense(3, activation='softmax'))  # 3 classes : positif, négatif, neutre\n",
    "\n",
    "# Compilation du modèle\n",
    "model.compile(loss='categorical_crossentropy', optimizer='adam', metrics=['accuracy'])\n",
    "\n",
    "# Entraînement du modèle et enregistrement de l'historique\n",
    "history = model.fit(X_train, y_train, epochs=3, batch_size=2, validation_split=0.2)\n",
    "\n",
    "# Évaluation du modèle\n",
    "loss, accuracy = model.evaluate(X_test, y_test)\n",
    "print(f'Loss: {loss}')\n",
    "print(f'Accuracy: {accuracy}')\n",
    "\n",
    "# Tracer la courbe de la fonction de perte\n",
    "plt.figure(figsize=(12, 6))\n",
    "\n",
    "# Perte d'entraînement\n",
    "plt.plot(history.history['loss'], label='Perte d\\'entraînement')\n",
    "\n",
    "# Perte de validation\n",
    "plt.plot(history.history['val_loss'], label='Perte de validation')\n",
    "\n",
    "plt.title('Courbe de la fonction de perte')\n",
    "plt.xlabel('Époque')\n",
    "plt.ylabel('Perte')\n",
    "plt.legend()\n",
    "plt.grid(True)\n",
    "plt.show()\n",
    "\n",
    "# Optionnel : Tracer la courbe de la précision\n",
    "plt.figure(figsize=(12, 6))\n",
    "\n",
    "# Précision d'entraînement\n",
    "plt.plot(history.history['accuracy'], label='Précision d\\'entraînement')\n",
    "\n",
    "# Précision de validation\n",
    "plt.plot(history.history['val_accuracy'], label='Précision de validation')\n",
    "\n",
    "plt.title('Courbe de la précision')\n",
    "plt.xlabel('Époque')\n",
    "plt.ylabel('Précision')\n",
    "plt.legend()\n",
    "plt.grid(True)\n",
    "plt.show()"
   ]
  },
  {
   "cell_type": "markdown",
   "id": "31465405",
   "metadata": {},
   "source": [
    "## Matrice de confusion"
   ]
  },
  {
   "cell_type": "code",
   "execution_count": 40,
   "id": "7f1fa930",
   "metadata": {
    "ExecuteTime": {
     "end_time": "2024-08-29T12:53:04.425343Z",
     "start_time": "2024-08-29T12:53:03.253150Z"
    }
   },
   "outputs": [
    {
     "name": "stdout",
     "output_type": "stream",
     "text": [
      "138/138 [==============================] - 0s 2ms/step\n"
     ]
    },
    {
     "data": {
      "image/png": "[encoded data removed]",
      "text/plain": [
       "<Figure size 1000x700 with 2 Axes>"
      ]
     },
     "metadata": {},
     "output_type": "display_data"
    }
   ],
   "source": [
    "import seaborn as sns\n",
    "from sklearn.metrics import confusion_matrix\n",
    "\n",
    "# Obtenir les prédictions du modèle sur les données de test\n",
    "y_pred = model.predict(X_test)\n",
    "\n",
    "# Convertir les prédictions et les vraies étiquettes en classes\n",
    "y_pred_classes = np.argmax(y_pred, axis=1)\n",
    "y_true_classes = np.argmax(y_test, axis=1)\n",
    "\n",
    "# Calculer la matrice de confusion\n",
    "cm = confusion_matrix(y_true_classes, y_pred_classes)\n",
    "\n",
    "# Tracer la matrice de confusion\n",
    "plt.figure(figsize=(10, 7))\n",
    "sns.heatmap(cm, annot=True, fmt='d', cmap='Blues', \n",
    "            xticklabels=['Positif', 'Neutre', 'Négatif'], \n",
    "            yticklabels=['Positif', 'Neutre', 'Négatif'])\n",
    "plt.xlabel('Prédictions')\n",
    "plt.ylabel('Vraies Étiquettes')\n",
    "plt.title('Matrice de Confusion')\n",
    "plt.show()"
   ]
  },
  {
   "cell_type": "markdown",
   "id": "32a6b678",
   "metadata": {},
   "source": [
    "## LLM Berth : Dans le cas où la variable cible est inconnue "
   ]
  },
  {
   "cell_type": "markdown",
   "id": "6b0cd644",
   "metadata": {},
   "source": [
    "On utilise un modèle de classification de texte basé sur BERT et fine-tuné pour l'analyse des sentiments"
   ]
  },
  {
   "cell_type": "code",
   "execution_count": 41,
   "id": "12e7888c",
   "metadata": {
    "ExecuteTime": {
     "end_time": "2024-08-29T12:55:52.440666Z",
     "start_time": "2024-08-29T12:55:51.298466Z"
    }
   },
   "outputs": [
    {
     "name": "stderr",
     "output_type": "stream",
     "text": [
      "C:\\Users\\flori\\anaconda3\\Lib\\site-packages\\transformers\\utils\\generic.py:260: UserWarning: torch.utils._pytree._register_pytree_node is deprecated. Please use torch.utils._pytree.register_pytree_node instead.\n",
      "  torch.utils._pytree._register_pytree_node(\n"
     ]
    }
   ],
   "source": [
    "from transformers import pipeline"
   ]
  },
  {
   "cell_type": "code",
   "execution_count": 43,
   "id": "a7e985f5",
   "metadata": {
    "ExecuteTime": {
     "end_time": "2024-08-29T13:00:33.830032Z",
     "start_time": "2024-08-29T13:00:30.883595Z"
    }
   },
   "outputs": [
    {
     "data": {
      "text/html": [
       "<div>\n",
       "<style scoped>\n",
       "    .dataframe tbody tr th:only-of-type {\n",
       "        vertical-align: middle;\n",
       "    }\n",
       "\n",
       "    .dataframe tbody tr th {\n",
       "        vertical-align: top;\n",
       "    }\n",
       "\n",
       "    .dataframe thead th {\n",
       "        text-align: right;\n",
       "    }\n",
       "</style>\n",
       "<table border=\"1\" class=\"dataframe\">\n",
       "  <thead>\n",
       "    <tr style=\"text-align: right;\">\n",
       "      <th></th>\n",
       "      <th>text</th>\n",
       "    </tr>\n",
       "  </thead>\n",
       "  <tbody>\n",
       "    <tr>\n",
       "      <th>0</th>\n",
       "      <td>virginamerica dhepburn said</td>\n",
       "    </tr>\n",
       "    <tr>\n",
       "      <th>1</th>\n",
       "      <td>virginamerica plus youve added commercial expe...</td>\n",
       "    </tr>\n",
       "    <tr>\n",
       "      <th>2</th>\n",
       "      <td>virginamerica didnt today must mean need take ...</td>\n",
       "    </tr>\n",
       "    <tr>\n",
       "      <th>3</th>\n",
       "      <td>virginamerica really aggressive blast obnoxiou...</td>\n",
       "    </tr>\n",
       "    <tr>\n",
       "      <th>4</th>\n",
       "      <td>virginamerica really big bad thing</td>\n",
       "    </tr>\n",
       "    <tr>\n",
       "      <th>...</th>\n",
       "      <td>...</td>\n",
       "    </tr>\n",
       "    <tr>\n",
       "      <th>14635</th>\n",
       "      <td>americanair thank got different flight chicago</td>\n",
       "    </tr>\n",
       "    <tr>\n",
       "      <th>14636</th>\n",
       "      <td>americanair leaving 20 minute late flight warn...</td>\n",
       "    </tr>\n",
       "    <tr>\n",
       "      <th>14637</th>\n",
       "      <td>americanair please bring american airline blac...</td>\n",
       "    </tr>\n",
       "    <tr>\n",
       "      <th>14638</th>\n",
       "      <td>americanair money change flight dont answer ph...</td>\n",
       "    </tr>\n",
       "    <tr>\n",
       "      <th>14639</th>\n",
       "      <td>americanair 8 ppl need 2 know many seat next f...</td>\n",
       "    </tr>\n",
       "  </tbody>\n",
       "</table>\n",
       "<p>14640 rows × 1 columns</p>\n",
       "</div>"
      ],
      "text/plain": [
       "                                                    text\n",
       "0                            virginamerica dhepburn said\n",
       "1      virginamerica plus youve added commercial expe...\n",
       "2      virginamerica didnt today must mean need take ...\n",
       "3      virginamerica really aggressive blast obnoxiou...\n",
       "4                     virginamerica really big bad thing\n",
       "...                                                  ...\n",
       "14635     americanair thank got different flight chicago\n",
       "14636  americanair leaving 20 minute late flight warn...\n",
       "14637  americanair please bring american airline blac...\n",
       "14638  americanair money change flight dont answer ph...\n",
       "14639  americanair 8 ppl need 2 know many seat next f...\n",
       "\n",
       "[14640 rows x 1 columns]"
      ]
     },
     "execution_count": 43,
     "metadata": {},
     "output_type": "execute_result"
    }
   ],
   "source": [
    "data_2 = pd.read_csv(\"Tweets.csv\", usecols=['text'])\n",
    "data_2['text'] = data_2['text'].apply(nettoyer_texte)\n",
    "data_2['text'] = data_2['text'].apply(tokeniser)\n",
    "data_2['text'] = data_2['text'].apply(lemmatiser)\n",
    "data_2 "
   ]
  },
  {
   "cell_type": "code",
   "execution_count": 45,
   "id": "f1444aea",
   "metadata": {
    "ExecuteTime": {
     "end_time": "2024-08-29T13:08:28.137760Z",
     "start_time": "2024-08-29T13:01:19.550969Z"
    }
   },
   "outputs": [
    {
     "name": "stderr",
     "output_type": "stream",
     "text": [
      "C:\\Users\\flori\\anaconda3\\Lib\\site-packages\\transformers\\utils\\generic.py:260: UserWarning: torch.utils._pytree._register_pytree_node is deprecated. Please use torch.utils._pytree.register_pytree_node instead.\n",
      "  torch.utils._pytree._register_pytree_node(\n"
     ]
    },
    {
     "data": {
      "text/html": [
       "<div>\n",
       "<style scoped>\n",
       "    .dataframe tbody tr th:only-of-type {\n",
       "        vertical-align: middle;\n",
       "    }\n",
       "\n",
       "    .dataframe tbody tr th {\n",
       "        vertical-align: top;\n",
       "    }\n",
       "\n",
       "    .dataframe thead th {\n",
       "        text-align: right;\n",
       "    }\n",
       "</style>\n",
       "<table border=\"1\" class=\"dataframe\">\n",
       "  <thead>\n",
       "    <tr style=\"text-align: right;\">\n",
       "      <th></th>\n",
       "      <th>text</th>\n",
       "      <th>score</th>\n",
       "    </tr>\n",
       "  </thead>\n",
       "  <tbody>\n",
       "    <tr>\n",
       "      <th>0</th>\n",
       "      <td>virginamerica dhepburn said</td>\n",
       "      <td>1</td>\n",
       "    </tr>\n",
       "    <tr>\n",
       "      <th>1</th>\n",
       "      <td>virginamerica plus youve added commercial expe...</td>\n",
       "      <td>5</td>\n",
       "    </tr>\n",
       "    <tr>\n",
       "      <th>2</th>\n",
       "      <td>virginamerica didnt today must mean need take ...</td>\n",
       "      <td>1</td>\n",
       "    </tr>\n",
       "    <tr>\n",
       "      <th>3</th>\n",
       "      <td>virginamerica really aggressive blast obnoxiou...</td>\n",
       "      <td>5</td>\n",
       "    </tr>\n",
       "    <tr>\n",
       "      <th>4</th>\n",
       "      <td>virginamerica really big bad thing</td>\n",
       "      <td>1</td>\n",
       "    </tr>\n",
       "    <tr>\n",
       "      <th>...</th>\n",
       "      <td>...</td>\n",
       "      <td>...</td>\n",
       "    </tr>\n",
       "    <tr>\n",
       "      <th>14635</th>\n",
       "      <td>americanair thank got different flight chicago</td>\n",
       "      <td>1</td>\n",
       "    </tr>\n",
       "    <tr>\n",
       "      <th>14636</th>\n",
       "      <td>americanair leaving 20 minute late flight warn...</td>\n",
       "      <td>1</td>\n",
       "    </tr>\n",
       "    <tr>\n",
       "      <th>14637</th>\n",
       "      <td>americanair please bring american airline blac...</td>\n",
       "      <td>1</td>\n",
       "    </tr>\n",
       "    <tr>\n",
       "      <th>14638</th>\n",
       "      <td>americanair money change flight dont answer ph...</td>\n",
       "      <td>1</td>\n",
       "    </tr>\n",
       "    <tr>\n",
       "      <th>14639</th>\n",
       "      <td>americanair 8 ppl need 2 know many seat next f...</td>\n",
       "      <td>1</td>\n",
       "    </tr>\n",
       "  </tbody>\n",
       "</table>\n",
       "<p>14640 rows × 2 columns</p>\n",
       "</div>"
      ],
      "text/plain": [
       "                                                    text  score\n",
       "0                            virginamerica dhepburn said      1\n",
       "1      virginamerica plus youve added commercial expe...      5\n",
       "2      virginamerica didnt today must mean need take ...      1\n",
       "3      virginamerica really aggressive blast obnoxiou...      5\n",
       "4                     virginamerica really big bad thing      1\n",
       "...                                                  ...    ...\n",
       "14635     americanair thank got different flight chicago      1\n",
       "14636  americanair leaving 20 minute late flight warn...      1\n",
       "14637  americanair please bring american airline blac...      1\n",
       "14638  americanair money change flight dont answer ph...      1\n",
       "14639  americanair 8 ppl need 2 know many seat next f...      1\n",
       "\n",
       "[14640 rows x 2 columns]"
      ]
     },
     "execution_count": 45,
     "metadata": {},
     "output_type": "execute_result"
    }
   ],
   "source": [
    "# Charger un pipeline de classification de Hugging Face\n",
    "classifier = pipeline(\"text-classification\", model=\"nlptown/bert-base-multilingual-uncased-sentiment\")\n",
    "\n",
    "\n",
    "# Fonction pour obtenir la note du commentaire\n",
    "def get_score(comment):\n",
    "    result = classifier(comment)\n",
    "    # Extraire le label (par ex. \"5 stars\", \"4 stars\", etc.) et convertir en score de 1 à 5\n",
    "    label = result[0]['label']\n",
    "    score = int(label.split()[0])  # Supposant que le label est de la forme \"5 stars\", \"4 stars\", etc.\n",
    "    return score\n",
    "\n",
    "# Appliquer la fonction à chaque commentaire du DataFrame\n",
    "data_2['score'] = data_2['text'].apply(get_score)\n",
    "\n",
    "data_2"
   ]
  }
 ],
 "metadata": {
  "kernelspec": {
   "display_name": "Python 3 (ipykernel)",
   "language": "python",
   "name": "python3"
  },
  "language_info": {
   "codemirror_mode": {
    "name": "ipython",
    "version": 3
   },
   "file_extension": ".py",
   "mimetype": "text/x-python",
   "name": "python",
   "nbconvert_exporter": "python",
   "pygments_lexer": "ipython3",
   "version": "3.11.5"
  },
  "nbTranslate": {
   "displayLangs": [
    "*"
   ],
   "hotkey": "alt-t",
   "langInMainMenu": true,
   "sourceLang": "en",
   "targetLang": "fr",
   "useGoogleTranslate": true
  },
  "toc": {
   "base_numbering": 1,
   "nav_menu": {},
   "number_sections": true,
   "sideBar": true,
   "skip_h1_title": false,
   "title_cell": "Table of Contents",
   "title_sidebar": "Contents",
   "toc_cell": false,
   "toc_position": {},
   "toc_section_display": true,
   "toc_window_display": false
  },
  "varInspector": {
   "cols": {
    "lenName": 16,
    "lenType": 16,
    "lenVar": 40
   },
   "kernels_config": {
    "python": {
     "delete_cmd_postfix": "",
     "delete_cmd_prefix": "del ",
     "library": "var_list.py",
     "varRefreshCmd": "print(var_dic_list())"
    },
    "r": {
     "delete_cmd_postfix": ") ",
     "delete_cmd_prefix": "rm(",
     "library": "var_list.r",
     "varRefreshCmd": "cat(var_dic_list()) "
    }
   },
   "types_to_exclude": [
    "module",
    "function",
    "builtin_function_or_method",
    "instance",
    "_Feature"
   ],
   "window_display": false
  }
 },
 "nbformat": 4,
 "nbformat_minor": 5
}
