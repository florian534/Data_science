{
 "cells": [
  {
   "cell_type": "markdown",
   "metadata": {},
   "source": [
    "# Présentation du projet Twitter us airline sentiment (NLP)"
   ]
  },
  {
   "cell_type": "markdown",
   "metadata": {},
   "source": [
    "Le but est de connaître les sentiments des personnes par leurs tweets envers les compagnies aériennes américaines. \n",
    "Les données de Twitter ont été extraites de février 2015 et les contributeurs ont été invités à classer les tweets positifs, négatifs et neutres, puis à catégoriser les raisons négatives (telles que \"vol tardif\" ou \"service dur\").\n",
    "La base de données indique si le sentiment des tweets de cet ensemble était positif, neutre ou négatif pour six compagnies aériennes américaines (Delta, Southwest, united, US airways, Virgin america, American,)"
   ]
  },
  {
   "cell_type": "markdown",
   "metadata": {
    "ExecuteTime": {
     "end_time": "2020-09-07T18:24:18.026682Z",
     "start_time": "2020-09-07T18:24:18.016674Z"
    }
   },
   "source": [
    "# Recuperer les tweets et préparation des données"
   ]
  },
  {
   "cell_type": "code",
   "execution_count": 1,
   "metadata": {
    "ExecuteTime": {
     "end_time": "2024-08-03T06:34:41.101745Z",
     "start_time": "2024-08-03T06:34:40.668456Z"
    }
   },
   "outputs": [],
   "source": [
    "import pandas as pd #Importation des données"
   ]
  },
  {
   "cell_type": "code",
   "execution_count": 2,
   "metadata": {
    "ExecuteTime": {
     "end_time": "2024-08-03T06:34:41.887049Z",
     "start_time": "2024-08-03T06:34:41.734131Z"
    }
   },
   "outputs": [],
   "source": [
    "Data = pd.read_csv(\"Tweets.csv\")"
   ]
  },
  {
   "cell_type": "code",
   "execution_count": 3,
   "metadata": {
    "ExecuteTime": {
     "end_time": "2024-08-03T06:34:42.567948Z",
     "start_time": "2024-08-03T06:34:42.541581Z"
    }
   },
   "outputs": [
    {
     "data": {
      "text/html": [
       "<div>\n",
       "<style scoped>\n",
       "    .dataframe tbody tr th:only-of-type {\n",
       "        vertical-align: middle;\n",
       "    }\n",
       "\n",
       "    .dataframe tbody tr th {\n",
       "        vertical-align: top;\n",
       "    }\n",
       "\n",
       "    .dataframe thead th {\n",
       "        text-align: right;\n",
       "    }\n",
       "</style>\n",
       "<table border=\"1\" class=\"dataframe\">\n",
       "  <thead>\n",
       "    <tr style=\"text-align: right;\">\n",
       "      <th></th>\n",
       "      <th>tweet_id</th>\n",
       "      <th>airline_sentiment</th>\n",
       "      <th>airline_sentiment_confidence</th>\n",
       "      <th>negativereason</th>\n",
       "      <th>negativereason_confidence</th>\n",
       "      <th>airline</th>\n",
       "      <th>airline_sentiment_gold</th>\n",
       "      <th>name</th>\n",
       "      <th>negativereason_gold</th>\n",
       "      <th>retweet_count</th>\n",
       "      <th>text</th>\n",
       "      <th>tweet_coord</th>\n",
       "      <th>tweet_created</th>\n",
       "      <th>tweet_location</th>\n",
       "      <th>user_timezone</th>\n",
       "    </tr>\n",
       "  </thead>\n",
       "  <tbody>\n",
       "    <tr>\n",
       "      <th>0</th>\n",
       "      <td>570306133677760513</td>\n",
       "      <td>neutral</td>\n",
       "      <td>1.0000</td>\n",
       "      <td>NaN</td>\n",
       "      <td>NaN</td>\n",
       "      <td>Virgin America</td>\n",
       "      <td>NaN</td>\n",
       "      <td>cairdin</td>\n",
       "      <td>NaN</td>\n",
       "      <td>0</td>\n",
       "      <td>@VirginAmerica What @dhepburn said.</td>\n",
       "      <td>NaN</td>\n",
       "      <td>2015-02-24 11:35:52 -0800</td>\n",
       "      <td>NaN</td>\n",
       "      <td>Eastern Time (US &amp; Canada)</td>\n",
       "    </tr>\n",
       "    <tr>\n",
       "      <th>1</th>\n",
       "      <td>570301130888122368</td>\n",
       "      <td>positive</td>\n",
       "      <td>0.3486</td>\n",
       "      <td>NaN</td>\n",
       "      <td>0.0000</td>\n",
       "      <td>Virgin America</td>\n",
       "      <td>NaN</td>\n",
       "      <td>jnardino</td>\n",
       "      <td>NaN</td>\n",
       "      <td>0</td>\n",
       "      <td>@VirginAmerica plus you've added commercials t...</td>\n",
       "      <td>NaN</td>\n",
       "      <td>2015-02-24 11:15:59 -0800</td>\n",
       "      <td>NaN</td>\n",
       "      <td>Pacific Time (US &amp; Canada)</td>\n",
       "    </tr>\n",
       "    <tr>\n",
       "      <th>2</th>\n",
       "      <td>570301083672813571</td>\n",
       "      <td>neutral</td>\n",
       "      <td>0.6837</td>\n",
       "      <td>NaN</td>\n",
       "      <td>NaN</td>\n",
       "      <td>Virgin America</td>\n",
       "      <td>NaN</td>\n",
       "      <td>yvonnalynn</td>\n",
       "      <td>NaN</td>\n",
       "      <td>0</td>\n",
       "      <td>@VirginAmerica I didn't today... Must mean I n...</td>\n",
       "      <td>NaN</td>\n",
       "      <td>2015-02-24 11:15:48 -0800</td>\n",
       "      <td>Lets Play</td>\n",
       "      <td>Central Time (US &amp; Canada)</td>\n",
       "    </tr>\n",
       "    <tr>\n",
       "      <th>3</th>\n",
       "      <td>570301031407624196</td>\n",
       "      <td>negative</td>\n",
       "      <td>1.0000</td>\n",
       "      <td>Bad Flight</td>\n",
       "      <td>0.7033</td>\n",
       "      <td>Virgin America</td>\n",
       "      <td>NaN</td>\n",
       "      <td>jnardino</td>\n",
       "      <td>NaN</td>\n",
       "      <td>0</td>\n",
       "      <td>@VirginAmerica it's really aggressive to blast...</td>\n",
       "      <td>NaN</td>\n",
       "      <td>2015-02-24 11:15:36 -0800</td>\n",
       "      <td>NaN</td>\n",
       "      <td>Pacific Time (US &amp; Canada)</td>\n",
       "    </tr>\n",
       "    <tr>\n",
       "      <th>4</th>\n",
       "      <td>570300817074462722</td>\n",
       "      <td>negative</td>\n",
       "      <td>1.0000</td>\n",
       "      <td>Can't Tell</td>\n",
       "      <td>1.0000</td>\n",
       "      <td>Virgin America</td>\n",
       "      <td>NaN</td>\n",
       "      <td>jnardino</td>\n",
       "      <td>NaN</td>\n",
       "      <td>0</td>\n",
       "      <td>@VirginAmerica and it's a really big bad thing...</td>\n",
       "      <td>NaN</td>\n",
       "      <td>2015-02-24 11:14:45 -0800</td>\n",
       "      <td>NaN</td>\n",
       "      <td>Pacific Time (US &amp; Canada)</td>\n",
       "    </tr>\n",
       "  </tbody>\n",
       "</table>\n",
       "</div>"
      ],
      "text/plain": [
       "             tweet_id airline_sentiment  airline_sentiment_confidence  \\\n",
       "0  570306133677760513           neutral                        1.0000   \n",
       "1  570301130888122368          positive                        0.3486   \n",
       "2  570301083672813571           neutral                        0.6837   \n",
       "3  570301031407624196          negative                        1.0000   \n",
       "4  570300817074462722          negative                        1.0000   \n",
       "\n",
       "  negativereason  negativereason_confidence         airline  \\\n",
       "0            NaN                        NaN  Virgin America   \n",
       "1            NaN                     0.0000  Virgin America   \n",
       "2            NaN                        NaN  Virgin America   \n",
       "3     Bad Flight                     0.7033  Virgin America   \n",
       "4     Can't Tell                     1.0000  Virgin America   \n",
       "\n",
       "  airline_sentiment_gold        name negativereason_gold  retweet_count  \\\n",
       "0                    NaN     cairdin                 NaN              0   \n",
       "1                    NaN    jnardino                 NaN              0   \n",
       "2                    NaN  yvonnalynn                 NaN              0   \n",
       "3                    NaN    jnardino                 NaN              0   \n",
       "4                    NaN    jnardino                 NaN              0   \n",
       "\n",
       "                                                text tweet_coord  \\\n",
       "0                @VirginAmerica What @dhepburn said.         NaN   \n",
       "1  @VirginAmerica plus you've added commercials t...         NaN   \n",
       "2  @VirginAmerica I didn't today... Must mean I n...         NaN   \n",
       "3  @VirginAmerica it's really aggressive to blast...         NaN   \n",
       "4  @VirginAmerica and it's a really big bad thing...         NaN   \n",
       "\n",
       "               tweet_created tweet_location               user_timezone  \n",
       "0  2015-02-24 11:35:52 -0800            NaN  Eastern Time (US & Canada)  \n",
       "1  2015-02-24 11:15:59 -0800            NaN  Pacific Time (US & Canada)  \n",
       "2  2015-02-24 11:15:48 -0800      Lets Play  Central Time (US & Canada)  \n",
       "3  2015-02-24 11:15:36 -0800            NaN  Pacific Time (US & Canada)  \n",
       "4  2015-02-24 11:14:45 -0800            NaN  Pacific Time (US & Canada)  "
      ]
     },
     "execution_count": 3,
     "metadata": {},
     "output_type": "execute_result"
    }
   ],
   "source": [
    "Data.tail(n=7) #Affiche 7 dernières colonne \n",
    "Data.head(n=5) #Affiche 5 première lignes"
   ]
  },
  {
   "cell_type": "code",
   "execution_count": 4,
   "metadata": {
    "ExecuteTime": {
     "end_time": "2024-08-03T06:34:42.999439Z",
     "start_time": "2024-08-03T06:34:42.976395Z"
    }
   },
   "outputs": [
    {
     "name": "stdout",
     "output_type": "stream",
     "text": [
      "<class 'pandas.core.frame.DataFrame'>\n",
      "RangeIndex: 14640 entries, 0 to 14639\n",
      "Data columns (total 15 columns):\n",
      " #   Column                        Non-Null Count  Dtype  \n",
      "---  ------                        --------------  -----  \n",
      " 0   tweet_id                      14640 non-null  int64  \n",
      " 1   airline_sentiment             14640 non-null  object \n",
      " 2   airline_sentiment_confidence  14640 non-null  float64\n",
      " 3   negativereason                9178 non-null   object \n",
      " 4   negativereason_confidence     10522 non-null  float64\n",
      " 5   airline                       14640 non-null  object \n",
      " 6   airline_sentiment_gold        40 non-null     object \n",
      " 7   name                          14640 non-null  object \n",
      " 8   negativereason_gold           32 non-null     object \n",
      " 9   retweet_count                 14640 non-null  int64  \n",
      " 10  text                          14640 non-null  object \n",
      " 11  tweet_coord                   1019 non-null   object \n",
      " 12  tweet_created                 14640 non-null  object \n",
      " 13  tweet_location                9907 non-null   object \n",
      " 14  user_timezone                 9820 non-null   object \n",
      "dtypes: float64(2), int64(2), object(11)\n",
      "memory usage: 1.7+ MB\n"
     ]
    }
   ],
   "source": [
    "Data.columns #Affichage colonnes\n",
    "Data.info() #Affichage colonnes + nombres de données + types de données "
   ]
  },
  {
   "cell_type": "code",
   "execution_count": 5,
   "metadata": {
    "ExecuteTime": {
     "end_time": "2024-08-03T06:34:43.613261Z",
     "start_time": "2024-08-03T06:34:43.606196Z"
    }
   },
   "outputs": [
    {
     "data": {
      "text/plain": [
       "airline\n",
       "United            3822\n",
       "US Airways        2913\n",
       "American          2759\n",
       "Southwest         2420\n",
       "Delta             2222\n",
       "Virgin America     504\n",
       "Name: count, dtype: int64"
      ]
     },
     "execution_count": 5,
     "metadata": {},
     "output_type": "execute_result"
    }
   ],
   "source": [
    "Data['airline'].value_counts()"
   ]
  },
  {
   "cell_type": "code",
   "execution_count": 6,
   "metadata": {
    "ExecuteTime": {
     "end_time": "2024-08-03T06:34:44.152323Z",
     "start_time": "2024-08-03T06:34:44.145884Z"
    }
   },
   "outputs": [
    {
     "data": {
      "text/plain": [
       "0                      @VirginAmerica What @dhepburn said.\n",
       "1        @VirginAmerica plus you've added commercials t...\n",
       "2        @VirginAmerica I didn't today... Must mean I n...\n",
       "3        @VirginAmerica it's really aggressive to blast...\n",
       "4        @VirginAmerica and it's a really big bad thing...\n",
       "                               ...                        \n",
       "14635    @AmericanAir thank you we got on a different f...\n",
       "14636    @AmericanAir leaving over 20 minutes Late Flig...\n",
       "14637    @AmericanAir Please bring American Airlines to...\n",
       "14638    @AmericanAir you have my money, you change my ...\n",
       "14639    @AmericanAir we have 8 ppl so we need 2 know h...\n",
       "Name: text, Length: 14640, dtype: object"
      ]
     },
     "execution_count": 6,
     "metadata": {},
     "output_type": "execute_result"
    }
   ],
   "source": [
    "Tweet = Data.text\n",
    "Tweet #Affiche Serie de Tweet"
   ]
  },
  {
   "cell_type": "code",
   "execution_count": 7,
   "metadata": {
    "ExecuteTime": {
     "end_time": "2024-08-03T06:34:44.584911Z",
     "start_time": "2024-08-03T06:34:44.581435Z"
    }
   },
   "outputs": [],
   "source": [
    "#for i in Tweet:\n",
    "    #print(i) #test : affichage tweet"
   ]
  },
  {
   "cell_type": "code",
   "execution_count": 11,
   "metadata": {
    "ExecuteTime": {
     "end_time": "2024-08-03T06:34:58.455123Z",
     "start_time": "2024-08-03T06:34:58.447267Z"
    }
   },
   "outputs": [],
   "source": [
    "tweets = [i.lower() for i in Tweet]\n",
    "#tweets"
   ]
  },
  {
   "cell_type": "markdown",
   "metadata": {},
   "source": [
    "# Nettoyage données"
   ]
  },
  {
   "cell_type": "code",
   "execution_count": 12,
   "metadata": {
    "ExecuteTime": {
     "end_time": "2024-08-03T06:34:58.942294Z",
     "start_time": "2024-08-03T06:34:58.937559Z"
    }
   },
   "outputs": [],
   "source": [
    "str_tweets = ' '.join(tweets) #La méthode de chaîne join () renvoie une chaîne en joignant tous les éléments d'un itérable, séparés par un séparateur de chaîne.\n",
    "#str_tweets"
   ]
  },
  {
   "cell_type": "code",
   "execution_count": 13,
   "metadata": {
    "ExecuteTime": {
     "end_time": "2024-08-03T06:35:08.807322Z",
     "start_time": "2024-08-03T06:35:00.576757Z"
    }
   },
   "outputs": [],
   "source": [
    "import snowballstemmer #Réduire les différence grammaticales\n",
    "\n",
    "stemmer = snowballstemmer.stemmer('english')\n",
    "s = stemmer.stemWords(str_tweets.split())\n",
    "#print(s)"
   ]
  },
  {
   "cell_type": "code",
   "execution_count": 14,
   "metadata": {
    "ExecuteTime": {
     "end_time": "2024-08-03T06:35:12.257840Z",
     "start_time": "2024-08-03T06:35:12.241025Z"
    }
   },
   "outputs": [],
   "source": [
    "str_tweets = ' '.join(s)"
   ]
  },
  {
   "cell_type": "code",
   "execution_count": 15,
   "metadata": {
    "ExecuteTime": {
     "end_time": "2024-08-03T06:35:18.059034Z",
     "start_time": "2024-08-03T06:35:15.179208Z"
    }
   },
   "outputs": [
    {
     "data": {
      "text/plain": [
       "['@',\n",
       " 'virginamerica',\n",
       " 'what',\n",
       " '@',\n",
       " 'dhepburn',\n",
       " 'said',\n",
       " '.',\n",
       " '@',\n",
       " 'virginamerica',\n",
       " 'plus',\n",
       " 'you',\n",
       " \"'\",\n",
       " 'v',\n",
       " 'ad',\n",
       " 'commerci',\n",
       " 'to',\n",
       " 'the',\n",
       " 'experience',\n",
       " '...',\n",
       " 'tacky',\n",
       " '.',\n",
       " '@',\n",
       " 'virginamerica',\n",
       " 'i',\n",
       " 'did',\n",
       " \"n't\",\n",
       " 'today',\n",
       " '...',\n",
       " 'must',\n",
       " 'mean',\n",
       " 'i',\n",
       " 'need',\n",
       " 'to',\n",
       " 'take',\n",
       " 'anoth',\n",
       " 'trip',\n",
       " '!',\n",
       " '@',\n",
       " 'virginamerica',\n",
       " 'it',\n",
       " 'realli',\n",
       " 'aggress',\n",
       " 'to',\n",
       " 'blast',\n",
       " 'obnoxi',\n",
       " '``',\n",
       " 'entertainment',\n",
       " \"''\",\n",
       " 'in',\n",
       " 'your',\n",
       " 'guest',\n",
       " 'face',\n",
       " '&',\n",
       " 'amp',\n",
       " ';',\n",
       " 'they',\n",
       " 'have',\n",
       " 'littl',\n",
       " 'recours',\n",
       " '@',\n",
       " 'virginamerica',\n",
       " 'and',\n",
       " 'it',\n",
       " 'a',\n",
       " 'realli',\n",
       " 'big',\n",
       " 'bad',\n",
       " 'thing',\n",
       " 'about',\n",
       " 'it',\n",
       " '@',\n",
       " 'virginamerica',\n",
       " 'serious',\n",
       " 'would',\n",
       " 'pay',\n",
       " '$',\n",
       " '30',\n",
       " 'a',\n",
       " 'flight',\n",
       " 'for',\n",
       " 'seat',\n",
       " 'that',\n",
       " 'did',\n",
       " \"n't\",\n",
       " 'have',\n",
       " 'this',\n",
       " 'playing',\n",
       " '.',\n",
       " 'it',\n",
       " 'realli',\n",
       " 'the',\n",
       " 'onli',\n",
       " 'bad',\n",
       " 'thing',\n",
       " 'about',\n",
       " 'fli',\n",
       " 'va',\n",
       " '@',\n",
       " 'virginamerica',\n",
       " 'yes',\n",
       " ',',\n",
       " 'near',\n",
       " 'everi',\n",
       " 'time',\n",
       " 'i',\n",
       " 'fli',\n",
       " 'vx',\n",
       " 'this',\n",
       " '“',\n",
       " 'ear',\n",
       " 'worm',\n",
       " '”',\n",
       " 'won',\n",
       " '’',\n",
       " 't',\n",
       " 'go',\n",
       " 'away',\n",
       " ':',\n",
       " ')',\n",
       " '@',\n",
       " 'virginamerica',\n",
       " 'realli',\n",
       " 'miss',\n",
       " 'a',\n",
       " 'prime',\n",
       " 'opportun',\n",
       " 'for',\n",
       " 'men',\n",
       " 'without',\n",
       " 'hat',\n",
       " 'parody',\n",
       " ',',\n",
       " 'there',\n",
       " '.',\n",
       " 'https',\n",
       " ':',\n",
       " '//t.co/mwpg7grezp',\n",
       " '@',\n",
       " 'virginamerica',\n",
       " 'well',\n",
       " ',',\n",
       " 'i',\n",
       " \"didn't…but\",\n",
       " 'now',\n",
       " 'i',\n",
       " 'do',\n",
       " '!',\n",
       " ':',\n",
       " '-d',\n",
       " '@',\n",
       " 'virginamerica',\n",
       " 'it',\n",
       " 'was',\n",
       " 'amazing',\n",
       " ',',\n",
       " 'and',\n",
       " 'arriv',\n",
       " 'an',\n",
       " 'hour',\n",
       " 'early',\n",
       " '.',\n",
       " 'you',\n",
       " \"'\",\n",
       " 'r',\n",
       " 'too',\n",
       " 'good',\n",
       " 'to',\n",
       " 'me',\n",
       " '.',\n",
       " '@',\n",
       " 'virginamerica',\n",
       " 'did',\n",
       " 'you',\n",
       " 'know',\n",
       " 'that',\n",
       " 'suicid',\n",
       " 'is',\n",
       " 'the',\n",
       " 'second',\n",
       " 'lead',\n",
       " 'caus',\n",
       " 'of',\n",
       " 'death',\n",
       " 'among',\n",
       " 'teen',\n",
       " '10-24',\n",
       " '@',\n",
       " 'virginamerica',\n",
       " 'i',\n",
       " '&',\n",
       " 'lt',\n",
       " ';',\n",
       " '3',\n",
       " 'pretti',\n",
       " 'graphics',\n",
       " '.',\n",
       " 'so',\n",
       " 'much',\n",
       " 'better',\n",
       " 'than',\n",
       " 'minim',\n",
       " 'iconography',\n",
       " '.',\n",
       " ':',\n",
       " 'd',\n",
       " '@',\n",
       " 'virginamerica',\n",
       " 'this',\n",
       " 'is',\n",
       " 'such',\n",
       " 'a',\n",
       " 'great',\n",
       " 'deal',\n",
       " '!',\n",
       " 'alreadi',\n",
       " 'think',\n",
       " 'about',\n",
       " 'my',\n",
       " '2nd',\n",
       " 'trip',\n",
       " 'to',\n",
       " '@',\n",
       " 'australia',\n",
       " '&',\n",
       " 'amp',\n",
       " ';',\n",
       " 'i',\n",
       " 'have',\n",
       " \"n't\",\n",
       " 'even',\n",
       " 'gone',\n",
       " 'on',\n",
       " 'my',\n",
       " '1st',\n",
       " 'trip',\n",
       " 'yet',\n",
       " '!',\n",
       " ';',\n",
       " 'p',\n",
       " '@',\n",
       " 'virginamerica',\n",
       " '@',\n",
       " 'virginmedia',\n",
       " 'i',\n",
       " \"'m\",\n",
       " 'fli',\n",
       " 'your',\n",
       " '#',\n",
       " 'fabul',\n",
       " '#',\n",
       " 'seduct',\n",
       " 'sky',\n",
       " 'again',\n",
       " '!',\n",
       " 'u',\n",
       " 'take',\n",
       " 'all',\n",
       " 'the',\n",
       " '#',\n",
       " 'stress',\n",
       " 'away',\n",
       " 'from',\n",
       " 'travel',\n",
       " 'http',\n",
       " ':',\n",
       " '//t.co/ahlxhhkiyn',\n",
       " '@',\n",
       " 'virginamerica',\n",
       " 'thanks',\n",
       " '!',\n",
       " '@',\n",
       " 'virginamerica',\n",
       " 'sfo-pdx',\n",
       " 'schedul',\n",
       " 'is',\n",
       " 'still',\n",
       " 'mia',\n",
       " '.',\n",
       " '@',\n",
       " 'virginamerica',\n",
       " 'so',\n",
       " 'excit',\n",
       " 'for',\n",
       " 'my',\n",
       " 'first',\n",
       " 'cross',\n",
       " 'countri',\n",
       " 'flight',\n",
       " 'lax',\n",
       " 'to',\n",
       " 'mco',\n",
       " 'i',\n",
       " \"'\",\n",
       " 'v',\n",
       " 'heard',\n",
       " 'noth',\n",
       " 'but',\n",
       " 'great',\n",
       " 'thing',\n",
       " 'about',\n",
       " 'virgin',\n",
       " 'america',\n",
       " '.',\n",
       " '#',\n",
       " '29daystogo',\n",
       " '@',\n",
       " 'virginamerica',\n",
       " 'i',\n",
       " 'flew',\n",
       " 'from',\n",
       " 'nyc',\n",
       " 'to',\n",
       " 'sfo',\n",
       " 'last',\n",
       " 'week',\n",
       " 'and',\n",
       " 'could',\n",
       " \"n't\",\n",
       " 'fulli',\n",
       " 'sit',\n",
       " 'in',\n",
       " 'my',\n",
       " 'seat',\n",
       " 'due',\n",
       " 'to',\n",
       " 'two',\n",
       " 'larg',\n",
       " 'gentleman',\n",
       " 'on',\n",
       " 'either',\n",
       " 'side',\n",
       " 'of',\n",
       " 'me',\n",
       " '.',\n",
       " 'help',\n",
       " '!',\n",
       " 'i',\n",
       " '❤️',\n",
       " 'fli',\n",
       " '@',\n",
       " 'virginamerica',\n",
       " '.',\n",
       " '☺️👍',\n",
       " '@',\n",
       " 'virginamerica',\n",
       " 'you',\n",
       " 'know',\n",
       " 'what',\n",
       " 'would',\n",
       " 'be',\n",
       " 'amaz',\n",
       " 'awesome',\n",
       " '?',\n",
       " 'bos-fll',\n",
       " 'please',\n",
       " '!',\n",
       " '!',\n",
       " '!',\n",
       " '!',\n",
       " '!',\n",
       " '!',\n",
       " '!',\n",
       " 'i',\n",
       " 'want',\n",
       " 'to',\n",
       " 'fli',\n",
       " 'with',\n",
       " 'onli',\n",
       " 'you',\n",
       " '.',\n",
       " '@',\n",
       " 'virginamerica',\n",
       " 'whi',\n",
       " 'are',\n",
       " 'your',\n",
       " 'first',\n",
       " 'fare',\n",
       " 'in',\n",
       " 'may',\n",
       " 'over',\n",
       " 'three',\n",
       " 'time',\n",
       " 'more',\n",
       " 'than',\n",
       " 'other',\n",
       " 'carrier',\n",
       " 'when',\n",
       " 'all',\n",
       " 'seat',\n",
       " 'are',\n",
       " 'avail',\n",
       " 'to',\n",
       " 'select',\n",
       " '?',\n",
       " '?',\n",
       " '?',\n",
       " '@',\n",
       " 'virginamerica',\n",
       " 'i',\n",
       " 'love',\n",
       " 'this',\n",
       " 'graphic',\n",
       " '.',\n",
       " 'http',\n",
       " ':',\n",
       " '//t.co/ut5grrwaaa',\n",
       " '@',\n",
       " 'virginamerica',\n",
       " 'i',\n",
       " 'love',\n",
       " 'the',\n",
       " 'hipster',\n",
       " 'innovation',\n",
       " '.',\n",
       " 'you',\n",
       " 'are',\n",
       " 'a',\n",
       " 'feel',\n",
       " 'good',\n",
       " 'brand',\n",
       " '.',\n",
       " '@',\n",
       " 'virginamerica',\n",
       " 'will',\n",
       " 'you',\n",
       " 'be',\n",
       " 'make',\n",
       " 'bos',\n",
       " '&',\n",
       " 'gt',\n",
       " ';',\n",
       " 'la',\n",
       " 'non',\n",
       " 'stop',\n",
       " 'perman',\n",
       " 'anytim',\n",
       " 'soon',\n",
       " '?',\n",
       " '@',\n",
       " 'virginamerica',\n",
       " 'you',\n",
       " 'guy',\n",
       " 'mess',\n",
       " 'up',\n",
       " 'my',\n",
       " 'seating',\n",
       " '..',\n",
       " 'i',\n",
       " 'reserv',\n",
       " 'seat',\n",
       " 'with',\n",
       " 'my',\n",
       " 'friend',\n",
       " 'and',\n",
       " 'you',\n",
       " 'guy',\n",
       " 'gave',\n",
       " 'my',\n",
       " 'seat',\n",
       " 'away',\n",
       " '...',\n",
       " '😡',\n",
       " 'i',\n",
       " 'want',\n",
       " 'free',\n",
       " 'internet',\n",
       " '@',\n",
       " 'virginamerica',\n",
       " 'status',\n",
       " 'match',\n",
       " 'program',\n",
       " '.',\n",
       " 'i',\n",
       " 'appli',\n",
       " 'and',\n",
       " 'it',\n",
       " 'been',\n",
       " 'three',\n",
       " 'weeks',\n",
       " '.',\n",
       " 'call',\n",
       " 'and',\n",
       " 'email',\n",
       " 'with',\n",
       " 'no',\n",
       " 'response',\n",
       " '.',\n",
       " '@',\n",
       " 'virginamerica',\n",
       " 'what',\n",
       " 'happen',\n",
       " '2',\n",
       " 'ur',\n",
       " 'vegan',\n",
       " 'food',\n",
       " 'options',\n",
       " '?',\n",
       " '!',\n",
       " 'at',\n",
       " 'least',\n",
       " 'say',\n",
       " 'on',\n",
       " 'ur',\n",
       " 'site',\n",
       " 'so',\n",
       " 'i',\n",
       " 'know',\n",
       " 'i',\n",
       " 'wo',\n",
       " \"n't\",\n",
       " 'be',\n",
       " 'abl',\n",
       " '2',\n",
       " 'eat',\n",
       " 'anyth',\n",
       " 'for',\n",
       " 'next',\n",
       " '6',\n",
       " 'hrs',\n",
       " '#',\n",
       " 'fail',\n",
       " '@',\n",
       " 'virginamerica',\n",
       " 'do',\n",
       " 'you',\n",
       " 'miss',\n",
       " 'me',\n",
       " '?',\n",
       " 'do',\n",
       " \"n't\",\n",
       " 'worri',\n",
       " 'we',\n",
       " \"'ll\",\n",
       " 'be',\n",
       " 'togeth',\n",
       " 'veri',\n",
       " 'soon',\n",
       " '.',\n",
       " '@',\n",
       " 'virginamerica',\n",
       " 'amaz',\n",
       " 'to',\n",
       " 'me',\n",
       " 'that',\n",
       " 'we',\n",
       " 'ca',\n",
       " \"n't\",\n",
       " 'get',\n",
       " 'ani',\n",
       " 'cold',\n",
       " 'air',\n",
       " 'from',\n",
       " 'the',\n",
       " 'vents',\n",
       " '.',\n",
       " '#',\n",
       " 'vx358',\n",
       " '#',\n",
       " 'noair',\n",
       " '#',\n",
       " 'worstflightev',\n",
       " '#',\n",
       " 'roast',\n",
       " '#',\n",
       " 'sfotobo',\n",
       " '@',\n",
       " 'virginamerica',\n",
       " 'lax',\n",
       " 'to',\n",
       " 'ewr',\n",
       " '-',\n",
       " 'middl',\n",
       " 'seat',\n",
       " 'on',\n",
       " 'a',\n",
       " 'red',\n",
       " 'eye',\n",
       " '.',\n",
       " 'such',\n",
       " 'a',\n",
       " 'noob',\n",
       " 'maneuver',\n",
       " '.',\n",
       " '#',\n",
       " 'sendambien',\n",
       " '#',\n",
       " 'andchexmix',\n",
       " '@',\n",
       " 'virginamerica',\n",
       " 'hi',\n",
       " '!',\n",
       " 'i',\n",
       " 'just',\n",
       " 'bked',\n",
       " 'a',\n",
       " 'cool',\n",
       " 'birthday',\n",
       " 'trip',\n",
       " 'with',\n",
       " 'you',\n",
       " ',',\n",
       " 'but',\n",
       " 'i',\n",
       " 'ca',\n",
       " \"n't\",\n",
       " 'add',\n",
       " 'my',\n",
       " 'elev',\n",
       " 'no',\n",
       " '.',\n",
       " 'caus',\n",
       " 'i',\n",
       " 'enter',\n",
       " 'my',\n",
       " 'middl',\n",
       " 'name',\n",
       " 'dure',\n",
       " 'flight',\n",
       " 'book',\n",
       " 'problem',\n",
       " '😢',\n",
       " '@',\n",
       " 'virginamerica',\n",
       " 'are',\n",
       " 'the',\n",
       " 'hour',\n",
       " 'of',\n",
       " 'oper',\n",
       " 'for',\n",
       " 'the',\n",
       " 'club',\n",
       " 'at',\n",
       " 'sfo',\n",
       " 'that',\n",
       " 'are',\n",
       " 'post',\n",
       " 'onlin',\n",
       " 'current',\n",
       " '?',\n",
       " '@',\n",
       " 'virginamerica',\n",
       " 'help',\n",
       " ',',\n",
       " 'left',\n",
       " 'expens',\n",
       " 'headphon',\n",
       " 'on',\n",
       " 'flight',\n",
       " '89',\n",
       " 'iad',\n",
       " 'to',\n",
       " 'lax',\n",
       " 'today',\n",
       " '.',\n",
       " 'seat',\n",
       " '2a',\n",
       " '.',\n",
       " 'no',\n",
       " 'one',\n",
       " 'answer',\n",
       " 'l',\n",
       " '&',\n",
       " 'amp',\n",
       " ';',\n",
       " 'f',\n",
       " 'number',\n",
       " 'at',\n",
       " 'lax',\n",
       " '!',\n",
       " '@',\n",
       " 'virginamerica',\n",
       " 'await',\n",
       " 'my',\n",
       " 'return',\n",
       " 'phone',\n",
       " 'call',\n",
       " ',',\n",
       " 'just',\n",
       " 'would',\n",
       " 'prefer',\n",
       " 'to',\n",
       " 'use',\n",
       " 'your',\n",
       " 'onlin',\n",
       " 'self-servic',\n",
       " 'option',\n",
       " ':',\n",
       " '(',\n",
       " '@',\n",
       " 'virginamerica',\n",
       " 'this',\n",
       " 'is',\n",
       " 'great',\n",
       " 'news',\n",
       " '!',\n",
       " 'america',\n",
       " 'could',\n",
       " 'start',\n",
       " 'flight',\n",
       " 'to',\n",
       " 'hawaii',\n",
       " 'by',\n",
       " 'end',\n",
       " 'of',\n",
       " 'year',\n",
       " 'http',\n",
       " ':',\n",
       " '//t.co/r8p2zy3fe4',\n",
       " 'via',\n",
       " '@',\n",
       " 'pacificbiznew',\n",
       " 'nice',\n",
       " 'rt',\n",
       " '@',\n",
       " 'virginamerica',\n",
       " ':',\n",
       " 'vibe',\n",
       " 'with',\n",
       " 'the',\n",
       " 'moodlight',\n",
       " 'from',\n",
       " 'takeoff',\n",
       " 'to',\n",
       " 'touchdown',\n",
       " '.',\n",
       " '#',\n",
       " 'moodlitmonday',\n",
       " '#',\n",
       " 'sciencebehindtheexperi',\n",
       " 'http',\n",
       " ':',\n",
       " '//t.co/y7o0unxtqp',\n",
       " '@',\n",
       " 'virginamerica',\n",
       " 'moodlight',\n",
       " 'is',\n",
       " 'the',\n",
       " 'onli',\n",
       " 'way',\n",
       " 'to',\n",
       " 'fly',\n",
       " '!',\n",
       " 'best',\n",
       " 'experi',\n",
       " 'ever',\n",
       " '!',\n",
       " 'cool',\n",
       " 'and',\n",
       " 'calming',\n",
       " '.',\n",
       " '💜✈',\n",
       " '#',\n",
       " 'moodlitmonday',\n",
       " '@',\n",
       " 'virginamerica',\n",
       " '@',\n",
       " 'freddieaward',\n",
       " 'done',\n",
       " 'and',\n",
       " 'done',\n",
       " '!',\n",
       " 'best',\n",
       " 'airlin',\n",
       " 'around',\n",
       " ',',\n",
       " 'hand',\n",
       " 'down',\n",
       " '!',\n",
       " '@',\n",
       " 'virginamerica',\n",
       " 'when',\n",
       " 'can',\n",
       " 'i',\n",
       " 'book',\n",
       " 'my',\n",
       " 'flight',\n",
       " 'to',\n",
       " 'hawaii',\n",
       " '?',\n",
       " '?',\n",
       " '@',\n",
       " 'virginamerica',\n",
       " 'your',\n",
       " 'chat',\n",
       " 'support',\n",
       " 'is',\n",
       " 'not',\n",
       " 'work',\n",
       " 'on',\n",
       " 'your',\n",
       " 'site',\n",
       " ':',\n",
       " 'http',\n",
       " ':',\n",
       " '//t.co/vhp2gtdwpk',\n",
       " '@',\n",
       " 'virginamerica',\n",
       " 'view',\n",
       " 'of',\n",
       " 'downtown',\n",
       " 'los',\n",
       " 'angeles',\n",
       " ',',\n",
       " 'the',\n",
       " 'hollywood',\n",
       " 'sign',\n",
       " ',',\n",
       " 'and',\n",
       " 'beyond',\n",
       " 'that',\n",
       " 'rain',\n",
       " 'in',\n",
       " 'the',\n",
       " 'mountains',\n",
       " '!',\n",
       " 'http',\n",
       " ':',\n",
       " '//t.co/dw5nf0ibtr',\n",
       " '@',\n",
       " 'virginamerica',\n",
       " 'hey',\n",
       " ',',\n",
       " 'first',\n",
       " 'time',\n",
       " 'flyer',\n",
       " 'next',\n",
       " 'week',\n",
       " '-',\n",
       " 'excited',\n",
       " '!',\n",
       " 'but',\n",
       " 'i',\n",
       " \"'m\",\n",
       " 'have',\n",
       " 'a',\n",
       " 'hard',\n",
       " 'time',\n",
       " 'get',\n",
       " 'my',\n",
       " 'flight',\n",
       " 'ad',\n",
       " 'to',\n",
       " 'my',\n",
       " 'elev',\n",
       " 'account',\n",
       " '.',\n",
       " 'help',\n",
       " '?',\n",
       " '@',\n",
       " 'virginamerica',\n",
       " 'plz',\n",
       " 'help',\n",
       " 'me',\n",
       " 'win',\n",
       " 'my',\n",
       " 'bid',\n",
       " 'upgrad',\n",
       " 'for',\n",
       " 'my',\n",
       " 'flight',\n",
       " '2/27',\n",
       " 'lax',\n",
       " '--',\n",
       " '-',\n",
       " '&',\n",
       " 'gt',\n",
       " ';',\n",
       " 'sea',\n",
       " '!',\n",
       " '!',\n",
       " '!',\n",
       " '🍷👍💺✈️',\n",
       " '@',\n",
       " 'virginamerica',\n",
       " 'i',\n",
       " 'have',\n",
       " 'an',\n",
       " 'unus',\n",
       " 'ticket',\n",
       " 'but',\n",
       " 'move',\n",
       " 'to',\n",
       " 'a',\n",
       " 'new',\n",
       " 'citi',\n",
       " 'where',\n",
       " 'you',\n",
       " 'do',\n",
       " \"n't\",\n",
       " 'fly',\n",
       " '.',\n",
       " 'how',\n",
       " 'can',\n",
       " 'i',\n",
       " 'fli',\n",
       " 'with',\n",
       " 'you',\n",
       " 'befor',\n",
       " 'it',\n",
       " 'expires',\n",
       " '?',\n",
       " '#',\n",
       " 'travelhelp',\n",
       " '@',\n",
       " 'virginamerica',\n",
       " 'are',\n",
       " 'flight',\n",
       " 'leav',\n",
       " 'dalla',\n",
       " 'for',\n",
       " 'seattl',\n",
       " 'on',\n",
       " 'time',\n",
       " 'feb',\n",
       " '24',\n",
       " '?',\n",
       " '@',\n",
       " 'virginamerica',\n",
       " 'i',\n",
       " \"'m\",\n",
       " '#',\n",
       " 'elevategold',\n",
       " 'for',\n",
       " 'a',\n",
       " 'good',\n",
       " 'reason',\n",
       " ':',\n",
       " 'you',\n",
       " 'rock',\n",
       " '!',\n",
       " '!',\n",
       " '@',\n",
       " 'virginamerica',\n",
       " 'dream',\n",
       " 'http',\n",
       " ':',\n",
       " '//t.co/oa2drfaoq2',\n",
       " 'http',\n",
       " ':',\n",
       " '//t.co/lwwdac2khx',\n",
       " '@',\n",
       " 'virginamerica',\n",
       " 'wow',\n",
       " 'this',\n",
       " 'just',\n",
       " 'blew',\n",
       " 'my',\n",
       " 'mind',\n",
       " '@',\n",
       " 'virginamerica',\n",
       " '@',\n",
       " 'ladygaga',\n",
       " '@',\n",
       " 'carrieunderwood',\n",
       " 'after',\n",
       " 'last',\n",
       " 'night',\n",
       " '#',\n",
       " 'tribut',\n",
       " '#',\n",
       " 'soundofmus',\n",
       " '#',\n",
       " 'oscars2015',\n",
       " '@',\n",
       " 'ladygaga',\n",
       " '!',\n",
       " 'i',\n",
       " 'think',\n",
       " '@',\n",
       " 'carrieunderwood',\n",
       " 'agre',\n",
       " '@',\n",
       " 'virginamerica',\n",
       " '@',\n",
       " 'ladygaga',\n",
       " '@',\n",
       " 'carrieunderwood',\n",
       " 'all',\n",
       " 'were',\n",
       " 'entertain',\n",
       " '@',\n",
       " 'virginamerica',\n",
       " 'is',\n",
       " 'flight',\n",
       " '769',\n",
       " 'on',\n",
       " 'it',\n",
       " 'way',\n",
       " '?',\n",
       " 'was',\n",
       " 'suppos',\n",
       " 'to',\n",
       " 'take',\n",
       " 'off',\n",
       " '30',\n",
       " 'minut',\n",
       " 'ago',\n",
       " '.',\n",
       " 'websit',\n",
       " 'still',\n",
       " ...]"
      ]
     },
     "execution_count": 15,
     "metadata": {},
     "output_type": "execute_result"
    }
   ],
   "source": [
    "import nltk #Traitement de langage\n",
    "nltk.word_tokenize(str_tweets) #créer une liste dont les virgules séparents les mots et ponctuations"
   ]
  },
  {
   "cell_type": "code",
   "execution_count": 16,
   "metadata": {
    "ExecuteTime": {
     "end_time": "2024-08-03T06:35:20.048265Z",
     "start_time": "2024-08-03T06:35:19.990177Z"
    }
   },
   "outputs": [],
   "source": [
    "tok_tweet = nltk.RegexpTokenizer(r'\\w+').tokenize(str_tweets)\n",
    "#tok_tweet"
   ]
  },
  {
   "cell_type": "markdown",
   "metadata": {},
   "source": [
    "On a enlevé les ponctuations et les caractéres spéciaux dans notre liste."
   ]
  },
  {
   "cell_type": "code",
   "execution_count": 17,
   "metadata": {
    "ExecuteTime": {
     "end_time": "2024-08-03T06:35:21.906583Z",
     "start_time": "2024-08-03T06:35:21.429010Z"
    }
   },
   "outputs": [],
   "source": [
    "from nltk.corpus import stopwords #Enlever les mots vides\n",
    "stopwords_list = stopwords.words('english')\n",
    "clean_words = [word for word in tok_tweet if word not in stopwords_list] #Suppression des mots vides\n",
    "#clean_words"
   ]
  },
  {
   "cell_type": "markdown",
   "metadata": {},
   "source": [
    "On a enlevé les mots vides dans notre liste (What, to, the...) car ils n'auront pas d'impact dans notre résultat de prédiction et on aura moins de données en entrée."
   ]
  },
  {
   "cell_type": "code",
   "execution_count": 18,
   "metadata": {
    "ExecuteTime": {
     "end_time": "2024-08-03T06:35:22.396982Z",
     "start_time": "2024-08-03T06:35:22.393575Z"
    }
   },
   "outputs": [],
   "source": [
    "Compagnie = [ \"united\", \"usairway\", \"americanair\", \"southwestair\", \"sdelta\", \"virginamerica\"] #Affichage des compagnies"
   ]
  },
  {
   "cell_type": "markdown",
   "metadata": {},
   "source": [
    "Le nom des compagnies aériennes peuvent également être supprimées en entrée."
   ]
  },
  {
   "cell_type": "code",
   "execution_count": 19,
   "metadata": {
    "ExecuteTime": {
     "end_time": "2024-08-03T06:35:24.622768Z",
     "start_time": "2024-08-03T06:35:24.600740Z"
    },
    "scrolled": true
   },
   "outputs": [],
   "source": [
    "new_clean_words = [i for i in clean_words if i not in Compagnie] #Affichages mots sans les compagnies\n",
    "#new_clean_words"
   ]
  },
  {
   "cell_type": "markdown",
   "metadata": {},
   "source": [
    "# Frequence de mots"
   ]
  },
  {
   "cell_type": "code",
   "execution_count": 20,
   "metadata": {
    "ExecuteTime": {
     "end_time": "2024-08-03T06:35:26.189209Z",
     "start_time": "2024-08-03T06:35:26.168884Z"
    }
   },
   "outputs": [],
   "source": [
    "from collections import Counter #compte la fréquence des mots\n",
    "counts = Counter(new_clean_words)\n",
    "#counts"
   ]
  },
  {
   "cell_type": "code",
   "execution_count": 21,
   "metadata": {
    "ExecuteTime": {
     "end_time": "2024-08-03T06:35:28.672268Z",
     "start_time": "2024-08-03T06:35:27.316878Z"
    }
   },
   "outputs": [
    {
     "data": {
      "text/plain": [
       "Text(0.5, 1.0, 'Most Common Words used by Edgar Allen Poe')"
      ]
     },
     "execution_count": 21,
     "metadata": {},
     "output_type": "execute_result"
    },
    {
     "data": {
      "image/png": "[encoded data removed]",
      "text/plain": [
       "<Figure size 2000x1200 with 1 Axes>"
      ]
     },
     "metadata": {},
     "output_type": "display_data"
    }
   ],
   "source": [
    "import seaborn as sns #affichage graphique\n",
    "import matplotlib.pyplot as plt\n",
    "eap_common_words = [word[0] for word in counts.most_common(25)]\n",
    "eap_common_counts = [word[1] for word in counts.most_common(25)]\n",
    "\n",
    "plt.style.use('dark_background')\n",
    "plt.figure(figsize=(20,12))\n",
    "\n",
    "sns.barplot(x=eap_common_words, y=eap_common_counts)\n",
    "plt.title('Most Common Words used by Edgar Allen Poe')"
   ]
  },
  {
   "cell_type": "code",
   "execution_count": 22,
   "metadata": {
    "ExecuteTime": {
     "end_time": "2024-08-03T06:35:29.324412Z",
     "start_time": "2024-08-03T06:35:29.313925Z"
    }
   },
   "outputs": [],
   "source": [
    "str_new_clean_words = \".\".join(new_clean_words)\n",
    "#str_new_clean_words"
   ]
  },
  {
   "cell_type": "code",
   "execution_count": 23,
   "metadata": {
    "ExecuteTime": {
     "end_time": "2024-08-03T06:35:31.579602Z",
     "start_time": "2024-08-03T06:35:30.581309Z"
    },
    "scrolled": true
   },
   "outputs": [
    {
     "data": {
      "text/plain": [
       "<wordcloud.wordcloud.WordCloud at 0x18ee96467d0>"
      ]
     },
     "execution_count": 23,
     "metadata": {},
     "output_type": "execute_result"
    },
    {
     "data": {
      "image/png": "[encoded data removed]",
      "text/plain": [
       "<Figure size 1000x1000 with 1 Axes>"
      ]
     },
     "metadata": {},
     "output_type": "display_data"
    }
   ],
   "source": [
    "from wordcloud import WordCloud,STOPWORDS\n",
    "wordcloud = WordCloud(width=500, height=300,\n",
    "                      random_state=21, max_font_size=110, max_words =20).generate(str_new_clean_words)\n",
    "plt.figure(figsize=(10, 10))\n",
    "plt.imshow(wordcloud, interpolation=\"bilinear\")\n",
    "plt.axis('off');\n",
    "WordCloud()"
   ]
  },
  {
   "cell_type": "markdown",
   "metadata": {
    "ExecuteTime": {
     "end_time": "2021-05-18T14:20:09.245607Z",
     "start_time": "2021-05-18T14:20:09.231609Z"
    }
   },
   "source": [
    "Remarque : Pour le nettoyge des données certains mots sans importance peuvent être supprimé comme AMP,co,us..."
   ]
  },
  {
   "cell_type": "markdown",
   "metadata": {},
   "source": [
    "# Analyse de notre Target "
   ]
  },
  {
   "cell_type": "code",
   "execution_count": 24,
   "metadata": {
    "ExecuteTime": {
     "end_time": "2024-08-03T06:35:32.895582Z",
     "start_time": "2024-08-03T06:35:32.753685Z"
    }
   },
   "outputs": [
    {
     "data": {
      "text/plain": [
       "Text(0.5, 1.0, 'Count of Moods')"
      ]
     },
     "execution_count": 24,
     "metadata": {},
     "output_type": "execute_result"
    },
    {
     "data": {
      "image/png": "[encoded data removed]",
      "text/plain": [
       "<Figure size 640x480 with 1 Axes>"
      ]
     },
     "metadata": {},
     "output_type": "display_data"
    }
   ],
   "source": [
    "import matplotlib.pyplot as plt #Affichage graphique\n",
    "Mood_count=Data['airline_sentiment'].value_counts()\n",
    "Index = [1,2,3]\n",
    "plt.bar(Index,Mood_count)\n",
    "plt.xticks(Index,['negative','neutral','positive'],rotation=45)\n",
    "plt.ylabel('Mood Count')\n",
    "plt.xlabel('Mood')\n",
    "plt.title('Count of Moods')"
   ]
  },
  {
   "cell_type": "markdown",
   "metadata": {},
   "source": [
    "Nos données ne sont pas équilibrées on a tendance à avoir plus de tweets négatifs par rapport aux tweets neutres et positifs."
   ]
  },
  {
   "cell_type": "code",
   "execution_count": 25,
   "metadata": {
    "ExecuteTime": {
     "end_time": "2024-08-03T06:35:34.007725Z",
     "start_time": "2024-08-03T06:35:34.001137Z"
    }
   },
   "outputs": [
    {
     "data": {
      "text/plain": [
       "airline\n",
       "United            3822\n",
       "US Airways        2913\n",
       "American          2759\n",
       "Southwest         2420\n",
       "Delta             2222\n",
       "Virgin America     504\n",
       "Name: count, dtype: int64"
      ]
     },
     "execution_count": 25,
     "metadata": {},
     "output_type": "execute_result"
    }
   ],
   "source": [
    "Data['airline'].value_counts()"
   ]
  },
  {
   "cell_type": "markdown",
   "metadata": {},
   "source": [
    "On peut pousser l'analyse plus loin et regarder la fréquence des tweets postifs, négatifs et neutres pour chaque compagnie."
   ]
  },
  {
   "cell_type": "code",
   "execution_count": 26,
   "metadata": {
    "ExecuteTime": {
     "end_time": "2024-08-03T06:35:36.040995Z",
     "start_time": "2024-08-03T06:35:35.524993Z"
    }
   },
   "outputs": [
    {
     "data": {
      "image/png": "[encoded data removed]",
      "text/plain": [
       "<Figure size 1200x1200 with 6 Axes>"
      ]
     },
     "metadata": {},
     "output_type": "display_data"
    }
   ],
   "source": [
    "def plot_sub_sentiment(Airline):\n",
    "    df=Data[Data['airline']==Airline]\n",
    "    count=df['airline_sentiment'].value_counts()\n",
    "    Index = [1,2,3]\n",
    "    plt.bar(Index,count)\n",
    "    plt.xticks(Index,['negative','neutral','positive'])\n",
    "    plt.ylabel('Mood Count')\n",
    "    plt.xlabel('Mood')\n",
    "    plt.title('Count of Moods of '+Airline)\n",
    "plt.figure(1,figsize=(12, 12))\n",
    "plt.subplot(231)\n",
    "plot_sub_sentiment('US Airways')\n",
    "plt.subplot(232)\n",
    "plot_sub_sentiment('United')\n",
    "plt.subplot(233)\n",
    "plot_sub_sentiment('American')\n",
    "plt.subplot(234)\n",
    "plot_sub_sentiment('Southwest')\n",
    "plt.subplot(235)\n",
    "plot_sub_sentiment('Delta')\n",
    "plt.subplot(236)\n",
    "plot_sub_sentiment('Virgin America')"
   ]
  },
  {
   "cell_type": "markdown",
   "metadata": {
    "ExecuteTime": {
     "end_time": "2021-05-18T14:37:38.442714Z",
     "start_time": "2021-05-18T14:37:38.435769Z"
    }
   },
   "source": [
    "Virgin America fait partie de la compagnie où la fréquence des tweets postifs, négatifs et neutres sont les plus équilibrés.\n",
    "\n",
    "US Airways fait partie de la compagnie où la fréquence des tweets postifs, négatifs et neutres sont les plus instables."
   ]
  },
  {
   "cell_type": "markdown",
   "metadata": {},
   "source": [
    "# Transformer mots en vecteur (Bag of word)"
   ]
  },
  {
   "cell_type": "markdown",
   "metadata": {},
   "source": [
    "On va utiliser les 200 mots les plus fréquents avec la librairie \"heap\""
   ]
  },
  {
   "cell_type": "code",
   "execution_count": 27,
   "metadata": {
    "ExecuteTime": {
     "end_time": "2024-08-03T06:35:37.582984Z",
     "start_time": "2024-08-03T06:35:37.575984Z"
    }
   },
   "outputs": [
    {
     "data": {
      "text/plain": [
       "['flight',\n",
       " 'unit',\n",
       " 'jetblu',\n",
       " 'get',\n",
       " 'thank',\n",
       " 'co',\n",
       " 'http',\n",
       " 'cancel',\n",
       " 'help',\n",
       " 'hour',\n",
       " 'time',\n",
       " '2',\n",
       " 'custom',\n",
       " 'delay',\n",
       " 'call',\n",
       " 'servic',\n",
       " 'wait',\n",
       " 'plane',\n",
       " 'bag',\n",
       " 'amp',\n",
       " 'hold',\n",
       " 'need',\n",
       " 'us',\n",
       " 'fli',\n",
       " 'go',\n",
       " 'one',\n",
       " 'still',\n",
       " 'whi',\n",
       " 'tri',\n",
       " 'would',\n",
       " 'gate',\n",
       " 'back',\n",
       " 'book',\n",
       " 'v',\n",
       " 'pleas',\n",
       " 'day',\n",
       " 'make',\n",
       " 'got',\n",
       " 'check',\n",
       " 'seat',\n",
       " 'phone',\n",
       " 'like',\n",
       " 'ani',\n",
       " 'today',\n",
       " 'late',\n",
       " '3',\n",
       " 'chang',\n",
       " 'airlin',\n",
       " 'miss',\n",
       " 'agent',\n",
       " 'know',\n",
       " 'ticket',\n",
       " 'take',\n",
       " 'flightl',\n",
       " 'work',\n",
       " 'way',\n",
       " 'thanks',\n",
       " 'travel',\n",
       " 'airport',\n",
       " 'r',\n",
       " '4',\n",
       " 'guy',\n",
       " '1',\n",
       " 'u',\n",
       " 'great',\n",
       " 'want',\n",
       " 'onli',\n",
       " 'say',\n",
       " 'becaus',\n",
       " 'never',\n",
       " 'even',\n",
       " 'weather',\n",
       " 'board',\n",
       " 'tomorrow',\n",
       " 'last',\n",
       " 'good',\n",
       " '5',\n",
       " 'home',\n",
       " 'love',\n",
       " 'look',\n",
       " 'see',\n",
       " 'use',\n",
       " 'minut',\n",
       " 'min',\n",
       " 'dm',\n",
       " 'w',\n",
       " 'email',\n",
       " 'let',\n",
       " 'new',\n",
       " 'service',\n",
       " 'sit',\n",
       " 'told',\n",
       " 'anoth',\n",
       " 'first',\n",
       " 'veri',\n",
       " 'problem',\n",
       " 'peopl',\n",
       " 'number',\n",
       " 'could',\n",
       " 'connect',\n",
       " 'ever',\n",
       " 'crew',\n",
       " 'lost',\n",
       " 'due',\n",
       " 'yes',\n",
       " 'worst',\n",
       " 'realli',\n",
       " 'rebook',\n",
       " 'hope',\n",
       " 'next',\n",
       " 'trip',\n",
       " 'much',\n",
       " 'hrs',\n",
       " 'tell',\n",
       " 'two',\n",
       " 'someon',\n",
       " 'aa',\n",
       " 'right',\n",
       " 'give',\n",
       " 'made',\n",
       " 'jetblue',\n",
       " 'baggag',\n",
       " 'line',\n",
       " 'jfk',\n",
       " 'issu',\n",
       " 'passeng',\n",
       " 'luggag',\n",
       " 'bad',\n",
       " 'befor',\n",
       " 'best',\n",
       " 'keep',\n",
       " 'follow',\n",
       " '10',\n",
       " 'come',\n",
       " 'staff',\n",
       " 'leav',\n",
       " 'sent',\n",
       " 'reserv',\n",
       " 'pay',\n",
       " 'sure',\n",
       " 'better',\n",
       " 'long',\n",
       " '30',\n",
       " 'said',\n",
       " 'week',\n",
       " 'left',\n",
       " 'hours',\n",
       " 'doe',\n",
       " 'think',\n",
       " 'find',\n",
       " 'stuck',\n",
       " 'answer',\n",
       " 'sinc',\n",
       " 'refund',\n",
       " 'well',\n",
       " 'experi',\n",
       " '6',\n",
       " 'dfw',\n",
       " 'arriv',\n",
       " 'tonight',\n",
       " 'flightr',\n",
       " 'care',\n",
       " 'system',\n",
       " 'night',\n",
       " 'hotel',\n",
       " 'ask',\n",
       " 'yet',\n",
       " 'put',\n",
       " 'lax',\n",
       " 'alreadi',\n",
       " 'show',\n",
       " 'fleet',\n",
       " 'fleek',\n",
       " 'flightled',\n",
       " 'info',\n",
       " 'flt',\n",
       " 'air',\n",
       " 'land',\n",
       " 'rude',\n",
       " 'nice',\n",
       " 'updat',\n",
       " 'respons',\n",
       " 'offer',\n",
       " 'talk',\n",
       " 'attend',\n",
       " 'final',\n",
       " 'year',\n",
       " 'ago',\n",
       " 'fail',\n",
       " 'also',\n",
       " 'person',\n",
       " 'appreci',\n",
       " 'free',\n",
       " 'done',\n",
       " 'send',\n",
       " 'flights',\n",
       " 'credit',\n",
       " 'busi',\n",
       " 'class',\n",
       " 'sfo']"
      ]
     },
     "execution_count": 27,
     "metadata": {},
     "output_type": "execute_result"
    }
   ],
   "source": [
    "import heapq\n",
    "most_freq = heapq.nlargest(200, counts, key=counts.get)\n",
    "most_freq"
   ]
  },
  {
   "cell_type": "markdown",
   "metadata": {},
   "source": [
    "Notre most_freq contient les 200 mots les plus utilisés dans le corpus : si un des mots est présent dans la phrase 1 sera ajouté 0 sinon"
   ]
  },
  {
   "cell_type": "code",
   "execution_count": 28,
   "metadata": {
    "ExecuteTime": {
     "end_time": "2024-08-03T06:35:44.227821Z",
     "start_time": "2024-08-03T06:35:41.549550Z"
    }
   },
   "outputs": [],
   "source": [
    "sentence_vectors = []\n",
    "for sentence in tweets:\n",
    "    sentence_tokens = nltk.word_tokenize(sentence)\n",
    "    sent_vec = []\n",
    "    for token in most_freq:\n",
    "        if token in sentence_tokens:\n",
    "            sent_vec.append(1)\n",
    "        else:\n",
    "            sent_vec.append(0)\n",
    "    sentence_vectors.append(sent_vec)"
   ]
  },
  {
   "cell_type": "code",
   "execution_count": 29,
   "metadata": {
    "ExecuteTime": {
     "end_time": "2024-08-03T06:35:47.254022Z",
     "start_time": "2024-08-03T06:35:47.142139Z"
    }
   },
   "outputs": [],
   "source": [
    "sentence_vectors = np.asarray(sentence_vectors)"
   ]
  },
  {
   "cell_type": "code",
   "execution_count": 30,
   "metadata": {
    "ExecuteTime": {
     "end_time": "2024-08-03T06:35:47.714251Z",
     "start_time": "2024-08-03T06:35:47.709246Z"
    }
   },
   "outputs": [
    {
     "data": {
      "text/plain": [
       "array([[0, 0, 0, ..., 0, 0, 0],\n",
       "       [0, 0, 0, ..., 0, 0, 0],\n",
       "       [0, 0, 0, ..., 0, 0, 0],\n",
       "       ...,\n",
       "       [0, 0, 0, ..., 0, 0, 0],\n",
       "       [1, 0, 0, ..., 0, 0, 0],\n",
       "       [1, 0, 0, ..., 0, 0, 0]])"
      ]
     },
     "execution_count": 30,
     "metadata": {},
     "output_type": "execute_result"
    }
   ],
   "source": [
    "sentence_vectors"
   ]
  },
  {
   "cell_type": "markdown",
   "metadata": {},
   "source": [
    "Nous avons maintenant notre sac de mots composé de 0 et de 1"
   ]
  },
  {
   "cell_type": "code",
   "execution_count": 31,
   "metadata": {
    "ExecuteTime": {
     "end_time": "2024-08-03T06:35:54.281985Z",
     "start_time": "2024-08-03T06:35:48.989058Z"
    }
   },
   "outputs": [
    {
     "name": "stdout",
     "output_type": "stream",
     "text": [
      "WARNING:tensorflow:From C:\\Users\\flori\\anaconda3\\Lib\\site-packages\\keras\\src\\losses.py:2976: The name tf.losses.sparse_softmax_cross_entropy is deprecated. Please use tf.compat.v1.losses.sparse_softmax_cross_entropy instead.\n",
      "\n",
      "\"negative\" is converted into 0\n",
      "\"0\" is converted into [1. 0. 0.]\n"
     ]
    }
   ],
   "source": [
    "#from keras.utils.np_utils import to_categorical #Convertit un vecteur de classe (entiers) en matrice de classe binaire.\n",
    "import tensorflow as tf\n",
    "from tensorflow.keras.utils import to_categorical\n",
    "from sklearn.preprocessing import LabelEncoder \n",
    "le = LabelEncoder()\n",
    "y_train_le = le.fit_transform(Data.airline_sentiment)\n",
    "y_train_oh = to_categorical(y_train_le)\n",
    "\n",
    "print('\"{}\" is converted into {}'.format(Data.airline_sentiment[4], y_train_le[4]))\n",
    "print('\"{}\" is converted into {}'.format(y_train_le[4], y_train_oh[4]))"
   ]
  },
  {
   "cell_type": "markdown",
   "metadata": {
    "ExecuteTime": {
     "end_time": "2021-05-18T14:21:28.957286Z",
     "start_time": "2021-05-18T14:21:28.947313Z"
    }
   },
   "source": [
    "Negative : 0 donne [1.0.0]\n",
    "\n",
    "Neutre : 1 donne [0.1.0]\n",
    "\n",
    "Positif : 2 donne [0.0.1]"
   ]
  },
  {
   "cell_type": "markdown",
   "metadata": {},
   "source": [
    "# Séparation des données"
   ]
  },
  {
   "cell_type": "code",
   "execution_count": 32,
   "metadata": {
    "ExecuteTime": {
     "end_time": "2024-08-03T06:35:55.579706Z",
     "start_time": "2024-08-03T06:35:55.565131Z"
    }
   },
   "outputs": [],
   "source": [
    "from sklearn.model_selection import train_test_split\n",
    "X_train,x_test,Y_train,y_test = train_test_split(sentence_vectors, y_train_oh, test_size=0.1, random_state = 1)"
   ]
  },
  {
   "cell_type": "code",
   "execution_count": 33,
   "metadata": {
    "ExecuteTime": {
     "end_time": "2024-08-03T06:35:56.134555Z",
     "start_time": "2024-08-03T06:35:56.128996Z"
    }
   },
   "outputs": [
    {
     "data": {
      "text/plain": [
       "1464"
      ]
     },
     "execution_count": 33,
     "metadata": {},
     "output_type": "execute_result"
    }
   ],
   "source": [
    "y_test.shape[0]"
   ]
  },
  {
   "cell_type": "code",
   "execution_count": 34,
   "metadata": {
    "ExecuteTime": {
     "end_time": "2024-08-03T06:35:57.460392Z",
     "start_time": "2024-08-03T06:35:57.456564Z"
    }
   },
   "outputs": [
    {
     "name": "stdout",
     "output_type": "stream",
     "text": [
      " taille de notre données de validation (1464, 200)\n"
     ]
    }
   ],
   "source": [
    "assert x_test.shape[0] == y_test.shape[0]\n",
    "assert X_train.shape[0] == Y_train.shape[0]\n",
    "\n",
    "print(\" taille de notre données de validation\", x_test.shape)"
   ]
  },
  {
   "cell_type": "markdown",
   "metadata": {
    "ExecuteTime": {
     "end_time": "2021-05-18T12:23:04.294533Z",
     "start_time": "2021-05-18T12:23:04.288584Z"
    }
   },
   "source": [
    "# Création de modèle Random Forest"
   ]
  },
  {
   "cell_type": "code",
   "execution_count": 35,
   "metadata": {
    "ExecuteTime": {
     "end_time": "2024-08-03T06:36:02.215378Z",
     "start_time": "2024-08-03T06:35:59.333487Z"
    }
   },
   "outputs": [
    {
     "data": {
      "text/html": [
       "<style>#sk-container-id-1 {\n",
       "  /* Definition of color scheme common for light and dark mode */\n",
       "  --sklearn-color-text: black;\n",
       "  --sklearn-color-line: gray;\n",
       "  /* Definition of color scheme for unfitted estimators */\n",
       "  --sklearn-color-unfitted-level-0: #fff5e6;\n",
       "  --sklearn-color-unfitted-level-1: #f6e4d2;\n",
       "  --sklearn-color-unfitted-level-2: #ffe0b3;\n",
       "  --sklearn-color-unfitted-level-3: chocolate;\n",
       "  /* Definition of color scheme for fitted estimators */\n",
       "  --sklearn-color-fitted-level-0: #f0f8ff;\n",
       "  --sklearn-color-fitted-level-1: #d4ebff;\n",
       "  --sklearn-color-fitted-level-2: #b3dbfd;\n",
       "  --sklearn-color-fitted-level-3: cornflowerblue;\n",
       "\n",
       "  /* Specific color for light theme */\n",
       "  --sklearn-color-text-on-default-background: var(--sg-text-color, var(--theme-code-foreground, var(--jp-content-font-color1, black)));\n",
       "  --sklearn-color-background: var(--sg-background-color, var(--theme-background, var(--jp-layout-color0, white)));\n",
       "  --sklearn-color-border-box: var(--sg-text-color, var(--theme-code-foreground, var(--jp-content-font-color1, black)));\n",
       "  --sklearn-color-icon: #696969;\n",
       "\n",
       "  @media (prefers-color-scheme: dark) {\n",
       "    /* Redefinition of color scheme for dark theme */\n",
       "    --sklearn-color-text-on-default-background: var(--sg-text-color, var(--theme-code-foreground, var(--jp-content-font-color1, white)));\n",
       "    --sklearn-color-background: var(--sg-background-color, var(--theme-background, var(--jp-layout-color0, #111)));\n",
       "    --sklearn-color-border-box: var(--sg-text-color, var(--theme-code-foreground, var(--jp-content-font-color1, white)));\n",
       "    --sklearn-color-icon: #878787;\n",
       "  }\n",
       "}\n",
       "\n",
       "#sk-container-id-1 {\n",
       "  color: var(--sklearn-color-text);\n",
       "}\n",
       "\n",
       "#sk-container-id-1 pre {\n",
       "  padding: 0;\n",
       "}\n",
       "\n",
       "#sk-container-id-1 input.sk-hidden--visually {\n",
       "  border: 0;\n",
       "  clip: rect(1px 1px 1px 1px);\n",
       "  clip: rect(1px, 1px, 1px, 1px);\n",
       "  height: 1px;\n",
       "  margin: -1px;\n",
       "  overflow: hidden;\n",
       "  padding: 0;\n",
       "  position: absolute;\n",
       "  width: 1px;\n",
       "}\n",
       "\n",
       "#sk-container-id-1 div.sk-dashed-wrapped {\n",
       "  border: 1px dashed var(--sklearn-color-line);\n",
       "  margin: 0 0.4em 0.5em 0.4em;\n",
       "  box-sizing: border-box;\n",
       "  padding-bottom: 0.4em;\n",
       "  background-color: var(--sklearn-color-background);\n",
       "}\n",
       "\n",
       "#sk-container-id-1 div.sk-container {\n",
       "  /* jupyter's `normalize.less` sets `[hidden] { display: none; }`\n",
       "     but bootstrap.min.css set `[hidden] { display: none !important; }`\n",
       "     so we also need the `!important` here to be able to override the\n",
       "     default hidden behavior on the sphinx rendered scikit-learn.org.\n",
       "     See: https://github.com/scikit-learn/scikit-learn/issues/21755 */\n",
       "  display: inline-block !important;\n",
       "  position: relative;\n",
       "}\n",
       "\n",
       "#sk-container-id-1 div.sk-text-repr-fallback {\n",
       "  display: none;\n",
       "}\n",
       "\n",
       "div.sk-parallel-item,\n",
       "div.sk-serial,\n",
       "div.sk-item {\n",
       "  /* draw centered vertical line to link estimators */\n",
       "  background-image: linear-gradient(var(--sklearn-color-text-on-default-background), var(--sklearn-color-text-on-default-background));\n",
       "  background-size: 2px 100%;\n",
       "  background-repeat: no-repeat;\n",
       "  background-position: center center;\n",
       "}\n",
       "\n",
       "/* Parallel-specific style estimator block */\n",
       "\n",
       "#sk-container-id-1 div.sk-parallel-item::after {\n",
       "  content: \"\";\n",
       "  width: 100%;\n",
       "  border-bottom: 2px solid var(--sklearn-color-text-on-default-background);\n",
       "  flex-grow: 1;\n",
       "}\n",
       "\n",
       "#sk-container-id-1 div.sk-parallel {\n",
       "  display: flex;\n",
       "  align-items: stretch;\n",
       "  justify-content: center;\n",
       "  background-color: var(--sklearn-color-background);\n",
       "  position: relative;\n",
       "}\n",
       "\n",
       "#sk-container-id-1 div.sk-parallel-item {\n",
       "  display: flex;\n",
       "  flex-direction: column;\n",
       "}\n",
       "\n",
       "#sk-container-id-1 div.sk-parallel-item:first-child::after {\n",
       "  align-self: flex-end;\n",
       "  width: 50%;\n",
       "}\n",
       "\n",
       "#sk-container-id-1 div.sk-parallel-item:last-child::after {\n",
       "  align-self: flex-start;\n",
       "  width: 50%;\n",
       "}\n",
       "\n",
       "#sk-container-id-1 div.sk-parallel-item:only-child::after {\n",
       "  width: 0;\n",
       "}\n",
       "\n",
       "/* Serial-specific style estimator block */\n",
       "\n",
       "#sk-container-id-1 div.sk-serial {\n",
       "  display: flex;\n",
       "  flex-direction: column;\n",
       "  align-items: center;\n",
       "  background-color: var(--sklearn-color-background);\n",
       "  padding-right: 1em;\n",
       "  padding-left: 1em;\n",
       "}\n",
       "\n",
       "\n",
       "/* Toggleable style: style used for estimator/Pipeline/ColumnTransformer box that is\n",
       "clickable and can be expanded/collapsed.\n",
       "- Pipeline and ColumnTransformer use this feature and define the default style\n",
       "- Estimators will overwrite some part of the style using the `sk-estimator` class\n",
       "*/\n",
       "\n",
       "/* Pipeline and ColumnTransformer style (default) */\n",
       "\n",
       "#sk-container-id-1 div.sk-toggleable {\n",
       "  /* Default theme specific background. It is overwritten whether we have a\n",
       "  specific estimator or a Pipeline/ColumnTransformer */\n",
       "  background-color: var(--sklearn-color-background);\n",
       "}\n",
       "\n",
       "/* Toggleable label */\n",
       "#sk-container-id-1 label.sk-toggleable__label {\n",
       "  cursor: pointer;\n",
       "  display: block;\n",
       "  width: 100%;\n",
       "  margin-bottom: 0;\n",
       "  padding: 0.5em;\n",
       "  box-sizing: border-box;\n",
       "  text-align: center;\n",
       "}\n",
       "\n",
       "#sk-container-id-1 label.sk-toggleable__label-arrow:before {\n",
       "  /* Arrow on the left of the label */\n",
       "  content: \"▸\";\n",
       "  float: left;\n",
       "  margin-right: 0.25em;\n",
       "  color: var(--sklearn-color-icon);\n",
       "}\n",
       "\n",
       "#sk-container-id-1 label.sk-toggleable__label-arrow:hover:before {\n",
       "  color: var(--sklearn-color-text);\n",
       "}\n",
       "\n",
       "/* Toggleable content - dropdown */\n",
       "\n",
       "#sk-container-id-1 div.sk-toggleable__content {\n",
       "  max-height: 0;\n",
       "  max-width: 0;\n",
       "  overflow: hidden;\n",
       "  text-align: left;\n",
       "  /* unfitted */\n",
       "  background-color: var(--sklearn-color-unfitted-level-0);\n",
       "}\n",
       "\n",
       "#sk-container-id-1 div.sk-toggleable__content.fitted {\n",
       "  /* fitted */\n",
       "  background-color: var(--sklearn-color-fitted-level-0);\n",
       "}\n",
       "\n",
       "#sk-container-id-1 div.sk-toggleable__content pre {\n",
       "  margin: 0.2em;\n",
       "  border-radius: 0.25em;\n",
       "  color: var(--sklearn-color-text);\n",
       "  /* unfitted */\n",
       "  background-color: var(--sklearn-color-unfitted-level-0);\n",
       "}\n",
       "\n",
       "#sk-container-id-1 div.sk-toggleable__content.fitted pre {\n",
       "  /* unfitted */\n",
       "  background-color: var(--sklearn-color-fitted-level-0);\n",
       "}\n",
       "\n",
       "#sk-container-id-1 input.sk-toggleable__control:checked~div.sk-toggleable__content {\n",
       "  /* Expand drop-down */\n",
       "  max-height: 200px;\n",
       "  max-width: 100%;\n",
       "  overflow: auto;\n",
       "}\n",
       "\n",
       "#sk-container-id-1 input.sk-toggleable__control:checked~label.sk-toggleable__label-arrow:before {\n",
       "  content: \"▾\";\n",
       "}\n",
       "\n",
       "/* Pipeline/ColumnTransformer-specific style */\n",
       "\n",
       "#sk-container-id-1 div.sk-label input.sk-toggleable__control:checked~label.sk-toggleable__label {\n",
       "  color: var(--sklearn-color-text);\n",
       "  background-color: var(--sklearn-color-unfitted-level-2);\n",
       "}\n",
       "\n",
       "#sk-container-id-1 div.sk-label.fitted input.sk-toggleable__control:checked~label.sk-toggleable__label {\n",
       "  background-color: var(--sklearn-color-fitted-level-2);\n",
       "}\n",
       "\n",
       "/* Estimator-specific style */\n",
       "\n",
       "/* Colorize estimator box */\n",
       "#sk-container-id-1 div.sk-estimator input.sk-toggleable__control:checked~label.sk-toggleable__label {\n",
       "  /* unfitted */\n",
       "  background-color: var(--sklearn-color-unfitted-level-2);\n",
       "}\n",
       "\n",
       "#sk-container-id-1 div.sk-estimator.fitted input.sk-toggleable__control:checked~label.sk-toggleable__label {\n",
       "  /* fitted */\n",
       "  background-color: var(--sklearn-color-fitted-level-2);\n",
       "}\n",
       "\n",
       "#sk-container-id-1 div.sk-label label.sk-toggleable__label,\n",
       "#sk-container-id-1 div.sk-label label {\n",
       "  /* The background is the default theme color */\n",
       "  color: var(--sklearn-color-text-on-default-background);\n",
       "}\n",
       "\n",
       "/* On hover, darken the color of the background */\n",
       "#sk-container-id-1 div.sk-label:hover label.sk-toggleable__label {\n",
       "  color: var(--sklearn-color-text);\n",
       "  background-color: var(--sklearn-color-unfitted-level-2);\n",
       "}\n",
       "\n",
       "/* Label box, darken color on hover, fitted */\n",
       "#sk-container-id-1 div.sk-label.fitted:hover label.sk-toggleable__label.fitted {\n",
       "  color: var(--sklearn-color-text);\n",
       "  background-color: var(--sklearn-color-fitted-level-2);\n",
       "}\n",
       "\n",
       "/* Estimator label */\n",
       "\n",
       "#sk-container-id-1 div.sk-label label {\n",
       "  font-family: monospace;\n",
       "  font-weight: bold;\n",
       "  display: inline-block;\n",
       "  line-height: 1.2em;\n",
       "}\n",
       "\n",
       "#sk-container-id-1 div.sk-label-container {\n",
       "  text-align: center;\n",
       "}\n",
       "\n",
       "/* Estimator-specific */\n",
       "#sk-container-id-1 div.sk-estimator {\n",
       "  font-family: monospace;\n",
       "  border: 1px dotted var(--sklearn-color-border-box);\n",
       "  border-radius: 0.25em;\n",
       "  box-sizing: border-box;\n",
       "  margin-bottom: 0.5em;\n",
       "  /* unfitted */\n",
       "  background-color: var(--sklearn-color-unfitted-level-0);\n",
       "}\n",
       "\n",
       "#sk-container-id-1 div.sk-estimator.fitted {\n",
       "  /* fitted */\n",
       "  background-color: var(--sklearn-color-fitted-level-0);\n",
       "}\n",
       "\n",
       "/* on hover */\n",
       "#sk-container-id-1 div.sk-estimator:hover {\n",
       "  /* unfitted */\n",
       "  background-color: var(--sklearn-color-unfitted-level-2);\n",
       "}\n",
       "\n",
       "#sk-container-id-1 div.sk-estimator.fitted:hover {\n",
       "  /* fitted */\n",
       "  background-color: var(--sklearn-color-fitted-level-2);\n",
       "}\n",
       "\n",
       "/* Specification for estimator info (e.g. \"i\" and \"?\") */\n",
       "\n",
       "/* Common style for \"i\" and \"?\" */\n",
       "\n",
       ".sk-estimator-doc-link,\n",
       "a:link.sk-estimator-doc-link,\n",
       "a:visited.sk-estimator-doc-link {\n",
       "  float: right;\n",
       "  font-size: smaller;\n",
       "  line-height: 1em;\n",
       "  font-family: monospace;\n",
       "  background-color: var(--sklearn-color-background);\n",
       "  border-radius: 1em;\n",
       "  height: 1em;\n",
       "  width: 1em;\n",
       "  text-decoration: none !important;\n",
       "  margin-left: 1ex;\n",
       "  /* unfitted */\n",
       "  border: var(--sklearn-color-unfitted-level-1) 1pt solid;\n",
       "  color: var(--sklearn-color-unfitted-level-1);\n",
       "}\n",
       "\n",
       ".sk-estimator-doc-link.fitted,\n",
       "a:link.sk-estimator-doc-link.fitted,\n",
       "a:visited.sk-estimator-doc-link.fitted {\n",
       "  /* fitted */\n",
       "  border: var(--sklearn-color-fitted-level-1) 1pt solid;\n",
       "  color: var(--sklearn-color-fitted-level-1);\n",
       "}\n",
       "\n",
       "/* On hover */\n",
       "div.sk-estimator:hover .sk-estimator-doc-link:hover,\n",
       ".sk-estimator-doc-link:hover,\n",
       "div.sk-label-container:hover .sk-estimator-doc-link:hover,\n",
       ".sk-estimator-doc-link:hover {\n",
       "  /* unfitted */\n",
       "  background-color: var(--sklearn-color-unfitted-level-3);\n",
       "  color: var(--sklearn-color-background);\n",
       "  text-decoration: none;\n",
       "}\n",
       "\n",
       "div.sk-estimator.fitted:hover .sk-estimator-doc-link.fitted:hover,\n",
       ".sk-estimator-doc-link.fitted:hover,\n",
       "div.sk-label-container:hover .sk-estimator-doc-link.fitted:hover,\n",
       ".sk-estimator-doc-link.fitted:hover {\n",
       "  /* fitted */\n",
       "  background-color: var(--sklearn-color-fitted-level-3);\n",
       "  color: var(--sklearn-color-background);\n",
       "  text-decoration: none;\n",
       "}\n",
       "\n",
       "/* Span, style for the box shown on hovering the info icon */\n",
       ".sk-estimator-doc-link span {\n",
       "  display: none;\n",
       "  z-index: 9999;\n",
       "  position: relative;\n",
       "  font-weight: normal;\n",
       "  right: .2ex;\n",
       "  padding: .5ex;\n",
       "  margin: .5ex;\n",
       "  width: min-content;\n",
       "  min-width: 20ex;\n",
       "  max-width: 50ex;\n",
       "  color: var(--sklearn-color-text);\n",
       "  box-shadow: 2pt 2pt 4pt #999;\n",
       "  /* unfitted */\n",
       "  background: var(--sklearn-color-unfitted-level-0);\n",
       "  border: .5pt solid var(--sklearn-color-unfitted-level-3);\n",
       "}\n",
       "\n",
       ".sk-estimator-doc-link.fitted span {\n",
       "  /* fitted */\n",
       "  background: var(--sklearn-color-fitted-level-0);\n",
       "  border: var(--sklearn-color-fitted-level-3);\n",
       "}\n",
       "\n",
       ".sk-estimator-doc-link:hover span {\n",
       "  display: block;\n",
       "}\n",
       "\n",
       "/* \"?\"-specific style due to the `<a>` HTML tag */\n",
       "\n",
       "#sk-container-id-1 a.estimator_doc_link {\n",
       "  float: right;\n",
       "  font-size: 1rem;\n",
       "  line-height: 1em;\n",
       "  font-family: monospace;\n",
       "  background-color: var(--sklearn-color-background);\n",
       "  border-radius: 1rem;\n",
       "  height: 1rem;\n",
       "  width: 1rem;\n",
       "  text-decoration: none;\n",
       "  /* unfitted */\n",
       "  color: var(--sklearn-color-unfitted-level-1);\n",
       "  border: var(--sklearn-color-unfitted-level-1) 1pt solid;\n",
       "}\n",
       "\n",
       "#sk-container-id-1 a.estimator_doc_link.fitted {\n",
       "  /* fitted */\n",
       "  border: var(--sklearn-color-fitted-level-1) 1pt solid;\n",
       "  color: var(--sklearn-color-fitted-level-1);\n",
       "}\n",
       "\n",
       "/* On hover */\n",
       "#sk-container-id-1 a.estimator_doc_link:hover {\n",
       "  /* unfitted */\n",
       "  background-color: var(--sklearn-color-unfitted-level-3);\n",
       "  color: var(--sklearn-color-background);\n",
       "  text-decoration: none;\n",
       "}\n",
       "\n",
       "#sk-container-id-1 a.estimator_doc_link.fitted:hover {\n",
       "  /* fitted */\n",
       "  background-color: var(--sklearn-color-fitted-level-3);\n",
       "}\n",
       "</style><div id=\"sk-container-id-1\" class=\"sk-top-container\"><div class=\"sk-text-repr-fallback\"><pre>RandomForestClassifier()</pre><b>In a Jupyter environment, please rerun this cell to show the HTML representation or trust the notebook. <br />On GitHub, the HTML representation is unable to render, please try loading this page with nbviewer.org.</b></div><div class=\"sk-container\" hidden><div class=\"sk-item\"><div class=\"sk-estimator fitted sk-toggleable\"><input class=\"sk-toggleable__control sk-hidden--visually\" id=\"sk-estimator-id-1\" type=\"checkbox\" checked><label for=\"sk-estimator-id-1\" class=\"sk-toggleable__label fitted sk-toggleable__label-arrow fitted\">&nbsp;&nbsp;RandomForestClassifier<a class=\"sk-estimator-doc-link fitted\" rel=\"noreferrer\" target=\"_blank\" href=\"https://scikit-learn.org/1.4/modules/generated/sklearn.ensemble.RandomForestClassifier.html\">?<span>Documentation for RandomForestClassifier</span></a><span class=\"sk-estimator-doc-link fitted\">i<span>Fitted</span></span></label><div class=\"sk-toggleable__content fitted\"><pre>RandomForestClassifier()</pre></div> </div></div></div></div>"
      ],
      "text/plain": [
       "RandomForestClassifier()"
      ]
     },
     "execution_count": 35,
     "metadata": {},
     "output_type": "execute_result"
    }
   ],
   "source": [
    "from sklearn.ensemble import RandomForestClassifier\n",
    "model_rf = RandomForestClassifier()\n",
    "model_rf.fit(X_train,Y_train)"
   ]
  },
  {
   "cell_type": "code",
   "execution_count": 36,
   "metadata": {
    "ExecuteTime": {
     "end_time": "2024-08-03T06:36:03.829590Z",
     "start_time": "2024-08-03T06:36:03.766227Z"
    }
   },
   "outputs": [
    {
     "name": "stdout",
     "output_type": "stream",
     "text": [
      "[[828  75  29]\n",
      " [180  98  24]\n",
      " [ 94  31 105]]\n",
      "accuracy score 0.671448087431694\n"
     ]
    }
   ],
   "source": [
    "#import seaborn as sns\n",
    "\n",
    "from sklearn.metrics import confusion_matrix, accuracy_score, f1_score\n",
    "y_predict_rf = model_rf.predict(x_test)\n",
    "cf = confusion_matrix(y_test.argmax(axis=1), y_predict_rf.argmax(axis=1))\n",
    "print(cf)\n",
    "print(\"accuracy score\", accuracy_score(y_test,y_predict_rf))"
   ]
  },
  {
   "cell_type": "code",
   "execution_count": 37,
   "metadata": {
    "ExecuteTime": {
     "end_time": "2024-08-03T06:36:04.600587Z",
     "start_time": "2024-08-03T06:36:04.468930Z"
    }
   },
   "outputs": [
    {
     "data": {
      "text/plain": [
       "<Axes: >"
      ]
     },
     "execution_count": 37,
     "metadata": {},
     "output_type": "execute_result"
    },
    {
     "data": {
      "image/png": "[encoded data removed]",
      "text/plain": [
       "<Figure size 640x480 with 2 Axes>"
      ]
     },
     "metadata": {},
     "output_type": "display_data"
    }
   ],
   "source": [
    "sns.heatmap(cf/np.sum(cf), annot=True,fmt='.2%', cmap='Blues')"
   ]
  },
  {
   "cell_type": "code",
   "execution_count": 38,
   "metadata": {
    "ExecuteTime": {
     "end_time": "2024-08-03T06:36:06.311113Z",
     "start_time": "2024-08-03T06:36:06.288919Z"
    }
   },
   "outputs": [
    {
     "name": "stdout",
     "output_type": "stream",
     "text": [
      "              precision    recall  f1-score   support\n",
      "\n",
      "           0       0.78      0.84      0.81       932\n",
      "           1       0.48      0.32      0.39       302\n",
      "           2       0.66      0.46      0.54       230\n",
      "\n",
      "   micro avg       0.72      0.67      0.70      1464\n",
      "   macro avg       0.64      0.54      0.58      1464\n",
      "weighted avg       0.70      0.67      0.68      1464\n",
      " samples avg       0.67      0.67      0.67      1464\n",
      "\n"
     ]
    },
    {
     "name": "stderr",
     "output_type": "stream",
     "text": [
      "C:\\Users\\flori\\anaconda3\\Lib\\site-packages\\sklearn\\metrics\\_classification.py:1509: UndefinedMetricWarning: Precision is ill-defined and being set to 0.0 in samples with no predicted labels. Use `zero_division` parameter to control this behavior.\n",
      "  _warn_prf(average, modifier, f\"{metric.capitalize()} is\", len(result))\n"
     ]
    }
   ],
   "source": [
    "from sklearn.metrics import classification_report\n",
    "print(classification_report(y_test,y_predict_rf))"
   ]
  },
  {
   "cell_type": "markdown",
   "metadata": {
    "ExecuteTime": {
     "end_time": "2020-09-15T19:37:13.566430Z",
     "start_time": "2020-09-15T19:37:13.547970Z"
    }
   },
   "source": [
    "# Création du modéle de réseau de neurone"
   ]
  },
  {
   "cell_type": "code",
   "execution_count": 39,
   "metadata": {
    "ExecuteTime": {
     "end_time": "2024-08-03T06:36:08.316619Z",
     "start_time": "2024-08-03T06:36:08.089083Z"
    }
   },
   "outputs": [
    {
     "name": "stdout",
     "output_type": "stream",
     "text": [
      "WARNING:tensorflow:From C:\\Users\\flori\\anaconda3\\Lib\\site-packages\\keras\\src\\backend.py:873: The name tf.get_default_graph is deprecated. Please use tf.compat.v1.get_default_graph instead.\n",
      "\n",
      "Model: \"sequential\"\n",
      "_________________________________________________________________\n",
      " Layer (type)                Output Shape              Param #   \n",
      "=================================================================\n",
      " dense (Dense)               (None, 64)                12864     \n",
      "                                                                 \n",
      " dense_1 (Dense)             (None, 64)                4160      \n",
      "                                                                 \n",
      " dense_2 (Dense)             (None, 3)                 195       \n",
      "                                                                 \n",
      "=================================================================\n",
      "Total params: 17219 (67.26 KB)\n",
      "Trainable params: 17219 (67.26 KB)\n",
      "Non-trainable params: 0 (0.00 Byte)\n",
      "_________________________________________________________________\n"
     ]
    }
   ],
   "source": [
    "from keras import models\n",
    "from keras import layers\n",
    "from keras import regularizers\n",
    "\n",
    "base_model = models.Sequential()\n",
    "base_model.add(layers.Dense(64, activation='relu', input_shape=(200,)))\n",
    "base_model.add(layers.Dense(64, activation='relu'))\n",
    "base_model.add(layers.Dense(3, activation='softmax'))\n",
    "base_model.summary() "
   ]
  },
  {
   "cell_type": "code",
   "execution_count": 40,
   "metadata": {
    "ExecuteTime": {
     "end_time": "2024-08-03T06:36:11.448135Z",
     "start_time": "2024-08-03T06:36:11.444391Z"
    }
   },
   "outputs": [],
   "source": [
    "def deep_model(model):\n",
    "    model.compile(optimizer='rmsprop'\n",
    "                  , loss='categorical_crossentropy'\n",
    "                  , metrics=['accuracy'])\n",
    "    \n",
    "    history = model.fit(X_train\n",
    "                       , Y_train\n",
    "                       , epochs= 20\n",
    "                       , batch_size= 512\n",
    "                       , validation_data=(x_test, y_test)\n",
    "                       , verbose=0)\n",
    "    \n",
    "    return history"
   ]
  },
  {
   "cell_type": "code",
   "execution_count": 41,
   "metadata": {
    "ExecuteTime": {
     "end_time": "2024-08-03T06:36:14.052112Z",
     "start_time": "2024-08-03T06:36:11.869270Z"
    }
   },
   "outputs": [
    {
     "name": "stdout",
     "output_type": "stream",
     "text": [
      "WARNING:tensorflow:From C:\\Users\\flori\\anaconda3\\Lib\\site-packages\\keras\\src\\optimizers\\__init__.py:309: The name tf.train.Optimizer is deprecated. Please use tf.compat.v1.train.Optimizer instead.\n",
      "\n",
      "WARNING:tensorflow:From C:\\Users\\flori\\anaconda3\\Lib\\site-packages\\keras\\src\\utils\\tf_utils.py:492: The name tf.ragged.RaggedTensorValue is deprecated. Please use tf.compat.v1.ragged.RaggedTensorValue instead.\n",
      "\n",
      "WARNING:tensorflow:From C:\\Users\\flori\\anaconda3\\Lib\\site-packages\\keras\\src\\engine\\base_layer_utils.py:384: The name tf.executing_eagerly_outside_functions is deprecated. Please use tf.compat.v1.executing_eagerly_outside_functions instead.\n",
      "\n"
     ]
    }
   ],
   "source": [
    "base_history = deep_model(base_model)"
   ]
  },
  {
   "cell_type": "code",
   "execution_count": 42,
   "metadata": {
    "ExecuteTime": {
     "end_time": "2024-08-03T06:36:17.263446Z",
     "start_time": "2024-08-03T06:36:17.257943Z"
    }
   },
   "outputs": [],
   "source": [
    "def eval_metric(history, metric_name):\n",
    "    metric = history.history[metric_name]\n",
    "    val_metric = history.history['val_' + metric_name]\n",
    "\n",
    "    e = range(1, 20 + 1)\n",
    "\n",
    "    plt.plot(e, metric, 'bo', label='Train ' + metric_name)\n",
    "    plt.plot(e, val_metric, 'b', label='Validation ' + metric_name)\n",
    "    plt.legend()\n",
    "    plt.show()"
   ]
  },
  {
   "cell_type": "code",
   "execution_count": 43,
   "metadata": {
    "ExecuteTime": {
     "end_time": "2024-08-03T06:36:21.644076Z",
     "start_time": "2024-08-03T06:36:21.488160Z"
    }
   },
   "outputs": [
    {
     "data": {
      "image/png": "[encoded data removed]",
      "text/plain": [
       "<Figure size 640x480 with 1 Axes>"
      ]
     },
     "metadata": {},
     "output_type": "display_data"
    }
   ],
   "source": [
    "eval_metric(base_history, 'loss') "
   ]
  },
  {
   "cell_type": "markdown",
   "metadata": {},
   "source": [
    "Notre fonction de perte et notre fonction de validation est ni trop proche, ni trop éloignée. On a pas de surapprentissage ou de surapprentissage des données."
   ]
  },
  {
   "cell_type": "code",
   "execution_count": 44,
   "metadata": {
    "ExecuteTime": {
     "end_time": "2024-08-03T06:36:24.814606Z",
     "start_time": "2024-08-03T06:36:24.661546Z"
    }
   },
   "outputs": [
    {
     "data": {
      "image/png": "[encoded data removed]",
      "text/plain": [
       "<Figure size 640x480 with 1 Axes>"
      ]
     },
     "metadata": {},
     "output_type": "display_data"
    }
   ],
   "source": [
    "eval_metric(base_history, 'accuracy')"
   ]
  },
  {
   "cell_type": "code",
   "execution_count": 45,
   "metadata": {
    "ExecuteTime": {
     "end_time": "2024-08-03T06:36:26.135632Z",
     "start_time": "2024-08-03T06:36:26.132160Z"
    }
   },
   "outputs": [],
   "source": [
    "def test_model(model):\n",
    "    results = model.evaluate(x_test, y_test) \n",
    "    return results"
   ]
  },
  {
   "cell_type": "code",
   "execution_count": 46,
   "metadata": {
    "ExecuteTime": {
     "end_time": "2024-08-03T06:36:26.563367Z",
     "start_time": "2024-08-03T06:36:26.431814Z"
    }
   },
   "outputs": [
    {
     "name": "stdout",
     "output_type": "stream",
     "text": [
      "46/46 [==============================] - 0s 1ms/step - loss: 0.6833 - accuracy: 0.7165\n",
      "/n\n",
      "Test accuracy of baseline model: 71.65%\n"
     ]
    }
   ],
   "source": [
    "base_results = test_model(base_model)\n",
    "print('/n')\n",
    "print('Test accuracy of baseline model: {0:.2f}%'.format(base_results[1]*100))"
   ]
  },
  {
   "cell_type": "markdown",
   "metadata": {},
   "source": [
    "# LLM huggling face "
   ]
  },
  {
   "cell_type": "code",
   "execution_count": 55,
   "metadata": {
    "ExecuteTime": {
     "end_time": "2024-07-24T07:19:07.448542Z",
     "start_time": "2024-07-24T07:19:03.908522Z"
    }
   },
   "outputs": [
    {
     "name": "stderr",
     "output_type": "stream",
     "text": [
      "C:\\Users\\flori\\anaconda3\\Lib\\site-packages\\transformers\\utils\\generic.py:260: UserWarning: torch.utils._pytree._register_pytree_node is deprecated. Please use torch.utils._pytree.register_pytree_node instead.\n",
      "  torch.utils._pytree._register_pytree_node(\n"
     ]
    }
   ],
   "source": [
    "from transformers import pipeline\n",
    "\n",
    "# Charger le DataFrame\n",
    "df = pd.DataFrame(Data[\"text\"])"
   ]
  },
  {
   "cell_type": "code",
   "execution_count": 61,
   "metadata": {
    "ExecuteTime": {
     "end_time": "2024-07-24T07:30:31.282157Z",
     "start_time": "2024-07-24T07:22:07.968316Z"
    }
   },
   "outputs": [
    {
     "name": "stdout",
     "output_type": "stream",
     "text": [
      "                                                    text  score\n",
      "0                    @VirginAmerica What @dhepburn said.      5\n",
      "1      @VirginAmerica plus you've added commercials t...      5\n",
      "2      @VirginAmerica I didn't today... Must mean I n...      1\n",
      "3      @VirginAmerica it's really aggressive to blast...      4\n",
      "4      @VirginAmerica and it's a really big bad thing...      1\n",
      "...                                                  ...    ...\n",
      "14635  @AmericanAir thank you we got on a different f...      5\n",
      "14636  @AmericanAir leaving over 20 minutes Late Flig...      1\n",
      "14637  @AmericanAir Please bring American Airlines to...      1\n",
      "14638  @AmericanAir you have my money, you change my ...      1\n",
      "14639  @AmericanAir we have 8 ppl so we need 2 know h...      3\n",
      "\n",
      "[14640 rows x 2 columns]\n"
     ]
    }
   ],
   "source": [
    "# Charger un pipeline de classification de Hugging Face\n",
    "classifier = pipeline(\"text-classification\", model=\"nlptown/bert-base-multilingual-uncased-sentiment\")\n",
    "\n",
    "# Fonction pour obtenir la note du commentaire\n",
    "def get_score(comment):\n",
    "    result = classifier(comment)\n",
    "    # Extraire le label (par ex. \"5 stars\", \"4 stars\", etc.) et convertir en score de 1 à 5\n",
    "    label = result[0]['label']\n",
    "    score = int(label.split()[0])  # Supposant que le label est de la forme \"5 stars\", \"4 stars\", etc.\n",
    "    return score\n",
    "\n",
    "# Appliquer la fonction à chaque commentaire du DataFrame\n",
    "df['score'] = df['text'].apply(get_score)\n",
    "\n",
    "print(df)"
   ]
  }
 ],
 "metadata": {
  "kernelspec": {
   "display_name": "Python 3 (ipykernel)",
   "language": "python",
   "name": "python3"
  },
  "language_info": {
   "codemirror_mode": {
    "name": "ipython",
    "version": 3
   },
   "file_extension": ".py",
   "mimetype": "text/x-python",
   "name": "python",
   "nbconvert_exporter": "python",
   "pygments_lexer": "ipython3",
   "version": "3.11.5"
  },
  "nbTranslate": {
   "displayLangs": [
    "*"
   ],
   "hotkey": "alt-t",
   "langInMainMenu": true,
   "sourceLang": "en",
   "targetLang": "fr",
   "useGoogleTranslate": true
  },
  "toc": {
   "base_numbering": 1,
   "nav_menu": {},
   "number_sections": true,
   "sideBar": true,
   "skip_h1_title": false,
   "title_cell": "Table of Contents",
   "title_sidebar": "Contents",
   "toc_cell": false,
   "toc_position": {
    "height": "683.2px",
    "left": "47px",
    "top": "110.533px",
    "width": "307.2px"
   },
   "toc_section_display": true,
   "toc_window_display": true
  },
  "varInspector": {
   "cols": {
    "lenName": 16,
    "lenType": 16,
    "lenVar": 40
   },
   "kernels_config": {
    "python": {
     "delete_cmd_postfix": "",
     "delete_cmd_prefix": "del ",
     "library": "var_list.py",
     "varRefreshCmd": "print(var_dic_list())"
    },
    "r": {
     "delete_cmd_postfix": ") ",
     "delete_cmd_prefix": "rm(",
     "library": "var_list.r",
     "varRefreshCmd": "cat(var_dic_list()) "
    }
   },
   "types_to_exclude": [
    "module",
    "function",
    "builtin_function_or_method",
    "instance",
    "_Feature"
   ],
   "window_display": false
  }
 },
 "nbformat": 4,
 "nbformat_minor": 2
}
